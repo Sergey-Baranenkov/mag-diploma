{
 "cells": [
  {
   "cell_type": "markdown",
   "source": [
    "# Демонстрация работы базовой версии AudioSep из локально скачанного чекпоинта"
   ],
   "metadata": {
    "collapsed": false
   }
  },
  {
   "cell_type": "code",
   "execution_count": 1,
   "outputs": [],
   "source": [
    "%load_ext autoreload\n",
    "%autoreload 2"
   ],
   "metadata": {
    "collapsed": false,
    "ExecuteTime": {
     "end_time": "2024-05-11T13:28:14.719031819Z",
     "start_time": "2024-05-11T13:28:14.714484558Z"
    }
   }
  },
  {
   "cell_type": "code",
   "execution_count": 2,
   "outputs": [],
   "source": [
    "# ! pip uninstall numba -y && pip install numba"
   ],
   "metadata": {
    "collapsed": false,
    "ExecuteTime": {
     "end_time": "2024-05-11T13:28:14.719344810Z",
     "start_time": "2024-05-11T13:28:14.714860567Z"
    }
   }
  },
  {
   "cell_type": "code",
   "execution_count": 3,
   "outputs": [],
   "source": [
    "import os\n",
    "import sys\n",
    "\n",
    "# Получаем абсолютный путь к корневой директории проекта (директория выше текущей)\n",
    "root_path = os.path.abspath(os.path.join(os.getcwd(), '..'))\n",
    "\n",
    "# Добавляем корневую директорию в sys.path\n",
    "if root_path not in sys.path:\n",
    "    sys.path.append(root_path)"
   ],
   "metadata": {
    "collapsed": false,
    "ExecuteTime": {
     "end_time": "2024-05-11T13:28:14.719564635Z",
     "start_time": "2024-05-11T13:28:14.719268967Z"
    }
   }
  },
  {
   "cell_type": "code",
   "execution_count": 4,
   "outputs": [
    {
     "name": "stderr",
     "output_type": "stream",
     "text": [
      "2024-05-11 16:28:16.452806: E external/local_xla/xla/stream_executor/cuda/cuda_dnn.cc:9261] Unable to register cuDNN factory: Attempting to register factory for plugin cuDNN when one has already been registered\n",
      "2024-05-11 16:28:16.452839: E external/local_xla/xla/stream_executor/cuda/cuda_fft.cc:607] Unable to register cuFFT factory: Attempting to register factory for plugin cuFFT when one has already been registered\n",
      "2024-05-11 16:28:16.453782: E external/local_xla/xla/stream_executor/cuda/cuda_blas.cc:1515] Unable to register cuBLAS factory: Attempting to register factory for plugin cuBLAS when one has already been registered\n",
      "2024-05-11 16:28:16.459632: I tensorflow/core/platform/cpu_feature_guard.cc:182] This TensorFlow binary is optimized to use available CPU instructions in performance-critical operations.\n",
      "To enable the following instructions: AVX2 FMA, in other operations, rebuild TensorFlow with the appropriate compiler flags.\n",
      "2024-05-11 16:28:17.055502: W tensorflow/compiler/tf2tensorrt/utils/py_utils.cc:38] TF-TRT Warning: Could not find TensorRT\n"
     ]
    }
   ],
   "source": [
    "from pipeline import separate_audio\n",
    "import torch\n",
    "from utils import parse_yaml\n",
    "from model_loaders import load_ss_model\n",
    "from models.clap_encoder import CLAP_Encoder\n",
    "import IPython.display as ipd"
   ],
   "metadata": {
    "collapsed": false,
    "ExecuteTime": {
     "end_time": "2024-05-11T13:28:19.584827220Z",
     "start_time": "2024-05-11T13:28:14.719460418Z"
    }
   }
  },
  {
   "cell_type": "code",
   "execution_count": 5,
   "outputs": [],
   "source": [
    "SS_CONFIG_PATH = '../config/audiosep_base.yaml'\n",
    "CLAP_CKPT_PATH = '../checkpoint/music_speech_audioset_epoch_15_esc_89.98.pt'\n",
    "AUDIOSEP_CKPT_PATH = '../checkpoint/audiosep_base_4M_steps.ckpt'\n",
    "classes = ['vacuum cleaner',\n",
    "           'frying',\n",
    "           'dishes',\n",
    "           'blender',\n",
    "           'speech',\n",
    "           'dog',\n",
    "           'alarm bell ringing',\n",
    "           'running water',\n",
    "           'electric shaver toothbrush',\n",
    "           'cat']\n",
    "device = torch.device('cuda')\n",
    "configs = parse_yaml(SS_CONFIG_PATH)"
   ],
   "metadata": {
    "collapsed": false,
    "ExecuteTime": {
     "end_time": "2024-05-11T13:28:19.626144121Z",
     "start_time": "2024-05-11T13:28:19.586317172Z"
    }
   }
  },
  {
   "cell_type": "code",
   "execution_count": 6,
   "outputs": [
    {
     "name": "stderr",
     "output_type": "stream",
     "text": [
      "2024-05-11 16:28:19,852 - INFO - Loading HTSAT-base model config.\n",
      "2024-05-11 16:28:21,848 - INFO - Loading pretrained HTSAT-base-roberta weights (../checkpoint/music_speech_audioset_epoch_15_esc_89.98.pt).\n"
     ]
    }
   ],
   "source": [
    "device = torch.device('cuda')\n",
    "query_encoder = CLAP_Encoder(pretrained_path = CLAP_CKPT_PATH).eval().to(device)\n",
    "\n",
    "configs = parse_yaml(SS_CONFIG_PATH)\n",
    "model = load_ss_model(configs=configs, checkpoint_path=AUDIOSEP_CKPT_PATH, query_encoder=query_encoder).eval().to(device)"
   ],
   "metadata": {
    "collapsed": false,
    "ExecuteTime": {
     "end_time": "2024-05-11T13:28:24.798034948Z",
     "start_time": "2024-05-11T13:28:19.625364931Z"
    }
   }
  },
  {
   "cell_type": "code",
   "execution_count": 7,
   "outputs": [
    {
     "name": "stdout",
     "output_type": "stream",
     "text": [
      "Separating audio from [../evaluation/data/desed/test2/434.wav] with textual query: [vacuum cleaner]\n",
      "Separated audio written to [../separation_result/base_desed/434/vacuum cleaner.wav]\n",
      "Separating audio from [../evaluation/data/desed/test2/434.wav] with textual query: [frying]\n",
      "Separated audio written to [../separation_result/base_desed/434/frying.wav]\n",
      "Separating audio from [../evaluation/data/desed/test2/434.wav] with textual query: [dishes]\n",
      "Separated audio written to [../separation_result/base_desed/434/dishes.wav]\n",
      "Separating audio from [../evaluation/data/desed/test2/434.wav] with textual query: [blender]\n",
      "Separated audio written to [../separation_result/base_desed/434/blender.wav]\n",
      "Separating audio from [../evaluation/data/desed/test2/434.wav] with textual query: [speech]\n",
      "Separated audio written to [../separation_result/base_desed/434/speech.wav]\n",
      "Separating audio from [../evaluation/data/desed/test2/434.wav] with textual query: [dog]\n",
      "Separated audio written to [../separation_result/base_desed/434/dog.wav]\n",
      "Separating audio from [../evaluation/data/desed/test2/434.wav] with textual query: [alarm bell ringing]\n",
      "Separated audio written to [../separation_result/base_desed/434/alarm bell ringing.wav]\n",
      "Separating audio from [../evaluation/data/desed/test2/434.wav] with textual query: [running water]\n",
      "Separated audio written to [../separation_result/base_desed/434/running water.wav]\n",
      "Separating audio from [../evaluation/data/desed/test2/434.wav] with textual query: [electric shaver toothbrush]\n",
      "Separated audio written to [../separation_result/base_desed/434/electric shaver toothbrush.wav]\n",
      "Separating audio from [../evaluation/data/desed/test2/434.wav] with textual query: [cat]\n",
      "Separated audio written to [../separation_result/base_desed/434/cat.wav]\n",
      "Separating audio from [../evaluation/data/desed/test2/477.wav] with textual query: [vacuum cleaner]\n",
      "Separated audio written to [../separation_result/base_desed/477/vacuum cleaner.wav]\n",
      "Separating audio from [../evaluation/data/desed/test2/477.wav] with textual query: [frying]\n",
      "Separated audio written to [../separation_result/base_desed/477/frying.wav]\n",
      "Separating audio from [../evaluation/data/desed/test2/477.wav] with textual query: [dishes]\n",
      "Separated audio written to [../separation_result/base_desed/477/dishes.wav]\n",
      "Separating audio from [../evaluation/data/desed/test2/477.wav] with textual query: [blender]\n",
      "Separated audio written to [../separation_result/base_desed/477/blender.wav]\n",
      "Separating audio from [../evaluation/data/desed/test2/477.wav] with textual query: [speech]\n",
      "Separated audio written to [../separation_result/base_desed/477/speech.wav]\n",
      "Separating audio from [../evaluation/data/desed/test2/477.wav] with textual query: [dog]\n",
      "Separated audio written to [../separation_result/base_desed/477/dog.wav]\n",
      "Separating audio from [../evaluation/data/desed/test2/477.wav] with textual query: [alarm bell ringing]\n",
      "Separated audio written to [../separation_result/base_desed/477/alarm bell ringing.wav]\n",
      "Separating audio from [../evaluation/data/desed/test2/477.wav] with textual query: [running water]\n",
      "Separated audio written to [../separation_result/base_desed/477/running water.wav]\n",
      "Separating audio from [../evaluation/data/desed/test2/477.wav] with textual query: [electric shaver toothbrush]\n",
      "Separated audio written to [../separation_result/base_desed/477/electric shaver toothbrush.wav]\n",
      "Separating audio from [../evaluation/data/desed/test2/477.wav] with textual query: [cat]\n",
      "Separated audio written to [../separation_result/base_desed/477/cat.wav]\n",
      "Separating audio from [../evaluation/data/desed/test2/1290.wav] with textual query: [vacuum cleaner]\n",
      "Separated audio written to [../separation_result/base_desed/1290/vacuum cleaner.wav]\n",
      "Separating audio from [../evaluation/data/desed/test2/1290.wav] with textual query: [frying]\n",
      "Separated audio written to [../separation_result/base_desed/1290/frying.wav]\n",
      "Separating audio from [../evaluation/data/desed/test2/1290.wav] with textual query: [dishes]\n",
      "Separated audio written to [../separation_result/base_desed/1290/dishes.wav]\n",
      "Separating audio from [../evaluation/data/desed/test2/1290.wav] with textual query: [blender]\n",
      "Separated audio written to [../separation_result/base_desed/1290/blender.wav]\n",
      "Separating audio from [../evaluation/data/desed/test2/1290.wav] with textual query: [speech]\n",
      "Separated audio written to [../separation_result/base_desed/1290/speech.wav]\n",
      "Separating audio from [../evaluation/data/desed/test2/1290.wav] with textual query: [dog]\n",
      "Separated audio written to [../separation_result/base_desed/1290/dog.wav]\n",
      "Separating audio from [../evaluation/data/desed/test2/1290.wav] with textual query: [alarm bell ringing]\n",
      "Separated audio written to [../separation_result/base_desed/1290/alarm bell ringing.wav]\n",
      "Separating audio from [../evaluation/data/desed/test2/1290.wav] with textual query: [running water]\n",
      "Separated audio written to [../separation_result/base_desed/1290/running water.wav]\n",
      "Separating audio from [../evaluation/data/desed/test2/1290.wav] with textual query: [electric shaver toothbrush]\n",
      "Separated audio written to [../separation_result/base_desed/1290/electric shaver toothbrush.wav]\n",
      "Separating audio from [../evaluation/data/desed/test2/1290.wav] with textual query: [cat]\n",
      "Separated audio written to [../separation_result/base_desed/1290/cat.wav]\n",
      "Separating audio from [../evaluation/data/desed/test2/1391.wav] with textual query: [vacuum cleaner]\n",
      "Separated audio written to [../separation_result/base_desed/1391/vacuum cleaner.wav]\n",
      "Separating audio from [../evaluation/data/desed/test2/1391.wav] with textual query: [frying]\n",
      "Separated audio written to [../separation_result/base_desed/1391/frying.wav]\n",
      "Separating audio from [../evaluation/data/desed/test2/1391.wav] with textual query: [dishes]\n",
      "Separated audio written to [../separation_result/base_desed/1391/dishes.wav]\n",
      "Separating audio from [../evaluation/data/desed/test2/1391.wav] with textual query: [blender]\n",
      "Separated audio written to [../separation_result/base_desed/1391/blender.wav]\n",
      "Separating audio from [../evaluation/data/desed/test2/1391.wav] with textual query: [speech]\n",
      "Separated audio written to [../separation_result/base_desed/1391/speech.wav]\n",
      "Separating audio from [../evaluation/data/desed/test2/1391.wav] with textual query: [dog]\n",
      "Separated audio written to [../separation_result/base_desed/1391/dog.wav]\n",
      "Separating audio from [../evaluation/data/desed/test2/1391.wav] with textual query: [alarm bell ringing]\n",
      "Separated audio written to [../separation_result/base_desed/1391/alarm bell ringing.wav]\n",
      "Separating audio from [../evaluation/data/desed/test2/1391.wav] with textual query: [running water]\n",
      "Separated audio written to [../separation_result/base_desed/1391/running water.wav]\n",
      "Separating audio from [../evaluation/data/desed/test2/1391.wav] with textual query: [electric shaver toothbrush]\n",
      "Separated audio written to [../separation_result/base_desed/1391/electric shaver toothbrush.wav]\n",
      "Separating audio from [../evaluation/data/desed/test2/1391.wav] with textual query: [cat]\n",
      "Separated audio written to [../separation_result/base_desed/1391/cat.wav]\n",
      "Separating audio from [../evaluation/data/desed/test2/250.wav] with textual query: [vacuum cleaner]\n",
      "Separated audio written to [../separation_result/base_desed/250/vacuum cleaner.wav]\n",
      "Separating audio from [../evaluation/data/desed/test2/250.wav] with textual query: [frying]\n",
      "Separated audio written to [../separation_result/base_desed/250/frying.wav]\n",
      "Separating audio from [../evaluation/data/desed/test2/250.wav] with textual query: [dishes]\n",
      "Separated audio written to [../separation_result/base_desed/250/dishes.wav]\n",
      "Separating audio from [../evaluation/data/desed/test2/250.wav] with textual query: [blender]\n",
      "Separated audio written to [../separation_result/base_desed/250/blender.wav]\n",
      "Separating audio from [../evaluation/data/desed/test2/250.wav] with textual query: [speech]\n",
      "Separated audio written to [../separation_result/base_desed/250/speech.wav]\n",
      "Separating audio from [../evaluation/data/desed/test2/250.wav] with textual query: [dog]\n",
      "Separated audio written to [../separation_result/base_desed/250/dog.wav]\n",
      "Separating audio from [../evaluation/data/desed/test2/250.wav] with textual query: [alarm bell ringing]\n",
      "Separated audio written to [../separation_result/base_desed/250/alarm bell ringing.wav]\n",
      "Separating audio from [../evaluation/data/desed/test2/250.wav] with textual query: [running water]\n",
      "Separated audio written to [../separation_result/base_desed/250/running water.wav]\n",
      "Separating audio from [../evaluation/data/desed/test2/250.wav] with textual query: [electric shaver toothbrush]\n",
      "Separated audio written to [../separation_result/base_desed/250/electric shaver toothbrush.wav]\n",
      "Separating audio from [../evaluation/data/desed/test2/250.wav] with textual query: [cat]\n",
      "Separated audio written to [../separation_result/base_desed/250/cat.wav]\n"
     ]
    }
   ],
   "source": [
    "import shutil\n",
    "from ipywidgets import widgets\n",
    "prefix = '../evaluation/data/desed/test2'\n",
    "test_files = [f'{prefix}/{filename}' for filename in os.listdir(prefix)][:5]\n",
    "\n",
    "audio_widgets = {cls: {} for cls in classes + ['original']}\n",
    "\n",
    "for file in test_files:\n",
    "    filename = file.split(os.sep)[-1]\n",
    "    audio_widget = widgets.Audio(value=open(file, \"rb\").read(), format=\"wav\", controls=True, autoplay=False)\n",
    "    audio_widgets['original'][filename] = audio_widget\n",
    "    output_dir = f'../separation_result/base_desed/{filename.split(\".wav\")[0]}/'\n",
    "    os.makedirs(os.path.dirname(output_dir), exist_ok=True)\n",
    "    for cls in classes:\n",
    "        output_file = os.path.join(output_dir, f'{cls}.wav')\n",
    "        separate_audio(model, file, cls, output_file, device, use_chunk=True)\n",
    "        audio_widget = widgets.Audio(value=open(output_file, \"rb\").read(), format=\"wav\", controls=True, autoplay=False)\n",
    "        audio_widgets[cls][filename] = audio_widget\n",
    "    shutil.copyfile(file, f'{output_dir}/original.wav')"
   ],
   "metadata": {
    "collapsed": false,
    "ExecuteTime": {
     "end_time": "2024-05-11T13:28:30.795584142Z",
     "start_time": "2024-05-11T13:28:24.800241662Z"
    }
   }
  },
  {
   "cell_type": "code",
   "execution_count": 8,
   "outputs": [
    {
     "data": {
      "text/plain": "HTML(value='<style>.widget-label { font-size: 16px; font-weight: bold; }</style>')",
      "application/vnd.jupyter.widget-view+json": {
       "version_major": 2,
       "version_minor": 0,
       "model_id": "9b57ee1c794d4aa8b2374727d7cccfa3"
      }
     },
     "metadata": {},
     "output_type": "display_data"
    },
    {
     "data": {
      "text/plain": "VBox(children=(HBox(children=(Label(value=''), Label(value='vacuum cleaner', layout=Layout(margin='0 10px 0 10…",
      "application/vnd.jupyter.widget-view+json": {
       "version_major": 2,
       "version_minor": 0,
       "model_id": "7396b995c09a4b2a8a20687765563afa"
      }
     },
     "metadata": {},
     "output_type": "display_data"
    }
   ],
   "source": [
    "from utils import plot_separation_result\n",
    "\n",
    "plot_separation_result(audio_widgets)"
   ],
   "metadata": {
    "collapsed": false,
    "ExecuteTime": {
     "end_time": "2024-05-11T13:28:30.856450577Z",
     "start_time": "2024-05-11T13:28:30.796194745Z"
    }
   }
  },
  {
   "cell_type": "markdown",
   "source": [
    "Получаем одинаково плохой результат"
   ],
   "metadata": {
    "collapsed": false
   }
  },
  {
   "cell_type": "code",
   "execution_count": 8,
   "outputs": [],
   "source": [],
   "metadata": {
    "collapsed": false
   }
  }
 ],
 "metadata": {
  "kernelspec": {
   "display_name": "Python 3",
   "language": "python",
   "name": "python3"
  },
  "language_info": {
   "codemirror_mode": {
    "name": "ipython",
    "version": 2
   },
   "file_extension": ".py",
   "mimetype": "text/x-python",
   "name": "python",
   "nbconvert_exporter": "python",
   "pygments_lexer": "ipython2",
   "version": "2.7.6"
  }
 },
 "nbformat": 4,
 "nbformat_minor": 0
}
