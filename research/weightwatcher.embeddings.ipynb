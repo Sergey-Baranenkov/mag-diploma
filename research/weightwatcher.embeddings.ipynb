{
 "cells": [
  {
   "cell_type": "markdown",
   "source": [
    "## Анализ embedding-tuned модели с помощью weightwatcher"
   ],
   "metadata": {
    "collapsed": false
   }
  },
  {
   "cell_type": "code",
   "execution_count": 1,
   "outputs": [],
   "source": [
    "%load_ext autoreload\n",
    "%autoreload 2"
   ],
   "metadata": {
    "collapsed": false,
    "ExecuteTime": {
     "end_time": "2024-05-04T17:49:03.344362057Z",
     "start_time": "2024-05-04T17:49:03.344186693Z"
    }
   }
  },
  {
   "cell_type": "code",
   "execution_count": 2,
   "outputs": [],
   "source": [
    "# ! pip uninstall numba -y && pip install numba"
   ],
   "metadata": {
    "collapsed": false,
    "ExecuteTime": {
     "end_time": "2024-05-04T17:49:03.344504328Z",
     "start_time": "2024-05-04T17:49:03.344278428Z"
    }
   }
  },
  {
   "cell_type": "code",
   "execution_count": 3,
   "outputs": [],
   "source": [
    "import os\n",
    "import sys\n",
    "\n",
    "# Получаем абсолютный путь к корневой директории проекта (директория выше текущей)\n",
    "root_path = os.path.abspath(os.path.join(os.getcwd(), '..'))\n",
    "\n",
    "# Добавляем корневую директорию в sys.path\n",
    "if root_path not in sys.path:\n",
    "    sys.path.append(root_path)"
   ],
   "metadata": {
    "collapsed": false,
    "ExecuteTime": {
     "end_time": "2024-05-04T17:49:03.761755433Z",
     "start_time": "2024-05-04T17:49:03.755614706Z"
    }
   }
  },
  {
   "cell_type": "code",
   "execution_count": 4,
   "outputs": [
    {
     "name": "stderr",
     "output_type": "stream",
     "text": [
      "2024-05-04 20:49:05.853134: E external/local_xla/xla/stream_executor/cuda/cuda_dnn.cc:9261] Unable to register cuDNN factory: Attempting to register factory for plugin cuDNN when one has already been registered\n",
      "2024-05-04 20:49:05.853160: E external/local_xla/xla/stream_executor/cuda/cuda_fft.cc:607] Unable to register cuFFT factory: Attempting to register factory for plugin cuFFT when one has already been registered\n",
      "2024-05-04 20:49:05.854047: E external/local_xla/xla/stream_executor/cuda/cuda_blas.cc:1515] Unable to register cuBLAS factory: Attempting to register factory for plugin cuBLAS when one has already been registered\n",
      "2024-05-04 20:49:05.858722: I tensorflow/core/platform/cpu_feature_guard.cc:182] This TensorFlow binary is optimized to use available CPU instructions in performance-critical operations.\n",
      "To enable the following instructions: AVX2 FMA, in other operations, rebuild TensorFlow with the appropriate compiler flags.\n",
      "2024-05-04 20:49:06.372581: W tensorflow/compiler/tf2tensorrt/utils/py_utils.cc:38] TF-TRT Warning: Could not find TensorRT\n"
     ]
    }
   ],
   "source": [
    "from model_loaders import load_ss_model\n",
    "import weightwatcher as ww\n",
    "from pipeline import separate_audio\n",
    "import torch\n",
    "from models.clap_encoder import CLAP_Encoder\n",
    "import IPython.display as ipd\n",
    "from utils import parse_yaml\n",
    "from utils import describe_weights\n",
    "from torch import nn\n",
    "import numpy as np\n",
    "import pandas as pd"
   ],
   "metadata": {
    "collapsed": false,
    "ExecuteTime": {
     "end_time": "2024-05-04T17:49:09.355719198Z",
     "start_time": "2024-05-04T17:49:04.637190584Z"
    }
   }
  },
  {
   "cell_type": "code",
   "execution_count": 5,
   "outputs": [],
   "source": [
    "SS_CONFIG_PATH = '../config/audiosep_base.yaml'\n",
    "CLAP_CKPT_PATH = '../checkpoint/music_speech_audioset_epoch_15_esc_89.98.pt'\n",
    "AUDIOSEP_CKPT_PATH = '../checkpoint/audiosep_base_4M_steps.ckpt'\n",
    "classes = [\"bass\", \"drums\", \"vocals\", \"other musical instruments\"]\n",
    "device = torch.device('cuda')\n",
    "configs = parse_yaml(SS_CONFIG_PATH)"
   ],
   "metadata": {
    "collapsed": false,
    "ExecuteTime": {
     "end_time": "2024-05-04T17:49:09.408952849Z",
     "start_time": "2024-05-04T17:49:09.357087404Z"
    }
   }
  },
  {
   "cell_type": "code",
   "execution_count": 6,
   "outputs": [
    {
     "name": "stderr",
     "output_type": "stream",
     "text": [
      "2024-05-04 20:49:21,904 - INFO - Loading HTSAT-base model config.\n",
      "2024-05-04 20:49:23,842 - INFO - Loading pretrained HTSAT-base-roberta weights (../checkpoint/music_speech_audioset_epoch_15_esc_89.98.pt).\n"
     ]
    }
   ],
   "source": [
    "query_encoder = CLAP_Encoder(pretrained_path = CLAP_CKPT_PATH).eval().to(device)\n",
    "base_model = load_ss_model(configs=configs, checkpoint_path=AUDIOSEP_CKPT_PATH, query_encoder=query_encoder).eval().to(device)"
   ],
   "metadata": {
    "collapsed": false,
    "ExecuteTime": {
     "end_time": "2024-05-04T17:49:26.693229548Z",
     "start_time": "2024-05-04T17:49:21.682093122Z"
    }
   }
  },
  {
   "cell_type": "code",
   "execution_count": 7,
   "outputs": [
    {
     "name": "stderr",
     "output_type": "stream",
     "text": [
      "2024-05-04 21:02:37,782 - INFO - Loading HTSAT-base model config.\n",
      "2024-05-04 21:02:39,122 - INFO - Loading pretrained HTSAT-base-roberta weights (../checkpoint/music_speech_audioset_epoch_15_esc_89.98.pt).\n"
     ]
    }
   ],
   "source": [
    "from models.audiosep_tunned_embeddings import AudioSepTunedEmbeddings\n",
    "\n",
    "checkpoint_path = '../checkpoints/final/musdb18/embeddings/final.ckpt'\n",
    "\n",
    "query_encoder_for_lora = CLAP_Encoder(pretrained_path = CLAP_CKPT_PATH).eval().to(device)\n",
    "base_model_for_lora = load_ss_model(configs=configs, checkpoint_path=AUDIOSEP_CKPT_PATH, query_encoder=query_encoder_for_lora).eval().to(device)\n",
    "\n",
    "model = AudioSepTunedEmbeddings.load_from_checkpoint(\n",
    "    checkpoint_path=checkpoint_path,\n",
    "    strict=False,\n",
    "    ss_model=base_model_for_lora.ss_model,\n",
    "    query_encoder=base_model_for_lora.query_encoder,\n",
    "    waveform_mixer=None,\n",
    "    loss_function=None,\n",
    "    optimizer_type=None,\n",
    "    learning_rate=None,\n",
    "    lr_lambda_func=None,\n",
    ") \\\n",
    "    .eval() \\\n",
    "    .to(device)\n"
   ],
   "metadata": {
    "collapsed": false,
    "ExecuteTime": {
     "end_time": "2024-05-04T18:02:41.755914744Z",
     "start_time": "2024-05-04T18:02:37.199231123Z"
    }
   }
  },
  {
   "cell_type": "markdown",
   "source": [
    "# Посмотрим на среднее alpha query encoder"
   ],
   "metadata": {
    "collapsed": false
   }
  },
  {
   "cell_type": "code",
   "execution_count": 9,
   "outputs": [
    {
     "name": "stdout",
     "output_type": "stream",
     "text": [
      "{'log_norm': 3.1343247371889955, 'alpha': 4.496491728150426, 'alpha_weighted': 6.418481930514178, 'log_alpha_norm': 6.761209070846684, 'log_spectral_norm': 1.5942261192340326, 'stable_rank': 43.433567962107006}\n"
     ]
    },
    {
     "data": {
      "text/plain": "<Figure size 640x480 with 1 Axes>",
      "image/png": "[encoded data removed]"
     },
     "metadata": {},
     "output_type": "display_data"
    }
   ],
   "source": [
    "from utils import plot_hist\n",
    "\n",
    "base_details, base_summary = describe_weights(model.query_encoder)\n",
    "plot_hist(base_details)\n",
    "print(base_summary)"
   ],
   "metadata": {
    "collapsed": false,
    "ExecuteTime": {
     "end_time": "2024-05-04T18:04:53.625311488Z",
     "start_time": "2024-05-04T18:04:43.650948850Z"
    }
   }
  },
  {
   "cell_type": "markdown",
   "source": [
    "Видим, что при дообучении query net адаптером общая alpha немного уменьшилась"
   ],
   "metadata": {
    "collapsed": false
   }
  },
  {
   "cell_type": "code",
   "execution_count": 10,
   "outputs": [],
   "source": [
    "ckpt = torch.load(checkpoint_path)['state_dict']\n",
    "ckpt = {layer: weight for layer, weight in ckpt.items() if 'tuned_embedding' in layer}"
   ],
   "metadata": {
    "collapsed": false,
    "ExecuteTime": {
     "end_time": "2024-05-04T18:10:23.097420355Z",
     "start_time": "2024-05-04T18:10:23.025278767Z"
    }
   }
  },
  {
   "cell_type": "code",
   "execution_count": 15,
   "outputs": [
    {
     "data": {
      "text/plain": "                                longname     alpha warning\n0  query_encoder.tuned_embedding_layer.0  2.549202        \n1  query_encoder.tuned_embedding_layer.2  5.542571        ",
      "text/html": "<div>\n<style scoped>\n    .dataframe tbody tr th:only-of-type {\n        vertical-align: middle;\n    }\n\n    .dataframe tbody tr th {\n        vertical-align: top;\n    }\n\n    .dataframe thead th {\n        text-align: right;\n    }\n</style>\n<table border=\"1\" class=\"dataframe\">\n  <thead>\n    <tr style=\"text-align: right;\">\n      <th></th>\n      <th>longname</th>\n      <th>alpha</th>\n      <th>warning</th>\n    </tr>\n  </thead>\n  <tbody>\n    <tr>\n      <th>0</th>\n      <td>query_encoder.tuned_embedding_layer.0</td>\n      <td>2.549202</td>\n      <td></td>\n    </tr>\n    <tr>\n      <th>1</th>\n      <td>query_encoder.tuned_embedding_layer.2</td>\n      <td>5.542571</td>\n      <td></td>\n    </tr>\n  </tbody>\n</table>\n</div>"
     },
     "execution_count": 15,
     "metadata": {},
     "output_type": "execute_result"
    }
   ],
   "source": [
    "details, _ = describe_weights(ckpt)\n",
    "details[['longname', 'alpha', 'warning']]"
   ],
   "metadata": {
    "collapsed": false,
    "ExecuteTime": {
     "end_time": "2024-05-04T18:11:32.284512068Z",
     "start_time": "2024-05-04T18:11:32.226326678Z"
    }
   }
  },
  {
   "cell_type": "markdown",
   "source": [
    "Видим, что у одного слоя хорошее alpha, близкое к 2, а у другого alpha = 5.54 - близко к границе недообучения. Это происходит из-за небольшого числа тюненых классов. Для датасетов, в которых больше оба слоя должны быть хорошо обученными"
   ],
   "metadata": {
    "collapsed": false
   }
  },
  {
   "cell_type": "code",
   "execution_count": null,
   "outputs": [],
   "source": [],
   "metadata": {
    "collapsed": false
   }
  }
 ],
 "metadata": {
  "kernelspec": {
   "display_name": "Python 3",
   "language": "python",
   "name": "python3"
  },
  "language_info": {
   "codemirror_mode": {
    "name": "ipython",
    "version": 2
   },
   "file_extension": ".py",
   "mimetype": "text/x-python",
   "name": "python",
   "nbconvert_exporter": "python",
   "pygments_lexer": "ipython2",
   "version": "2.7.6"
  }
 },
 "nbformat": 4,
 "nbformat_minor": 0
}
