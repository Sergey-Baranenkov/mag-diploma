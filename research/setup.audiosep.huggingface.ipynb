{
 "cells": [
  {
   "cell_type": "code",
   "execution_count": 1,
   "outputs": [],
   "source": [
    "%load_ext autoreload\n",
    "%autoreload 2"
   ],
   "metadata": {
    "collapsed": false,
    "ExecuteTime": {
     "end_time": "2024-01-25T21:55:15.982717171Z",
     "start_time": "2024-01-25T21:55:15.980033962Z"
    }
   }
  },
  {
   "cell_type": "code",
   "execution_count": 2,
   "outputs": [],
   "source": [
    "import sys\n",
    "import os\n",
    "\n",
    "# Получаем абсолютный путь к корневой директории проекта (директория выше текущей)\n",
    "root_path = os.path.abspath(os.path.join(os.getcwd(), '..'))\n",
    "\n",
    "# Добавляем корневую директорию в sys.path\n",
    "if root_path not in sys.path:\n",
    "    sys.path.append(root_path)"
   ],
   "metadata": {
    "collapsed": false,
    "ExecuteTime": {
     "end_time": "2024-01-25T21:55:16.028551050Z",
     "start_time": "2024-01-25T21:55:15.983354212Z"
    }
   }
  },
  {
   "cell_type": "code",
   "execution_count": 3,
   "outputs": [],
   "source": [
    "from models.audiosep import AudioSep\n",
    "from models.clap_encoder import CLAP_Encoder\n",
    "from utils import get_ss_model\n",
    "\n",
    "import torch\n",
    "from pipeline import separate_audio\n"
   ],
   "metadata": {
    "collapsed": false,
    "ExecuteTime": {
     "end_time": "2024-01-25T21:55:20.656204589Z",
     "start_time": "2024-01-25T21:55:16.425377645Z"
    }
   }
  },
  {
   "cell_type": "code",
   "execution_count": 4,
   "outputs": [
    {
     "name": "stderr",
     "output_type": "stream",
     "text": [
      "/home/araxal/.local/lib/python3.10/site-packages/torch/functional.py:504: UserWarning: torch.meshgrid: in an upcoming release, it will be required to pass the indexing argument. (Triggered internally at ../aten/src/ATen/native/TensorShape.cpp:3483.)\n",
      "  return _VF.meshgrid(tensors, **kwargs)  # type: ignore[attr-defined]\n",
      "config.json not found in HuggingFace Hub.\n",
      "WARNING:huggingface_hub.hub_mixin:config.json not found in HuggingFace Hub.\n"
     ]
    }
   ],
   "source": [
    "device = torch.device('cuda')\n",
    "\n",
    "ss_model = get_ss_model('../config/audiosep_base.yaml').eval().to(device)\n",
    "query_encoder = CLAP_Encoder(\n",
    "    pretrained_path='../checkpoint/music_speech_audioset_epoch_15_esc_89.98.pt'\n",
    ").eval().to(device)\n",
    "\n",
    "model = AudioSep.from_pretrained(\"nielsr/audiosep-demo\", ss_model=ss_model, query_encoder = query_encoder)"
   ],
   "metadata": {
    "collapsed": false,
    "ExecuteTime": {
     "end_time": "2024-01-25T21:55:29.673741583Z",
     "start_time": "2024-01-25T21:55:20.657455558Z"
    }
   }
  },
  {
   "cell_type": "code",
   "execution_count": 8,
   "outputs": [
    {
     "name": "stdout",
     "output_type": "stream",
     "text": [
      "Separating audio from [../audios/test.wav] with textual query: [This is a voice]\n",
      "Separated audio written to [../separation_result/test.wav]\n"
     ]
    }
   ],
   "source": [
    "audio_file = '../audios/test.wav'\n",
    "text = 'This is a voice'\n",
    "output_file = '../separation_result/test.wav'\n",
    "\n",
    "# AudioSep processes the audio at 32 kHz sampling rate\n",
    "separate_audio(model, audio_file, text, output_file, device, use_chunk=True)"
   ],
   "metadata": {
    "collapsed": false,
    "ExecuteTime": {
     "end_time": "2024-01-14T18:00:26.886971078Z",
     "start_time": "2024-01-14T18:00:24.221616859Z"
    }
   }
  },
  {
   "cell_type": "code",
   "execution_count": null,
   "outputs": [],
   "source": [],
   "metadata": {
    "collapsed": false
   }
  }
 ],
 "metadata": {
  "kernelspec": {
   "display_name": "Python 3",
   "language": "python",
   "name": "python3"
  },
  "language_info": {
   "codemirror_mode": {
    "name": "ipython",
    "version": 2
   },
   "file_extension": ".py",
   "mimetype": "text/x-python",
   "name": "python",
   "nbconvert_exporter": "python",
   "pygments_lexer": "ipython2",
   "version": "2.7.6"
  }
 },
 "nbformat": 4,
 "nbformat_minor": 0
}
