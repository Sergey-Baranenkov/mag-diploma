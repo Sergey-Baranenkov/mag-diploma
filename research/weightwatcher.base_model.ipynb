{
 "cells": [
  {
   "cell_type": "markdown",
   "source": [
    "## Анализ базовой модели с помощью weightwatcher"
   ],
   "metadata": {
    "collapsed": false
   }
  },
  {
   "cell_type": "code",
   "execution_count": 2,
   "outputs": [],
   "source": [
    "%load_ext autoreload\n",
    "%autoreload 2"
   ],
   "metadata": {
    "collapsed": false,
    "ExecuteTime": {
     "end_time": "2024-05-04T18:05:52.824010779Z",
     "start_time": "2024-05-04T18:05:52.763057725Z"
    }
   }
  },
  {
   "cell_type": "code",
   "execution_count": 3,
   "outputs": [],
   "source": [
    "# ! pip uninstall numba -y && pip install numba"
   ],
   "metadata": {
    "collapsed": false,
    "ExecuteTime": {
     "end_time": "2024-05-04T18:05:52.840901985Z",
     "start_time": "2024-05-04T18:05:52.840774572Z"
    }
   }
  },
  {
   "cell_type": "code",
   "execution_count": 4,
   "outputs": [],
   "source": [
    "import os\n",
    "import sys\n",
    "\n",
    "# Получаем абсолютный путь к корневой директории проекта (директория выше текущей)\n",
    "root_path = os.path.abspath(os.path.join(os.getcwd(), '..'))\n",
    "\n",
    "# Добавляем корневую директорию в sys.path\n",
    "if root_path not in sys.path:\n",
    "    sys.path.append(root_path)"
   ],
   "metadata": {
    "collapsed": false,
    "ExecuteTime": {
     "end_time": "2024-05-04T18:05:52.864002070Z",
     "start_time": "2024-05-04T18:05:52.840991485Z"
    }
   }
  },
  {
   "cell_type": "code",
   "execution_count": 5,
   "outputs": [],
   "source": [
    "from model_loaders import load_ss_model\n",
    "import weightwatcher as ww\n",
    "from pipeline import separate_audio\n",
    "import torch\n",
    "from models.clap_encoder import CLAP_Encoder\n",
    "import IPython.display as ipd\n",
    "from utils import parse_yaml\n",
    "from utils import describe_weights\n",
    "from torch import nn\n",
    "import numpy as np\n",
    "import pandas as pd"
   ],
   "metadata": {
    "collapsed": false,
    "ExecuteTime": {
     "end_time": "2024-05-04T18:05:53.520725182Z",
     "start_time": "2024-05-04T18:05:52.865647311Z"
    }
   }
  },
  {
   "cell_type": "code",
   "execution_count": 6,
   "outputs": [],
   "source": [
    "SS_CONFIG_PATH = '../config/audiosep_base.yaml'\n",
    "CLAP_CKPT_PATH = '../checkpoint/music_speech_audioset_epoch_15_esc_89.98.pt'\n",
    "AUDIOSEP_CKPT_PATH = '../checkpoint/audiosep_base_4M_steps.ckpt'\n",
    "classes = [\"bass\", \"drums\", \"vocals\", \"other musical instruments\"]\n",
    "device = torch.device('cuda')\n",
    "configs = parse_yaml(SS_CONFIG_PATH)"
   ],
   "metadata": {
    "collapsed": false,
    "ExecuteTime": {
     "end_time": "2024-05-04T18:05:53.556272442Z",
     "start_time": "2024-05-04T18:05:53.522400130Z"
    }
   }
  },
  {
   "cell_type": "code",
   "execution_count": 7,
   "outputs": [
    {
     "name": "stderr",
     "output_type": "stream",
     "text": [
      "2024-05-04 21:05:53,777 - INFO - Loading HTSAT-base model config.\n",
      "2024-05-04 21:05:55,774 - INFO - Loading pretrained HTSAT-base-roberta weights (../checkpoint/music_speech_audioset_epoch_15_esc_89.98.pt).\n"
     ]
    }
   ],
   "source": [
    "query_encoder = CLAP_Encoder(pretrained_path = CLAP_CKPT_PATH).eval().to(device)\n",
    "base_model = load_ss_model(configs=configs, checkpoint_path=AUDIOSEP_CKPT_PATH, query_encoder=query_encoder).eval().to(device)"
   ],
   "metadata": {
    "collapsed": false,
    "ExecuteTime": {
     "end_time": "2024-05-04T18:05:58.846511083Z",
     "start_time": "2024-05-04T18:05:53.557894159Z"
    }
   }
  },
  {
   "cell_type": "markdown",
   "source": [
    "# Ранг слоев AudioSep"
   ],
   "metadata": {
    "collapsed": false
   }
  },
  {
   "cell_type": "code",
   "execution_count": 8,
   "outputs": [
    {
     "data": {
      "text/plain": "                                     layer_name lower_dim_size rank\n0                                base->pre_conv              1    1\n1      base->encoder_block1->conv_block1->conv1             32   32\n2      base->encoder_block1->conv_block1->conv2             32   32\n3      base->encoder_block2->conv_block1->conv1             64   64\n4      base->encoder_block2->conv_block1->conv2             64   64\n5   base->encoder_block2->conv_block1->shortcut             32   32\n6      base->encoder_block3->conv_block1->conv1            128  128\n7      base->encoder_block3->conv_block1->conv2            128  128\n8   base->encoder_block3->conv_block1->shortcut             64   64\n9      base->encoder_block4->conv_block1->conv1            256  256\n10     base->encoder_block4->conv_block1->conv2            256  256\n11  base->encoder_block4->conv_block1->shortcut            128  128\n12     base->encoder_block5->conv_block1->conv1            384  384\n13     base->encoder_block5->conv_block1->conv2            384  384\n14  base->encoder_block5->conv_block1->shortcut            256  256\n15     base->encoder_block6->conv_block1->conv1            384  384\n16     base->encoder_block6->conv_block1->conv2            384  384\n17       base->conv_block7a->conv_block1->conv1            384  384\n18       base->conv_block7a->conv_block1->conv2            384  384\n19     base->decoder_block1->conv_block2->conv1            384  384\n20     base->decoder_block1->conv_block2->conv2            384  384\n21  base->decoder_block1->conv_block2->shortcut            384  384\n22     base->decoder_block2->conv_block2->conv1            384  384\n23     base->decoder_block2->conv_block2->conv2            384  384\n24  base->decoder_block2->conv_block2->shortcut            384  384\n25     base->decoder_block3->conv_block2->conv1            256  256\n26     base->decoder_block3->conv_block2->conv2            256  256\n27  base->decoder_block3->conv_block2->shortcut            256  256\n28     base->decoder_block4->conv_block2->conv1            128  128\n29     base->decoder_block4->conv_block2->conv2            128  128\n30  base->decoder_block4->conv_block2->shortcut            128  128\n31     base->decoder_block5->conv_block2->conv1             64   64\n32     base->decoder_block5->conv_block2->conv2             64   64\n33  base->decoder_block5->conv_block2->shortcut             64   64\n34     base->decoder_block6->conv_block2->conv1             32   32\n35     base->decoder_block6->conv_block2->conv2             32   32\n36  base->decoder_block6->conv_block2->shortcut             32   32\n37                             base->after_conv              3    3",
      "text/html": "<div>\n<style scoped>\n    .dataframe tbody tr th:only-of-type {\n        vertical-align: middle;\n    }\n\n    .dataframe tbody tr th {\n        vertical-align: top;\n    }\n\n    .dataframe thead th {\n        text-align: right;\n    }\n</style>\n<table border=\"1\" class=\"dataframe\">\n  <thead>\n    <tr style=\"text-align: right;\">\n      <th></th>\n      <th>layer_name</th>\n      <th>lower_dim_size</th>\n      <th>rank</th>\n    </tr>\n  </thead>\n  <tbody>\n    <tr>\n      <th>0</th>\n      <td>base-&gt;pre_conv</td>\n      <td>1</td>\n      <td>1</td>\n    </tr>\n    <tr>\n      <th>1</th>\n      <td>base-&gt;encoder_block1-&gt;conv_block1-&gt;conv1</td>\n      <td>32</td>\n      <td>32</td>\n    </tr>\n    <tr>\n      <th>2</th>\n      <td>base-&gt;encoder_block1-&gt;conv_block1-&gt;conv2</td>\n      <td>32</td>\n      <td>32</td>\n    </tr>\n    <tr>\n      <th>3</th>\n      <td>base-&gt;encoder_block2-&gt;conv_block1-&gt;conv1</td>\n      <td>64</td>\n      <td>64</td>\n    </tr>\n    <tr>\n      <th>4</th>\n      <td>base-&gt;encoder_block2-&gt;conv_block1-&gt;conv2</td>\n      <td>64</td>\n      <td>64</td>\n    </tr>\n    <tr>\n      <th>5</th>\n      <td>base-&gt;encoder_block2-&gt;conv_block1-&gt;shortcut</td>\n      <td>32</td>\n      <td>32</td>\n    </tr>\n    <tr>\n      <th>6</th>\n      <td>base-&gt;encoder_block3-&gt;conv_block1-&gt;conv1</td>\n      <td>128</td>\n      <td>128</td>\n    </tr>\n    <tr>\n      <th>7</th>\n      <td>base-&gt;encoder_block3-&gt;conv_block1-&gt;conv2</td>\n      <td>128</td>\n      <td>128</td>\n    </tr>\n    <tr>\n      <th>8</th>\n      <td>base-&gt;encoder_block3-&gt;conv_block1-&gt;shortcut</td>\n      <td>64</td>\n      <td>64</td>\n    </tr>\n    <tr>\n      <th>9</th>\n      <td>base-&gt;encoder_block4-&gt;conv_block1-&gt;conv1</td>\n      <td>256</td>\n      <td>256</td>\n    </tr>\n    <tr>\n      <th>10</th>\n      <td>base-&gt;encoder_block4-&gt;conv_block1-&gt;conv2</td>\n      <td>256</td>\n      <td>256</td>\n    </tr>\n    <tr>\n      <th>11</th>\n      <td>base-&gt;encoder_block4-&gt;conv_block1-&gt;shortcut</td>\n      <td>128</td>\n      <td>128</td>\n    </tr>\n    <tr>\n      <th>12</th>\n      <td>base-&gt;encoder_block5-&gt;conv_block1-&gt;conv1</td>\n      <td>384</td>\n      <td>384</td>\n    </tr>\n    <tr>\n      <th>13</th>\n      <td>base-&gt;encoder_block5-&gt;conv_block1-&gt;conv2</td>\n      <td>384</td>\n      <td>384</td>\n    </tr>\n    <tr>\n      <th>14</th>\n      <td>base-&gt;encoder_block5-&gt;conv_block1-&gt;shortcut</td>\n      <td>256</td>\n      <td>256</td>\n    </tr>\n    <tr>\n      <th>15</th>\n      <td>base-&gt;encoder_block6-&gt;conv_block1-&gt;conv1</td>\n      <td>384</td>\n      <td>384</td>\n    </tr>\n    <tr>\n      <th>16</th>\n      <td>base-&gt;encoder_block6-&gt;conv_block1-&gt;conv2</td>\n      <td>384</td>\n      <td>384</td>\n    </tr>\n    <tr>\n      <th>17</th>\n      <td>base-&gt;conv_block7a-&gt;conv_block1-&gt;conv1</td>\n      <td>384</td>\n      <td>384</td>\n    </tr>\n    <tr>\n      <th>18</th>\n      <td>base-&gt;conv_block7a-&gt;conv_block1-&gt;conv2</td>\n      <td>384</td>\n      <td>384</td>\n    </tr>\n    <tr>\n      <th>19</th>\n      <td>base-&gt;decoder_block1-&gt;conv_block2-&gt;conv1</td>\n      <td>384</td>\n      <td>384</td>\n    </tr>\n    <tr>\n      <th>20</th>\n      <td>base-&gt;decoder_block1-&gt;conv_block2-&gt;conv2</td>\n      <td>384</td>\n      <td>384</td>\n    </tr>\n    <tr>\n      <th>21</th>\n      <td>base-&gt;decoder_block1-&gt;conv_block2-&gt;shortcut</td>\n      <td>384</td>\n      <td>384</td>\n    </tr>\n    <tr>\n      <th>22</th>\n      <td>base-&gt;decoder_block2-&gt;conv_block2-&gt;conv1</td>\n      <td>384</td>\n      <td>384</td>\n    </tr>\n    <tr>\n      <th>23</th>\n      <td>base-&gt;decoder_block2-&gt;conv_block2-&gt;conv2</td>\n      <td>384</td>\n      <td>384</td>\n    </tr>\n    <tr>\n      <th>24</th>\n      <td>base-&gt;decoder_block2-&gt;conv_block2-&gt;shortcut</td>\n      <td>384</td>\n      <td>384</td>\n    </tr>\n    <tr>\n      <th>25</th>\n      <td>base-&gt;decoder_block3-&gt;conv_block2-&gt;conv1</td>\n      <td>256</td>\n      <td>256</td>\n    </tr>\n    <tr>\n      <th>26</th>\n      <td>base-&gt;decoder_block3-&gt;conv_block2-&gt;conv2</td>\n      <td>256</td>\n      <td>256</td>\n    </tr>\n    <tr>\n      <th>27</th>\n      <td>base-&gt;decoder_block3-&gt;conv_block2-&gt;shortcut</td>\n      <td>256</td>\n      <td>256</td>\n    </tr>\n    <tr>\n      <th>28</th>\n      <td>base-&gt;decoder_block4-&gt;conv_block2-&gt;conv1</td>\n      <td>128</td>\n      <td>128</td>\n    </tr>\n    <tr>\n      <th>29</th>\n      <td>base-&gt;decoder_block4-&gt;conv_block2-&gt;conv2</td>\n      <td>128</td>\n      <td>128</td>\n    </tr>\n    <tr>\n      <th>30</th>\n      <td>base-&gt;decoder_block4-&gt;conv_block2-&gt;shortcut</td>\n      <td>128</td>\n      <td>128</td>\n    </tr>\n    <tr>\n      <th>31</th>\n      <td>base-&gt;decoder_block5-&gt;conv_block2-&gt;conv1</td>\n      <td>64</td>\n      <td>64</td>\n    </tr>\n    <tr>\n      <th>32</th>\n      <td>base-&gt;decoder_block5-&gt;conv_block2-&gt;conv2</td>\n      <td>64</td>\n      <td>64</td>\n    </tr>\n    <tr>\n      <th>33</th>\n      <td>base-&gt;decoder_block5-&gt;conv_block2-&gt;shortcut</td>\n      <td>64</td>\n      <td>64</td>\n    </tr>\n    <tr>\n      <th>34</th>\n      <td>base-&gt;decoder_block6-&gt;conv_block2-&gt;conv1</td>\n      <td>32</td>\n      <td>32</td>\n    </tr>\n    <tr>\n      <th>35</th>\n      <td>base-&gt;decoder_block6-&gt;conv_block2-&gt;conv2</td>\n      <td>32</td>\n      <td>32</td>\n    </tr>\n    <tr>\n      <th>36</th>\n      <td>base-&gt;decoder_block6-&gt;conv_block2-&gt;shortcut</td>\n      <td>32</td>\n      <td>32</td>\n    </tr>\n    <tr>\n      <th>37</th>\n      <td>base-&gt;after_conv</td>\n      <td>3</td>\n      <td>3</td>\n    </tr>\n  </tbody>\n</table>\n</div>"
     },
     "execution_count": 8,
     "metadata": {},
     "output_type": "execute_result"
    }
   ],
   "source": [
    "from utils import calculate_ranks_of_conv_layers\n",
    "\n",
    "# Вызываем функцию для расчета рангов\n",
    "ranks = calculate_ranks_of_conv_layers(base_model.ss_model)\n",
    "ranks"
   ],
   "metadata": {
    "collapsed": false,
    "ExecuteTime": {
     "end_time": "2024-05-04T18:06:00.099415704Z",
     "start_time": "2024-05-04T18:05:58.848309607Z"
    }
   }
  },
  {
   "cell_type": "markdown",
   "source": [
    "Видим, что ранг весовой матрицы равен её наименьшей размерности. Это означает, что сеть хорошо обучена"
   ],
   "metadata": {
    "collapsed": false
   }
  },
  {
   "cell_type": "markdown",
   "source": [
    "# Посмотрим на среднее alpha separation net"
   ],
   "metadata": {
    "collapsed": false
   }
  },
  {
   "cell_type": "code",
   "execution_count": 9,
   "outputs": [
    {
     "name": "stdout",
     "output_type": "stream",
     "text": [
      "{'log_norm': 3.4622441728944704, 'alpha': 3.4710740844774923, 'alpha_weighted': 6.590802155253461, 'log_alpha_norm': 7.088332035155279, 'log_spectral_norm': 2.1900739450051367, 'stable_rank': 39.89981500874082}\n"
     ]
    },
    {
     "data": {
      "text/plain": "<Figure size 640x480 with 1 Axes>",
      "image/png": "[encoded data removed]"
     },
     "metadata": {},
     "output_type": "display_data"
    }
   ],
   "source": [
    "from utils import plot_hist\n",
    "\n",
    "base_details, base_summary = describe_weights(base_model.ss_model)\n",
    "plot_hist(base_details)\n",
    "print(base_summary)"
   ],
   "metadata": {
    "collapsed": false,
    "ExecuteTime": {
     "end_time": "2024-05-04T18:06:04.530994506Z",
     "start_time": "2024-05-04T18:06:00.101831814Z"
    }
   }
  },
  {
   "cell_type": "markdown",
   "source": [
    "Видим, что модель хорошо обучена так как ее среднее alpha в районе 3.4, что больше 2 и меньше 6. Однако также есть несколько переобученных слоев (мешьше 2) и недообученных (больше 6)"
   ],
   "metadata": {
    "collapsed": false
   }
  },
  {
   "cell_type": "markdown",
   "source": [
    "# Посмотрим на среднее alpha query encoder"
   ],
   "metadata": {
    "collapsed": false
   }
  },
  {
   "cell_type": "code",
   "execution_count": 10,
   "outputs": [
    {
     "name": "stdout",
     "output_type": "stream",
     "text": [
      "{'log_norm': 3.1513612377488123, 'alpha': 4.502124289611201, 'alpha_weighted': 6.452115787518112, 'log_alpha_norm': 6.795535441276522, 'log_spectral_norm': 1.603358336858141, 'stable_rank': 43.845841694528914}\n"
     ]
    },
    {
     "data": {
      "text/plain": "<Figure size 640x480 with 1 Axes>",
      "image/png": "[encoded data removed]"
     },
     "metadata": {},
     "output_type": "display_data"
    }
   ],
   "source": [
    "from utils import plot_hist\n",
    "\n",
    "base_details, base_summary = describe_weights(base_model.query_encoder)\n",
    "plot_hist(base_details)\n",
    "print(base_summary)"
   ],
   "metadata": {
    "collapsed": false,
    "ExecuteTime": {
     "end_time": "2024-05-04T18:06:14.100331831Z",
     "start_time": "2024-05-04T18:06:04.531106159Z"
    }
   }
  },
  {
   "cell_type": "markdown",
   "source": [
    "alpha 4.5 в пределах \"нормы\", однако в отличии от separation net сеть имеет много недообученных слоев"
   ],
   "metadata": {
    "collapsed": false
   }
  },
  {
   "cell_type": "code",
   "execution_count": null,
   "outputs": [],
   "source": [],
   "metadata": {
    "collapsed": false
   }
  }
 ],
 "metadata": {
  "kernelspec": {
   "display_name": "Python 3",
   "language": "python",
   "name": "python3"
  },
  "language_info": {
   "codemirror_mode": {
    "name": "ipython",
    "version": 2
   },
   "file_extension": ".py",
   "mimetype": "text/x-python",
   "name": "python",
   "nbconvert_exporter": "python",
   "pygments_lexer": "ipython2",
   "version": "2.7.6"
  }
 },
 "nbformat": 4,
 "nbformat_minor": 0
}
