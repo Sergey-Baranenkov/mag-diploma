{
 "cells": [
  {
   "cell_type": "markdown",
   "source": [
    "## Создание индекса FAISS для бота"
   ],
   "metadata": {
    "collapsed": false
   }
  },
  {
   "cell_type": "code",
   "execution_count": 7,
   "outputs": [
    {
     "name": "stdout",
     "output_type": "stream",
     "text": [
      "The autoreload extension is already loaded. To reload it, use:\n",
      "  %reload_ext autoreload\n"
     ]
    }
   ],
   "source": [
    "%load_ext autoreload\n",
    "%autoreload 2"
   ],
   "metadata": {
    "collapsed": false,
    "ExecuteTime": {
     "end_time": "2024-05-10T14:17:54.759029266Z",
     "start_time": "2024-05-10T14:17:54.715369058Z"
    }
   }
  },
  {
   "cell_type": "code",
   "execution_count": 8,
   "outputs": [],
   "source": [
    "import os\n",
    "import sys\n",
    "\n",
    "# Получаем абсолютный путь к корневой директории проекта (директория выше текущей)\n",
    "root_path = os.path.abspath(os.path.join(os.getcwd(), '..'))\n",
    "\n",
    "# Добавляем корневую директорию в sys.path\n",
    "if root_path not in sys.path:\n",
    "    sys.path.append(root_path)"
   ],
   "metadata": {
    "collapsed": false,
    "ExecuteTime": {
     "end_time": "2024-05-10T14:17:54.777053327Z",
     "start_time": "2024-05-10T14:17:54.758914240Z"
    }
   }
  },
  {
   "cell_type": "code",
   "execution_count": 9,
   "outputs": [],
   "source": [
    "import torch\n",
    "from models.clap_encoder import CLAP_Encoder\n",
    "import faiss\n",
    "from faiss import write_index, read_index\n",
    "from constants.index_classes import class_checkpoint_combinations"
   ],
   "metadata": {
    "collapsed": false,
    "ExecuteTime": {
     "end_time": "2024-05-10T14:17:54.807537455Z",
     "start_time": "2024-05-10T14:17:54.777934449Z"
    }
   }
  },
  {
   "cell_type": "code",
   "execution_count": 10,
   "outputs": [],
   "source": [
    "CLAP_CKPT_PATH = '../checkpoint/music_speech_audioset_epoch_15_esc_89.98.pt'"
   ],
   "metadata": {
    "collapsed": false,
    "ExecuteTime": {
     "end_time": "2024-05-10T14:17:54.837460631Z",
     "start_time": "2024-05-10T14:17:54.808776769Z"
    }
   }
  },
  {
   "cell_type": "code",
   "execution_count": 11,
   "outputs": [
    {
     "name": "stderr",
     "output_type": "stream",
     "text": [
      "Some weights of the model checkpoint at roberta-base were not used when initializing RobertaModel: ['lm_head.dense.bias', 'lm_head.layer_norm.bias', 'lm_head.layer_norm.weight', 'lm_head.bias', 'lm_head.dense.weight']\n",
      "- This IS expected if you are initializing RobertaModel from the checkpoint of a model trained on another task or with another architecture (e.g. initializing a BertForSequenceClassification model from a BertForPreTraining model).\n",
      "- This IS NOT expected if you are initializing RobertaModel from the checkpoint of a model that you expect to be exactly identical (initializing a BertForSequenceClassification model from a BertForSequenceClassification model).\n",
      "Some weights of RobertaModel were not initialized from the model checkpoint at roberta-base and are newly initialized: ['roberta.pooler.dense.weight', 'roberta.pooler.dense.bias']\n",
      "You should probably TRAIN this model on a down-stream task to be able to use it for predictions and inference.\n"
     ]
    }
   ],
   "source": [
    "device = torch.device('cuda')\n",
    "query_encoder = CLAP_Encoder(pretrained_path = CLAP_CKPT_PATH).eval().to(device)"
   ],
   "metadata": {
    "collapsed": false,
    "ExecuteTime": {
     "end_time": "2024-05-10T14:17:56.979694476Z",
     "start_time": "2024-05-10T14:17:54.838334881Z"
    }
   }
  },
  {
   "cell_type": "code",
   "execution_count": 12,
   "outputs": [],
   "source": [
    "combined_classes = class_checkpoint_combinations\n",
    "# Генерируем эмбеддинги для всех классов\n",
    "all_classes = [cls for cls, _ in combined_classes]\n",
    "all_embeddings = query_encoder.get_query_embed(modality='text', text=all_classes).cpu()\n",
    "# Создаем индекс FAISS\n",
    "index = faiss.IndexHNSWFlat(512, 32)\n",
    "index.add(all_embeddings)"
   ],
   "metadata": {
    "collapsed": false,
    "ExecuteTime": {
     "end_time": "2024-05-10T14:17:58.058034398Z",
     "start_time": "2024-05-10T14:17:56.981011836Z"
    }
   }
  },
  {
   "cell_type": "markdown",
   "source": [
    "Проверяем что бд находит правильный вектор (ожидаем dog)"
   ],
   "metadata": {
    "collapsed": false
   }
  },
  {
   "cell_type": "code",
   "execution_count": 13,
   "outputs": [
    {
     "name": "stdout",
     "output_type": "stream",
     "text": [
      "meepo checkpoints/final/dota2/lora_embeddings/final.ckpt 0.214363\n"
     ]
    }
   ],
   "source": [
    "from separator import find_nearest_embedding\n",
    "\n",
    "query_embedding = query_encoder.get_query_embed(modality='text', text=['bark']).cpu()\n",
    "predicted_class, ckpt_path, distance = find_nearest_embedding(combined_classes, query_embedding, index, threshold=1.0)\n",
    "print(predicted_class, ckpt_path, distance)"
   ],
   "metadata": {
    "collapsed": false,
    "ExecuteTime": {
     "end_time": "2024-05-10T14:17:58.436282752Z",
     "start_time": "2024-05-10T14:17:58.058787100Z"
    }
   }
  },
  {
   "cell_type": "markdown",
   "source": [
    "Сохраняем индекс"
   ],
   "metadata": {
    "collapsed": false
   }
  },
  {
   "cell_type": "code",
   "execution_count": 14,
   "outputs": [],
   "source": [
    "index_path = \"combined.idx\"\n",
    "write_index(index, index_path)"
   ],
   "metadata": {
    "collapsed": false,
    "ExecuteTime": {
     "end_time": "2024-05-10T14:17:58.471948397Z",
     "start_time": "2024-05-10T14:17:58.437629368Z"
    }
   }
  },
  {
   "cell_type": "markdown",
   "source": [
    "Проверяем что он работает"
   ],
   "metadata": {
    "collapsed": false
   }
  },
  {
   "cell_type": "code",
   "execution_count": 15,
   "outputs": [
    {
     "name": "stdout",
     "output_type": "stream",
     "text": [
      "meepo checkpoints/final/dota2/lora_embeddings/final.ckpt 0.214363\n"
     ]
    }
   ],
   "source": [
    "index_from_disk = read_index(index_path)\n",
    "query_embedding = query_encoder.get_query_embed(modality='text', text=['bark']).cpu()\n",
    "predicted_class, ckpt_path, distance = find_nearest_embedding(combined_classes, query_embedding, index_from_disk, threshold=1.0)\n",
    "print(predicted_class, ckpt_path, distance)"
   ],
   "metadata": {
    "collapsed": false,
    "ExecuteTime": {
     "end_time": "2024-05-10T14:17:58.523392292Z",
     "start_time": "2024-05-10T14:17:58.474014332Z"
    }
   }
  }
 ],
 "metadata": {
  "kernelspec": {
   "display_name": "Python 3",
   "language": "python",
   "name": "python3"
  },
  "language_info": {
   "codemirror_mode": {
    "name": "ipython",
    "version": 2
   },
   "file_extension": ".py",
   "mimetype": "text/x-python",
   "name": "python",
   "nbconvert_exporter": "python",
   "pygments_lexer": "ipython2",
   "version": "2.7.6"
  }
 },
 "nbformat": 4,
 "nbformat_minor": 0
}
