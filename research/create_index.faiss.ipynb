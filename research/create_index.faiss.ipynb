{
 "cells": [
  {
   "cell_type": "markdown",
   "source": [
    "## Создание индекса FAISS для бота"
   ],
   "metadata": {
    "collapsed": false
   }
  },
  {
   "cell_type": "code",
   "execution_count": 1,
   "outputs": [],
   "source": [
    "%load_ext autoreload\n",
    "%autoreload 2"
   ],
   "metadata": {
    "collapsed": false,
    "ExecuteTime": {
     "end_time": "2024-05-05T22:25:31.543507361Z",
     "start_time": "2024-05-05T22:25:31.496387542Z"
    }
   }
  },
  {
   "cell_type": "code",
   "execution_count": 2,
   "outputs": [],
   "source": [
    "import os\n",
    "import sys\n",
    "\n",
    "# Получаем абсолютный путь к корневой директории проекта (директория выше текущей)\n",
    "root_path = os.path.abspath(os.path.join(os.getcwd(), '..'))\n",
    "\n",
    "# Добавляем корневую директорию в sys.path\n",
    "if root_path not in sys.path:\n",
    "    sys.path.append(root_path)"
   ],
   "metadata": {
    "collapsed": false,
    "ExecuteTime": {
     "end_time": "2024-05-05T22:25:31.543593335Z",
     "start_time": "2024-05-05T22:25:31.496448848Z"
    }
   }
  },
  {
   "cell_type": "code",
   "execution_count": 3,
   "outputs": [
    {
     "name": "stderr",
     "output_type": "stream",
     "text": [
      "2024-05-06 01:25:32.427668: E external/local_xla/xla/stream_executor/cuda/cuda_dnn.cc:9261] Unable to register cuDNN factory: Attempting to register factory for plugin cuDNN when one has already been registered\n",
      "2024-05-06 01:25:32.427693: E external/local_xla/xla/stream_executor/cuda/cuda_fft.cc:607] Unable to register cuFFT factory: Attempting to register factory for plugin cuFFT when one has already been registered\n",
      "2024-05-06 01:25:32.428406: E external/local_xla/xla/stream_executor/cuda/cuda_blas.cc:1515] Unable to register cuBLAS factory: Attempting to register factory for plugin cuBLAS when one has already been registered\n",
      "2024-05-06 01:25:32.432702: I tensorflow/core/platform/cpu_feature_guard.cc:182] This TensorFlow binary is optimized to use available CPU instructions in performance-critical operations.\n",
      "To enable the following instructions: AVX2 FMA, in other operations, rebuild TensorFlow with the appropriate compiler flags.\n",
      "2024-05-06 01:25:32.977987: W tensorflow/compiler/tf2tensorrt/utils/py_utils.cc:38] TF-TRT Warning: Could not find TensorRT\n"
     ]
    }
   ],
   "source": [
    "import torch\n",
    "from models.clap_encoder import CLAP_Encoder\n",
    "import faiss\n",
    "from faiss import write_index, read_index\n",
    "from constants.index_classes import class_checkpoint_combinations"
   ],
   "metadata": {
    "collapsed": false,
    "ExecuteTime": {
     "end_time": "2024-05-05T22:25:35.756378822Z",
     "start_time": "2024-05-05T22:25:31.496480058Z"
    }
   }
  },
  {
   "cell_type": "code",
   "execution_count": 4,
   "outputs": [],
   "source": [
    "CLAP_CKPT_PATH = '../checkpoint/music_speech_audioset_epoch_15_esc_89.98.pt'"
   ],
   "metadata": {
    "collapsed": false,
    "ExecuteTime": {
     "end_time": "2024-05-05T22:25:35.787523620Z",
     "start_time": "2024-05-05T22:25:35.758180182Z"
    }
   }
  },
  {
   "cell_type": "code",
   "execution_count": 5,
   "outputs": [
    {
     "name": "stderr",
     "output_type": "stream",
     "text": [
      "/home/araxal/anaconda3/envs/AudioSep/lib/python3.10/site-packages/torch/functional.py:507: UserWarning: torch.meshgrid: in an upcoming release, it will be required to pass the indexing argument. (Triggered internally at ../aten/src/ATen/native/TensorShape.cpp:3549.)\n",
      "  return _VF.meshgrid(tensors, **kwargs)  # type: ignore[attr-defined]\n",
      "Some weights of the model checkpoint at roberta-base were not used when initializing RobertaModel: ['lm_head.layer_norm.bias', 'lm_head.layer_norm.weight', 'lm_head.dense.bias', 'lm_head.bias', 'lm_head.dense.weight']\n",
      "- This IS expected if you are initializing RobertaModel from the checkpoint of a model trained on another task or with another architecture (e.g. initializing a BertForSequenceClassification model from a BertForPreTraining model).\n",
      "- This IS NOT expected if you are initializing RobertaModel from the checkpoint of a model that you expect to be exactly identical (initializing a BertForSequenceClassification model from a BertForSequenceClassification model).\n",
      "Some weights of RobertaModel were not initialized from the model checkpoint at roberta-base and are newly initialized: ['roberta.pooler.dense.bias', 'roberta.pooler.dense.weight']\n",
      "You should probably TRAIN this model on a down-stream task to be able to use it for predictions and inference.\n"
     ]
    }
   ],
   "source": [
    "device = torch.device('cuda')\n",
    "query_encoder = CLAP_Encoder(pretrained_path = CLAP_CKPT_PATH).eval().to(device)"
   ],
   "metadata": {
    "collapsed": false,
    "ExecuteTime": {
     "end_time": "2024-05-05T22:25:38.489719332Z",
     "start_time": "2024-05-05T22:25:35.788740016Z"
    }
   }
  },
  {
   "cell_type": "code",
   "execution_count": 6,
   "outputs": [],
   "source": [
    "combined_classes = class_checkpoint_combinations\n",
    "# Генерируем эмбеддинги для всех классов\n",
    "all_classes = [cls for cls, _ in combined_classes]\n",
    "all_embeddings = query_encoder.get_query_embed(modality='text', text=all_classes).cpu()\n",
    "# Создаем индекс FAISS\n",
    "index = faiss.IndexHNSWFlat(512, 32)\n",
    "index.add(all_embeddings)"
   ],
   "metadata": {
    "collapsed": false,
    "ExecuteTime": {
     "end_time": "2024-05-05T22:25:39.514951395Z",
     "start_time": "2024-05-05T22:25:38.491247932Z"
    }
   }
  },
  {
   "cell_type": "markdown",
   "source": [
    "Проверяем что бд находит правильный вектор (ожидаем dog)"
   ],
   "metadata": {
    "collapsed": false
   }
  },
  {
   "cell_type": "code",
   "execution_count": 7,
   "outputs": [
    {
     "name": "stdout",
     "output_type": "stream",
     "text": [
      "meepo checkpoints/final/dota2/lora_embeddings/final.ckpt 0.214363\n"
     ]
    }
   ],
   "source": [
    "from separator import find_nearest_embedding\n",
    "\n",
    "query_embedding = query_encoder.get_query_embed(modality='text', text=['bark']).cpu()\n",
    "predicted_class, ckpt_path, distance = find_nearest_embedding(combined_classes, query_embedding, index, threshold=1.0)\n",
    "print(predicted_class, ckpt_path, distance)"
   ],
   "metadata": {
    "collapsed": false,
    "ExecuteTime": {
     "end_time": "2024-05-05T22:25:40.060065812Z",
     "start_time": "2024-05-05T22:25:39.515690161Z"
    }
   }
  },
  {
   "cell_type": "markdown",
   "source": [
    "Сохраняем индекс"
   ],
   "metadata": {
    "collapsed": false
   }
  },
  {
   "cell_type": "code",
   "execution_count": 8,
   "outputs": [],
   "source": [
    "index_path = \"combined.idx\"\n",
    "write_index(index, index_path)"
   ],
   "metadata": {
    "collapsed": false,
    "ExecuteTime": {
     "end_time": "2024-05-05T22:25:40.103948356Z",
     "start_time": "2024-05-05T22:25:40.071660001Z"
    }
   }
  },
  {
   "cell_type": "markdown",
   "source": [
    "Проверяем что он работает"
   ],
   "metadata": {
    "collapsed": false
   }
  },
  {
   "cell_type": "code",
   "execution_count": 9,
   "outputs": [
    {
     "name": "stdout",
     "output_type": "stream",
     "text": [
      "meepo checkpoints/final/dota2/lora_embeddings/final.ckpt 0.214363\n"
     ]
    }
   ],
   "source": [
    "index_from_disk = read_index(index_path)\n",
    "query_embedding = query_encoder.get_query_embed(modality='text', text=['bark']).cpu()\n",
    "predicted_class, ckpt_path, distance = find_nearest_embedding(combined_classes, query_embedding, index_from_disk, threshold=1.0)\n",
    "print(predicted_class, ckpt_path, distance)"
   ],
   "metadata": {
    "collapsed": false,
    "ExecuteTime": {
     "end_time": "2024-05-05T22:25:40.153637267Z",
     "start_time": "2024-05-05T22:25:40.105298628Z"
    }
   }
  }
 ],
 "metadata": {
  "kernelspec": {
   "display_name": "Python 3",
   "language": "python",
   "name": "python3"
  },
  "language_info": {
   "codemirror_mode": {
    "name": "ipython",
    "version": 2
   },
   "file_extension": ".py",
   "mimetype": "text/x-python",
   "name": "python",
   "nbconvert_exporter": "python",
   "pygments_lexer": "ipython2",
   "version": "2.7.6"
  }
 },
 "nbformat": 4,
 "nbformat_minor": 0
}
