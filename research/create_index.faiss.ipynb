{
 "cells": [
  {
   "cell_type": "markdown",
   "source": [
    "## Создание индекса FAISS для бота"
   ],
   "metadata": {
    "collapsed": false
   }
  },
  {
   "cell_type": "code",
   "execution_count": 1,
   "outputs": [],
   "source": [
    "%load_ext autoreload\n",
    "%autoreload 2"
   ],
   "metadata": {
    "collapsed": false,
    "ExecuteTime": {
     "end_time": "2024-04-14T22:27:48.271677955Z",
     "start_time": "2024-04-14T22:27:48.271457094Z"
    }
   }
  },
  {
   "cell_type": "code",
   "execution_count": 2,
   "outputs": [],
   "source": [
    "import os\n",
    "import sys\n",
    "\n",
    "# Получаем абсолютный путь к корневой директории проекта (директория выше текущей)\n",
    "root_path = os.path.abspath(os.path.join(os.getcwd(), '..'))\n",
    "\n",
    "# Добавляем корневую директорию в sys.path\n",
    "if root_path not in sys.path:\n",
    "    sys.path.append(root_path)"
   ],
   "metadata": {
    "collapsed": false,
    "ExecuteTime": {
     "end_time": "2024-04-14T22:27:48.272527993Z",
     "start_time": "2024-04-14T22:27:48.271861885Z"
    }
   }
  },
  {
   "cell_type": "code",
   "execution_count": 3,
   "outputs": [
    {
     "name": "stderr",
     "output_type": "stream",
     "text": [
      "2024-04-15 01:27:49.735569: E external/local_xla/xla/stream_executor/cuda/cuda_dnn.cc:9261] Unable to register cuDNN factory: Attempting to register factory for plugin cuDNN when one has already been registered\n",
      "2024-04-15 01:27:49.735600: E external/local_xla/xla/stream_executor/cuda/cuda_fft.cc:607] Unable to register cuFFT factory: Attempting to register factory for plugin cuFFT when one has already been registered\n",
      "2024-04-15 01:27:49.736591: E external/local_xla/xla/stream_executor/cuda/cuda_blas.cc:1515] Unable to register cuBLAS factory: Attempting to register factory for plugin cuBLAS when one has already been registered\n",
      "2024-04-15 01:27:49.741078: I tensorflow/core/platform/cpu_feature_guard.cc:182] This TensorFlow binary is optimized to use available CPU instructions in performance-critical operations.\n",
      "To enable the following instructions: AVX2 FMA, in other operations, rebuild TensorFlow with the appropriate compiler flags.\n",
      "2024-04-15 01:27:50.219912: W tensorflow/compiler/tf2tensorrt/utils/py_utils.cc:38] TF-TRT Warning: Could not find TensorRT\n",
      "2024-04-15 01:27:53,004 - INFO - Loading faiss with AVX2 support.\n",
      "2024-04-15 01:27:53,013 - INFO - Successfully loaded faiss with AVX2 support.\n"
     ]
    }
   ],
   "source": [
    "import torch\n",
    "from utils import parse_yaml\n",
    "from models.clap_encoder import CLAP_Encoder\n",
    "import faiss\n",
    "from faiss import write_index, read_index\n",
    "from utils import find_nearest_embedding"
   ],
   "metadata": {
    "collapsed": false,
    "ExecuteTime": {
     "end_time": "2024-04-14T22:27:53.049191260Z",
     "start_time": "2024-04-14T22:27:48.271946436Z"
    }
   }
  },
  {
   "cell_type": "code",
   "execution_count": 4,
   "outputs": [],
   "source": [
    "SS_CONFIG_PATH = '../config/audiosep_base.yaml'\n",
    "CLAP_CKPT_PATH = '../checkpoint/music_speech_audioset_epoch_15_esc_89.98.pt'"
   ],
   "metadata": {
    "collapsed": false,
    "ExecuteTime": {
     "end_time": "2024-04-14T22:27:53.087106363Z",
     "start_time": "2024-04-14T22:27:53.045564497Z"
    }
   }
  },
  {
   "cell_type": "code",
   "execution_count": 5,
   "outputs": [
    {
     "name": "stderr",
     "output_type": "stream",
     "text": [
      "2024-04-15 01:27:53,304 - INFO - Loading HTSAT-base model config.\n",
      "Some weights of the model checkpoint at roberta-base were not used when initializing RobertaModel: ['lm_head.dense.bias', 'lm_head.dense.weight', 'lm_head.layer_norm.bias', 'lm_head.layer_norm.weight', 'lm_head.bias']\n",
      "- This IS expected if you are initializing RobertaModel from the checkpoint of a model trained on another task or with another architecture (e.g. initializing a BertForSequenceClassification model from a BertForPreTraining model).\n",
      "- This IS NOT expected if you are initializing RobertaModel from the checkpoint of a model that you expect to be exactly identical (initializing a BertForSequenceClassification model from a BertForSequenceClassification model).\n",
      "Some weights of RobertaModel were not initialized from the model checkpoint at roberta-base and are newly initialized: ['roberta.pooler.dense.bias', 'roberta.pooler.dense.weight']\n",
      "You should probably TRAIN this model on a down-stream task to be able to use it for predictions and inference.\n",
      "2024-04-15 01:27:55,294 - INFO - Loading pretrained HTSAT-base-roberta weights (../checkpoint/music_speech_audioset_epoch_15_esc_89.98.pt).\n"
     ]
    }
   ],
   "source": [
    "device = torch.device('cuda')\n",
    "configs = parse_yaml(SS_CONFIG_PATH)\n",
    "\n",
    "query_encoder = CLAP_Encoder(pretrained_path = CLAP_CKPT_PATH).eval().to(device)"
   ],
   "metadata": {
    "collapsed": false,
    "ExecuteTime": {
     "end_time": "2024-04-14T22:27:56.114017289Z",
     "start_time": "2024-04-14T22:27:53.076815377Z"
    }
   }
  },
  {
   "cell_type": "code",
   "execution_count": 6,
   "outputs": [],
   "source": [
    "desed_classes = ['vacuum cleaner',\n",
    "                 'frying',\n",
    "                 'dishes',\n",
    "                 'blender',\n",
    "                 'speech',\n",
    "                 'dog',\n",
    "                 'alarm bell ringing',\n",
    "                 'running water',\n",
    "                 'electric shaver toothbrush',\n",
    "                 'cat']\n",
    "\n",
    "desed_ckpt_path = 'desed.ckpt'\n",
    "\n",
    "musdb_classes = ['drums', 'bass', 'vocal']\n",
    "musdb_ckpt_path = 'musdb.ckpt'\n",
    "\n",
    "# Объединяем классы и пути в один список с таплами (класс, путь)\n",
    "combined_classes = [(cls, desed_ckpt_path) for cls in desed_classes] + \\\n",
    "                   [(cls, musdb_ckpt_path) for cls in musdb_classes]\n",
    "\n",
    "# Генерируем эмбеддинги для всех классов\n",
    "all_classes = [cls for cls, _ in combined_classes]\n",
    "all_embeddings = query_encoder.get_query_embed(modality='text', text=all_classes).cpu()\n",
    "\n",
    "# Создаем индекс FAISS\n",
    "index = faiss.IndexHNSWFlat(512, 32)\n",
    "index.add(all_embeddings)"
   ],
   "metadata": {
    "collapsed": false,
    "ExecuteTime": {
     "end_time": "2024-04-14T22:27:56.299884939Z",
     "start_time": "2024-04-14T22:27:56.115124576Z"
    }
   }
  },
  {
   "cell_type": "code",
   "execution_count": 7,
   "outputs": [
    {
     "name": "stdout",
     "output_type": "stream",
     "text": [
      "dog desed.ckpt 0.23877218\n"
     ]
    }
   ],
   "source": [
    "query_embedding = query_encoder.get_query_embed(modality='text', text=['bark']).cpu()\n",
    "predicted_class, ckpt_path, distance = find_nearest_embedding(combined_classes, query_embedding, index, threshold=1.0)\n",
    "print(predicted_class, ckpt_path, distance)"
   ],
   "metadata": {
    "collapsed": false,
    "ExecuteTime": {
     "end_time": "2024-04-14T22:27:56.353665268Z",
     "start_time": "2024-04-14T22:27:56.300630898Z"
    }
   }
  },
  {
   "cell_type": "code",
   "execution_count": 8,
   "outputs": [
    {
     "name": "stdout",
     "output_type": "stream",
     "text": [
      "dog desed.ckpt 0.23877218\n"
     ]
    }
   ],
   "source": [
    "index_path = \"musdb_desed.idx\"\n",
    "write_index(index, index_path)\n",
    "index_from_disk = read_index(index_path)\n",
    "query_embedding = query_encoder.get_query_embed(modality='text', text=['bark']).cpu()\n",
    "predicted_class, ckpt_path, distance = find_nearest_embedding(combined_classes, query_embedding, index_from_disk, threshold=1.0)\n",
    "print(predicted_class, ckpt_path, distance)"
   ],
   "metadata": {
    "collapsed": false,
    "ExecuteTime": {
     "end_time": "2024-04-14T22:27:56.407852241Z",
     "start_time": "2024-04-14T22:27:56.354687814Z"
    }
   }
  },
  {
   "cell_type": "code",
   "execution_count": 8,
   "outputs": [],
   "source": [],
   "metadata": {
    "collapsed": false,
    "ExecuteTime": {
     "end_time": "2024-04-14T22:27:56.409618794Z",
     "start_time": "2024-04-14T22:27:56.408343476Z"
    }
   }
  }
 ],
 "metadata": {
  "kernelspec": {
   "display_name": "Python 3",
   "language": "python",
   "name": "python3"
  },
  "language_info": {
   "codemirror_mode": {
    "name": "ipython",
    "version": 2
   },
   "file_extension": ".py",
   "mimetype": "text/x-python",
   "name": "python",
   "nbconvert_exporter": "python",
   "pygments_lexer": "ipython2",
   "version": "2.7.6"
  }
 },
 "nbformat": 4,
 "nbformat_minor": 0
}
