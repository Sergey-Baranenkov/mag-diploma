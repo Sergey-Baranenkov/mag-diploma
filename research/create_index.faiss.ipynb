{
 "cells": [
  {
   "cell_type": "markdown",
   "source": [
    "## Создание индекса FAISS для бота"
   ],
   "metadata": {
    "collapsed": false
   }
  },
  {
   "cell_type": "code",
   "execution_count": 1,
   "outputs": [],
   "source": [
    "%load_ext autoreload\n",
    "%autoreload 2"
   ],
   "metadata": {
    "collapsed": false,
    "ExecuteTime": {
     "end_time": "2024-04-14T21:52:30.761647653Z",
     "start_time": "2024-04-14T21:52:30.759363793Z"
    }
   }
  },
  {
   "cell_type": "code",
   "execution_count": 2,
   "outputs": [],
   "source": [
    "import os\n",
    "import sys\n",
    "\n",
    "# Получаем абсолютный путь к корневой директории проекта (директория выше текущей)\n",
    "root_path = os.path.abspath(os.path.join(os.getcwd(), '..'))\n",
    "\n",
    "# Добавляем корневую директорию в sys.path\n",
    "if root_path not in sys.path:\n",
    "    sys.path.append(root_path)"
   ],
   "metadata": {
    "collapsed": false,
    "ExecuteTime": {
     "end_time": "2024-04-14T21:52:30.762290615Z",
     "start_time": "2024-04-14T21:52:30.761006284Z"
    }
   }
  },
  {
   "cell_type": "code",
   "execution_count": 3,
   "outputs": [
    {
     "name": "stderr",
     "output_type": "stream",
     "text": [
      "2024-04-15 00:52:33.080623: E external/local_xla/xla/stream_executor/cuda/cuda_dnn.cc:9261] Unable to register cuDNN factory: Attempting to register factory for plugin cuDNN when one has already been registered\n",
      "2024-04-15 00:52:33.080688: E external/local_xla/xla/stream_executor/cuda/cuda_fft.cc:607] Unable to register cuFFT factory: Attempting to register factory for plugin cuFFT when one has already been registered\n",
      "2024-04-15 00:52:33.101529: E external/local_xla/xla/stream_executor/cuda/cuda_blas.cc:1515] Unable to register cuBLAS factory: Attempting to register factory for plugin cuBLAS when one has already been registered\n",
      "2024-04-15 00:52:33.142037: I tensorflow/core/platform/cpu_feature_guard.cc:182] This TensorFlow binary is optimized to use available CPU instructions in performance-critical operations.\n",
      "To enable the following instructions: AVX2 FMA, in other operations, rebuild TensorFlow with the appropriate compiler flags.\n",
      "2024-04-15 00:52:33.817733: W tensorflow/compiler/tf2tensorrt/utils/py_utils.cc:38] TF-TRT Warning: Could not find TensorRT\n",
      "2024-04-15 00:52:37,116 - INFO - Loading faiss with AVX2 support.\n",
      "2024-04-15 00:52:37,128 - INFO - Successfully loaded faiss with AVX2 support.\n"
     ]
    }
   ],
   "source": [
    "import torch\n",
    "from utils import parse_yaml\n",
    "from models.clap_encoder import CLAP_Encoder\n",
    "import faiss\n",
    "import numpy as np"
   ],
   "metadata": {
    "collapsed": false,
    "ExecuteTime": {
     "end_time": "2024-04-14T21:52:37.163260162Z",
     "start_time": "2024-04-14T21:52:31.065191037Z"
    }
   }
  },
  {
   "cell_type": "code",
   "execution_count": 11,
   "outputs": [],
   "source": [
    "SS_CONFIG_PATH = '../config/audiosep_base.yaml'\n",
    "CLAP_CKPT_PATH = '../checkpoint/music_speech_audioset_epoch_15_esc_89.98.pt'"
   ],
   "metadata": {
    "collapsed": false,
    "ExecuteTime": {
     "end_time": "2024-04-14T21:56:32.795288538Z",
     "start_time": "2024-04-14T21:56:32.749883620Z"
    }
   }
  },
  {
   "cell_type": "code",
   "execution_count": 12,
   "outputs": [
    {
     "name": "stderr",
     "output_type": "stream",
     "text": [
      "2024-04-15 00:56:33,386 - INFO - Loading HTSAT-base model config.\n",
      "Some weights of the model checkpoint at roberta-base were not used when initializing RobertaModel: ['lm_head.layer_norm.weight', 'lm_head.dense.bias', 'lm_head.bias', 'lm_head.dense.weight', 'lm_head.layer_norm.bias']\n",
      "- This IS expected if you are initializing RobertaModel from the checkpoint of a model trained on another task or with another architecture (e.g. initializing a BertForSequenceClassification model from a BertForPreTraining model).\n",
      "- This IS NOT expected if you are initializing RobertaModel from the checkpoint of a model that you expect to be exactly identical (initializing a BertForSequenceClassification model from a BertForSequenceClassification model).\n",
      "Some weights of RobertaModel were not initialized from the model checkpoint at roberta-base and are newly initialized: ['roberta.pooler.dense.weight', 'roberta.pooler.dense.bias']\n",
      "You should probably TRAIN this model on a down-stream task to be able to use it for predictions and inference.\n",
      "2024-04-15 00:56:38,822 - INFO - Loading pretrained HTSAT-base-roberta weights (../checkpoint/music_speech_audioset_epoch_15_esc_89.98.pt).\n"
     ]
    }
   ],
   "source": [
    "device = torch.device('cuda')\n",
    "configs = parse_yaml(SS_CONFIG_PATH)\n",
    "\n",
    "query_encoder = CLAP_Encoder(pretrained_path = CLAP_CKPT_PATH).eval().to(device)"
   ],
   "metadata": {
    "collapsed": false,
    "ExecuteTime": {
     "end_time": "2024-04-14T21:56:40.624552180Z",
     "start_time": "2024-04-14T21:56:33.142776882Z"
    }
   }
  },
  {
   "cell_type": "code",
   "execution_count": 13,
   "outputs": [],
   "source": [
    "desed_classes = ['vacuum cleaner',\n",
    "                 'frying',\n",
    "                 'dishes',\n",
    "                 'blender',\n",
    "                 'speech',\n",
    "                 'dog',\n",
    "                 'alarm bell ringing',\n",
    "                 'running water',\n",
    "                 'electric shaver toothbrush',\n",
    "                 'cat']\n",
    "\n",
    "desed_ckpt_path = 'desed'\n",
    "\n",
    "musdb_classes = ['drums', 'bass', 'vocal']\n",
    "musdb_ckpt_path = 'musdb'"
   ],
   "metadata": {
    "collapsed": false,
    "ExecuteTime": {
     "end_time": "2024-04-14T21:56:40.660068043Z",
     "start_time": "2024-04-14T21:56:40.626025854Z"
    }
   }
  },
  {
   "cell_type": "code",
   "execution_count": null,
   "outputs": [],
   "source": [
    "merged_embeddings = {\n",
    "    key: desed_ckpt_path for key in desed_classes,\n",
    "    key: musdb_ckpt_path for key in musdb_classes,\n",
    "}"
   ],
   "metadata": {
    "collapsed": false
   }
  },
  {
   "cell_type": "code",
   "execution_count": 14,
   "outputs": [],
   "source": [
    "desed_classes_embeddings = query_encoder.get_query_embed(modality='text', text=desed_classes).cpu()\n",
    "musdb_classes_embeddings = query_encoder.get_query_embed(modality='text', text=musdb_classes).cpu()"
   ],
   "metadata": {
    "collapsed": false,
    "ExecuteTime": {
     "end_time": "2024-04-14T21:56:40.885481433Z",
     "start_time": "2024-04-14T21:56:40.661556095Z"
    }
   }
  },
  {
   "cell_type": "code",
   "execution_count": 15,
   "outputs": [
    {
     "ename": "TypeError",
     "evalue": "handle_Index.<locals>.replacement_add() takes 2 positional arguments but 3 were given",
     "output_type": "error",
     "traceback": [
      "\u001B[0;31m---------------------------------------------------------------------------\u001B[0m",
      "\u001B[0;31mTypeError\u001B[0m                                 Traceback (most recent call last)",
      "Cell \u001B[0;32mIn[15], line 2\u001B[0m\n\u001B[1;32m      1\u001B[0m index \u001B[38;5;241m=\u001B[39m faiss\u001B[38;5;241m.\u001B[39mIndexHNSWFlat(\u001B[38;5;241m512\u001B[39m, \u001B[38;5;241m32\u001B[39m)\n\u001B[0;32m----> 2\u001B[0m \u001B[43mindex\u001B[49m\u001B[38;5;241;43m.\u001B[39;49m\u001B[43madd\u001B[49m\u001B[43m(\u001B[49m\u001B[43mdesed_classes_embeddings\u001B[49m\u001B[43m,\u001B[49m\u001B[43m \u001B[49m\u001B[43mdesed_ckpt_path\u001B[49m\u001B[43m)\u001B[49m\n\u001B[1;32m      3\u001B[0m index\u001B[38;5;241m.\u001B[39madd(musdb_classes_embeddings, musdb_ckpt_path)\n\u001B[1;32m      4\u001B[0m distances, indices \u001B[38;5;241m=\u001B[39m index\u001B[38;5;241m.\u001B[39msearch(desed_classes_embeddings, k \u001B[38;5;241m=\u001B[39m \u001B[38;5;28mlen\u001B[39m(desed_classes_embeddings))\n",
      "\u001B[0;31mTypeError\u001B[0m: handle_Index.<locals>.replacement_add() takes 2 positional arguments but 3 were given"
     ]
    }
   ],
   "source": [
    "index = faiss.IndexHNSWFlat(512, 32)\n",
    "index.add(desed_classes_embeddings, desed_ckpt_path)\n",
    "index.add(musdb_classes_embeddings, musdb_ckpt_path)\n",
    "distances, indices = index.search(desed_classes_embeddings, k = len(desed_classes_embeddings))"
   ],
   "metadata": {
    "collapsed": false,
    "ExecuteTime": {
     "end_time": "2024-04-14T21:58:06.778883003Z",
     "start_time": "2024-04-14T21:58:06.706173506Z"
    }
   }
  },
  {
   "cell_type": "code",
   "execution_count": 81,
   "outputs": [
    {
     "data": {
      "text/plain": "array([[1.0701145 , 1.3757946 , 1.4211205 , 1.4345753 , 1.5783528 ,\n        1.6412584 ],\n       [1.1907144 , 1.3707284 , 1.3740044 , 1.4348282 , 1.8569329 ,\n        1.8919489 ],\n       [0.5037271 , 0.9429968 , 0.98835295, 1.4366088 , 1.5765313 ,\n        1.9686406 ],\n       [0.9751475 , 0.9951929 , 1.2816312 , 1.4155016 , 1.5595326 ,\n        1.8042557 ],\n       [1.0844126 , 1.0952895 , 1.2217162 , 1.3817437 , 1.5443419 ,\n        1.5597425 ]], dtype=float32)"
     },
     "execution_count": 81,
     "metadata": {},
     "output_type": "execute_result"
    }
   ],
   "source": [
    "distances"
   ],
   "metadata": {
    "collapsed": false,
    "ExecuteTime": {
     "end_time": "2024-04-09T18:00:53.901248771Z",
     "start_time": "2024-04-09T18:00:53.866963752Z"
    }
   }
  },
  {
   "cell_type": "code",
   "execution_count": 82,
   "outputs": [
    {
     "data": {
      "text/plain": "array([[1, 0, 2, 4, 3, 5],\n       [2, 0, 3, 1, 5, 4],\n       [0, 1, 3, 2, 5, 4],\n       [3, 0, 1, 2, 4, 5],\n       [1, 3, 0, 2, 5, 4]])"
     },
     "execution_count": 82,
     "metadata": {},
     "output_type": "execute_result"
    }
   ],
   "source": [
    "indices"
   ],
   "metadata": {
    "collapsed": false,
    "ExecuteTime": {
     "end_time": "2024-04-09T18:00:54.067816785Z",
     "start_time": "2024-04-09T18:00:54.066335541Z"
    }
   }
  },
  {
   "cell_type": "code",
   "execution_count": 100,
   "outputs": [
    {
     "name": "stdout",
     "output_type": "stream",
     "text": [
      "Class kick, nearest classes: ['drums__1.07', 'vocal__1.38', 'guitar__1.42', 'roar__1.43', 'hippopotamus__1.58', 'blender__1.64'], difference between top 1 and top2: 0.30568015575408936 difference between top 1 and last: 0.5711438655853271\n",
      "Class ukulele, nearest classes: ['guitar__1.19', 'vocal__1.37', 'hippopotamus__1.37', 'drums__1.43', 'blender__1.86', 'roar__1.89'], difference between top 1 and top2: 0.1800140142440796 difference between top 1 and last: 0.7012345790863037\n",
      "Class singing, nearest classes: ['vocal__0.50', 'drums__0.94', 'hippopotamus__0.99', 'guitar__1.44', 'blender__1.58', 'roar__1.97'], difference between top 1 and top2: 0.4392697215080261 difference between top 1 and last: 1.4649134874343872\n",
      "Class howl, nearest classes: ['hippopotamus__0.98', 'vocal__1.00', 'drums__1.28', 'guitar__1.42', 'roar__1.56', 'blender__1.80'], difference between top 1 and top2: 0.02004539966583252 difference between top 1 and last: 0.8291082382202148\n",
      "Class scream, nearest classes: ['drums__1.08', 'hippopotamus__1.10', 'vocal__1.22', 'guitar__1.38', 'blender__1.54', 'roar__1.56'], difference between top 1 and top2: 0.010876893997192383 difference between top 1 and last: 0.4753298759460449\n"
     ]
    }
   ],
   "source": [
    "for i, query_class in enumerate(query_classes):\n",
    "    k_nearest_indices = indices[i]\n",
    "    k_nearest_distances = distances[i]\n",
    "    class_distance_tuples = [\n",
    "        (saved_classes[class_index], distance) for class_index, distance in zip(k_nearest_indices, k_nearest_distances)]\n",
    "\n",
    "    k_nearest_names = [f'{cls}__{dist:.2f}' for (cls, dist) in class_distance_tuples]\n",
    "    difference_between_top2 = class_distance_tuples[1][1] - class_distance_tuples[0][1]\n",
    "    difference_between_last = class_distance_tuples[len(k_nearest_distances) - 1][1] - class_distance_tuples[0][1]\n",
    "\n",
    "    print(f'Class {query_class}, '\n",
    "          f'nearest classes: {k_nearest_names}, '\n",
    "          f'difference between top 1 and top2: {difference_between_top2} '\n",
    "          f'difference between top 1 and last: {difference_between_last}')"
   ],
   "metadata": {
    "collapsed": false,
    "ExecuteTime": {
     "end_time": "2024-04-09T18:28:55.188882972Z",
     "start_time": "2024-04-09T18:28:55.148197579Z"
    }
   }
  },
  {
   "cell_type": "code",
   "execution_count": 95,
   "outputs": [
    {
     "data": {
      "text/plain": "tensor(1.0000)"
     },
     "execution_count": 95,
     "metadata": {},
     "output_type": "execute_result"
    }
   ],
   "source": [
    "np.square(embeddings_to_save[0]).sum()"
   ],
   "metadata": {
    "collapsed": false,
    "ExecuteTime": {
     "end_time": "2024-04-09T18:14:04.197201275Z",
     "start_time": "2024-04-09T18:14:04.150059079Z"
    }
   }
  },
  {
   "cell_type": "markdown",
   "source": [
    "Вектора нормализованы, по неравенству треугольника максимальное расстояние между векторами = 2"
   ],
   "metadata": {
    "collapsed": false
   }
  },
  {
   "cell_type": "markdown",
   "source": [
    "Видно, что энкодер правильно нашел ближайший класс для классов kick, ukulele и singing.\n",
    "\n",
    "Однако для классов howl и scream энкодер не нашел класс roar, являющийся очевидным синонимом. Возможно такого класса не было в словаре у энкодера.\n",
    "\n",
    "Также отметим, что для каждого класса из запроса имелся только один правильный класс, сохраненный в базе данных, однако разница между топ 1 и топ 2 классами для неправильно определенных классов и для класса vocal оказалась незначительной, что может говорить о несовершенстве энкодера.\n",
    "\n",
    "Также для самого близкого класса singing ближайший класс vocal лежит на расстоянии 0.5 (L2 norm). Это намного ближе относительно второго места, однако если посмотреть на первые места сложно определить правильный threshold (когда использовать адаптер, а когда базовую модель) для синонимичных классов.\n",
    "\n",
    "Однако исходя из того, что CLAP является SOTA решением для определения близости captions в контексте звука, решено использовать в качестве эмбеддера именно его."
   ],
   "metadata": {
    "collapsed": false
   }
  },
  {
   "cell_type": "code",
   "execution_count": null,
   "outputs": [],
   "source": [],
   "metadata": {
    "collapsed": false
   }
  }
 ],
 "metadata": {
  "kernelspec": {
   "display_name": "Python 3",
   "language": "python",
   "name": "python3"
  },
  "language_info": {
   "codemirror_mode": {
    "name": "ipython",
    "version": 2
   },
   "file_extension": ".py",
   "mimetype": "text/x-python",
   "name": "python",
   "nbconvert_exporter": "python",
   "pygments_lexer": "ipython2",
   "version": "2.7.6"
  }
 },
 "nbformat": 4,
 "nbformat_minor": 0
}
