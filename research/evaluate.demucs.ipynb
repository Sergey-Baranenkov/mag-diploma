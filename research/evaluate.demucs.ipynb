{
 "cells": [
  {
   "cell_type": "code",
   "execution_count": 2,
   "metadata": {
    "collapsed": true,
    "ExecuteTime": {
     "end_time": "2024-05-04T18:56:58.204539759Z",
     "start_time": "2024-05-04T18:56:58.196764664Z"
    }
   },
   "outputs": [
    {
     "name": "stdout",
     "output_type": "stream",
     "text": [
      "The autoreload extension is already loaded. To reload it, use:\n",
      "  %reload_ext autoreload\n"
     ]
    }
   ],
   "source": [
    "%load_ext autoreload\n",
    "%autoreload 2"
   ]
  },
  {
   "cell_type": "code",
   "execution_count": 3,
   "outputs": [],
   "source": [
    "import os\n",
    "import sys\n",
    "\n",
    "# Получаем абсолютный путь к корневой директории проекта (директория выше текущей)\n",
    "root_path = os.path.abspath(os.path.join(os.getcwd(), '..'))\n",
    "\n",
    "# Добавляем корневую директорию в sys.path\n",
    "if root_path not in sys.path:\n",
    "    sys.path.append(root_path)"
   ],
   "metadata": {
    "collapsed": false,
    "ExecuteTime": {
     "end_time": "2024-05-04T18:57:04.286487588Z",
     "start_time": "2024-05-04T18:57:04.273384379Z"
    }
   }
  },
  {
   "cell_type": "code",
   "execution_count": 11,
   "outputs": [
    {
     "name": "stdout",
     "output_type": "stream",
     "text": [
      "\u001B[1mImportant: the default model was recently changed to `htdemucs`\u001B[0m the latest Hybrid Transformer Demucs model. In some cases, this model can actually perform worse than previous models. To get back the old default model use `-n mdx_extra_q`.\n",
      "Selected model is a bag of 1 models. You will see that many progress bars per track.\n",
      "Separated tracks will be stored in /home/araxal/mag/research/separated/htdemucs\n",
      "Separating track ../audios/ANIKV - слов больше нет - Lørean Edit.wav\n"
     ]
    },
    {
     "name": "stderr",
     "output_type": "stream",
     "text": [
      "100%|██████████████████████████████████████████████| 339.29999999999995/339.29999999999995 [00:06<00:00, 53.18seconds/s]\n"
     ]
    },
    {
     "name": "stdout",
     "output_type": "stream",
     "text": [
      "\u001B[1mImportant: the default model was recently changed to `htdemucs`\u001B[0m the latest Hybrid Transformer Demucs model. In some cases, this model can actually perform worse than previous models. To get back the old default model use `-n mdx_extra_q`.\n",
      "Selected model is a bag of 1 models. You will see that many progress bars per track.\n",
      "Separated tracks will be stored in /home/araxal/mag/research/separated/htdemucs\n",
      "Separating track ../audios/CREAM SODA - Никаких Больше Вечеринок.wav\n"
     ]
    },
    {
     "name": "stderr",
     "output_type": "stream",
     "text": [
      "100%|██████████████████████████████████████████████| 228.14999999999998/228.14999999999998 [00:04<00:00, 53.70seconds/s]\n"
     ]
    },
    {
     "name": "stdout",
     "output_type": "stream",
     "text": [
      "\u001B[1mImportant: the default model was recently changed to `htdemucs`\u001B[0m the latest Hybrid Transformer Demucs model. In some cases, this model can actually perform worse than previous models. To get back the old default model use `-n mdx_extra_q`.\n",
      "Selected model is a bag of 1 models. You will see that many progress bars per track.\n",
      "Separated tracks will be stored in /home/araxal/mag/research/separated/htdemucs\n",
      "Separating track ../audios/Ruko - Take my hand.wav\n"
     ]
    },
    {
     "name": "stderr",
     "output_type": "stream",
     "text": [
      "100%|██████████████████████████████████████████████████████████████████████| 216.45/216.45 [00:04<00:00, 51.68seconds/s]\n"
     ]
    },
    {
     "name": "stdout",
     "output_type": "stream",
     "text": [
      "\u001B[1mImportant: the default model was recently changed to `htdemucs`\u001B[0m the latest Hybrid Transformer Demucs model. In some cases, this model can actually perform worse than previous models. To get back the old default model use `-n mdx_extra_q`.\n",
      "Selected model is a bag of 1 models. You will see that many progress bars per track.\n",
      "Separated tracks will be stored in /home/araxal/mag/research/separated/htdemucs\n",
      "Separating track ../audios/AURORA - I Went Too Far.wav\n"
     ]
    },
    {
     "name": "stderr",
     "output_type": "stream",
     "text": [
      "100%|██████████████████████████████████████████████████████████████████████| 239.85/239.85 [00:04<00:00, 51.17seconds/s]\n"
     ]
    },
    {
     "name": "stdout",
     "output_type": "stream",
     "text": [
      "\u001B[1mImportant: the default model was recently changed to `htdemucs`\u001B[0m the latest Hybrid Transformer Demucs model. In some cases, this model can actually perform worse than previous models. To get back the old default model use `-n mdx_extra_q`.\n",
      "Selected model is a bag of 1 models. You will see that many progress bars per track.\n",
      "Separated tracks will be stored in /home/araxal/mag/research/separated/htdemucs\n",
      "Separating track ../audios/Король и Шут - Дурак и молния.wav\n"
     ]
    },
    {
     "name": "stderr",
     "output_type": "stream",
     "text": [
      "100%|████████████████████████████████████████████████████████████████████████| 117.0/117.0 [00:02<00:00, 50.00seconds/s]\n"
     ]
    }
   ],
   "source": [
    "import demucs.separate\n",
    "from ipywidgets import widgets\n",
    "\n",
    "classes = [\"bass\", \"drums\", \"vocals\", \"other\"]\n",
    "test_files = [f'../audios/{filename}' for filename in os.listdir('../audios')]\n",
    "\n",
    "audio_widgets = {cls: {} for cls in classes + ['original']}\n",
    "\n",
    "for file in test_files:\n",
    "    filename = file.split(os.sep)[-1]\n",
    "    audio_widget = widgets.Audio(value=open(file, \"rb\").read(), format=\"wav\", controls=True, autoplay=False)\n",
    "    audio_widgets['original'][filename] = audio_widget\n",
    "    demucs.separate.main([file])\n",
    "\n",
    "    for cls in classes:\n",
    "        output_file = f'./separated/htdemucs/{filename.split(\".wav\")[0]}/{cls}.wav'\n",
    "\n",
    "        audio_widget = widgets.Audio(value=open(output_file, \"rb\").read(), format=\"wav\", controls=True, autoplay=False)\n",
    "        audio_widgets[cls][filename] = audio_widget"
   ],
   "metadata": {
    "collapsed": false,
    "ExecuteTime": {
     "end_time": "2024-05-04T19:09:44.960643380Z",
     "start_time": "2024-05-04T19:09:12.744485531Z"
    }
   }
  },
  {
   "cell_type": "code",
   "execution_count": 12,
   "outputs": [
    {
     "data": {
      "text/plain": "HTML(value='<style>.widget-label { font-size: 16px; font-weight: bold; }</style>')",
      "application/vnd.jupyter.widget-view+json": {
       "version_major": 2,
       "version_minor": 0,
       "model_id": "55c785c0d64c4e309f0ee37e07ba8070"
      }
     },
     "metadata": {},
     "output_type": "display_data"
    },
    {
     "data": {
      "text/plain": "VBox(children=(HBox(children=(Label(value=''), Label(value='bass', layout=Layout(margin='0 10px 0 10px')), Lab…",
      "application/vnd.jupyter.widget-view+json": {
       "version_major": 2,
       "version_minor": 0,
       "model_id": "9e98ceae2b464acaa501118ac76b434e"
      }
     },
     "metadata": {},
     "output_type": "display_data"
    }
   ],
   "source": [
    "from utils import plot_separation_result\n",
    "\n",
    "plot_separation_result(audio_widgets)"
   ],
   "metadata": {
    "collapsed": false,
    "ExecuteTime": {
     "end_time": "2024-05-04T19:10:13.806607544Z",
     "start_time": "2024-05-04T19:10:12.862512280Z"
    }
   }
  },
  {
   "cell_type": "markdown",
   "source": [
    "Качество demucs по сравнению с любым методом fine-tuning на датасет musdb18 на порядок выше. Особенно это проявляется с классом other (other musical instruments в случае нашей модели), где отлично отделяются синтезаторы. С другой стороны, эта модель умеет выделять только 4 класса."
   ],
   "metadata": {
    "collapsed": false
   }
  },
  {
   "cell_type": "code",
   "execution_count": null,
   "outputs": [],
   "source": [],
   "metadata": {
    "collapsed": false
   }
  }
 ],
 "metadata": {
  "kernelspec": {
   "display_name": "Python 3",
   "language": "python",
   "name": "python3"
  },
  "language_info": {
   "codemirror_mode": {
    "name": "ipython",
    "version": 2
   },
   "file_extension": ".py",
   "mimetype": "text/x-python",
   "name": "python",
   "nbconvert_exporter": "python",
   "pygments_lexer": "ipython2",
   "version": "2.7.6"
  }
 },
 "nbformat": 4,
 "nbformat_minor": 0
}
