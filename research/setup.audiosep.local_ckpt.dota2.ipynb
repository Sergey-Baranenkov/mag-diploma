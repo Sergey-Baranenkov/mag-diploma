{
 "cells": [
  {
   "cell_type": "markdown",
   "source": [
    "# Демонстрация работы базовой версии AudioSep из локально скачанного чекпоинта"
   ],
   "metadata": {
    "collapsed": false
   }
  },
  {
   "cell_type": "code",
   "execution_count": 17,
   "outputs": [
    {
     "name": "stdout",
     "output_type": "stream",
     "text": [
      "The autoreload extension is already loaded. To reload it, use:\n",
      "  %reload_ext autoreload\n"
     ]
    }
   ],
   "source": [
    "%load_ext autoreload\n",
    "%autoreload 2"
   ],
   "metadata": {
    "collapsed": false,
    "ExecuteTime": {
     "end_time": "2024-05-11T13:51:33.732892501Z",
     "start_time": "2024-05-11T13:51:33.691980648Z"
    }
   }
  },
  {
   "cell_type": "code",
   "execution_count": 18,
   "outputs": [],
   "source": [
    "# ! pip uninstall numba -y && pip install numba"
   ],
   "metadata": {
    "collapsed": false,
    "ExecuteTime": {
     "end_time": "2024-05-11T13:51:33.765952339Z",
     "start_time": "2024-05-11T13:51:33.732787542Z"
    }
   }
  },
  {
   "cell_type": "code",
   "execution_count": 19,
   "outputs": [],
   "source": [
    "import os\n",
    "import sys\n",
    "\n",
    "# Получаем абсолютный путь к корневой директории проекта (директория выше текущей)\n",
    "root_path = os.path.abspath(os.path.join(os.getcwd(), '..'))\n",
    "\n",
    "# Добавляем корневую директорию в sys.path\n",
    "if root_path not in sys.path:\n",
    "    sys.path.append(root_path)"
   ],
   "metadata": {
    "collapsed": false,
    "ExecuteTime": {
     "end_time": "2024-05-11T13:51:33.799874091Z",
     "start_time": "2024-05-11T13:51:33.767057375Z"
    }
   }
  },
  {
   "cell_type": "code",
   "execution_count": 20,
   "outputs": [],
   "source": [
    "from pipeline import separate_audio\n",
    "import torch\n",
    "from utils import parse_yaml\n",
    "from model_loaders import load_ss_model\n",
    "from models.clap_encoder import CLAP_Encoder\n",
    "import IPython.display as ipd"
   ],
   "metadata": {
    "collapsed": false,
    "ExecuteTime": {
     "end_time": "2024-05-11T13:51:33.831457276Z",
     "start_time": "2024-05-11T13:51:33.800266996Z"
    }
   }
  },
  {
   "cell_type": "code",
   "execution_count": 21,
   "outputs": [],
   "source": [
    "SS_CONFIG_PATH = '../config/audiosep_base.yaml'\n",
    "CLAP_CKPT_PATH = '../checkpoint/music_speech_audioset_epoch_15_esc_89.98.pt'\n",
    "AUDIOSEP_CKPT_PATH = '../checkpoint/audiosep_base_4M_steps.ckpt'\n",
    "classes = ['vacuum cleaner',\n",
    "           'frying',\n",
    "           'dishes',\n",
    "           'blender',\n",
    "           'speech',\n",
    "           'dog',\n",
    "           'alarm bell ringing',\n",
    "           'running water',\n",
    "           'electric shaver toothbrush',\n",
    "           'cat']\n",
    "device = torch.device('cuda')\n",
    "configs = parse_yaml(SS_CONFIG_PATH)"
   ],
   "metadata": {
    "collapsed": false,
    "ExecuteTime": {
     "end_time": "2024-05-11T13:51:33.865840755Z",
     "start_time": "2024-05-11T13:51:33.832954216Z"
    }
   }
  },
  {
   "cell_type": "code",
   "execution_count": 22,
   "outputs": [
    {
     "name": "stderr",
     "output_type": "stream",
     "text": [
      "2024-05-11 16:51:34,098 - INFO - Loading HTSAT-base model config.\n",
      "2024-05-11 16:51:35,378 - INFO - Loading pretrained HTSAT-base-roberta weights (../checkpoint/music_speech_audioset_epoch_15_esc_89.98.pt).\n"
     ]
    }
   ],
   "source": [
    "device = torch.device('cuda')\n",
    "query_encoder = CLAP_Encoder(pretrained_path = CLAP_CKPT_PATH).eval().to(device)\n",
    "\n",
    "configs = parse_yaml(SS_CONFIG_PATH)\n",
    "model = load_ss_model(configs=configs, checkpoint_path=AUDIOSEP_CKPT_PATH, query_encoder=query_encoder).eval().to(device)"
   ],
   "metadata": {
    "collapsed": false,
    "ExecuteTime": {
     "end_time": "2024-05-11T13:51:37.847683813Z",
     "start_time": "2024-05-11T13:51:33.867068664Z"
    }
   }
  },
  {
   "cell_type": "markdown",
   "source": [
    "# Попробуем выделить микс из реплик двух героев"
   ],
   "metadata": {
    "collapsed": false
   }
  },
  {
   "cell_type": "code",
   "execution_count": 23,
   "outputs": [
    {
     "name": "stdout",
     "output_type": "stream",
     "text": [
      "Separating audio from [dota2_mixtures/2_678.wav] with textual query: [pugna]\n",
      "Separated audio written to [../separation_result/dota2/audiosep_base/2_678/pugna.wav]\n",
      "Separating audio from [dota2_mixtures/2_678.wav] with textual query: [beastmaster]\n",
      "Separated audio written to [../separation_result/dota2/audiosep_base/2_678/beastmaster.wav]\n",
      "Separating audio from [dota2_mixtures/2_789.wav] with textual query: [enchantress]\n",
      "Separated audio written to [../separation_result/dota2/audiosep_base/2_789/enchantress.wav]\n",
      "Separating audio from [dota2_mixtures/2_789.wav] with textual query: [medusa]\n",
      "Separated audio written to [../separation_result/dota2/audiosep_base/2_789/medusa.wav]\n",
      "Separating audio from [dota2_mixtures/2_909.wav] with textual query: [pudge]\n",
      "Separated audio written to [../separation_result/dota2/audiosep_base/2_909/pudge.wav]\n",
      "Separating audio from [dota2_mixtures/2_909.wav] with textual query: [invoker]\n",
      "Separated audio written to [../separation_result/dota2/audiosep_base/2_909/invoker.wav]\n",
      "Separating audio from [dota2_mixtures/2_345.wav] with textual query: [wraith king]\n",
      "Separated audio written to [../separation_result/dota2/audiosep_base/2_345/wraith king.wav]\n",
      "Separating audio from [dota2_mixtures/2_345.wav] with textual query: [sand king]\n",
      "Separated audio written to [../separation_result/dota2/audiosep_base/2_345/sand king.wav]\n"
     ]
    },
    {
     "data": {
      "text/plain": "HTML(value='<style>.widget-label { font-size: 16px; font-weight: bold; }</style>')",
      "application/vnd.jupyter.widget-view+json": {
       "version_major": 2,
       "version_minor": 0,
       "model_id": "5aff8cf0ea9d4a979cb6cf11724fc57e"
      }
     },
     "metadata": {},
     "output_type": "display_data"
    },
    {
     "data": {
      "text/plain": "VBox(children=(HBox(children=(Label(value=''), Label(value='pugna', layout=Layout(margin='0 10px 0 10px')), La…",
      "application/vnd.jupyter.widget-view+json": {
       "version_major": 2,
       "version_minor": 0,
       "model_id": "bcc37bb675ed422da502fae5e21950be"
      }
     },
     "metadata": {},
     "output_type": "display_data"
    },
    {
     "data": {
      "text/plain": "HTML(value='<style>.widget-label { font-size: 16px; font-weight: bold; }</style>')",
      "application/vnd.jupyter.widget-view+json": {
       "version_major": 2,
       "version_minor": 0,
       "model_id": "3c7664b2693c4ed094db43a40cfc164c"
      }
     },
     "metadata": {},
     "output_type": "display_data"
    },
    {
     "data": {
      "text/plain": "VBox(children=(HBox(children=(Label(value=''), Label(value='enchantress', layout=Layout(margin='0 10px 0 10px'…",
      "application/vnd.jupyter.widget-view+json": {
       "version_major": 2,
       "version_minor": 0,
       "model_id": "d236a855af784f21865d559eb64d6449"
      }
     },
     "metadata": {},
     "output_type": "display_data"
    },
    {
     "data": {
      "text/plain": "HTML(value='<style>.widget-label { font-size: 16px; font-weight: bold; }</style>')",
      "application/vnd.jupyter.widget-view+json": {
       "version_major": 2,
       "version_minor": 0,
       "model_id": "072fd69b24c64f97a1d5d545d967346c"
      }
     },
     "metadata": {},
     "output_type": "display_data"
    },
    {
     "data": {
      "text/plain": "VBox(children=(HBox(children=(Label(value=''), Label(value='pudge', layout=Layout(margin='0 10px 0 10px')), La…",
      "application/vnd.jupyter.widget-view+json": {
       "version_major": 2,
       "version_minor": 0,
       "model_id": "e16c5f6b781245e3ae8698ac0d63b10c"
      }
     },
     "metadata": {},
     "output_type": "display_data"
    },
    {
     "data": {
      "text/plain": "HTML(value='<style>.widget-label { font-size: 16px; font-weight: bold; }</style>')",
      "application/vnd.jupyter.widget-view+json": {
       "version_major": 2,
       "version_minor": 0,
       "model_id": "ba934b9e037c4757906cb5df193ea49c"
      }
     },
     "metadata": {},
     "output_type": "display_data"
    },
    {
     "data": {
      "text/plain": "VBox(children=(HBox(children=(Label(value=''), Label(value='wraith king', layout=Layout(margin='0 10px 0 10px'…",
      "application/vnd.jupyter.widget-view+json": {
       "version_major": 2,
       "version_minor": 0,
       "model_id": "fb3b9402f9fb468fabb3dafeb943c761"
      }
     },
     "metadata": {},
     "output_type": "display_data"
    }
   ],
   "source": [
    "from dota2_dataset_utils import separate_and_visualize\n",
    "\n",
    "mix_cnt = 2\n",
    "seeds = [678, 789, 909, 345]\n",
    "separate_and_visualize(mix_cnt, seeds, model, device, 'audiosep_base')"
   ],
   "metadata": {
    "collapsed": false,
    "ExecuteTime": {
     "end_time": "2024-05-11T13:51:38.280042708Z",
     "start_time": "2024-05-11T13:51:37.848815459Z"
    }
   }
  },
  {
   "cell_type": "markdown",
   "source": [
    "# Теперь попробуем выделить микс из реплик трех героев, эта задача сложнее"
   ],
   "metadata": {
    "collapsed": false
   }
  },
  {
   "cell_type": "code",
   "execution_count": 24,
   "outputs": [
    {
     "name": "stdout",
     "output_type": "stream",
     "text": [
      "Separating audio from [dota2_mixtures/3_678.wav] with textual query: [pugna]\n",
      "Separated audio written to [../separation_result/dota2/audiosep_base/3_678/pugna.wav]\n",
      "Separating audio from [dota2_mixtures/3_678.wav] with textual query: [beastmaster]\n",
      "Separated audio written to [../separation_result/dota2/audiosep_base/3_678/beastmaster.wav]\n",
      "Separating audio from [dota2_mixtures/3_678.wav] with textual query: [kunkka]\n",
      "Separated audio written to [../separation_result/dota2/audiosep_base/3_678/kunkka.wav]\n",
      "Separating audio from [dota2_mixtures/3_789.wav] with textual query: [enchantress]\n",
      "Separated audio written to [../separation_result/dota2/audiosep_base/3_789/enchantress.wav]\n",
      "Separating audio from [dota2_mixtures/3_789.wav] with textual query: [medusa]\n",
      "Separated audio written to [../separation_result/dota2/audiosep_base/3_789/medusa.wav]\n",
      "Separating audio from [dota2_mixtures/3_789.wav] with textual query: [razor]\n",
      "Separated audio written to [../separation_result/dota2/audiosep_base/3_789/razor.wav]\n",
      "Separating audio from [dota2_mixtures/3_909.wav] with textual query: [pudge]\n",
      "Separated audio written to [../separation_result/dota2/audiosep_base/3_909/pudge.wav]\n",
      "Separating audio from [dota2_mixtures/3_909.wav] with textual query: [invoker]\n",
      "Separated audio written to [../separation_result/dota2/audiosep_base/3_909/invoker.wav]\n",
      "Separating audio from [dota2_mixtures/3_909.wav] with textual query: [slardar]\n",
      "Separated audio written to [../separation_result/dota2/audiosep_base/3_909/slardar.wav]\n",
      "Separating audio from [dota2_mixtures/3_345.wav] with textual query: [wraith king]\n",
      "Separated audio written to [../separation_result/dota2/audiosep_base/3_345/wraith king.wav]\n",
      "Separating audio from [dota2_mixtures/3_345.wav] with textual query: [sand king]\n",
      "Separated audio written to [../separation_result/dota2/audiosep_base/3_345/sand king.wav]\n",
      "Separating audio from [dota2_mixtures/3_345.wav] with textual query: [alchemist]\n",
      "Separated audio written to [../separation_result/dota2/audiosep_base/3_345/alchemist.wav]\n"
     ]
    },
    {
     "data": {
      "text/plain": "HTML(value='<style>.widget-label { font-size: 16px; font-weight: bold; }</style>')",
      "application/vnd.jupyter.widget-view+json": {
       "version_major": 2,
       "version_minor": 0,
       "model_id": "a482b1af2b8e4ec98340362a9dca41a8"
      }
     },
     "metadata": {},
     "output_type": "display_data"
    },
    {
     "data": {
      "text/plain": "VBox(children=(HBox(children=(Label(value=''), Label(value='pugna', layout=Layout(margin='0 10px 0 10px')), La…",
      "application/vnd.jupyter.widget-view+json": {
       "version_major": 2,
       "version_minor": 0,
       "model_id": "296e2dcaf9054b8c90d3f3febda7d5b1"
      }
     },
     "metadata": {},
     "output_type": "display_data"
    },
    {
     "data": {
      "text/plain": "HTML(value='<style>.widget-label { font-size: 16px; font-weight: bold; }</style>')",
      "application/vnd.jupyter.widget-view+json": {
       "version_major": 2,
       "version_minor": 0,
       "model_id": "92341b7e76ce49ad892d260e51281988"
      }
     },
     "metadata": {},
     "output_type": "display_data"
    },
    {
     "data": {
      "text/plain": "VBox(children=(HBox(children=(Label(value=''), Label(value='enchantress', layout=Layout(margin='0 10px 0 10px'…",
      "application/vnd.jupyter.widget-view+json": {
       "version_major": 2,
       "version_minor": 0,
       "model_id": "03c7d744f90541b6b106f0004657ef0c"
      }
     },
     "metadata": {},
     "output_type": "display_data"
    },
    {
     "data": {
      "text/plain": "HTML(value='<style>.widget-label { font-size: 16px; font-weight: bold; }</style>')",
      "application/vnd.jupyter.widget-view+json": {
       "version_major": 2,
       "version_minor": 0,
       "model_id": "796d64c7ee7442119195681525d9417a"
      }
     },
     "metadata": {},
     "output_type": "display_data"
    },
    {
     "data": {
      "text/plain": "VBox(children=(HBox(children=(Label(value=''), Label(value='pudge', layout=Layout(margin='0 10px 0 10px')), La…",
      "application/vnd.jupyter.widget-view+json": {
       "version_major": 2,
       "version_minor": 0,
       "model_id": "02e3c088079d4044b387e0c48c97236a"
      }
     },
     "metadata": {},
     "output_type": "display_data"
    },
    {
     "data": {
      "text/plain": "HTML(value='<style>.widget-label { font-size: 16px; font-weight: bold; }</style>')",
      "application/vnd.jupyter.widget-view+json": {
       "version_major": 2,
       "version_minor": 0,
       "model_id": "8acb3788e0db48478490b5e45c314cc5"
      }
     },
     "metadata": {},
     "output_type": "display_data"
    },
    {
     "data": {
      "text/plain": "VBox(children=(HBox(children=(Label(value=''), Label(value='wraith king', layout=Layout(margin='0 10px 0 10px'…",
      "application/vnd.jupyter.widget-view+json": {
       "version_major": 2,
       "version_minor": 0,
       "model_id": "d1e959ee0e3c47df9ba5f118ea98d345"
      }
     },
     "metadata": {},
     "output_type": "display_data"
    }
   ],
   "source": [
    "mix_cnt = 3\n",
    "seeds = [678, 789, 909, 345]\n",
    "separate_and_visualize(mix_cnt, seeds, model, device, 'audiosep_base')"
   ],
   "metadata": {
    "collapsed": false,
    "ExecuteTime": {
     "end_time": "2024-05-11T13:51:38.888423423Z",
     "start_time": "2024-05-11T13:51:38.294241343Z"
    }
   }
  },
  {
   "cell_type": "markdown",
   "source": [
    "## В обоих случаях модель хаотично изменяет исходную аудизоапись"
   ],
   "metadata": {
    "collapsed": false
   }
  },
  {
   "cell_type": "code",
   "execution_count": 24,
   "outputs": [],
   "source": [],
   "metadata": {
    "collapsed": false
   }
  }
 ],
 "metadata": {
  "kernelspec": {
   "display_name": "Python 3",
   "language": "python",
   "name": "python3"
  },
  "language_info": {
   "codemirror_mode": {
    "name": "ipython",
    "version": 2
   },
   "file_extension": ".py",
   "mimetype": "text/x-python",
   "name": "python",
   "nbconvert_exporter": "python",
   "pygments_lexer": "ipython2",
   "version": "2.7.6"
  }
 },
 "nbformat": 4,
 "nbformat_minor": 0
}
