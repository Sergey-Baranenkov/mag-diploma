{
 "cells": [
  {
   "cell_type": "markdown",
   "source": [
    "## Анализ lora-tuned модели с помощью weightwatcher"
   ],
   "metadata": {
    "collapsed": false
   }
  },
  {
   "cell_type": "code",
   "execution_count": 1,
   "outputs": [],
   "source": [
    "%load_ext autoreload\n",
    "%autoreload 2"
   ],
   "metadata": {
    "collapsed": false,
    "ExecuteTime": {
     "end_time": "2024-05-04T16:58:14.787990622Z",
     "start_time": "2024-05-04T16:58:14.787829625Z"
    }
   }
  },
  {
   "cell_type": "code",
   "execution_count": 2,
   "outputs": [],
   "source": [
    "# ! pip uninstall numba -y && pip install numba"
   ],
   "metadata": {
    "collapsed": false,
    "ExecuteTime": {
     "end_time": "2024-05-04T16:58:14.788123134Z",
     "start_time": "2024-05-04T16:58:14.787913435Z"
    }
   }
  },
  {
   "cell_type": "code",
   "execution_count": 3,
   "outputs": [],
   "source": [
    "import os\n",
    "import sys\n",
    "\n",
    "# Получаем абсолютный путь к корневой директории проекта (директория выше текущей)\n",
    "root_path = os.path.abspath(os.path.join(os.getcwd(), '..'))\n",
    "\n",
    "# Добавляем корневую директорию в sys.path\n",
    "if root_path not in sys.path:\n",
    "    sys.path.append(root_path)"
   ],
   "metadata": {
    "collapsed": false,
    "ExecuteTime": {
     "end_time": "2024-05-04T16:58:15.022677011Z",
     "start_time": "2024-05-04T16:58:15.015486866Z"
    }
   }
  },
  {
   "cell_type": "code",
   "execution_count": 4,
   "outputs": [
    {
     "name": "stderr",
     "output_type": "stream",
     "text": [
      "2024-05-04 19:58:16.773788: E external/local_xla/xla/stream_executor/cuda/cuda_dnn.cc:9261] Unable to register cuDNN factory: Attempting to register factory for plugin cuDNN when one has already been registered\n",
      "2024-05-04 19:58:16.773817: E external/local_xla/xla/stream_executor/cuda/cuda_fft.cc:607] Unable to register cuFFT factory: Attempting to register factory for plugin cuFFT when one has already been registered\n",
      "2024-05-04 19:58:16.774720: E external/local_xla/xla/stream_executor/cuda/cuda_blas.cc:1515] Unable to register cuBLAS factory: Attempting to register factory for plugin cuBLAS when one has already been registered\n",
      "2024-05-04 19:58:16.779182: I tensorflow/core/platform/cpu_feature_guard.cc:182] This TensorFlow binary is optimized to use available CPU instructions in performance-critical operations.\n",
      "To enable the following instructions: AVX2 FMA, in other operations, rebuild TensorFlow with the appropriate compiler flags.\n",
      "2024-05-04 19:58:17.324275: W tensorflow/compiler/tf2tensorrt/utils/py_utils.cc:38] TF-TRT Warning: Could not find TensorRT\n"
     ]
    }
   ],
   "source": [
    "from model_loaders import load_ss_model\n",
    "import weightwatcher as ww\n",
    "from pipeline import separate_audio\n",
    "import torch\n",
    "from models.clap_encoder import CLAP_Encoder\n",
    "import IPython.display as ipd\n",
    "from utils import parse_yaml\n",
    "from utils import describe_weights\n",
    "from torch import nn\n",
    "import numpy as np\n",
    "import pandas as pd"
   ],
   "metadata": {
    "collapsed": false,
    "ExecuteTime": {
     "end_time": "2024-05-04T16:58:20.368031268Z",
     "start_time": "2024-05-04T16:58:15.541313824Z"
    }
   }
  },
  {
   "cell_type": "code",
   "execution_count": 5,
   "outputs": [],
   "source": [
    "SS_CONFIG_PATH = '../config/audiosep_base.yaml'\n",
    "CLAP_CKPT_PATH = '../checkpoint/music_speech_audioset_epoch_15_esc_89.98.pt'\n",
    "AUDIOSEP_CKPT_PATH = '../checkpoint/audiosep_base_4M_steps.ckpt'\n",
    "classes = [\"bass\", \"drums\", \"vocals\", \"other musical instruments\"]\n",
    "device = torch.device('cuda')\n",
    "configs = parse_yaml(SS_CONFIG_PATH)"
   ],
   "metadata": {
    "collapsed": false,
    "ExecuteTime": {
     "end_time": "2024-05-04T16:58:20.414601261Z",
     "start_time": "2024-05-04T16:58:20.369492732Z"
    }
   }
  },
  {
   "cell_type": "code",
   "execution_count": 6,
   "outputs": [
    {
     "name": "stderr",
     "output_type": "stream",
     "text": [
      "2024-05-04 19:58:21,587 - INFO - Loading HTSAT-base model config.\n",
      "2024-05-04 19:58:23,709 - INFO - Loading pretrained HTSAT-base-roberta weights (../checkpoint/music_speech_audioset_epoch_15_esc_89.98.pt).\n"
     ]
    }
   ],
   "source": [
    "query_encoder = CLAP_Encoder(pretrained_path = CLAP_CKPT_PATH).eval().to(device)\n",
    "base_model = load_ss_model(configs=configs, checkpoint_path=AUDIOSEP_CKPT_PATH, query_encoder=query_encoder).eval().to(device)"
   ],
   "metadata": {
    "collapsed": false,
    "ExecuteTime": {
     "end_time": "2024-05-04T16:58:27.099521196Z",
     "start_time": "2024-05-04T16:58:21.361567992Z"
    }
   }
  },
  {
   "cell_type": "code",
   "execution_count": 7,
   "outputs": [
    {
     "name": "stderr",
     "output_type": "stream",
     "text": [
      "2024-05-04 19:58:46,264 - INFO - Loading HTSAT-base model config.\n",
      "2024-05-04 19:58:47,597 - INFO - Loading pretrained HTSAT-base-roberta weights (../checkpoint/music_speech_audioset_epoch_15_esc_89.98.pt).\n"
     ]
    }
   ],
   "source": [
    "from models.audiosep_lora import AudioSepLora\n",
    "\n",
    "checkpoint_path = '../checkpoints/final/musdb18/lora/final.ckpt'\n",
    "\n",
    "query_encoder_for_lora = CLAP_Encoder(pretrained_path = CLAP_CKPT_PATH).eval().to(device)\n",
    "base_model_for_lora = load_ss_model(configs=configs, checkpoint_path=AUDIOSEP_CKPT_PATH, query_encoder=query_encoder_for_lora).eval().to(device)\n",
    "\n",
    "lora_model = AudioSepLora.load_from_checkpoint(\n",
    "    checkpoint_path=checkpoint_path,\n",
    "    strict=False,\n",
    "    pretrained_audiosep_model = base_model_for_lora,\n",
    "    loss_function=None,\n",
    "    waveform_mixer=None,\n",
    "    lr_lambda_func=None\n",
    ") \\\n",
    "    .eval() \\\n",
    "    .to(device)\n",
    "\n",
    "merged_lora_model = lora_model.model.merge_and_unload()\n",
    "merged_lora_model.query_encoder = lora_model.model.query_encoder"
   ],
   "metadata": {
    "collapsed": false,
    "ExecuteTime": {
     "end_time": "2024-05-04T16:58:50.791499594Z",
     "start_time": "2024-05-04T16:58:46.027489662Z"
    }
   }
  },
  {
   "cell_type": "markdown",
   "source": [
    "# Ранг слоев затюненой модели"
   ],
   "metadata": {
    "collapsed": false
   }
  },
  {
   "cell_type": "code",
   "execution_count": 9,
   "outputs": [
    {
     "data": {
      "text/plain": "                                     layer_name lower_dim_size rank\n0                                base->pre_conv              1    1\n1      base->encoder_block1->conv_block1->conv1             32   32\n2      base->encoder_block1->conv_block1->conv2             32   32\n3      base->encoder_block2->conv_block1->conv1             64   64\n4      base->encoder_block2->conv_block1->conv2             64   64\n5   base->encoder_block2->conv_block1->shortcut             32   32\n6      base->encoder_block3->conv_block1->conv1            128  128\n7      base->encoder_block3->conv_block1->conv2            128  128\n8   base->encoder_block3->conv_block1->shortcut             64   64\n9      base->encoder_block4->conv_block1->conv1            256  256\n10     base->encoder_block4->conv_block1->conv2            256  256\n11  base->encoder_block4->conv_block1->shortcut            128  128\n12     base->encoder_block5->conv_block1->conv1            384  384\n13     base->encoder_block5->conv_block1->conv2            384  384\n14  base->encoder_block5->conv_block1->shortcut            256  256\n15     base->encoder_block6->conv_block1->conv1            384  384\n16     base->encoder_block6->conv_block1->conv2            384  384\n17       base->conv_block7a->conv_block1->conv1            384  384\n18       base->conv_block7a->conv_block1->conv2            384  384\n19     base->decoder_block1->conv_block2->conv1            384  384\n20     base->decoder_block1->conv_block2->conv2            384  384\n21  base->decoder_block1->conv_block2->shortcut            384  384\n22     base->decoder_block2->conv_block2->conv1            384  384\n23     base->decoder_block2->conv_block2->conv2            384  384\n24  base->decoder_block2->conv_block2->shortcut            384  384\n25     base->decoder_block3->conv_block2->conv1            256  256\n26     base->decoder_block3->conv_block2->conv2            256  256\n27  base->decoder_block3->conv_block2->shortcut            256  256\n28     base->decoder_block4->conv_block2->conv1            128  128\n29     base->decoder_block4->conv_block2->conv2            128  128\n30  base->decoder_block4->conv_block2->shortcut            128  128\n31     base->decoder_block5->conv_block2->conv1             64   64\n32     base->decoder_block5->conv_block2->conv2             64   64\n33  base->decoder_block5->conv_block2->shortcut             64   64\n34     base->decoder_block6->conv_block2->conv1             32   32\n35     base->decoder_block6->conv_block2->conv2             32   32\n36  base->decoder_block6->conv_block2->shortcut             32   32\n37                             base->after_conv              3    3",
      "text/html": "<div>\n<style scoped>\n    .dataframe tbody tr th:only-of-type {\n        vertical-align: middle;\n    }\n\n    .dataframe tbody tr th {\n        vertical-align: top;\n    }\n\n    .dataframe thead th {\n        text-align: right;\n    }\n</style>\n<table border=\"1\" class=\"dataframe\">\n  <thead>\n    <tr style=\"text-align: right;\">\n      <th></th>\n      <th>layer_name</th>\n      <th>lower_dim_size</th>\n      <th>rank</th>\n    </tr>\n  </thead>\n  <tbody>\n    <tr>\n      <th>0</th>\n      <td>base-&gt;pre_conv</td>\n      <td>1</td>\n      <td>1</td>\n    </tr>\n    <tr>\n      <th>1</th>\n      <td>base-&gt;encoder_block1-&gt;conv_block1-&gt;conv1</td>\n      <td>32</td>\n      <td>32</td>\n    </tr>\n    <tr>\n      <th>2</th>\n      <td>base-&gt;encoder_block1-&gt;conv_block1-&gt;conv2</td>\n      <td>32</td>\n      <td>32</td>\n    </tr>\n    <tr>\n      <th>3</th>\n      <td>base-&gt;encoder_block2-&gt;conv_block1-&gt;conv1</td>\n      <td>64</td>\n      <td>64</td>\n    </tr>\n    <tr>\n      <th>4</th>\n      <td>base-&gt;encoder_block2-&gt;conv_block1-&gt;conv2</td>\n      <td>64</td>\n      <td>64</td>\n    </tr>\n    <tr>\n      <th>5</th>\n      <td>base-&gt;encoder_block2-&gt;conv_block1-&gt;shortcut</td>\n      <td>32</td>\n      <td>32</td>\n    </tr>\n    <tr>\n      <th>6</th>\n      <td>base-&gt;encoder_block3-&gt;conv_block1-&gt;conv1</td>\n      <td>128</td>\n      <td>128</td>\n    </tr>\n    <tr>\n      <th>7</th>\n      <td>base-&gt;encoder_block3-&gt;conv_block1-&gt;conv2</td>\n      <td>128</td>\n      <td>128</td>\n    </tr>\n    <tr>\n      <th>8</th>\n      <td>base-&gt;encoder_block3-&gt;conv_block1-&gt;shortcut</td>\n      <td>64</td>\n      <td>64</td>\n    </tr>\n    <tr>\n      <th>9</th>\n      <td>base-&gt;encoder_block4-&gt;conv_block1-&gt;conv1</td>\n      <td>256</td>\n      <td>256</td>\n    </tr>\n    <tr>\n      <th>10</th>\n      <td>base-&gt;encoder_block4-&gt;conv_block1-&gt;conv2</td>\n      <td>256</td>\n      <td>256</td>\n    </tr>\n    <tr>\n      <th>11</th>\n      <td>base-&gt;encoder_block4-&gt;conv_block1-&gt;shortcut</td>\n      <td>128</td>\n      <td>128</td>\n    </tr>\n    <tr>\n      <th>12</th>\n      <td>base-&gt;encoder_block5-&gt;conv_block1-&gt;conv1</td>\n      <td>384</td>\n      <td>384</td>\n    </tr>\n    <tr>\n      <th>13</th>\n      <td>base-&gt;encoder_block5-&gt;conv_block1-&gt;conv2</td>\n      <td>384</td>\n      <td>384</td>\n    </tr>\n    <tr>\n      <th>14</th>\n      <td>base-&gt;encoder_block5-&gt;conv_block1-&gt;shortcut</td>\n      <td>256</td>\n      <td>256</td>\n    </tr>\n    <tr>\n      <th>15</th>\n      <td>base-&gt;encoder_block6-&gt;conv_block1-&gt;conv1</td>\n      <td>384</td>\n      <td>384</td>\n    </tr>\n    <tr>\n      <th>16</th>\n      <td>base-&gt;encoder_block6-&gt;conv_block1-&gt;conv2</td>\n      <td>384</td>\n      <td>384</td>\n    </tr>\n    <tr>\n      <th>17</th>\n      <td>base-&gt;conv_block7a-&gt;conv_block1-&gt;conv1</td>\n      <td>384</td>\n      <td>384</td>\n    </tr>\n    <tr>\n      <th>18</th>\n      <td>base-&gt;conv_block7a-&gt;conv_block1-&gt;conv2</td>\n      <td>384</td>\n      <td>384</td>\n    </tr>\n    <tr>\n      <th>19</th>\n      <td>base-&gt;decoder_block1-&gt;conv_block2-&gt;conv1</td>\n      <td>384</td>\n      <td>384</td>\n    </tr>\n    <tr>\n      <th>20</th>\n      <td>base-&gt;decoder_block1-&gt;conv_block2-&gt;conv2</td>\n      <td>384</td>\n      <td>384</td>\n    </tr>\n    <tr>\n      <th>21</th>\n      <td>base-&gt;decoder_block1-&gt;conv_block2-&gt;shortcut</td>\n      <td>384</td>\n      <td>384</td>\n    </tr>\n    <tr>\n      <th>22</th>\n      <td>base-&gt;decoder_block2-&gt;conv_block2-&gt;conv1</td>\n      <td>384</td>\n      <td>384</td>\n    </tr>\n    <tr>\n      <th>23</th>\n      <td>base-&gt;decoder_block2-&gt;conv_block2-&gt;conv2</td>\n      <td>384</td>\n      <td>384</td>\n    </tr>\n    <tr>\n      <th>24</th>\n      <td>base-&gt;decoder_block2-&gt;conv_block2-&gt;shortcut</td>\n      <td>384</td>\n      <td>384</td>\n    </tr>\n    <tr>\n      <th>25</th>\n      <td>base-&gt;decoder_block3-&gt;conv_block2-&gt;conv1</td>\n      <td>256</td>\n      <td>256</td>\n    </tr>\n    <tr>\n      <th>26</th>\n      <td>base-&gt;decoder_block3-&gt;conv_block2-&gt;conv2</td>\n      <td>256</td>\n      <td>256</td>\n    </tr>\n    <tr>\n      <th>27</th>\n      <td>base-&gt;decoder_block3-&gt;conv_block2-&gt;shortcut</td>\n      <td>256</td>\n      <td>256</td>\n    </tr>\n    <tr>\n      <th>28</th>\n      <td>base-&gt;decoder_block4-&gt;conv_block2-&gt;conv1</td>\n      <td>128</td>\n      <td>128</td>\n    </tr>\n    <tr>\n      <th>29</th>\n      <td>base-&gt;decoder_block4-&gt;conv_block2-&gt;conv2</td>\n      <td>128</td>\n      <td>128</td>\n    </tr>\n    <tr>\n      <th>30</th>\n      <td>base-&gt;decoder_block4-&gt;conv_block2-&gt;shortcut</td>\n      <td>128</td>\n      <td>128</td>\n    </tr>\n    <tr>\n      <th>31</th>\n      <td>base-&gt;decoder_block5-&gt;conv_block2-&gt;conv1</td>\n      <td>64</td>\n      <td>64</td>\n    </tr>\n    <tr>\n      <th>32</th>\n      <td>base-&gt;decoder_block5-&gt;conv_block2-&gt;conv2</td>\n      <td>64</td>\n      <td>64</td>\n    </tr>\n    <tr>\n      <th>33</th>\n      <td>base-&gt;decoder_block5-&gt;conv_block2-&gt;shortcut</td>\n      <td>64</td>\n      <td>64</td>\n    </tr>\n    <tr>\n      <th>34</th>\n      <td>base-&gt;decoder_block6-&gt;conv_block2-&gt;conv1</td>\n      <td>32</td>\n      <td>32</td>\n    </tr>\n    <tr>\n      <th>35</th>\n      <td>base-&gt;decoder_block6-&gt;conv_block2-&gt;conv2</td>\n      <td>32</td>\n      <td>32</td>\n    </tr>\n    <tr>\n      <th>36</th>\n      <td>base-&gt;decoder_block6-&gt;conv_block2-&gt;shortcut</td>\n      <td>32</td>\n      <td>32</td>\n    </tr>\n    <tr>\n      <th>37</th>\n      <td>base-&gt;after_conv</td>\n      <td>3</td>\n      <td>3</td>\n    </tr>\n  </tbody>\n</table>\n</div>"
     },
     "execution_count": 9,
     "metadata": {},
     "output_type": "execute_result"
    }
   ],
   "source": [
    "from utils import calculate_ranks_of_conv_layers\n",
    "\n",
    "# Вызываем функцию для расчета рангов\n",
    "ranks = calculate_ranks_of_conv_layers(merged_lora_model.ss_model)\n",
    "ranks"
   ],
   "metadata": {
    "collapsed": false,
    "ExecuteTime": {
     "end_time": "2024-05-04T17:00:47.837173600Z",
     "start_time": "2024-05-04T17:00:46.534076946Z"
    }
   }
  },
  {
   "cell_type": "markdown",
   "source": [
    "Ранги остались неизменными"
   ],
   "metadata": {
    "collapsed": false
   }
  },
  {
   "cell_type": "markdown",
   "source": [
    "# Посмотрим на среднее alpha затюненой separation net"
   ],
   "metadata": {
    "collapsed": false
   }
  },
  {
   "cell_type": "code",
   "execution_count": 11,
   "outputs": [
    {
     "name": "stdout",
     "output_type": "stream",
     "text": [
      "{'log_norm': 3.462388851620658, 'alpha': 3.506094830784231, 'alpha_weighted': 6.627989736364072, 'log_alpha_norm': 7.121428523017677, 'log_spectral_norm': 2.190242921988549, 'stable_rank': 39.91102403267479}\n"
     ]
    },
    {
     "data": {
      "text/plain": "<Figure size 640x480 with 1 Axes>",
      "image/png": "[encoded data removed]"
     },
     "metadata": {},
     "output_type": "display_data"
    }
   ],
   "source": [
    "from utils import plot_hist\n",
    "\n",
    "base_details, base_summary = describe_weights(merged_lora_model.ss_model)\n",
    "plot_hist(base_details)\n",
    "print(base_summary)"
   ],
   "metadata": {
    "collapsed": false,
    "ExecuteTime": {
     "end_time": "2024-05-04T17:03:33.787881649Z",
     "start_time": "2024-05-04T17:03:29.500543489Z"
    }
   }
  },
  {
   "cell_type": "markdown",
   "source": [
    "Видим, что стало меньше недообученных слоев, но среднее alpha незначительно увеличилось, посмотрим, какие слои были затронуты наиболее сильно и как изменилось alpha конкретного слоя"
   ],
   "metadata": {
    "collapsed": false
   }
  },
  {
   "cell_type": "code",
   "execution_count": 22,
   "outputs": [
    {
     "data": {
      "text/plain": "(1.646, 0.0)"
     },
     "metadata": {},
     "output_type": "display_data"
    },
    {
     "data": {
      "text/plain": "                                          longname    delta_W\nlayer_id                                                     \n72           base.decoder_block2.conv_block2.conv1  14.851562\n54             base.conv_block7a.conv_block1.conv1   9.085938\n55             base.conv_block7a.conv_block1.conv2   8.476562\n42           base.encoder_block5.conv_block1.conv2   8.468750\n48           base.encoder_block6.conv_block1.conv1   8.039062\n83           base.decoder_block3.conv_block2.conv2   7.871094\n41           base.encoder_block5.conv_block1.conv1   7.285156\n49           base.encoder_block6.conv_block1.conv2   6.933594\n63           base.decoder_block1.conv_block2.conv2   6.722656\n62           base.decoder_block1.conv_block2.conv1   6.453125\n35           base.encoder_block4.conv_block1.conv2   5.988281\n73           base.decoder_block2.conv_block2.conv2   5.410156\n82           base.decoder_block3.conv_block2.conv1   4.515625\n84        base.decoder_block3.conv_block2.shortcut   2.609375\n34           base.encoder_block4.conv_block1.conv1   2.552734\n64        base.decoder_block1.conv_block2.shortcut   2.232422\n74        base.decoder_block2.conv_block2.shortcut   1.878906\n28           base.encoder_block3.conv_block1.conv2   1.550781\n43        base.encoder_block5.conv_block1.shortcut   1.506836\n92           base.decoder_block4.conv_block2.conv1   1.411133\n93           base.decoder_block4.conv_block2.conv2   1.390625\n94        base.decoder_block4.conv_block2.shortcut   1.059570\n36        base.encoder_block4.conv_block1.shortcut   0.931641\n21           base.encoder_block2.conv_block1.conv2   0.670410\n29        base.encoder_block3.conv_block1.shortcut   0.668945\n27           base.encoder_block3.conv_block1.conv1   0.631836\n104       base.decoder_block5.conv_block2.shortcut   0.424561\n102          base.decoder_block5.conv_block2.conv1   0.381348\n103          base.decoder_block5.conv_block2.conv2   0.381348\n22        base.encoder_block2.conv_block1.shortcut   0.373779\n20           base.encoder_block2.conv_block1.conv1   0.344971\n15           base.encoder_block1.conv_block1.conv2   0.241089\n14           base.encoder_block1.conv_block1.conv1   0.228149\n112          base.decoder_block6.conv_block2.conv1   0.161011\n113          base.decoder_block6.conv_block2.conv2   0.047852\n114       base.decoder_block6.conv_block2.shortcut   0.038116",
      "text/html": "<div>\n<style scoped>\n    .dataframe tbody tr th:only-of-type {\n        vertical-align: middle;\n    }\n\n    .dataframe tbody tr th {\n        vertical-align: top;\n    }\n\n    .dataframe thead th {\n        text-align: right;\n    }\n</style>\n<table border=\"1\" class=\"dataframe\">\n  <thead>\n    <tr style=\"text-align: right;\">\n      <th></th>\n      <th>longname</th>\n      <th>delta_W</th>\n    </tr>\n    <tr>\n      <th>layer_id</th>\n      <th></th>\n      <th></th>\n    </tr>\n  </thead>\n  <tbody>\n    <tr>\n      <th>72</th>\n      <td>base.decoder_block2.conv_block2.conv1</td>\n      <td>14.851562</td>\n    </tr>\n    <tr>\n      <th>54</th>\n      <td>base.conv_block7a.conv_block1.conv1</td>\n      <td>9.085938</td>\n    </tr>\n    <tr>\n      <th>55</th>\n      <td>base.conv_block7a.conv_block1.conv2</td>\n      <td>8.476562</td>\n    </tr>\n    <tr>\n      <th>42</th>\n      <td>base.encoder_block5.conv_block1.conv2</td>\n      <td>8.468750</td>\n    </tr>\n    <tr>\n      <th>48</th>\n      <td>base.encoder_block6.conv_block1.conv1</td>\n      <td>8.039062</td>\n    </tr>\n    <tr>\n      <th>83</th>\n      <td>base.decoder_block3.conv_block2.conv2</td>\n      <td>7.871094</td>\n    </tr>\n    <tr>\n      <th>41</th>\n      <td>base.encoder_block5.conv_block1.conv1</td>\n      <td>7.285156</td>\n    </tr>\n    <tr>\n      <th>49</th>\n      <td>base.encoder_block6.conv_block1.conv2</td>\n      <td>6.933594</td>\n    </tr>\n    <tr>\n      <th>63</th>\n      <td>base.decoder_block1.conv_block2.conv2</td>\n      <td>6.722656</td>\n    </tr>\n    <tr>\n      <th>62</th>\n      <td>base.decoder_block1.conv_block2.conv1</td>\n      <td>6.453125</td>\n    </tr>\n    <tr>\n      <th>35</th>\n      <td>base.encoder_block4.conv_block1.conv2</td>\n      <td>5.988281</td>\n    </tr>\n    <tr>\n      <th>73</th>\n      <td>base.decoder_block2.conv_block2.conv2</td>\n      <td>5.410156</td>\n    </tr>\n    <tr>\n      <th>82</th>\n      <td>base.decoder_block3.conv_block2.conv1</td>\n      <td>4.515625</td>\n    </tr>\n    <tr>\n      <th>84</th>\n      <td>base.decoder_block3.conv_block2.shortcut</td>\n      <td>2.609375</td>\n    </tr>\n    <tr>\n      <th>34</th>\n      <td>base.encoder_block4.conv_block1.conv1</td>\n      <td>2.552734</td>\n    </tr>\n    <tr>\n      <th>64</th>\n      <td>base.decoder_block1.conv_block2.shortcut</td>\n      <td>2.232422</td>\n    </tr>\n    <tr>\n      <th>74</th>\n      <td>base.decoder_block2.conv_block2.shortcut</td>\n      <td>1.878906</td>\n    </tr>\n    <tr>\n      <th>28</th>\n      <td>base.encoder_block3.conv_block1.conv2</td>\n      <td>1.550781</td>\n    </tr>\n    <tr>\n      <th>43</th>\n      <td>base.encoder_block5.conv_block1.shortcut</td>\n      <td>1.506836</td>\n    </tr>\n    <tr>\n      <th>92</th>\n      <td>base.decoder_block4.conv_block2.conv1</td>\n      <td>1.411133</td>\n    </tr>\n    <tr>\n      <th>93</th>\n      <td>base.decoder_block4.conv_block2.conv2</td>\n      <td>1.390625</td>\n    </tr>\n    <tr>\n      <th>94</th>\n      <td>base.decoder_block4.conv_block2.shortcut</td>\n      <td>1.059570</td>\n    </tr>\n    <tr>\n      <th>36</th>\n      <td>base.encoder_block4.conv_block1.shortcut</td>\n      <td>0.931641</td>\n    </tr>\n    <tr>\n      <th>21</th>\n      <td>base.encoder_block2.conv_block1.conv2</td>\n      <td>0.670410</td>\n    </tr>\n    <tr>\n      <th>29</th>\n      <td>base.encoder_block3.conv_block1.shortcut</td>\n      <td>0.668945</td>\n    </tr>\n    <tr>\n      <th>27</th>\n      <td>base.encoder_block3.conv_block1.conv1</td>\n      <td>0.631836</td>\n    </tr>\n    <tr>\n      <th>104</th>\n      <td>base.decoder_block5.conv_block2.shortcut</td>\n      <td>0.424561</td>\n    </tr>\n    <tr>\n      <th>102</th>\n      <td>base.decoder_block5.conv_block2.conv1</td>\n      <td>0.381348</td>\n    </tr>\n    <tr>\n      <th>103</th>\n      <td>base.decoder_block5.conv_block2.conv2</td>\n      <td>0.381348</td>\n    </tr>\n    <tr>\n      <th>22</th>\n      <td>base.encoder_block2.conv_block1.shortcut</td>\n      <td>0.373779</td>\n    </tr>\n    <tr>\n      <th>20</th>\n      <td>base.encoder_block2.conv_block1.conv1</td>\n      <td>0.344971</td>\n    </tr>\n    <tr>\n      <th>15</th>\n      <td>base.encoder_block1.conv_block1.conv2</td>\n      <td>0.241089</td>\n    </tr>\n    <tr>\n      <th>14</th>\n      <td>base.encoder_block1.conv_block1.conv1</td>\n      <td>0.228149</td>\n    </tr>\n    <tr>\n      <th>112</th>\n      <td>base.decoder_block6.conv_block2.conv1</td>\n      <td>0.161011</td>\n    </tr>\n    <tr>\n      <th>113</th>\n      <td>base.decoder_block6.conv_block2.conv2</td>\n      <td>0.047852</td>\n    </tr>\n    <tr>\n      <th>114</th>\n      <td>base.decoder_block6.conv_block2.shortcut</td>\n      <td>0.038116</td>\n    </tr>\n  </tbody>\n</table>\n</div>"
     },
     "execution_count": 22,
     "metadata": {},
     "output_type": "execute_result"
    }
   ],
   "source": [
    "watcher = ww.WeightWatcher()\n",
    "avg_dW, avg_db, distances = watcher.distances(base_model.ss_model, merged_lora_model.ss_model)\n",
    "display((avg_dW, avg_db))\n",
    "conv_distances = distances[distances['name']=='Conv2d']\n",
    "conv_distances[['longname', 'delta_W']].sort_values('delta_W', ascending=False)"
   ],
   "metadata": {
    "collapsed": false,
    "ExecuteTime": {
     "end_time": "2024-05-04T17:18:05.323640889Z",
     "start_time": "2024-05-04T17:18:04.887309821Z"
    }
   }
  },
  {
   "cell_type": "code",
   "execution_count": 26,
   "outputs": [
    {
     "name": "stdout",
     "output_type": "stream",
     "text": [
      "Группировка по уровню 1:\n",
      "       0  delta_W\n",
      "0  base  121.819 \n",
      "\n",
      "Группировка по уровню 2:\n",
      "        0               1    delta_W\n",
      "2   base  decoder_block2  22.140625\n",
      "0   base    conv_block7a  17.562500\n",
      "11  base  encoder_block5  17.260742\n",
      "1   base  decoder_block1  15.408203\n",
      "3   base  decoder_block3  14.996094\n",
      "12  base  encoder_block6  14.972656\n",
      "10  base  encoder_block4   9.472656\n",
      "4   base  decoder_block4   3.861328\n",
      "9   base  encoder_block3   2.851562\n",
      "8   base  encoder_block2   1.389160\n",
      "5   base  decoder_block5   1.187256\n",
      "7   base  encoder_block1   0.469238\n",
      "6   base  decoder_block6   0.246979 \n",
      "\n"
     ]
    }
   ],
   "source": [
    "max_level = 2\n",
    "# Группировка по блокам\n",
    "df_split = conv_distances['longname'].str.split('.', expand=True)\n",
    "df_expanded = pd.concat([df_split, conv_distances['delta_W']], axis=1)\n",
    "\n",
    "for level in range(max_level):  # Исключаем колонку 'value'\n",
    "    grouped_df = df_expanded.groupby(list(range(level + 1))).sum().reset_index()\n",
    "    grouped_df = grouped_df.sort_values(by='delta_W', ascending=False)\n",
    "    print(f\"Группировка по уровню {level + 1}:\\n\", grouped_df, \"\\n\")"
   ],
   "metadata": {
    "collapsed": false,
    "ExecuteTime": {
     "end_time": "2024-05-04T17:18:40.168663176Z",
     "start_time": "2024-05-04T17:18:40.116370484Z"
    }
   }
  },
  {
   "cell_type": "markdown",
   "source": [
    "Видим, что больше всего подверглись дообучению центральные слои - последние слои энкодера, ботлнек и первые слои декодера. Там находятся высокоуровневые фичи."
   ],
   "metadata": {
    "collapsed": false
   }
  },
  {
   "cell_type": "code",
   "execution_count": 31,
   "outputs": [],
   "source": [
    "base_details, _ = describe_weights(base_model.ss_model)\n",
    "lora_details, _ = describe_weights(merged_lora_model.ss_model)\n",
    "base_details = base_details[['longname', 'alpha', 'warning']]\n",
    "lora_details = lora_details[['longname', 'alpha', 'warning']]"
   ],
   "metadata": {
    "collapsed": false,
    "ExecuteTime": {
     "end_time": "2024-05-04T17:27:18.714201524Z",
     "start_time": "2024-05-04T17:27:10.231731342Z"
    }
   }
  },
  {
   "cell_type": "code",
   "execution_count": 46,
   "outputs": [
    {
     "name": "stdout",
     "output_type": "stream",
     "text": [
      "min change: -2.3804154031149167 max change: 0.15849634454517503\n"
     ]
    },
    {
     "data": {
      "text/plain": "                               base_longname  base_alpha  tuned_alpha  \\\n10  base.encoder_block4.conv_block1.shortcut    4.369195     6.749610   \n9      base.encoder_block4.conv_block1.conv2    4.159504     4.327076   \n21     base.decoder_block2.conv_block2.conv1    2.802861     2.927243   \n7   base.encoder_block3.conv_block1.shortcut    2.911052     3.032172   \n31     base.decoder_block5.conv_block2.conv2    2.274040     2.326600   \n..                                       ...         ...          ...   \n35  base.decoder_block6.conv_block2.shortcut    4.392513     4.377994   \n1      base.encoder_block1.conv_block1.conv2    2.261872     2.245601   \n11     base.encoder_block5.conv_block1.conv1    3.186009     3.166701   \n6      base.encoder_block3.conv_block1.conv2    3.296945     3.201568   \n18     base.decoder_block1.conv_block2.conv1    2.700715     2.542219   \n\n      change base_warning  tuned_warning  \n10 -2.380415               under-trained  \n9  -0.167572                              \n21 -0.124382                              \n7  -0.121120                              \n31 -0.052560                              \n..       ...          ...            ...  \n35  0.014519                              \n1   0.016271                              \n11  0.019308                              \n6   0.095377                              \n18  0.158496                              \n\n[74 rows x 6 columns]",
      "text/html": "<div>\n<style scoped>\n    .dataframe tbody tr th:only-of-type {\n        vertical-align: middle;\n    }\n\n    .dataframe tbody tr th {\n        vertical-align: top;\n    }\n\n    .dataframe thead th {\n        text-align: right;\n    }\n</style>\n<table border=\"1\" class=\"dataframe\">\n  <thead>\n    <tr style=\"text-align: right;\">\n      <th></th>\n      <th>base_longname</th>\n      <th>base_alpha</th>\n      <th>tuned_alpha</th>\n      <th>change</th>\n      <th>base_warning</th>\n      <th>tuned_warning</th>\n    </tr>\n  </thead>\n  <tbody>\n    <tr>\n      <th>10</th>\n      <td>base.encoder_block4.conv_block1.shortcut</td>\n      <td>4.369195</td>\n      <td>6.749610</td>\n      <td>-2.380415</td>\n      <td></td>\n      <td>under-trained</td>\n    </tr>\n    <tr>\n      <th>9</th>\n      <td>base.encoder_block4.conv_block1.conv2</td>\n      <td>4.159504</td>\n      <td>4.327076</td>\n      <td>-0.167572</td>\n      <td></td>\n      <td></td>\n    </tr>\n    <tr>\n      <th>21</th>\n      <td>base.decoder_block2.conv_block2.conv1</td>\n      <td>2.802861</td>\n      <td>2.927243</td>\n      <td>-0.124382</td>\n      <td></td>\n      <td></td>\n    </tr>\n    <tr>\n      <th>7</th>\n      <td>base.encoder_block3.conv_block1.shortcut</td>\n      <td>2.911052</td>\n      <td>3.032172</td>\n      <td>-0.121120</td>\n      <td></td>\n      <td></td>\n    </tr>\n    <tr>\n      <th>31</th>\n      <td>base.decoder_block5.conv_block2.conv2</td>\n      <td>2.274040</td>\n      <td>2.326600</td>\n      <td>-0.052560</td>\n      <td></td>\n      <td></td>\n    </tr>\n    <tr>\n      <th>...</th>\n      <td>...</td>\n      <td>...</td>\n      <td>...</td>\n      <td>...</td>\n      <td>...</td>\n      <td>...</td>\n    </tr>\n    <tr>\n      <th>35</th>\n      <td>base.decoder_block6.conv_block2.shortcut</td>\n      <td>4.392513</td>\n      <td>4.377994</td>\n      <td>0.014519</td>\n      <td></td>\n      <td></td>\n    </tr>\n    <tr>\n      <th>1</th>\n      <td>base.encoder_block1.conv_block1.conv2</td>\n      <td>2.261872</td>\n      <td>2.245601</td>\n      <td>0.016271</td>\n      <td></td>\n      <td></td>\n    </tr>\n    <tr>\n      <th>11</th>\n      <td>base.encoder_block5.conv_block1.conv1</td>\n      <td>3.186009</td>\n      <td>3.166701</td>\n      <td>0.019308</td>\n      <td></td>\n      <td></td>\n    </tr>\n    <tr>\n      <th>6</th>\n      <td>base.encoder_block3.conv_block1.conv2</td>\n      <td>3.296945</td>\n      <td>3.201568</td>\n      <td>0.095377</td>\n      <td></td>\n      <td></td>\n    </tr>\n    <tr>\n      <th>18</th>\n      <td>base.decoder_block1.conv_block2.conv1</td>\n      <td>2.700715</td>\n      <td>2.542219</td>\n      <td>0.158496</td>\n      <td></td>\n      <td></td>\n    </tr>\n  </tbody>\n</table>\n<p>74 rows × 6 columns</p>\n</div>"
     },
     "execution_count": 46,
     "metadata": {},
     "output_type": "execute_result"
    }
   ],
   "source": [
    "concat_df = pd.concat([base_details.add_prefix('base_'), lora_details.add_prefix('tuned_')], axis=1)\n",
    "concat_df['change'] = concat_df['base_alpha'] - concat_df['tuned_alpha']\n",
    "print(f'min change: {concat_df[\"change\"].min()}', f'max change: {concat_df[\"change\"].max()}')\n",
    "concat_df[['base_longname', 'base_alpha', 'tuned_alpha', 'change', 'base_warning', 'tuned_warning']].sort_values('change')"
   ],
   "metadata": {
    "collapsed": false,
    "ExecuteTime": {
     "end_time": "2024-05-04T17:37:06.619831949Z",
     "start_time": "2024-05-04T17:37:06.551813554Z"
    }
   }
  },
  {
   "cell_type": "markdown",
   "source": [
    "Видно, что наибольший вклад в изменение среднего alpha вносит один из skip-connection в 4 слое encoder - он перешел из хорошо обученного. Остальные слои, судя по alpha - изменяют свою обучающую способность незначительно"
   ],
   "metadata": {
    "collapsed": false
   }
  },
  {
   "cell_type": "code",
   "execution_count": null,
   "outputs": [],
   "source": [],
   "metadata": {
    "collapsed": false
   }
  }
 ],
 "metadata": {
  "kernelspec": {
   "display_name": "Python 3",
   "language": "python",
   "name": "python3"
  },
  "language_info": {
   "codemirror_mode": {
    "name": "ipython",
    "version": 2
   },
   "file_extension": ".py",
   "mimetype": "text/x-python",
   "name": "python",
   "nbconvert_exporter": "python",
   "pygments_lexer": "ipython2",
   "version": "2.7.6"
  }
 },
 "nbformat": 4,
 "nbformat_minor": 0
}
