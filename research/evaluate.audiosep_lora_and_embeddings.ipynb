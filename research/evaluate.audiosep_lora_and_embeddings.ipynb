{
 "cells": [
  {
   "cell_type": "markdown",
   "source": [
    "# Комбинированный подход"
   ],
   "metadata": {
    "collapsed": false
   }
  },
  {
   "cell_type": "markdown",
   "source": [
    "Загружаем модель"
   ],
   "metadata": {
    "collapsed": false
   }
  },
  {
   "cell_type": "code",
   "execution_count": 1,
   "outputs": [],
   "source": [
    "%load_ext autoreload\n",
    "%autoreload 2"
   ],
   "metadata": {
    "collapsed": false,
    "ExecuteTime": {
     "end_time": "2024-05-10T13:01:41.906268977Z",
     "start_time": "2024-05-10T13:01:41.905990334Z"
    }
   }
  },
  {
   "cell_type": "code",
   "execution_count": 2,
   "outputs": [],
   "source": [
    "# ! pip uninstall numba -y && pip install numba"
   ],
   "metadata": {
    "collapsed": false,
    "ExecuteTime": {
     "end_time": "2024-05-10T13:01:41.907630490Z",
     "start_time": "2024-05-10T13:01:41.906483940Z"
    }
   }
  },
  {
   "cell_type": "code",
   "execution_count": 3,
   "outputs": [],
   "source": [
    "import os\n",
    "import sys\n",
    "\n",
    "# Получаем абсолютный путь к корневой директории проекта (директория выше текущей)\n",
    "root_path = os.path.abspath(os.path.join(os.getcwd(), '..'))\n",
    "\n",
    "# Добавляем корневую директорию в sys.path\n",
    "if root_path not in sys.path:\n",
    "    sys.path.append(root_path)"
   ],
   "metadata": {
    "collapsed": false,
    "ExecuteTime": {
     "end_time": "2024-05-10T13:01:41.907802552Z",
     "start_time": "2024-05-10T13:01:41.906609716Z"
    }
   }
  },
  {
   "cell_type": "code",
   "execution_count": 4,
   "outputs": [
    {
     "name": "stderr",
     "output_type": "stream",
     "text": [
      "2024-05-10 16:01:43.132087: E external/local_xla/xla/stream_executor/cuda/cuda_dnn.cc:9261] Unable to register cuDNN factory: Attempting to register factory for plugin cuDNN when one has already been registered\n",
      "2024-05-10 16:01:43.132113: E external/local_xla/xla/stream_executor/cuda/cuda_fft.cc:607] Unable to register cuFFT factory: Attempting to register factory for plugin cuFFT when one has already been registered\n",
      "2024-05-10 16:01:43.132896: E external/local_xla/xla/stream_executor/cuda/cuda_blas.cc:1515] Unable to register cuBLAS factory: Attempting to register factory for plugin cuBLAS when one has already been registered\n",
      "2024-05-10 16:01:43.136866: I tensorflow/core/platform/cpu_feature_guard.cc:182] This TensorFlow binary is optimized to use available CPU instructions in performance-critical operations.\n",
      "To enable the following instructions: AVX2 FMA, in other operations, rebuild TensorFlow with the appropriate compiler flags.\n",
      "2024-05-10 16:01:43.657899: W tensorflow/compiler/tf2tensorrt/utils/py_utils.cc:38] TF-TRT Warning: Could not find TensorRT\n"
     ]
    }
   ],
   "source": [
    "from model_loaders import load_ss_model\n",
    "import weightwatcher as ww\n",
    "from matplotlib import pyplot as plt\n",
    "from pipeline import separate_audio\n",
    "import torch\n",
    "from utils import parse_yaml\n",
    "from models.clap_encoder import CLAP_Encoder\n",
    "from models.audiosep_lora_and_tuned_embeddings import AudioSepLoraAndTunedEmbeddings\n",
    "from utils import plot_separation_result"
   ],
   "metadata": {
    "collapsed": false,
    "ExecuteTime": {
     "end_time": "2024-05-10T13:01:46.972162013Z",
     "start_time": "2024-05-10T13:01:41.906703531Z"
    }
   }
  },
  {
   "cell_type": "code",
   "execution_count": 5,
   "outputs": [],
   "source": [
    "SS_CONFIG_PATH = '../config/audiosep_base.yaml'\n",
    "CLAP_CKPT_PATH = '../checkpoint/music_speech_audioset_epoch_15_esc_89.98.pt'\n",
    "AUDIOSEP_CKPT_PATH = '../checkpoint/audiosep_base_4M_steps.ckpt'\n",
    "classes = [\"bass\", \"drums\", \"vocals\", \"other musical instruments\"]\n",
    "device = torch.device('cuda')\n",
    "configs = parse_yaml(SS_CONFIG_PATH)"
   ],
   "metadata": {
    "collapsed": false,
    "ExecuteTime": {
     "end_time": "2024-05-10T13:01:47.022631Z",
     "start_time": "2024-05-10T13:01:46.974168466Z"
    }
   }
  },
  {
   "cell_type": "code",
   "execution_count": 6,
   "outputs": [
    {
     "name": "stderr",
     "output_type": "stream",
     "text": [
      "2024-05-10 16:01:47,434 - INFO - Loading HTSAT-base model config.\n",
      "2024-05-10 16:01:49,547 - INFO - Loading pretrained HTSAT-base-roberta weights (../checkpoint/music_speech_audioset_epoch_15_esc_89.98.pt).\n"
     ]
    }
   ],
   "source": [
    "query_encoder = CLAP_Encoder(pretrained_path = CLAP_CKPT_PATH).eval().to(device)\n",
    "base_model = load_ss_model(configs=configs, checkpoint_path=AUDIOSEP_CKPT_PATH, query_encoder=query_encoder).eval().to(device)"
   ],
   "metadata": {
    "collapsed": false,
    "ExecuteTime": {
     "end_time": "2024-05-10T13:01:52.537683221Z",
     "start_time": "2024-05-10T13:01:47.025177154Z"
    }
   }
  },
  {
   "cell_type": "code",
   "execution_count": 7,
   "outputs": [
    {
     "name": "stderr",
     "output_type": "stream",
     "text": [
      "2024-05-10 16:01:52,766 - INFO - Loading HTSAT-base model config.\n",
      "2024-05-10 16:01:54,146 - INFO - Loading pretrained HTSAT-base-roberta weights (../checkpoint/music_speech_audioset_epoch_15_esc_89.98.pt).\n"
     ]
    }
   ],
   "source": [
    "checkpoint_path = '../checkpoints/final/musdb18/lora_embeddings/final.ckpt'\n",
    "\n",
    "query_encoder_for_lora = CLAP_Encoder(pretrained_path = CLAP_CKPT_PATH).eval().to(device)\n",
    "base_model_for_lora = load_ss_model(configs=configs, checkpoint_path=AUDIOSEP_CKPT_PATH, query_encoder=query_encoder_for_lora).eval().to(device)\n",
    "\n",
    "lora_model = AudioSepLoraAndTunedEmbeddings.load_from_checkpoint(\n",
    "    checkpoint_path=checkpoint_path,\n",
    "    strict=False,\n",
    "    pretrained_audiosep_model = base_model_for_lora,\n",
    "    loss_function=None,\n",
    "    waveform_mixer=None,\n",
    "    lr_lambda_func=None\n",
    ") \\\n",
    "    .eval() \\\n",
    "    .to(device)\n",
    "\n",
    "merged_lora_model = lora_model.model.merge_and_unload()\n",
    "\n",
    "merged_lora_model.query_encoder = lora_model.model.query_encoder"
   ],
   "metadata": {
    "collapsed": false,
    "ExecuteTime": {
     "end_time": "2024-05-10T13:01:59.869471479Z",
     "start_time": "2024-05-10T13:01:52.539629221Z"
    }
   }
  },
  {
   "cell_type": "code",
   "execution_count": 10,
   "outputs": [
    {
     "name": "stdout",
     "output_type": "stream",
     "text": [
      "Separating audio from [../audios/ANIKV - слов больше нет - Lørean Edit.wav] with textual query: [bass]\n",
      "Separated audio written to [../separation_result/audiosep_lora_and_tuned_embedings/ANIKV - слов больше нет - Lørean Edit/bass.wav]\n",
      "Separating audio from [../audios/ANIKV - слов больше нет - Lørean Edit.wav] with textual query: [drums]\n",
      "Separated audio written to [../separation_result/audiosep_lora_and_tuned_embedings/ANIKV - слов больше нет - Lørean Edit/drums.wav]\n",
      "Separating audio from [../audios/ANIKV - слов больше нет - Lørean Edit.wav] with textual query: [vocals]\n",
      "Separated audio written to [../separation_result/audiosep_lora_and_tuned_embedings/ANIKV - слов больше нет - Lørean Edit/vocals.wav]\n",
      "Separating audio from [../audios/ANIKV - слов больше нет - Lørean Edit.wav] with textual query: [other musical instruments]\n",
      "Separated audio written to [../separation_result/audiosep_lora_and_tuned_embedings/ANIKV - слов больше нет - Lørean Edit/other musical instruments.wav]\n",
      "Separating audio from [../audios/CREAM SODA - Никаких Больше Вечеринок.wav] with textual query: [bass]\n",
      "Separated audio written to [../separation_result/audiosep_lora_and_tuned_embedings/CREAM SODA - Никаких Больше Вечеринок/bass.wav]\n",
      "Separating audio from [../audios/CREAM SODA - Никаких Больше Вечеринок.wav] with textual query: [drums]\n",
      "Separated audio written to [../separation_result/audiosep_lora_and_tuned_embedings/CREAM SODA - Никаких Больше Вечеринок/drums.wav]\n",
      "Separating audio from [../audios/CREAM SODA - Никаких Больше Вечеринок.wav] with textual query: [vocals]\n",
      "Separated audio written to [../separation_result/audiosep_lora_and_tuned_embedings/CREAM SODA - Никаких Больше Вечеринок/vocals.wav]\n",
      "Separating audio from [../audios/CREAM SODA - Никаких Больше Вечеринок.wav] with textual query: [other musical instruments]\n",
      "Separated audio written to [../separation_result/audiosep_lora_and_tuned_embedings/CREAM SODA - Никаких Больше Вечеринок/other musical instruments.wav]\n",
      "Separating audio from [../audios/Ruko - Take my hand.wav] with textual query: [bass]\n",
      "Separated audio written to [../separation_result/audiosep_lora_and_tuned_embedings/Ruko - Take my hand/bass.wav]\n",
      "Separating audio from [../audios/Ruko - Take my hand.wav] with textual query: [drums]\n",
      "Separated audio written to [../separation_result/audiosep_lora_and_tuned_embedings/Ruko - Take my hand/drums.wav]\n",
      "Separating audio from [../audios/Ruko - Take my hand.wav] with textual query: [vocals]\n",
      "Separated audio written to [../separation_result/audiosep_lora_and_tuned_embedings/Ruko - Take my hand/vocals.wav]\n",
      "Separating audio from [../audios/Ruko - Take my hand.wav] with textual query: [other musical instruments]\n",
      "Separated audio written to [../separation_result/audiosep_lora_and_tuned_embedings/Ruko - Take my hand/other musical instruments.wav]\n",
      "Separating audio from [../audios/AURORA - I Went Too Far.wav] with textual query: [bass]\n",
      "Separated audio written to [../separation_result/audiosep_lora_and_tuned_embedings/AURORA - I Went Too Far/bass.wav]\n",
      "Separating audio from [../audios/AURORA - I Went Too Far.wav] with textual query: [drums]\n",
      "Separated audio written to [../separation_result/audiosep_lora_and_tuned_embedings/AURORA - I Went Too Far/drums.wav]\n",
      "Separating audio from [../audios/AURORA - I Went Too Far.wav] with textual query: [vocals]\n",
      "Separated audio written to [../separation_result/audiosep_lora_and_tuned_embedings/AURORA - I Went Too Far/vocals.wav]\n",
      "Separating audio from [../audios/AURORA - I Went Too Far.wav] with textual query: [other musical instruments]\n",
      "Separated audio written to [../separation_result/audiosep_lora_and_tuned_embedings/AURORA - I Went Too Far/other musical instruments.wav]\n",
      "Separating audio from [../audios/Король и Шут - Дурак и молния.wav] with textual query: [bass]\n",
      "Separated audio written to [../separation_result/audiosep_lora_and_tuned_embedings/Король и Шут - Дурак и молния/bass.wav]\n",
      "Separating audio from [../audios/Король и Шут - Дурак и молния.wav] with textual query: [drums]\n",
      "Separated audio written to [../separation_result/audiosep_lora_and_tuned_embedings/Король и Шут - Дурак и молния/drums.wav]\n",
      "Separating audio from [../audios/Король и Шут - Дурак и молния.wav] with textual query: [vocals]\n",
      "Separated audio written to [../separation_result/audiosep_lora_and_tuned_embedings/Король и Шут - Дурак и молния/vocals.wav]\n",
      "Separating audio from [../audios/Король и Шут - Дурак и молния.wav] with textual query: [other musical instruments]\n",
      "Separated audio written to [../separation_result/audiosep_lora_and_tuned_embedings/Король и Шут - Дурак и молния/other musical instruments.wav]\n"
     ]
    }
   ],
   "source": [
    "import shutil\n",
    "from ipywidgets import widgets\n",
    "\n",
    "test_files = [f'../audios/{filename}' for filename in os.listdir('../audios')]\n",
    "\n",
    "audio_widgets = {cls: {} for cls in classes + ['original']}\n",
    "\n",
    "for file in test_files:\n",
    "    filename = file.split(os.sep)[-1]\n",
    "    audio_widget = widgets.Audio(value=open(file, \"rb\").read(), format=\"wav\", controls=True, autoplay=False)\n",
    "    audio_widgets['original'][filename] = audio_widget\n",
    "    output_dir = f'../separation_result/musdb18/audiosep_lora_and_tuned_embedings/{filename.split(\".wav\")[0]}/'\n",
    "    os.makedirs(os.path.dirname(output_dir), exist_ok=True)\n",
    "    for cls in classes:\n",
    "        output_file = os.path.join(output_dir, f'{cls}.wav')\n",
    "        separate_audio(merged_lora_model, file, cls, output_file, device, use_chunk=True)\n",
    "        audio_widget = widgets.Audio(value=open(output_file, \"rb\").read(), format=\"wav\", controls=True, autoplay=False)\n",
    "        audio_widgets[cls][filename] = audio_widget\n",
    "\n",
    "    shutil.copyfile(file, f'{output_dir}/original.wav')"
   ],
   "metadata": {
    "collapsed": false,
    "ExecuteTime": {
     "end_time": "2024-05-10T13:30:17.740455976Z",
     "start_time": "2024-05-10T13:29:03.460833358Z"
    }
   }
  },
  {
   "cell_type": "code",
   "execution_count": 11,
   "outputs": [
    {
     "data": {
      "text/plain": "HTML(value='<style>.widget-label { font-size: 16px; font-weight: bold; }</style>')",
      "application/vnd.jupyter.widget-view+json": {
       "version_major": 2,
       "version_minor": 0,
       "model_id": "1bffc0a04b514c97bf841093ed8f2a40"
      }
     },
     "metadata": {},
     "output_type": "display_data"
    },
    {
     "data": {
      "text/plain": "VBox(children=(HBox(children=(Label(value=''), Label(value='bass', layout=Layout(margin='0 10px 0 10px')), Lab…",
      "application/vnd.jupyter.widget-view+json": {
       "version_major": 2,
       "version_minor": 0,
       "model_id": "e65342ca28c84b628b2a38ed36d66b22"
      }
     },
     "metadata": {},
     "output_type": "display_data"
    }
   ],
   "source": [
    "plot_separation_result(audio_widgets)"
   ],
   "metadata": {
    "collapsed": false,
    "ExecuteTime": {
     "end_time": "2024-05-10T13:30:17.795131782Z",
     "start_time": "2024-05-10T13:30:17.741092059Z"
    }
   }
  },
  {
   "cell_type": "code",
   "execution_count": null,
   "outputs": [],
   "source": [],
   "metadata": {
    "collapsed": false
   }
  }
 ],
 "metadata": {
  "kernelspec": {
   "display_name": "Python 3",
   "language": "python",
   "name": "python3"
  },
  "language_info": {
   "codemirror_mode": {
    "name": "ipython",
    "version": 2
   },
   "file_extension": ".py",
   "mimetype": "text/x-python",
   "name": "python",
   "nbconvert_exporter": "python",
   "pygments_lexer": "ipython2",
   "version": "2.7.6"
  }
 },
 "nbformat": 4,
 "nbformat_minor": 0
}
