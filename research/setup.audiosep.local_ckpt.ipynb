{
 "cells": [
  {
   "cell_type": "markdown",
   "source": [
    "# Демонстрация работы базовой версии AudioSep из локально скачанного чекпоинта"
   ],
   "metadata": {
    "collapsed": false
   }
  },
  {
   "cell_type": "code",
   "execution_count": 1,
   "outputs": [],
   "source": [
    "%load_ext autoreload\n",
    "%autoreload 2"
   ],
   "metadata": {
    "collapsed": false,
    "ExecuteTime": {
     "end_time": "2024-05-11T13:18:39.623238516Z",
     "start_time": "2024-05-11T13:18:39.579087159Z"
    }
   }
  },
  {
   "cell_type": "code",
   "execution_count": 2,
   "outputs": [],
   "source": [
    "# ! pip uninstall numba -y && pip install numba"
   ],
   "metadata": {
    "collapsed": false,
    "ExecuteTime": {
     "end_time": "2024-05-11T13:18:39.624282888Z",
     "start_time": "2024-05-11T13:18:39.621554525Z"
    }
   }
  },
  {
   "cell_type": "code",
   "execution_count": 3,
   "outputs": [],
   "source": [
    "import os\n",
    "import sys\n",
    "\n",
    "# Получаем абсолютный путь к корневой директории проекта (директория выше текущей)\n",
    "root_path = os.path.abspath(os.path.join(os.getcwd(), '..'))\n",
    "\n",
    "# Добавляем корневую директорию в sys.path\n",
    "if root_path not in sys.path:\n",
    "    sys.path.append(root_path)"
   ],
   "metadata": {
    "collapsed": false,
    "ExecuteTime": {
     "end_time": "2024-05-11T13:18:39.629260249Z",
     "start_time": "2024-05-11T13:18:39.621908033Z"
    }
   }
  },
  {
   "cell_type": "code",
   "execution_count": 4,
   "outputs": [
    {
     "name": "stderr",
     "output_type": "stream",
     "text": [
      "2024-05-11 16:18:42.492404: E external/local_xla/xla/stream_executor/cuda/cuda_dnn.cc:9261] Unable to register cuDNN factory: Attempting to register factory for plugin cuDNN when one has already been registered\n",
      "2024-05-11 16:18:42.492457: E external/local_xla/xla/stream_executor/cuda/cuda_fft.cc:607] Unable to register cuFFT factory: Attempting to register factory for plugin cuFFT when one has already been registered\n",
      "2024-05-11 16:18:42.493413: E external/local_xla/xla/stream_executor/cuda/cuda_blas.cc:1515] Unable to register cuBLAS factory: Attempting to register factory for plugin cuBLAS when one has already been registered\n",
      "2024-05-11 16:18:42.498761: I tensorflow/core/platform/cpu_feature_guard.cc:182] This TensorFlow binary is optimized to use available CPU instructions in performance-critical operations.\n",
      "To enable the following instructions: AVX2 FMA, in other operations, rebuild TensorFlow with the appropriate compiler flags.\n",
      "2024-05-11 16:18:43.464746: W tensorflow/compiler/tf2tensorrt/utils/py_utils.cc:38] TF-TRT Warning: Could not find TensorRT\n"
     ]
    }
   ],
   "source": [
    "from pipeline import separate_audio\n",
    "import torch\n",
    "from utils import parse_yaml\n",
    "from model_loaders import load_ss_model\n",
    "from models.clap_encoder import CLAP_Encoder\n",
    "import IPython.display as ipd"
   ],
   "metadata": {
    "collapsed": false,
    "ExecuteTime": {
     "end_time": "2024-05-11T13:18:46.946319427Z",
     "start_time": "2024-05-11T13:18:39.628657670Z"
    }
   }
  },
  {
   "cell_type": "code",
   "execution_count": 5,
   "outputs": [],
   "source": [
    "SS_CONFIG_PATH = '../config/audiosep_base.yaml'\n",
    "CLAP_CKPT_PATH = '../checkpoint/music_speech_audioset_epoch_15_esc_89.98.pt'\n",
    "AUDIOSEP_CKPT_PATH = '../checkpoint/audiosep_base_4M_steps.ckpt'"
   ],
   "metadata": {
    "collapsed": false,
    "ExecuteTime": {
     "end_time": "2024-05-11T13:18:46.965983684Z",
     "start_time": "2024-05-11T13:18:46.946856521Z"
    }
   }
  },
  {
   "cell_type": "code",
   "execution_count": 6,
   "outputs": [
    {
     "name": "stderr",
     "output_type": "stream",
     "text": [
      "2024-05-11 16:18:47,223 - INFO - Loading HTSAT-base model config.\n",
      "2024-05-11 16:18:49,632 - INFO - Loading pretrained HTSAT-base-roberta weights (../checkpoint/music_speech_audioset_epoch_15_esc_89.98.pt).\n"
     ]
    }
   ],
   "source": [
    "device = torch.device('cuda')\n",
    "query_encoder = CLAP_Encoder(pretrained_path = CLAP_CKPT_PATH).eval().to(device)\n",
    "\n",
    "configs = parse_yaml(SS_CONFIG_PATH)\n",
    "model = load_ss_model(configs=configs, checkpoint_path=AUDIOSEP_CKPT_PATH, query_encoder=query_encoder).eval().to(device)"
   ],
   "metadata": {
    "collapsed": false,
    "ExecuteTime": {
     "end_time": "2024-05-11T13:18:53.126455822Z",
     "start_time": "2024-05-11T13:18:46.966288901Z"
    }
   }
  },
  {
   "cell_type": "code",
   "execution_count": 7,
   "outputs": [
    {
     "name": "stdout",
     "output_type": "stream",
     "text": [
      "Separating audio from [../audios/ANIKV - слов больше нет - Lørean Edit.wav] with textual query: [bass]\n",
      "Separated audio written to [../separation_result/audiosep_local_ckpt/ANIKV - слов больше нет - Lørean Edit/bass.wav]\n",
      "Separating audio from [../audios/ANIKV - слов больше нет - Lørean Edit.wav] with textual query: [drums]\n",
      "Separated audio written to [../separation_result/audiosep_local_ckpt/ANIKV - слов больше нет - Lørean Edit/drums.wav]\n",
      "Separating audio from [../audios/ANIKV - слов больше нет - Lørean Edit.wav] with textual query: [vocals]\n",
      "Separated audio written to [../separation_result/audiosep_local_ckpt/ANIKV - слов больше нет - Lørean Edit/vocals.wav]\n",
      "Separating audio from [../audios/ANIKV - слов больше нет - Lørean Edit.wav] with textual query: [other musical instruments]\n",
      "Separated audio written to [../separation_result/audiosep_local_ckpt/ANIKV - слов больше нет - Lørean Edit/other musical instruments.wav]\n",
      "Separating audio from [../audios/CREAM SODA - Никаких Больше Вечеринок.wav] with textual query: [bass]\n",
      "Separated audio written to [../separation_result/audiosep_local_ckpt/CREAM SODA - Никаких Больше Вечеринок/bass.wav]\n",
      "Separating audio from [../audios/CREAM SODA - Никаких Больше Вечеринок.wav] with textual query: [drums]\n",
      "Separated audio written to [../separation_result/audiosep_local_ckpt/CREAM SODA - Никаких Больше Вечеринок/drums.wav]\n",
      "Separating audio from [../audios/CREAM SODA - Никаких Больше Вечеринок.wav] with textual query: [vocals]\n",
      "Separated audio written to [../separation_result/audiosep_local_ckpt/CREAM SODA - Никаких Больше Вечеринок/vocals.wav]\n",
      "Separating audio from [../audios/CREAM SODA - Никаких Больше Вечеринок.wav] with textual query: [other musical instruments]\n",
      "Separated audio written to [../separation_result/audiosep_local_ckpt/CREAM SODA - Никаких Больше Вечеринок/other musical instruments.wav]\n",
      "Separating audio from [../audios/Ruko - Take my hand.wav] with textual query: [bass]\n",
      "Separated audio written to [../separation_result/audiosep_local_ckpt/Ruko - Take my hand/bass.wav]\n",
      "Separating audio from [../audios/Ruko - Take my hand.wav] with textual query: [drums]\n",
      "Separated audio written to [../separation_result/audiosep_local_ckpt/Ruko - Take my hand/drums.wav]\n",
      "Separating audio from [../audios/Ruko - Take my hand.wav] with textual query: [vocals]\n",
      "Separated audio written to [../separation_result/audiosep_local_ckpt/Ruko - Take my hand/vocals.wav]\n",
      "Separating audio from [../audios/Ruko - Take my hand.wav] with textual query: [other musical instruments]\n",
      "Separated audio written to [../separation_result/audiosep_local_ckpt/Ruko - Take my hand/other musical instruments.wav]\n",
      "Separating audio from [../audios/AURORA - I Went Too Far.wav] with textual query: [bass]\n",
      "Separated audio written to [../separation_result/audiosep_local_ckpt/AURORA - I Went Too Far/bass.wav]\n",
      "Separating audio from [../audios/AURORA - I Went Too Far.wav] with textual query: [drums]\n",
      "Separated audio written to [../separation_result/audiosep_local_ckpt/AURORA - I Went Too Far/drums.wav]\n",
      "Separating audio from [../audios/AURORA - I Went Too Far.wav] with textual query: [vocals]\n",
      "Separated audio written to [../separation_result/audiosep_local_ckpt/AURORA - I Went Too Far/vocals.wav]\n",
      "Separating audio from [../audios/AURORA - I Went Too Far.wav] with textual query: [other musical instruments]\n",
      "Separated audio written to [../separation_result/audiosep_local_ckpt/AURORA - I Went Too Far/other musical instruments.wav]\n",
      "Separating audio from [../audios/Король и Шут - Дурак и молния.wav] with textual query: [bass]\n",
      "Separated audio written to [../separation_result/audiosep_local_ckpt/Король и Шут - Дурак и молния/bass.wav]\n",
      "Separating audio from [../audios/Король и Шут - Дурак и молния.wav] with textual query: [drums]\n",
      "Separated audio written to [../separation_result/audiosep_local_ckpt/Король и Шут - Дурак и молния/drums.wav]\n",
      "Separating audio from [../audios/Король и Шут - Дурак и молния.wav] with textual query: [vocals]\n",
      "Separated audio written to [../separation_result/audiosep_local_ckpt/Король и Шут - Дурак и молния/vocals.wav]\n",
      "Separating audio from [../audios/Король и Шут - Дурак и молния.wav] with textual query: [other musical instruments]\n",
      "Separated audio written to [../separation_result/audiosep_local_ckpt/Король и Шут - Дурак и молния/other musical instruments.wav]\n"
     ]
    }
   ],
   "source": [
    "import shutil\n",
    "from ipywidgets import widgets\n",
    "classes = [\"bass\", \"drums\", \"vocals\", \"other musical instruments\"]\n",
    "test_files = [f'../audios/{filename}' for filename in os.listdir('../audios')]\n",
    "\n",
    "audio_widgets = {cls: {} for cls in classes + ['original']}\n",
    "\n",
    "for file in test_files:\n",
    "    filename = file.split(os.sep)[-1]\n",
    "    audio_widget = widgets.Audio(value=open(file, \"rb\").read(), format=\"wav\", controls=True, autoplay=False)\n",
    "    audio_widgets['original'][filename] = audio_widget\n",
    "    output_dir = f'../separation_result/audiosep_local_ckpt/{filename.split(\".wav\")[0]}/'\n",
    "    os.makedirs(os.path.dirname(output_dir), exist_ok=True)\n",
    "    for cls in classes:\n",
    "        output_file = os.path.join(output_dir, f'{cls}.wav')\n",
    "        separate_audio(model, file, cls, output_file, device, use_chunk=True)\n",
    "        audio_widget = widgets.Audio(value=open(output_file, \"rb\").read(), format=\"wav\", controls=True, autoplay=False)\n",
    "        audio_widgets[cls][filename] = audio_widget\n",
    "\n",
    "    shutil.copyfile(file, f'{output_dir}/original.wav')"
   ],
   "metadata": {
    "collapsed": false,
    "ExecuteTime": {
     "end_time": "2024-05-11T13:20:06.063463841Z",
     "start_time": "2024-05-11T13:18:53.129491966Z"
    }
   }
  },
  {
   "cell_type": "code",
   "execution_count": 8,
   "outputs": [
    {
     "data": {
      "text/plain": "HTML(value='<style>.widget-label { font-size: 16px; font-weight: bold; }</style>')",
      "application/vnd.jupyter.widget-view+json": {
       "version_major": 2,
       "version_minor": 0,
       "model_id": "e6fcde8d009d4faaa77d6179214b6897"
      }
     },
     "metadata": {},
     "output_type": "display_data"
    },
    {
     "data": {
      "text/plain": "VBox(children=(HBox(children=(Label(value=''), Label(value='bass', layout=Layout(margin='0 10px 0 10px')), Lab…",
      "application/vnd.jupyter.widget-view+json": {
       "version_major": 2,
       "version_minor": 0,
       "model_id": "2a2f2bc6f1834777a366edf1dc416108"
      }
     },
     "metadata": {},
     "output_type": "display_data"
    }
   ],
   "source": [
    "from utils import plot_separation_result\n",
    "\n",
    "plot_separation_result(audio_widgets)"
   ],
   "metadata": {
    "collapsed": false,
    "ExecuteTime": {
     "end_time": "2024-05-11T13:20:06.117565510Z",
     "start_time": "2024-05-11T13:20:06.063789646Z"
    }
   }
  },
  {
   "cell_type": "markdown",
   "source": [
    "Получаем одинаково плохой результат"
   ],
   "metadata": {
    "collapsed": false
   }
  },
  {
   "cell_type": "code",
   "execution_count": 8,
   "outputs": [],
   "source": [],
   "metadata": {
    "collapsed": false
   }
  }
 ],
 "metadata": {
  "kernelspec": {
   "display_name": "Python 3",
   "language": "python",
   "name": "python3"
  },
  "language_info": {
   "codemirror_mode": {
    "name": "ipython",
    "version": 2
   },
   "file_extension": ".py",
   "mimetype": "text/x-python",
   "name": "python",
   "nbconvert_exporter": "python",
   "pygments_lexer": "ipython2",
   "version": "2.7.6"
  }
 },
 "nbformat": 4,
 "nbformat_minor": 0
}
