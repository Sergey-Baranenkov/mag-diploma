{
 "cells": [
  {
   "cell_type": "markdown",
   "source": [
    "# Демонстрация работы базовой версии AudioSep из локально скачанного чекпоинта"
   ],
   "metadata": {
    "collapsed": false
   }
  },
  {
   "cell_type": "code",
   "execution_count": 1,
   "outputs": [],
   "source": [
    "%load_ext autoreload\n",
    "%autoreload 2"
   ],
   "metadata": {
    "collapsed": false,
    "ExecuteTime": {
     "end_time": "2024-05-05T18:29:56.341488662Z",
     "start_time": "2024-05-05T18:29:56.341254415Z"
    }
   }
  },
  {
   "cell_type": "code",
   "execution_count": 2,
   "outputs": [],
   "source": [
    "# ! pip uninstall numba -y && pip install numba"
   ],
   "metadata": {
    "collapsed": false,
    "ExecuteTime": {
     "end_time": "2024-05-05T18:29:56.341826897Z",
     "start_time": "2024-05-05T18:29:56.341632536Z"
    }
   }
  },
  {
   "cell_type": "code",
   "execution_count": 3,
   "outputs": [],
   "source": [
    "import os\n",
    "import sys\n",
    "\n",
    "# Получаем абсолютный путь к корневой директории проекта (директория выше текущей)\n",
    "root_path = os.path.abspath(os.path.join(os.getcwd(), '..'))\n",
    "\n",
    "# Добавляем корневую директорию в sys.path\n",
    "if root_path not in sys.path:\n",
    "    sys.path.append(root_path)"
   ],
   "metadata": {
    "collapsed": false,
    "ExecuteTime": {
     "end_time": "2024-05-05T18:29:56.341939662Z",
     "start_time": "2024-05-05T18:29:56.341693172Z"
    }
   }
  },
  {
   "cell_type": "code",
   "execution_count": 4,
   "outputs": [
    {
     "name": "stderr",
     "output_type": "stream",
     "text": [
      "2024-05-05 21:29:57.961925: E external/local_xla/xla/stream_executor/cuda/cuda_dnn.cc:9261] Unable to register cuDNN factory: Attempting to register factory for plugin cuDNN when one has already been registered\n",
      "2024-05-05 21:29:57.961951: E external/local_xla/xla/stream_executor/cuda/cuda_fft.cc:607] Unable to register cuFFT factory: Attempting to register factory for plugin cuFFT when one has already been registered\n",
      "2024-05-05 21:29:57.962700: E external/local_xla/xla/stream_executor/cuda/cuda_blas.cc:1515] Unable to register cuBLAS factory: Attempting to register factory for plugin cuBLAS when one has already been registered\n",
      "2024-05-05 21:29:57.966721: I tensorflow/core/platform/cpu_feature_guard.cc:182] This TensorFlow binary is optimized to use available CPU instructions in performance-critical operations.\n",
      "To enable the following instructions: AVX2 FMA, in other operations, rebuild TensorFlow with the appropriate compiler flags.\n",
      "2024-05-05 21:29:58.503041: W tensorflow/compiler/tf2tensorrt/utils/py_utils.cc:38] TF-TRT Warning: Could not find TensorRT\n"
     ]
    }
   ],
   "source": [
    "from pipeline import separate_audio\n",
    "import torch\n",
    "from utils import parse_yaml\n",
    "from model_loaders import load_ss_model\n",
    "from models.clap_encoder import CLAP_Encoder\n",
    "import IPython.display as ipd"
   ],
   "metadata": {
    "collapsed": false,
    "ExecuteTime": {
     "end_time": "2024-05-05T18:30:01.124141448Z",
     "start_time": "2024-05-05T18:29:56.341755260Z"
    }
   }
  },
  {
   "cell_type": "code",
   "execution_count": 5,
   "outputs": [],
   "source": [
    "SS_CONFIG_PATH = '../config/audiosep_base.yaml'\n",
    "CLAP_CKPT_PATH = '../checkpoint/music_speech_audioset_epoch_15_esc_89.98.pt'\n",
    "AUDIOSEP_CKPT_PATH = '../checkpoint/audiosep_base_4M_steps.ckpt'"
   ],
   "metadata": {
    "collapsed": false,
    "ExecuteTime": {
     "end_time": "2024-05-05T18:30:01.155184705Z",
     "start_time": "2024-05-05T18:30:01.125203634Z"
    }
   }
  },
  {
   "cell_type": "code",
   "execution_count": 6,
   "outputs": [
    {
     "name": "stderr",
     "output_type": "stream",
     "text": [
      "2024-05-05 21:30:01,373 - INFO - Loading HTSAT-base model config.\n",
      "2024-05-05 21:30:03,257 - INFO - Loading pretrained HTSAT-base-roberta weights (../checkpoint/music_speech_audioset_epoch_15_esc_89.98.pt).\n"
     ]
    }
   ],
   "source": [
    "device = torch.device('cuda')\n",
    "query_encoder = CLAP_Encoder(pretrained_path = CLAP_CKPT_PATH).eval().to(device)\n",
    "\n",
    "configs = parse_yaml(SS_CONFIG_PATH)\n",
    "model = load_ss_model(configs=configs, checkpoint_path=AUDIOSEP_CKPT_PATH, query_encoder=query_encoder).eval().to(device)"
   ],
   "metadata": {
    "collapsed": false,
    "ExecuteTime": {
     "end_time": "2024-05-05T18:30:05.830383384Z",
     "start_time": "2024-05-05T18:30:01.156452052Z"
    }
   }
  },
  {
   "cell_type": "code",
   "execution_count": 7,
   "outputs": [
    {
     "name": "stdout",
     "output_type": "stream",
     "text": [
      "Separating audio from [../audios/ANIKV - слов больше нет - Lørean Edit.wav] with textual query: [bass]\n",
      "Separated audio written to [../separation_result/audiosep_local_ckpt/ANIKV - слов больше нет - Lørean Edit.wav_bass.wav]\n",
      "Separating audio from [../audios/ANIKV - слов больше нет - Lørean Edit.wav] with textual query: [drums]\n",
      "Separated audio written to [../separation_result/audiosep_local_ckpt/ANIKV - слов больше нет - Lørean Edit.wav_drums.wav]\n",
      "Separating audio from [../audios/ANIKV - слов больше нет - Lørean Edit.wav] with textual query: [vocals]\n",
      "Separated audio written to [../separation_result/audiosep_local_ckpt/ANIKV - слов больше нет - Lørean Edit.wav_vocals.wav]\n",
      "Separating audio from [../audios/ANIKV - слов больше нет - Lørean Edit.wav] with textual query: [other musical instruments]\n",
      "Separated audio written to [../separation_result/audiosep_local_ckpt/ANIKV - слов больше нет - Lørean Edit.wav_other musical instruments.wav]\n",
      "Separating audio from [../audios/CREAM SODA - Никаких Больше Вечеринок.wav] with textual query: [bass]\n",
      "Separated audio written to [../separation_result/audiosep_local_ckpt/CREAM SODA - Никаких Больше Вечеринок.wav_bass.wav]\n",
      "Separating audio from [../audios/CREAM SODA - Никаких Больше Вечеринок.wav] with textual query: [drums]\n",
      "Separated audio written to [../separation_result/audiosep_local_ckpt/CREAM SODA - Никаких Больше Вечеринок.wav_drums.wav]\n",
      "Separating audio from [../audios/CREAM SODA - Никаких Больше Вечеринок.wav] with textual query: [vocals]\n",
      "Separated audio written to [../separation_result/audiosep_local_ckpt/CREAM SODA - Никаких Больше Вечеринок.wav_vocals.wav]\n",
      "Separating audio from [../audios/CREAM SODA - Никаких Больше Вечеринок.wav] with textual query: [other musical instruments]\n",
      "Separated audio written to [../separation_result/audiosep_local_ckpt/CREAM SODA - Никаких Больше Вечеринок.wav_other musical instruments.wav]\n",
      "Separating audio from [../audios/Ruko - Take my hand.wav] with textual query: [bass]\n",
      "Separated audio written to [../separation_result/audiosep_local_ckpt/Ruko - Take my hand.wav_bass.wav]\n",
      "Separating audio from [../audios/Ruko - Take my hand.wav] with textual query: [drums]\n",
      "Separated audio written to [../separation_result/audiosep_local_ckpt/Ruko - Take my hand.wav_drums.wav]\n",
      "Separating audio from [../audios/Ruko - Take my hand.wav] with textual query: [vocals]\n",
      "Separated audio written to [../separation_result/audiosep_local_ckpt/Ruko - Take my hand.wav_vocals.wav]\n",
      "Separating audio from [../audios/Ruko - Take my hand.wav] with textual query: [other musical instruments]\n",
      "Separated audio written to [../separation_result/audiosep_local_ckpt/Ruko - Take my hand.wav_other musical instruments.wav]\n",
      "Separating audio from [../audios/AURORA - I Went Too Far.wav] with textual query: [bass]\n",
      "Separated audio written to [../separation_result/audiosep_local_ckpt/AURORA - I Went Too Far.wav_bass.wav]\n",
      "Separating audio from [../audios/AURORA - I Went Too Far.wav] with textual query: [drums]\n",
      "Separated audio written to [../separation_result/audiosep_local_ckpt/AURORA - I Went Too Far.wav_drums.wav]\n",
      "Separating audio from [../audios/AURORA - I Went Too Far.wav] with textual query: [vocals]\n",
      "Separated audio written to [../separation_result/audiosep_local_ckpt/AURORA - I Went Too Far.wav_vocals.wav]\n",
      "Separating audio from [../audios/AURORA - I Went Too Far.wav] with textual query: [other musical instruments]\n",
      "Separated audio written to [../separation_result/audiosep_local_ckpt/AURORA - I Went Too Far.wav_other musical instruments.wav]\n",
      "Separating audio from [../audios/Король и Шут - Дурак и молния.wav] with textual query: [bass]\n",
      "Separated audio written to [../separation_result/audiosep_local_ckpt/Король и Шут - Дурак и молния.wav_bass.wav]\n",
      "Separating audio from [../audios/Король и Шут - Дурак и молния.wav] with textual query: [drums]\n",
      "Separated audio written to [../separation_result/audiosep_local_ckpt/Король и Шут - Дурак и молния.wav_drums.wav]\n",
      "Separating audio from [../audios/Король и Шут - Дурак и молния.wav] with textual query: [vocals]\n",
      "Separated audio written to [../separation_result/audiosep_local_ckpt/Король и Шут - Дурак и молния.wav_vocals.wav]\n",
      "Separating audio from [../audios/Король и Шут - Дурак и молния.wav] with textual query: [other musical instruments]\n",
      "Separated audio written to [../separation_result/audiosep_local_ckpt/Король и Шут - Дурак и молния.wav_other musical instruments.wav]\n"
     ]
    }
   ],
   "source": [
    "from ipywidgets import widgets\n",
    "classes = [\"bass\", \"drums\", \"vocals\", \"other musical instruments\"]\n",
    "test_files = [f'../audios/{filename}' for filename in os.listdir('../audios')]\n",
    "\n",
    "audio_widgets = {cls: {} for cls in classes + ['original']}\n",
    "\n",
    "for file in test_files:\n",
    "    filename = file.split(os.sep)[-1]\n",
    "    audio_widget = widgets.Audio(value=open(file, \"rb\").read(), format=\"wav\", controls=True, autoplay=False)\n",
    "    audio_widgets['original'][filename] = audio_widget\n",
    "\n",
    "    for cls in classes:\n",
    "        output_dir = '../separation_result/audiosep_local_ckpt/'\n",
    "        os.makedirs(os.path.dirname(output_dir), exist_ok=True)\n",
    "        output_file = os.path.join(output_dir, f'{filename}_{cls}.wav')\n",
    "        separate_audio(model, file, cls, output_file, device, use_chunk=True)\n",
    "        audio_widget = widgets.Audio(value=open(output_file, \"rb\").read(), format=\"wav\", controls=True, autoplay=False)\n",
    "        audio_widgets[cls][filename] = audio_widget"
   ],
   "metadata": {
    "collapsed": false,
    "ExecuteTime": {
     "end_time": "2024-05-05T18:31:24.977289823Z",
     "start_time": "2024-05-05T18:30:05.832773481Z"
    }
   }
  },
  {
   "cell_type": "code",
   "execution_count": 8,
   "outputs": [
    {
     "data": {
      "text/plain": "HTML(value='<style>.widget-label { font-size: 16px; font-weight: bold; }</style>')",
      "application/vnd.jupyter.widget-view+json": {
       "version_major": 2,
       "version_minor": 0,
       "model_id": "99cc7fd73ade46459b53c5baadf5829e"
      }
     },
     "metadata": {},
     "output_type": "display_data"
    },
    {
     "data": {
      "text/plain": "VBox(children=(HBox(children=(Label(value=''), Label(value='bass', layout=Layout(margin='0 10px 0 10px')), Lab…",
      "application/vnd.jupyter.widget-view+json": {
       "version_major": 2,
       "version_minor": 0,
       "model_id": "1219963e12284e89a4d146eeebac17f3"
      }
     },
     "metadata": {},
     "output_type": "display_data"
    }
   ],
   "source": [
    "from utils import plot_separation_result\n",
    "\n",
    "plot_separation_result(audio_widgets)"
   ],
   "metadata": {
    "collapsed": false,
    "ExecuteTime": {
     "end_time": "2024-05-05T18:31:25.029090561Z",
     "start_time": "2024-05-05T18:31:24.977127944Z"
    }
   }
  },
  {
   "cell_type": "markdown",
   "source": [
    "Получаем одинаково плохой результат"
   ],
   "metadata": {
    "collapsed": false
   }
  },
  {
   "cell_type": "code",
   "execution_count": 8,
   "outputs": [],
   "source": [],
   "metadata": {
    "collapsed": false
   }
  }
 ],
 "metadata": {
  "kernelspec": {
   "display_name": "Python 3",
   "language": "python",
   "name": "python3"
  },
  "language_info": {
   "codemirror_mode": {
    "name": "ipython",
    "version": 2
   },
   "file_extension": ".py",
   "mimetype": "text/x-python",
   "name": "python",
   "nbconvert_exporter": "python",
   "pygments_lexer": "ipython2",
   "version": "2.7.6"
  }
 },
 "nbformat": 4,
 "nbformat_minor": 0
}
