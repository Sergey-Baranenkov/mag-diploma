{
 "cells": [
  {
   "cell_type": "code",
   "execution_count": 23,
   "outputs": [
    {
     "name": "stdout",
     "output_type": "stream",
     "text": [
      "The autoreload extension is already loaded. To reload it, use:\n",
      "  %reload_ext autoreload\n"
     ]
    }
   ],
   "source": [
    "import json\n",
    "%load_ext autoreload\n",
    "%autoreload 2"
   ],
   "metadata": {
    "collapsed": false,
    "ExecuteTime": {
     "end_time": "2024-05-05T22:23:18.353213602Z",
     "start_time": "2024-05-05T22:23:18.278474539Z"
    }
   }
  },
  {
   "cell_type": "code",
   "execution_count": 24,
   "outputs": [],
   "source": [
    "# ! pip uninstall numba -y && pip install numba"
   ],
   "metadata": {
    "collapsed": false,
    "ExecuteTime": {
     "end_time": "2024-05-05T22:23:18.386029983Z",
     "start_time": "2024-05-05T22:23:18.356414417Z"
    }
   }
  },
  {
   "cell_type": "code",
   "execution_count": 25,
   "outputs": [],
   "source": [
    "import os\n",
    "import sys\n",
    "\n",
    "# Получаем абсолютный путь к корневой директории проекта (директория выше текущей)\n",
    "root_path = os.path.abspath(os.path.join(os.getcwd(), '..'))\n",
    "\n",
    "# Добавляем корневую директорию в sys.path\n",
    "if root_path not in sys.path:\n",
    "    sys.path.append(root_path)"
   ],
   "metadata": {
    "collapsed": false,
    "ExecuteTime": {
     "end_time": "2024-05-05T22:23:18.433055742Z",
     "start_time": "2024-05-05T22:23:18.356492065Z"
    }
   }
  },
  {
   "cell_type": "code",
   "execution_count": 26,
   "outputs": [],
   "source": [
    "from model_loaders import load_ss_model\n",
    "import weightwatcher as ww\n",
    "from matplotlib import pyplot as plt\n",
    "from pipeline import separate_audio\n",
    "import torch\n",
    "from utils import parse_yaml\n",
    "from models.clap_encoder import CLAP_Encoder\n",
    "import IPython.display as ipd\n",
    "from models.audiosep_lora_and_tuned_embeddings import AudioSepLoraAndTunedEmbeddings"
   ],
   "metadata": {
    "collapsed": false,
    "ExecuteTime": {
     "end_time": "2024-05-05T22:23:18.469911506Z",
     "start_time": "2024-05-05T22:23:18.384828625Z"
    }
   }
  },
  {
   "cell_type": "code",
   "execution_count": 27,
   "outputs": [],
   "source": [
    "SS_CONFIG_PATH = '../config/audiosep_base.yaml'\n",
    "CLAP_CKPT_PATH = '../checkpoint/music_speech_audioset_epoch_15_esc_89.98.pt'\n",
    "AUDIOSEP_CKPT_PATH = '../checkpoint/audiosep_base_4M_steps.ckpt'\n",
    "device = torch.device('cuda')\n",
    "configs = parse_yaml(SS_CONFIG_PATH)"
   ],
   "metadata": {
    "collapsed": false,
    "ExecuteTime": {
     "end_time": "2024-05-05T22:23:18.473904599Z",
     "start_time": "2024-05-05T22:23:18.419962800Z"
    }
   }
  },
  {
   "cell_type": "markdown",
   "source": [
    "Подготавливаем несколько миксов"
   ],
   "metadata": {
    "collapsed": false
   }
  },
  {
   "cell_type": "code",
   "execution_count": 28,
   "outputs": [],
   "source": [
    "from pydub import AudioSegment\n",
    "import json\n",
    "import random\n",
    "\n",
    "def mix_wav_files(files, output_path):\n",
    "    mixed_sound = AudioSegment.from_file(files[0])\n",
    "\n",
    "    for file in files[1:]:\n",
    "        next_sound = AudioSegment.from_file(file)\n",
    "        mixed_sound = mixed_sound.overlay(next_sound)\n",
    "\n",
    "    mixed_sound.export(output_path, format='wav')\n",
    "\n",
    "def select_random_elements(data, n_elements, seed=None):\n",
    "    if seed is not None:\n",
    "        random.seed(seed)\n",
    "\n",
    "    n_elements = min(n_elements, len(data))\n",
    "\n",
    "    selected_elements = random.sample(data, n_elements)\n",
    "    return selected_elements\n"
   ],
   "metadata": {
    "collapsed": false,
    "ExecuteTime": {
     "end_time": "2024-05-05T22:23:18.491497982Z",
     "start_time": "2024-05-05T22:23:18.457625009Z"
    }
   }
  },
  {
   "cell_type": "code",
   "execution_count": 29,
   "outputs": [
    {
     "name": "stderr",
     "output_type": "stream",
     "text": [
      "2024-05-06 01:23:19,011 - INFO - Loading HTSAT-base model config.\n",
      "2024-05-06 01:23:20,318 - INFO - Loading pretrained HTSAT-base-roberta weights (../checkpoint/music_speech_audioset_epoch_15_esc_89.98.pt).\n"
     ]
    }
   ],
   "source": [
    "query_encoder = CLAP_Encoder(pretrained_path = CLAP_CKPT_PATH).eval().to(device)\n",
    "base_model = load_ss_model(configs=configs, checkpoint_path=AUDIOSEP_CKPT_PATH, query_encoder=query_encoder).eval().to(device)"
   ],
   "metadata": {
    "collapsed": false,
    "ExecuteTime": {
     "end_time": "2024-05-05T22:23:22.717127003Z",
     "start_time": "2024-05-05T22:23:18.492636860Z"
    }
   }
  },
  {
   "cell_type": "code",
   "execution_count": 30,
   "outputs": [
    {
     "name": "stderr",
     "output_type": "stream",
     "text": [
      "2024-05-06 01:23:22,972 - INFO - Loading HTSAT-base model config.\n",
      "2024-05-06 01:23:24,270 - INFO - Loading pretrained HTSAT-base-roberta weights (../checkpoint/music_speech_audioset_epoch_15_esc_89.98.pt).\n"
     ]
    }
   ],
   "source": [
    "checkpoint_path = '../checkpoints/final/dota2/lora_embeddings/final.ckpt'\n",
    "\n",
    "query_encoder_for_lora = CLAP_Encoder(pretrained_path = CLAP_CKPT_PATH).eval().to(device)\n",
    "base_model_for_lora = load_ss_model(configs=configs, checkpoint_path=AUDIOSEP_CKPT_PATH, query_encoder=query_encoder_for_lora).eval().to(device)\n",
    "\n",
    "lora_model = AudioSepLoraAndTunedEmbeddings.load_from_checkpoint(\n",
    "    checkpoint_path=checkpoint_path,\n",
    "    strict=False,\n",
    "    pretrained_audiosep_model = base_model_for_lora,\n",
    "    loss_function=None,\n",
    "    waveform_mixer=None,\n",
    "    lr_lambda_func=None\n",
    ") \\\n",
    "    .eval() \\\n",
    "    .to(device)\n",
    "\n",
    "merged_lora_model = lora_model.model.merge_and_unload()\n",
    "merged_lora_model.query_encoder = lora_model.model.query_encoder"
   ],
   "metadata": {
    "collapsed": false,
    "ExecuteTime": {
     "end_time": "2024-05-05T22:23:26.931256548Z",
     "start_time": "2024-05-05T22:23:22.718374398Z"
    }
   }
  },
  {
   "cell_type": "code",
   "execution_count": 31,
   "outputs": [],
   "source": [
    "from ipywidgets import widgets\n",
    "\n",
    "\n",
    "def separate_and_visualize(mix_cnt, seeds):\n",
    "    seed_mixtures = {}\n",
    "\n",
    "    with open('../datafiles/dota2.val.json') as file:\n",
    "        parsed_json = json.load(file)['data']\n",
    "        for seed in seeds:\n",
    "            random_mixes = select_random_elements(parsed_json, mix_cnt, seed)\n",
    "            seed_mixtures[seed] = {\n",
    "                'test_files': [f'../{mix[\"wav\"]}' for mix in random_mixes],\n",
    "                'classes': [mix['caption'] for mix in random_mixes]\n",
    "            }\n",
    "\n",
    "    mixture_dir = 'dota2_mixtures'\n",
    "    if not os.path.exists(mixture_dir):\n",
    "        os.makedirs(mixture_dir)\n",
    "\n",
    "    for seed in seeds:\n",
    "        mixture_path = f'{mixture_dir}/{mix_cnt}_{seed}.wav'\n",
    "        mix_wav_files(seed_mixtures[seed]['test_files'], mixture_path)\n",
    "        seed_mixtures[seed]['mixture_path'] = mixture_path\n",
    "\n",
    "    audio_widgets_list = []\n",
    "\n",
    "    for seed in seeds:\n",
    "        file = seed_mixtures[seed]['mixture_path']\n",
    "        classes = seed_mixtures[seed]['classes']\n",
    "        audio_widgets = {cls: {} for cls in classes + ['original']}\n",
    "\n",
    "        filename = file.split(os.sep)[-1]\n",
    "        audio_widget = widgets.Audio(value=open(file, \"rb\").read(), format=\"wav\", controls=True, autoplay=False)\n",
    "        audio_widgets['original'][filename] = audio_widget\n",
    "\n",
    "        for cls in classes:\n",
    "            output_dir = '../separation_result/dota2/'\n",
    "            os.makedirs(os.path.dirname(output_dir), exist_ok=True)\n",
    "            output_file = os.path.join(output_dir, f'{filename}_{cls}.wav')\n",
    "            separate_audio(merged_lora_model, file, cls, output_file, device, use_chunk=False)\n",
    "            audio_widget = widgets.Audio(value=open(output_file, \"rb\").read(), format=\"wav\", controls=True, autoplay=False)\n",
    "            audio_widgets[cls][filename] = audio_widget\n",
    "\n",
    "        audio_widgets_list.append(audio_widgets)\n",
    "\n",
    "    from utils import plot_separation_result\n",
    "\n",
    "    for audio_widgets in audio_widgets_list:\n",
    "        plot_separation_result(audio_widgets)"
   ],
   "metadata": {
    "collapsed": false,
    "ExecuteTime": {
     "end_time": "2024-05-05T22:23:26.970766615Z",
     "start_time": "2024-05-05T22:23:26.934853097Z"
    }
   }
  },
  {
   "cell_type": "markdown",
   "source": [
    "# Попробуем выделить микс из реплик двух героев"
   ],
   "metadata": {
    "collapsed": false
   }
  },
  {
   "cell_type": "code",
   "execution_count": 32,
   "outputs": [
    {
     "name": "stdout",
     "output_type": "stream",
     "text": [
      "Separating audio from [dota2_mixtures/2_678.wav] with textual query: [pugna]\n",
      "Separated audio written to [../separation_result/dota2/2_678.wav_pugna.wav]\n",
      "Separating audio from [dota2_mixtures/2_678.wav] with textual query: [beastmaster]\n",
      "Separated audio written to [../separation_result/dota2/2_678.wav_beastmaster.wav]\n",
      "Separating audio from [dota2_mixtures/2_789.wav] with textual query: [enchantress]\n",
      "Separated audio written to [../separation_result/dota2/2_789.wav_enchantress.wav]\n",
      "Separating audio from [dota2_mixtures/2_789.wav] with textual query: [medusa]\n",
      "Separated audio written to [../separation_result/dota2/2_789.wav_medusa.wav]\n",
      "Separating audio from [dota2_mixtures/2_909.wav] with textual query: [pudge]\n",
      "Separated audio written to [../separation_result/dota2/2_909.wav_pudge.wav]\n",
      "Separating audio from [dota2_mixtures/2_909.wav] with textual query: [invoker]\n",
      "Separated audio written to [../separation_result/dota2/2_909.wav_invoker.wav]\n",
      "Separating audio from [dota2_mixtures/2_345.wav] with textual query: [wraith king]\n",
      "Separated audio written to [../separation_result/dota2/2_345.wav_wraith king.wav]\n",
      "Separating audio from [dota2_mixtures/2_345.wav] with textual query: [sand king]\n",
      "Separated audio written to [../separation_result/dota2/2_345.wav_sand king.wav]\n"
     ]
    },
    {
     "data": {
      "text/plain": "HTML(value='<style>.widget-label { font-size: 16px; font-weight: bold; }</style>')",
      "application/vnd.jupyter.widget-view+json": {
       "version_major": 2,
       "version_minor": 0,
       "model_id": "cc9923845af04602b6e6fe0efcf9e017"
      }
     },
     "metadata": {},
     "output_type": "display_data"
    },
    {
     "data": {
      "text/plain": "VBox(children=(HBox(children=(Label(value=''), Label(value='pugna', layout=Layout(margin='0 10px 0 10px')), La…",
      "application/vnd.jupyter.widget-view+json": {
       "version_major": 2,
       "version_minor": 0,
       "model_id": "5545b556fbc64370a837b925f0ba7ac2"
      }
     },
     "metadata": {},
     "output_type": "display_data"
    },
    {
     "data": {
      "text/plain": "HTML(value='<style>.widget-label { font-size: 16px; font-weight: bold; }</style>')",
      "application/vnd.jupyter.widget-view+json": {
       "version_major": 2,
       "version_minor": 0,
       "model_id": "9c4dfaf7ecd54f02864fe6bb1bbceb5e"
      }
     },
     "metadata": {},
     "output_type": "display_data"
    },
    {
     "data": {
      "text/plain": "VBox(children=(HBox(children=(Label(value=''), Label(value='enchantress', layout=Layout(margin='0 10px 0 10px'…",
      "application/vnd.jupyter.widget-view+json": {
       "version_major": 2,
       "version_minor": 0,
       "model_id": "f64ab127ba4b49b08f5e56c022549df1"
      }
     },
     "metadata": {},
     "output_type": "display_data"
    },
    {
     "data": {
      "text/plain": "HTML(value='<style>.widget-label { font-size: 16px; font-weight: bold; }</style>')",
      "application/vnd.jupyter.widget-view+json": {
       "version_major": 2,
       "version_minor": 0,
       "model_id": "75339e6f905b40538d23706dc1fa6e2b"
      }
     },
     "metadata": {},
     "output_type": "display_data"
    },
    {
     "data": {
      "text/plain": "VBox(children=(HBox(children=(Label(value=''), Label(value='pudge', layout=Layout(margin='0 10px 0 10px')), La…",
      "application/vnd.jupyter.widget-view+json": {
       "version_major": 2,
       "version_minor": 0,
       "model_id": "9d7c1ecb2ef24281a162a729f555defd"
      }
     },
     "metadata": {},
     "output_type": "display_data"
    },
    {
     "data": {
      "text/plain": "HTML(value='<style>.widget-label { font-size: 16px; font-weight: bold; }</style>')",
      "application/vnd.jupyter.widget-view+json": {
       "version_major": 2,
       "version_minor": 0,
       "model_id": "a5a93a8bf4e84aa696b48a0933b8352a"
      }
     },
     "metadata": {},
     "output_type": "display_data"
    },
    {
     "data": {
      "text/plain": "VBox(children=(HBox(children=(Label(value=''), Label(value='wraith king', layout=Layout(margin='0 10px 0 10px'…",
      "application/vnd.jupyter.widget-view+json": {
       "version_major": 2,
       "version_minor": 0,
       "model_id": "285f0c91209040b1ab2c09294234dbe4"
      }
     },
     "metadata": {},
     "output_type": "display_data"
    }
   ],
   "source": [
    "mix_cnt = 2\n",
    "seeds = [678, 789, 909, 345]\n",
    "separate_and_visualize(mix_cnt, seeds)"
   ],
   "metadata": {
    "collapsed": false,
    "ExecuteTime": {
     "end_time": "2024-05-05T22:23:27.405562962Z",
     "start_time": "2024-05-05T22:23:26.971386095Z"
    }
   }
  },
  {
   "cell_type": "markdown",
   "source": [
    "Качество выделения неплохое, хотя в каждой из аудиозаписей есть призвуки другого персонажа."
   ],
   "metadata": {
    "collapsed": false
   }
  },
  {
   "cell_type": "markdown",
   "source": [
    "# Теперь попробуем выделить микс из реплик трех героев, эта задача сложнее"
   ],
   "metadata": {
    "collapsed": false
   }
  },
  {
   "cell_type": "code",
   "execution_count": 33,
   "outputs": [
    {
     "name": "stdout",
     "output_type": "stream",
     "text": [
      "Separating audio from [dota2_mixtures/3_678.wav] with textual query: [pugna]\n",
      "Separated audio written to [../separation_result/dota2/3_678.wav_pugna.wav]\n",
      "Separating audio from [dota2_mixtures/3_678.wav] with textual query: [beastmaster]\n",
      "Separated audio written to [../separation_result/dota2/3_678.wav_beastmaster.wav]\n",
      "Separating audio from [dota2_mixtures/3_678.wav] with textual query: [kunkka]\n",
      "Separated audio written to [../separation_result/dota2/3_678.wav_kunkka.wav]\n",
      "Separating audio from [dota2_mixtures/3_789.wav] with textual query: [enchantress]\n",
      "Separated audio written to [../separation_result/dota2/3_789.wav_enchantress.wav]\n",
      "Separating audio from [dota2_mixtures/3_789.wav] with textual query: [medusa]\n",
      "Separated audio written to [../separation_result/dota2/3_789.wav_medusa.wav]\n",
      "Separating audio from [dota2_mixtures/3_789.wav] with textual query: [razor]\n",
      "Separated audio written to [../separation_result/dota2/3_789.wav_razor.wav]\n",
      "Separating audio from [dota2_mixtures/3_909.wav] with textual query: [pudge]\n",
      "Separated audio written to [../separation_result/dota2/3_909.wav_pudge.wav]\n",
      "Separating audio from [dota2_mixtures/3_909.wav] with textual query: [invoker]\n",
      "Separated audio written to [../separation_result/dota2/3_909.wav_invoker.wav]\n",
      "Separating audio from [dota2_mixtures/3_909.wav] with textual query: [slardar]\n",
      "Separated audio written to [../separation_result/dota2/3_909.wav_slardar.wav]\n",
      "Separating audio from [dota2_mixtures/3_345.wav] with textual query: [wraith king]\n",
      "Separated audio written to [../separation_result/dota2/3_345.wav_wraith king.wav]\n",
      "Separating audio from [dota2_mixtures/3_345.wav] with textual query: [sand king]\n",
      "Separated audio written to [../separation_result/dota2/3_345.wav_sand king.wav]\n",
      "Separating audio from [dota2_mixtures/3_345.wav] with textual query: [alchemist]\n",
      "Separated audio written to [../separation_result/dota2/3_345.wav_alchemist.wav]\n"
     ]
    },
    {
     "data": {
      "text/plain": "HTML(value='<style>.widget-label { font-size: 16px; font-weight: bold; }</style>')",
      "application/vnd.jupyter.widget-view+json": {
       "version_major": 2,
       "version_minor": 0,
       "model_id": "401c845b44e34c5db7e490d8233a82da"
      }
     },
     "metadata": {},
     "output_type": "display_data"
    },
    {
     "data": {
      "text/plain": "VBox(children=(HBox(children=(Label(value=''), Label(value='pugna', layout=Layout(margin='0 10px 0 10px')), La…",
      "application/vnd.jupyter.widget-view+json": {
       "version_major": 2,
       "version_minor": 0,
       "model_id": "cd069521584c4081ab68ceafdfc193c2"
      }
     },
     "metadata": {},
     "output_type": "display_data"
    },
    {
     "data": {
      "text/plain": "HTML(value='<style>.widget-label { font-size: 16px; font-weight: bold; }</style>')",
      "application/vnd.jupyter.widget-view+json": {
       "version_major": 2,
       "version_minor": 0,
       "model_id": "de6405cb69d94d1591e24f4910e74841"
      }
     },
     "metadata": {},
     "output_type": "display_data"
    },
    {
     "data": {
      "text/plain": "VBox(children=(HBox(children=(Label(value=''), Label(value='enchantress', layout=Layout(margin='0 10px 0 10px'…",
      "application/vnd.jupyter.widget-view+json": {
       "version_major": 2,
       "version_minor": 0,
       "model_id": "eca383fac21c4ddcb5c14fd757ca8a4d"
      }
     },
     "metadata": {},
     "output_type": "display_data"
    },
    {
     "data": {
      "text/plain": "HTML(value='<style>.widget-label { font-size: 16px; font-weight: bold; }</style>')",
      "application/vnd.jupyter.widget-view+json": {
       "version_major": 2,
       "version_minor": 0,
       "model_id": "27cf8d8725534c6b83e4b033a37d1286"
      }
     },
     "metadata": {},
     "output_type": "display_data"
    },
    {
     "data": {
      "text/plain": "VBox(children=(HBox(children=(Label(value=''), Label(value='pudge', layout=Layout(margin='0 10px 0 10px')), La…",
      "application/vnd.jupyter.widget-view+json": {
       "version_major": 2,
       "version_minor": 0,
       "model_id": "1cd2ad271a1d4b43bacc82e480484a5f"
      }
     },
     "metadata": {},
     "output_type": "display_data"
    },
    {
     "data": {
      "text/plain": "HTML(value='<style>.widget-label { font-size: 16px; font-weight: bold; }</style>')",
      "application/vnd.jupyter.widget-view+json": {
       "version_major": 2,
       "version_minor": 0,
       "model_id": "255adbbdae884554a762e3ffd4c61efe"
      }
     },
     "metadata": {},
     "output_type": "display_data"
    },
    {
     "data": {
      "text/plain": "VBox(children=(HBox(children=(Label(value=''), Label(value='wraith king', layout=Layout(margin='0 10px 0 10px'…",
      "application/vnd.jupyter.widget-view+json": {
       "version_major": 2,
       "version_minor": 0,
       "model_id": "b20d9a3def5a499a84fc2cf7d76212a1"
      }
     },
     "metadata": {},
     "output_type": "display_data"
    }
   ],
   "source": [
    "mix_cnt = 3\n",
    "seeds = [678, 789, 909, 345]\n",
    "separate_and_visualize(mix_cnt, seeds)"
   ],
   "metadata": {
    "collapsed": false,
    "ExecuteTime": {
     "end_time": "2024-05-05T22:23:28.012844136Z",
     "start_time": "2024-05-05T22:23:27.420923322Z"
    }
   }
  },
  {
   "cell_type": "markdown",
   "source": [
    "На трех миксах качество намного хуже чем на двух из-за большего количества шума. Особенно это проявляется на миксах, где голоса героев очень близки по тембру."
   ],
   "metadata": {
    "collapsed": false
   }
  },
  {
   "cell_type": "markdown",
   "source": [
    "Исследуя графики понятно, что после обучения на 50 эпохах метрики продолжали расти. Вероятно, обучив модель на большем количестве эпох с другим lr шедулером (например cosine) качество выделения станет лучше."
   ],
   "metadata": {
    "collapsed": false
   }
  },
  {
   "cell_type": "code",
   "execution_count": 33,
   "outputs": [],
   "source": [],
   "metadata": {
    "collapsed": false
   }
  }
 ],
 "metadata": {
  "kernelspec": {
   "display_name": "Python 3",
   "language": "python",
   "name": "python3"
  },
  "language_info": {
   "codemirror_mode": {
    "name": "ipython",
    "version": 2
   },
   "file_extension": ".py",
   "mimetype": "text/x-python",
   "name": "python",
   "nbconvert_exporter": "python",
   "pygments_lexer": "ipython2",
   "version": "2.7.6"
  }
 },
 "nbformat": 4,
 "nbformat_minor": 0
}
