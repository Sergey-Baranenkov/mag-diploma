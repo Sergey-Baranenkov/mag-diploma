{
 "cells": [
  {
   "cell_type": "code",
   "execution_count": 1,
   "outputs": [],
   "source": [
    "import json\n",
    "%load_ext autoreload\n",
    "%autoreload 2"
   ],
   "metadata": {
    "collapsed": false,
    "ExecuteTime": {
     "end_time": "2024-05-10T13:01:46.683487500Z",
     "start_time": "2024-05-10T13:01:46.682734979Z"
    }
   }
  },
  {
   "cell_type": "code",
   "execution_count": 2,
   "outputs": [],
   "source": [
    "# ! pip uninstall numba -y && pip install numba"
   ],
   "metadata": {
    "collapsed": false,
    "ExecuteTime": {
     "end_time": "2024-05-10T13:01:46.683762456Z",
     "start_time": "2024-05-10T13:01:46.683057033Z"
    }
   }
  },
  {
   "cell_type": "code",
   "execution_count": 3,
   "outputs": [],
   "source": [
    "import os\n",
    "import sys\n",
    "\n",
    "# Получаем абсолютный путь к корневой директории проекта (директория выше текущей)\n",
    "root_path = os.path.abspath(os.path.join(os.getcwd(), '..'))\n",
    "\n",
    "# Добавляем корневую директорию в sys.path\n",
    "if root_path not in sys.path:\n",
    "    sys.path.append(root_path)"
   ],
   "metadata": {
    "collapsed": false,
    "ExecuteTime": {
     "end_time": "2024-05-10T13:01:46.683934939Z",
     "start_time": "2024-05-10T13:01:46.683698306Z"
    }
   }
  },
  {
   "cell_type": "code",
   "execution_count": 4,
   "outputs": [
    {
     "name": "stderr",
     "output_type": "stream",
     "text": [
      "2024-05-10 16:01:48.026308: E external/local_xla/xla/stream_executor/cuda/cuda_dnn.cc:9261] Unable to register cuDNN factory: Attempting to register factory for plugin cuDNN when one has already been registered\n",
      "2024-05-10 16:01:48.026332: E external/local_xla/xla/stream_executor/cuda/cuda_fft.cc:607] Unable to register cuFFT factory: Attempting to register factory for plugin cuFFT when one has already been registered\n",
      "2024-05-10 16:01:48.027145: E external/local_xla/xla/stream_executor/cuda/cuda_blas.cc:1515] Unable to register cuBLAS factory: Attempting to register factory for plugin cuBLAS when one has already been registered\n",
      "2024-05-10 16:01:48.031173: I tensorflow/core/platform/cpu_feature_guard.cc:182] This TensorFlow binary is optimized to use available CPU instructions in performance-critical operations.\n",
      "To enable the following instructions: AVX2 FMA, in other operations, rebuild TensorFlow with the appropriate compiler flags.\n",
      "2024-05-10 16:01:48.639530: W tensorflow/compiler/tf2tensorrt/utils/py_utils.cc:38] TF-TRT Warning: Could not find TensorRT\n"
     ]
    }
   ],
   "source": [
    "from model_loaders import load_ss_model\n",
    "import weightwatcher as ww\n",
    "from matplotlib import pyplot as plt\n",
    "from pipeline import separate_audio\n",
    "import torch\n",
    "from utils import parse_yaml\n",
    "from models.clap_encoder import CLAP_Encoder\n",
    "import IPython.display as ipd\n",
    "from models.audiosep_lora_and_tuned_embeddings import AudioSepLoraAndTunedEmbeddings"
   ],
   "metadata": {
    "collapsed": false,
    "ExecuteTime": {
     "end_time": "2024-05-10T13:01:52.205867315Z",
     "start_time": "2024-05-10T13:01:46.683862854Z"
    }
   }
  },
  {
   "cell_type": "code",
   "execution_count": 5,
   "outputs": [],
   "source": [
    "SS_CONFIG_PATH = '../config/audiosep_base.yaml'\n",
    "CLAP_CKPT_PATH = '../checkpoint/music_speech_audioset_epoch_15_esc_89.98.pt'\n",
    "AUDIOSEP_CKPT_PATH = '../checkpoint/audiosep_base_4M_steps.ckpt'\n",
    "device = torch.device('cuda')\n",
    "configs = parse_yaml(SS_CONFIG_PATH)"
   ],
   "metadata": {
    "collapsed": false,
    "ExecuteTime": {
     "end_time": "2024-05-10T13:01:52.263672158Z",
     "start_time": "2024-05-10T13:01:52.208590611Z"
    }
   }
  },
  {
   "cell_type": "markdown",
   "source": [
    "Подготавливаем несколько миксов"
   ],
   "metadata": {
    "collapsed": false
   }
  },
  {
   "cell_type": "code",
   "execution_count": 6,
   "outputs": [],
   "source": [
    "from pydub import AudioSegment\n",
    "import json\n",
    "import random\n",
    "\n",
    "def mix_wav_files(files, output_path):\n",
    "    mixed_sound = AudioSegment.from_file(files[0])\n",
    "\n",
    "    for file in files[1:]:\n",
    "        next_sound = AudioSegment.from_file(file)\n",
    "        mixed_sound = mixed_sound.overlay(next_sound)\n",
    "\n",
    "    mixed_sound.export(output_path, format='wav')\n",
    "\n",
    "def select_random_elements(data, n_elements, seed=None):\n",
    "    if seed is not None:\n",
    "        random.seed(seed)\n",
    "\n",
    "    n_elements = min(n_elements, len(data))\n",
    "\n",
    "    selected_elements = random.sample(data, n_elements)\n",
    "    return selected_elements\n"
   ],
   "metadata": {
    "collapsed": false,
    "ExecuteTime": {
     "end_time": "2024-05-10T13:01:52.304190163Z",
     "start_time": "2024-05-10T13:01:52.265772366Z"
    }
   }
  },
  {
   "cell_type": "code",
   "execution_count": 7,
   "outputs": [
    {
     "name": "stderr",
     "output_type": "stream",
     "text": [
      "2024-05-10 16:01:52,552 - INFO - Loading HTSAT-base model config.\n",
      "2024-05-10 16:01:54,886 - INFO - Loading pretrained HTSAT-base-roberta weights (../checkpoint/music_speech_audioset_epoch_15_esc_89.98.pt).\n"
     ]
    }
   ],
   "source": [
    "query_encoder = CLAP_Encoder(pretrained_path = CLAP_CKPT_PATH).eval().to(device)\n",
    "base_model = load_ss_model(configs=configs, checkpoint_path=AUDIOSEP_CKPT_PATH, query_encoder=query_encoder).eval().to(device)"
   ],
   "metadata": {
    "collapsed": false,
    "ExecuteTime": {
     "end_time": "2024-05-10T13:01:59.744283399Z",
     "start_time": "2024-05-10T13:01:52.304512688Z"
    }
   }
  },
  {
   "cell_type": "code",
   "execution_count": 8,
   "outputs": [
    {
     "name": "stderr",
     "output_type": "stream",
     "text": [
      "2024-05-10 16:01:59,995 - INFO - Loading HTSAT-base model config.\n",
      "2024-05-10 16:02:01,330 - INFO - Loading pretrained HTSAT-base-roberta weights (../checkpoint/music_speech_audioset_epoch_15_esc_89.98.pt).\n"
     ]
    }
   ],
   "source": [
    "checkpoint_path = '../checkpoints/final/dota2/lora_embeddings/final.ckpt'\n",
    "\n",
    "query_encoder_for_lora = CLAP_Encoder(pretrained_path = CLAP_CKPT_PATH).eval().to(device)\n",
    "base_model_for_lora = load_ss_model(configs=configs, checkpoint_path=AUDIOSEP_CKPT_PATH, query_encoder=query_encoder_for_lora).eval().to(device)\n",
    "\n",
    "lora_model = AudioSepLoraAndTunedEmbeddings.load_from_checkpoint(\n",
    "    checkpoint_path=checkpoint_path,\n",
    "    strict=False,\n",
    "    pretrained_audiosep_model = base_model_for_lora,\n",
    "    loss_function=None,\n",
    "    waveform_mixer=None,\n",
    "    lr_lambda_func=None\n",
    ") \\\n",
    "    .eval() \\\n",
    "    .to(device)\n",
    "\n",
    "merged_lora_model = lora_model.model.merge_and_unload()\n",
    "merged_lora_model.query_encoder = lora_model.model.query_encoder"
   ],
   "metadata": {
    "collapsed": false,
    "ExecuteTime": {
     "end_time": "2024-05-10T13:02:12.134104243Z",
     "start_time": "2024-05-10T13:01:59.747472771Z"
    }
   }
  },
  {
   "cell_type": "code",
   "execution_count": 18,
   "outputs": [],
   "source": [
    "import shutil\n",
    "from ipywidgets import widgets\n",
    "\n",
    "\n",
    "def separate_and_visualize(mix_cnt, seeds):\n",
    "    seed_mixtures = {}\n",
    "\n",
    "    with open('../datafiles/dota2.val.json') as file:\n",
    "        parsed_json = json.load(file)['data']\n",
    "        for seed in seeds:\n",
    "            random_mixes = select_random_elements(parsed_json, mix_cnt, seed)\n",
    "            seed_mixtures[seed] = {\n",
    "                'test_files': [f'../{mix[\"wav\"]}' for mix in random_mixes],\n",
    "                'classes': [mix['caption'] for mix in random_mixes]\n",
    "            }\n",
    "\n",
    "    mixture_dir = 'dota2_mixtures'\n",
    "    if not os.path.exists(mixture_dir):\n",
    "        os.makedirs(mixture_dir)\n",
    "\n",
    "    for seed in seeds:\n",
    "        mixture_path = f'{mixture_dir}/{mix_cnt}_{seed}.wav'\n",
    "        mix_wav_files(seed_mixtures[seed]['test_files'], mixture_path)\n",
    "        seed_mixtures[seed]['mixture_path'] = mixture_path\n",
    "\n",
    "    audio_widgets_list = []\n",
    "\n",
    "    for seed in seeds:\n",
    "        file = seed_mixtures[seed]['mixture_path']\n",
    "        classes = seed_mixtures[seed]['classes']\n",
    "        audio_widgets = {cls: {} for cls in classes + ['original']}\n",
    "\n",
    "        filename = file.split(os.sep)[-1]\n",
    "        audio_widget = widgets.Audio(value=open(file, \"rb\").read(), format=\"wav\", controls=True, autoplay=False)\n",
    "        audio_widgets['original'][filename] = audio_widget\n",
    "        output_dir = f'../separation_result/dota2/{filename.split(\".wav\")[0]}/'\n",
    "        os.makedirs(os.path.dirname(output_dir), exist_ok=True)\n",
    "        for cls in classes:\n",
    "            output_file = os.path.join(output_dir, f'{cls}.wav')\n",
    "            separate_audio(merged_lora_model, file, cls, output_file, device, use_chunk=False)\n",
    "            audio_widget = widgets.Audio(value=open(output_file, \"rb\").read(), format=\"wav\", controls=True, autoplay=False)\n",
    "            audio_widgets[cls][filename] = audio_widget\n",
    "\n",
    "        audio_widgets_list.append(audio_widgets)\n",
    "        shutil.copyfile(file, f'{output_dir}/original.wav')\n",
    "\n",
    "    from utils import plot_separation_result\n",
    "\n",
    "    for audio_widgets in audio_widgets_list:\n",
    "        plot_separation_result(audio_widgets)"
   ],
   "metadata": {
    "collapsed": false,
    "ExecuteTime": {
     "end_time": "2024-05-10T13:21:04.092251162Z",
     "start_time": "2024-05-10T13:21:04.018082861Z"
    }
   }
  },
  {
   "cell_type": "markdown",
   "source": [
    "# Попробуем выделить микс из реплик двух героев"
   ],
   "metadata": {
    "collapsed": false
   }
  },
  {
   "cell_type": "code",
   "execution_count": 19,
   "outputs": [
    {
     "name": "stdout",
     "output_type": "stream",
     "text": [
      "Separating audio from [dota2_mixtures/2_678.wav] with textual query: [pugna]\n",
      "Separated audio written to [../separation_result/dota2/2_678/pugna.wav]\n",
      "Separating audio from [dota2_mixtures/2_678.wav] with textual query: [beastmaster]\n",
      "Separated audio written to [../separation_result/dota2/2_678/beastmaster.wav]\n",
      "Separating audio from [dota2_mixtures/2_789.wav] with textual query: [enchantress]\n",
      "Separated audio written to [../separation_result/dota2/2_789/enchantress.wav]\n",
      "Separating audio from [dota2_mixtures/2_789.wav] with textual query: [medusa]\n",
      "Separated audio written to [../separation_result/dota2/2_789/medusa.wav]\n",
      "Separating audio from [dota2_mixtures/2_909.wav] with textual query: [pudge]\n",
      "Separated audio written to [../separation_result/dota2/2_909/pudge.wav]\n",
      "Separating audio from [dota2_mixtures/2_909.wav] with textual query: [invoker]\n",
      "Separated audio written to [../separation_result/dota2/2_909/invoker.wav]\n",
      "Separating audio from [dota2_mixtures/2_345.wav] with textual query: [wraith king]\n",
      "Separated audio written to [../separation_result/dota2/2_345/wraith king.wav]\n",
      "Separating audio from [dota2_mixtures/2_345.wav] with textual query: [sand king]\n",
      "Separated audio written to [../separation_result/dota2/2_345/sand king.wav]\n"
     ]
    },
    {
     "data": {
      "text/plain": "HTML(value='<style>.widget-label { font-size: 16px; font-weight: bold; }</style>')",
      "application/vnd.jupyter.widget-view+json": {
       "version_major": 2,
       "version_minor": 0,
       "model_id": "41fca2df8671401f84b50d55a1b8d8a4"
      }
     },
     "metadata": {},
     "output_type": "display_data"
    },
    {
     "data": {
      "text/plain": "VBox(children=(HBox(children=(Label(value=''), Label(value='pugna', layout=Layout(margin='0 10px 0 10px')), La…",
      "application/vnd.jupyter.widget-view+json": {
       "version_major": 2,
       "version_minor": 0,
       "model_id": "61ce3b76017c47b4b73b406e058872d3"
      }
     },
     "metadata": {},
     "output_type": "display_data"
    },
    {
     "data": {
      "text/plain": "HTML(value='<style>.widget-label { font-size: 16px; font-weight: bold; }</style>')",
      "application/vnd.jupyter.widget-view+json": {
       "version_major": 2,
       "version_minor": 0,
       "model_id": "f1f0eed38dae4e95ab51ac1c4ddcf7eb"
      }
     },
     "metadata": {},
     "output_type": "display_data"
    },
    {
     "data": {
      "text/plain": "VBox(children=(HBox(children=(Label(value=''), Label(value='enchantress', layout=Layout(margin='0 10px 0 10px'…",
      "application/vnd.jupyter.widget-view+json": {
       "version_major": 2,
       "version_minor": 0,
       "model_id": "fc7aeeb5856e413385af7f659f86905e"
      }
     },
     "metadata": {},
     "output_type": "display_data"
    },
    {
     "data": {
      "text/plain": "HTML(value='<style>.widget-label { font-size: 16px; font-weight: bold; }</style>')",
      "application/vnd.jupyter.widget-view+json": {
       "version_major": 2,
       "version_minor": 0,
       "model_id": "6122967c04794eca82e64b1036cd29c0"
      }
     },
     "metadata": {},
     "output_type": "display_data"
    },
    {
     "data": {
      "text/plain": "VBox(children=(HBox(children=(Label(value=''), Label(value='pudge', layout=Layout(margin='0 10px 0 10px')), La…",
      "application/vnd.jupyter.widget-view+json": {
       "version_major": 2,
       "version_minor": 0,
       "model_id": "9be99535b0b3479893ea965a8166ee88"
      }
     },
     "metadata": {},
     "output_type": "display_data"
    },
    {
     "data": {
      "text/plain": "HTML(value='<style>.widget-label { font-size: 16px; font-weight: bold; }</style>')",
      "application/vnd.jupyter.widget-view+json": {
       "version_major": 2,
       "version_minor": 0,
       "model_id": "a23c8ef1c4974e48bfd5c4af265f0b29"
      }
     },
     "metadata": {},
     "output_type": "display_data"
    },
    {
     "data": {
      "text/plain": "VBox(children=(HBox(children=(Label(value=''), Label(value='wraith king', layout=Layout(margin='0 10px 0 10px'…",
      "application/vnd.jupyter.widget-view+json": {
       "version_major": 2,
       "version_minor": 0,
       "model_id": "c2077e63352a4fc3a1704605be0d7a29"
      }
     },
     "metadata": {},
     "output_type": "display_data"
    }
   ],
   "source": [
    "mix_cnt = 2\n",
    "seeds = [678, 789, 909, 345]\n",
    "separate_and_visualize(mix_cnt, seeds)"
   ],
   "metadata": {
    "collapsed": false,
    "ExecuteTime": {
     "end_time": "2024-05-10T13:21:06.020386609Z",
     "start_time": "2024-05-10T13:21:05.592023382Z"
    }
   }
  },
  {
   "cell_type": "markdown",
   "source": [
    "Качество выделения неплохое, хотя в каждой из аудиозаписей есть призвуки другого персонажа."
   ],
   "metadata": {
    "collapsed": false
   }
  },
  {
   "cell_type": "markdown",
   "source": [
    "# Теперь попробуем выделить микс из реплик трех героев, эта задача сложнее"
   ],
   "metadata": {
    "collapsed": false
   }
  },
  {
   "cell_type": "code",
   "execution_count": 20,
   "outputs": [
    {
     "name": "stdout",
     "output_type": "stream",
     "text": [
      "Separating audio from [dota2_mixtures/3_678.wav] with textual query: [pugna]\n",
      "Separated audio written to [../separation_result/dota2/3_678/pugna.wav]\n",
      "Separating audio from [dota2_mixtures/3_678.wav] with textual query: [beastmaster]\n",
      "Separated audio written to [../separation_result/dota2/3_678/beastmaster.wav]\n",
      "Separating audio from [dota2_mixtures/3_678.wav] with textual query: [kunkka]\n",
      "Separated audio written to [../separation_result/dota2/3_678/kunkka.wav]\n",
      "Separating audio from [dota2_mixtures/3_789.wav] with textual query: [enchantress]\n",
      "Separated audio written to [../separation_result/dota2/3_789/enchantress.wav]\n",
      "Separating audio from [dota2_mixtures/3_789.wav] with textual query: [medusa]\n",
      "Separated audio written to [../separation_result/dota2/3_789/medusa.wav]\n",
      "Separating audio from [dota2_mixtures/3_789.wav] with textual query: [razor]\n",
      "Separated audio written to [../separation_result/dota2/3_789/razor.wav]\n",
      "Separating audio from [dota2_mixtures/3_909.wav] with textual query: [pudge]\n",
      "Separated audio written to [../separation_result/dota2/3_909/pudge.wav]\n",
      "Separating audio from [dota2_mixtures/3_909.wav] with textual query: [invoker]\n",
      "Separated audio written to [../separation_result/dota2/3_909/invoker.wav]\n",
      "Separating audio from [dota2_mixtures/3_909.wav] with textual query: [slardar]\n",
      "Separated audio written to [../separation_result/dota2/3_909/slardar.wav]\n",
      "Separating audio from [dota2_mixtures/3_345.wav] with textual query: [wraith king]\n",
      "Separated audio written to [../separation_result/dota2/3_345/wraith king.wav]\n",
      "Separating audio from [dota2_mixtures/3_345.wav] with textual query: [sand king]\n",
      "Separated audio written to [../separation_result/dota2/3_345/sand king.wav]\n",
      "Separating audio from [dota2_mixtures/3_345.wav] with textual query: [alchemist]\n",
      "Separated audio written to [../separation_result/dota2/3_345/alchemist.wav]\n"
     ]
    },
    {
     "data": {
      "text/plain": "HTML(value='<style>.widget-label { font-size: 16px; font-weight: bold; }</style>')",
      "application/vnd.jupyter.widget-view+json": {
       "version_major": 2,
       "version_minor": 0,
       "model_id": "b3c03c808e55465bb85207be52af90f0"
      }
     },
     "metadata": {},
     "output_type": "display_data"
    },
    {
     "data": {
      "text/plain": "VBox(children=(HBox(children=(Label(value=''), Label(value='pugna', layout=Layout(margin='0 10px 0 10px')), La…",
      "application/vnd.jupyter.widget-view+json": {
       "version_major": 2,
       "version_minor": 0,
       "model_id": "725c5b65b0584f8aa8e299bde34f85f4"
      }
     },
     "metadata": {},
     "output_type": "display_data"
    },
    {
     "data": {
      "text/plain": "HTML(value='<style>.widget-label { font-size: 16px; font-weight: bold; }</style>')",
      "application/vnd.jupyter.widget-view+json": {
       "version_major": 2,
       "version_minor": 0,
       "model_id": "7796c886e91541fd985da30e9780eb5e"
      }
     },
     "metadata": {},
     "output_type": "display_data"
    },
    {
     "data": {
      "text/plain": "VBox(children=(HBox(children=(Label(value=''), Label(value='enchantress', layout=Layout(margin='0 10px 0 10px'…",
      "application/vnd.jupyter.widget-view+json": {
       "version_major": 2,
       "version_minor": 0,
       "model_id": "5eb7c3ad6a3c4f4cac86ed49667febcf"
      }
     },
     "metadata": {},
     "output_type": "display_data"
    },
    {
     "data": {
      "text/plain": "HTML(value='<style>.widget-label { font-size: 16px; font-weight: bold; }</style>')",
      "application/vnd.jupyter.widget-view+json": {
       "version_major": 2,
       "version_minor": 0,
       "model_id": "7edce3b0fd27428490a9f62bf891484f"
      }
     },
     "metadata": {},
     "output_type": "display_data"
    },
    {
     "data": {
      "text/plain": "VBox(children=(HBox(children=(Label(value=''), Label(value='pudge', layout=Layout(margin='0 10px 0 10px')), La…",
      "application/vnd.jupyter.widget-view+json": {
       "version_major": 2,
       "version_minor": 0,
       "model_id": "abad3eaefcd34800bc1d7628346120bf"
      }
     },
     "metadata": {},
     "output_type": "display_data"
    },
    {
     "data": {
      "text/plain": "HTML(value='<style>.widget-label { font-size: 16px; font-weight: bold; }</style>')",
      "application/vnd.jupyter.widget-view+json": {
       "version_major": 2,
       "version_minor": 0,
       "model_id": "7eaa99f11cfe473ca1b82ddeb9bb9b95"
      }
     },
     "metadata": {},
     "output_type": "display_data"
    },
    {
     "data": {
      "text/plain": "VBox(children=(HBox(children=(Label(value=''), Label(value='wraith king', layout=Layout(margin='0 10px 0 10px'…",
      "application/vnd.jupyter.widget-view+json": {
       "version_major": 2,
       "version_minor": 0,
       "model_id": "03638dfca601427e93fca3f62b251ead"
      }
     },
     "metadata": {},
     "output_type": "display_data"
    }
   ],
   "source": [
    "mix_cnt = 3\n",
    "seeds = [678, 789, 909, 345]\n",
    "separate_and_visualize(mix_cnt, seeds)"
   ],
   "metadata": {
    "collapsed": false,
    "ExecuteTime": {
     "end_time": "2024-05-10T13:21:11.860201102Z",
     "start_time": "2024-05-10T13:21:11.253434689Z"
    }
   }
  },
  {
   "cell_type": "markdown",
   "source": [
    "На трех миксах качество намного хуже чем на двух из-за большего количества шума. Особенно это проявляется на миксах, где голоса героев очень близки по тембру."
   ],
   "metadata": {
    "collapsed": false
   }
  },
  {
   "cell_type": "markdown",
   "source": [
    "Исследуя графики понятно, что после обучения на 50 эпохах метрики продолжали расти. Вероятно, обучив модель на большем количестве эпох с другим lr шедулером (например cosine) качество выделения станет лучше."
   ],
   "metadata": {
    "collapsed": false
   }
  },
  {
   "cell_type": "code",
   "execution_count": 11,
   "outputs": [],
   "source": [],
   "metadata": {
    "collapsed": false
   }
  }
 ],
 "metadata": {
  "kernelspec": {
   "display_name": "Python 3",
   "language": "python",
   "name": "python3"
  },
  "language_info": {
   "codemirror_mode": {
    "name": "ipython",
    "version": 2
   },
   "file_extension": ".py",
   "mimetype": "text/x-python",
   "name": "python",
   "nbconvert_exporter": "python",
   "pygments_lexer": "ipython2",
   "version": "2.7.6"
  }
 },
 "nbformat": 4,
 "nbformat_minor": 0
}
