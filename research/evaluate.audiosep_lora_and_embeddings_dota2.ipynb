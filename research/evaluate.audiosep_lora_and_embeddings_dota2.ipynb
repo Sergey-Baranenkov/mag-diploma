{
 "cells": [
  {
   "cell_type": "code",
   "execution_count": 1,
   "outputs": [],
   "source": [
    "import json\n",
    "%load_ext autoreload\n",
    "%autoreload 2"
   ],
   "metadata": {
    "collapsed": false,
    "ExecuteTime": {
     "end_time": "2024-05-04T21:27:12.830622862Z",
     "start_time": "2024-05-04T21:27:12.830368585Z"
    }
   }
  },
  {
   "cell_type": "code",
   "execution_count": 2,
   "outputs": [],
   "source": [
    "# ! pip uninstall numba -y && pip install numba"
   ],
   "metadata": {
    "collapsed": false,
    "ExecuteTime": {
     "end_time": "2024-05-04T21:27:12.946315800Z",
     "start_time": "2024-05-04T21:27:12.933709321Z"
    }
   }
  },
  {
   "cell_type": "code",
   "execution_count": 3,
   "outputs": [],
   "source": [
    "import os\n",
    "import sys\n",
    "\n",
    "# Получаем абсолютный путь к корневой директории проекта (директория выше текущей)\n",
    "root_path = os.path.abspath(os.path.join(os.getcwd(), '..'))\n",
    "\n",
    "# Добавляем корневую директорию в sys.path\n",
    "if root_path not in sys.path:\n",
    "    sys.path.append(root_path)"
   ],
   "metadata": {
    "collapsed": false,
    "ExecuteTime": {
     "end_time": "2024-05-04T21:27:13.369701323Z",
     "start_time": "2024-05-04T21:27:13.349349720Z"
    }
   }
  },
  {
   "cell_type": "code",
   "execution_count": 4,
   "outputs": [
    {
     "name": "stderr",
     "output_type": "stream",
     "text": [
      "2024-05-05 00:27:15.085090: E external/local_xla/xla/stream_executor/cuda/cuda_dnn.cc:9261] Unable to register cuDNN factory: Attempting to register factory for plugin cuDNN when one has already been registered\n",
      "2024-05-05 00:27:15.085116: E external/local_xla/xla/stream_executor/cuda/cuda_fft.cc:607] Unable to register cuFFT factory: Attempting to register factory for plugin cuFFT when one has already been registered\n",
      "2024-05-05 00:27:15.085857: E external/local_xla/xla/stream_executor/cuda/cuda_blas.cc:1515] Unable to register cuBLAS factory: Attempting to register factory for plugin cuBLAS when one has already been registered\n",
      "2024-05-05 00:27:15.089780: I tensorflow/core/platform/cpu_feature_guard.cc:182] This TensorFlow binary is optimized to use available CPU instructions in performance-critical operations.\n",
      "To enable the following instructions: AVX2 FMA, in other operations, rebuild TensorFlow with the appropriate compiler flags.\n",
      "2024-05-05 00:27:15.614856: W tensorflow/compiler/tf2tensorrt/utils/py_utils.cc:38] TF-TRT Warning: Could not find TensorRT\n"
     ]
    }
   ],
   "source": [
    "from model_loaders import load_ss_model\n",
    "import weightwatcher as ww\n",
    "from matplotlib import pyplot as plt\n",
    "from pipeline import separate_audio\n",
    "import torch\n",
    "from utils import parse_yaml\n",
    "from models.clap_encoder import CLAP_Encoder\n",
    "import IPython.display as ipd\n",
    "from models.audiosep_lora_and_tuned_embeddings import AudioSepLoraAndTunedEmbeddings"
   ],
   "metadata": {
    "collapsed": false,
    "ExecuteTime": {
     "end_time": "2024-05-04T21:27:18.654823550Z",
     "start_time": "2024-05-04T21:27:13.823955894Z"
    }
   }
  },
  {
   "cell_type": "code",
   "execution_count": 18,
   "outputs": [],
   "source": [
    "SS_CONFIG_PATH = '../config/audiosep_base.yaml'\n",
    "CLAP_CKPT_PATH = '../checkpoint/music_speech_audioset_epoch_15_esc_89.98.pt'\n",
    "AUDIOSEP_CKPT_PATH = '../checkpoint/audiosep_base_4M_steps.ckpt'\n",
    "device = torch.device('cuda')\n",
    "configs = parse_yaml(SS_CONFIG_PATH)"
   ],
   "metadata": {
    "collapsed": false,
    "ExecuteTime": {
     "end_time": "2024-05-04T21:37:07.911408809Z",
     "start_time": "2024-05-04T21:37:07.868635048Z"
    }
   }
  },
  {
   "cell_type": "markdown",
   "source": [
    "Подготавливаем несколько миксов"
   ],
   "metadata": {
    "collapsed": false
   }
  },
  {
   "cell_type": "code",
   "execution_count": 58,
   "outputs": [],
   "source": [
    "from pydub import AudioSegment\n",
    "import json\n",
    "import random\n",
    "\n",
    "def mix_wav_files(files, output_path):\n",
    "    mixed_sound = AudioSegment.from_file(files[0])\n",
    "\n",
    "    for file in files[1:]:\n",
    "        next_sound = AudioSegment.from_file(file)\n",
    "        mixed_sound = mixed_sound.overlay(next_sound)\n",
    "\n",
    "    mixed_sound.export(output_path, format='wav')\n",
    "\n",
    "def select_random_elements(data, n_elements, seed=None):\n",
    "    if seed is not None:\n",
    "        random.seed(seed)\n",
    "\n",
    "    n_elements = min(n_elements, len(data))\n",
    "\n",
    "    selected_elements = random.sample(data, n_elements)\n",
    "    return selected_elements\n",
    "\n",
    "test_files = []\n",
    "classes = []\n",
    "mix_cnt = 1\n",
    "seed = 4\n",
    "with open('../datafiles/dota2.train.json') as file:\n",
    "    parsed_json = json.load(file)['data']\n",
    "    random_mixes = select_random_elements(parsed_json, mix_cnt, seed)\n",
    "    test_files = [f'../{mix[\"wav\"]}' for mix in random_mixes]\n",
    "    classes = [mix['caption'] for mix in random_mixes]\n",
    "\n",
    "mixture_dir = 'dota2_mixtures'\n",
    "if not os.path.exists(mixture_dir):\n",
    "    os.makedirs(mixture_dir)\n",
    "\n",
    "mixture_path = f'{mixture_dir}/{mix_cnt}_{seed}.wav'\n",
    "mix_wav_files(test_files, mixture_path)"
   ],
   "metadata": {
    "collapsed": false,
    "ExecuteTime": {
     "end_time": "2024-05-04T22:06:36.209878623Z",
     "start_time": "2024-05-04T22:06:36.166253936Z"
    }
   }
  },
  {
   "cell_type": "code",
   "execution_count": 59,
   "outputs": [
    {
     "name": "stderr",
     "output_type": "stream",
     "text": [
      "2024-05-05 01:06:36,840 - INFO - Loading HTSAT-base model config.\n",
      "2024-05-05 01:06:38,192 - INFO - Loading pretrained HTSAT-base-roberta weights (../checkpoint/music_speech_audioset_epoch_15_esc_89.98.pt).\n"
     ]
    }
   ],
   "source": [
    "query_encoder = CLAP_Encoder(pretrained_path = CLAP_CKPT_PATH).eval().to(device)\n",
    "base_model = load_ss_model(configs=configs, checkpoint_path=AUDIOSEP_CKPT_PATH, query_encoder=query_encoder).eval().to(device)"
   ],
   "metadata": {
    "collapsed": false,
    "ExecuteTime": {
     "end_time": "2024-05-04T22:06:40.775829948Z",
     "start_time": "2024-05-04T22:06:36.600242981Z"
    }
   }
  },
  {
   "cell_type": "code",
   "execution_count": 60,
   "outputs": [
    {
     "name": "stderr",
     "output_type": "stream",
     "text": [
      "2024-05-05 01:06:41,015 - INFO - Loading HTSAT-base model config.\n",
      "2024-05-05 01:06:42,365 - INFO - Loading pretrained HTSAT-base-roberta weights (../checkpoint/music_speech_audioset_epoch_15_esc_89.98.pt).\n"
     ]
    }
   ],
   "source": [
    "checkpoint_path = '../checkpoints/final/dota2/lora_embeddings/final.ckpt'\n",
    "checkpoint_path = '../checkpoints/train_audiosep_lora_and_tuned_embeddings/audiosep_lora_and_tuned_embeddings_dota2,args=base,timestamp=1714683165.3177924/epoch=49.ckpt'\n",
    "query_encoder_for_lora = CLAP_Encoder(pretrained_path = CLAP_CKPT_PATH).eval().to(device)\n",
    "base_model_for_lora = load_ss_model(configs=configs, checkpoint_path=AUDIOSEP_CKPT_PATH, query_encoder=query_encoder_for_lora).eval().to(device)\n",
    "\n",
    "lora_model = AudioSepLoraAndTunedEmbeddings.load_from_checkpoint(\n",
    "    checkpoint_path=checkpoint_path,\n",
    "    strict=False,\n",
    "    pretrained_audiosep_model = base_model_for_lora,\n",
    "    loss_function=None,\n",
    "    waveform_mixer=None,\n",
    "    lr_lambda_func=None\n",
    ") \\\n",
    "    .eval() \\\n",
    "    .to(device)\n",
    "\n",
    "merged_lora_model = lora_model.model.merge_and_unload()\n",
    "merged_lora_model.query_encoder = lora_model.model.query_encoder"
   ],
   "metadata": {
    "collapsed": false,
    "ExecuteTime": {
     "end_time": "2024-05-04T22:06:44.884763789Z",
     "start_time": "2024-05-04T22:06:40.777026748Z"
    }
   }
  },
  {
   "cell_type": "code",
   "execution_count": 62,
   "outputs": [
    {
     "name": "stdout",
     "output_type": "stream",
     "text": [
      "Separating audio from [dota2_mixtures/1_4.wav] with textual query: [speech]\n",
      "Separated audio written to [../separation_result/dota2/1_4.wav_Huskar.wav]\n"
     ]
    }
   ],
   "source": [
    "from ipywidgets import widgets\n",
    "test_files = [mixture_path]\n",
    "\n",
    "audio_widgets = {cls: {} for cls in classes + ['original']}\n",
    "\n",
    "for file in test_files:\n",
    "    filename = file.split(os.sep)[-1]\n",
    "    audio_widget = widgets.Audio(value=open(file, \"rb\").read(), format=\"wav\", controls=True, autoplay=False)\n",
    "    audio_widgets['original'][filename] = audio_widget\n",
    "\n",
    "    for cls in classes:\n",
    "        output_dir = '../separation_result/dota2/'\n",
    "        os.makedirs(os.path.dirname(output_dir), exist_ok=True)\n",
    "        output_file = os.path.join(output_dir, f'{filename}_{cls}.wav')\n",
    "        separate_audio(merged_lora_model, file, 'speech', output_file, device, use_chunk=True)\n",
    "        audio_widget = widgets.Audio(value=open(output_file, \"rb\").read(), format=\"wav\", controls=True, autoplay=False)\n",
    "        audio_widgets[cls][filename] = audio_widget"
   ],
   "metadata": {
    "collapsed": false,
    "ExecuteTime": {
     "end_time": "2024-05-04T22:06:44.993680376Z",
     "start_time": "2024-05-04T22:06:44.933379503Z"
    }
   }
  },
  {
   "cell_type": "code",
   "execution_count": 63,
   "outputs": [
    {
     "data": {
      "text/plain": "HTML(value='<style>.widget-label { font-size: 16px; font-weight: bold; }</style>')",
      "application/vnd.jupyter.widget-view+json": {
       "version_major": 2,
       "version_minor": 0,
       "model_id": "249003cf11fd40ed9b21cb4557b0335b"
      }
     },
     "metadata": {},
     "output_type": "display_data"
    },
    {
     "data": {
      "text/plain": "VBox(children=(HBox(children=(Label(value=''), Label(value='Huskar', layout=Layout(margin='0 10px 0 10px')), L…",
      "application/vnd.jupyter.widget-view+json": {
       "version_major": 2,
       "version_minor": 0,
       "model_id": "3028106f204440deb7b45f89cd7f1f07"
      }
     },
     "metadata": {},
     "output_type": "display_data"
    },
    {
     "data": {
      "text/plain": "HTML(value='<style>.widget-label { font-size: 16px; font-weight: bold; }</style>')",
      "application/vnd.jupyter.widget-view+json": {
       "version_major": 2,
       "version_minor": 0,
       "model_id": "7dc447d05025465f9bb8b5a4461171fd"
      }
     },
     "metadata": {},
     "output_type": "display_data"
    },
    {
     "data": {
      "text/plain": "VBox(children=(HBox(children=(Label(value=''), Label(value='Huskar', layout=Layout(margin='0 10px 0 10px')), L…",
      "application/vnd.jupyter.widget-view+json": {
       "version_major": 2,
       "version_minor": 0,
       "model_id": "fbfecfc1c92a45e0acd669f9fb8a86f3"
      }
     },
     "metadata": {},
     "output_type": "display_data"
    }
   ],
   "source": [
    "from utils import plot_separation_result\n",
    "\n",
    "plot_separation_result(audio_widgets)"
   ],
   "metadata": {
    "collapsed": false,
    "ExecuteTime": {
     "end_time": "2024-05-04T22:06:45.041149716Z",
     "start_time": "2024-05-04T22:06:44.926455422Z"
    }
   }
  },
  {
   "cell_type": "code",
   "execution_count": null,
   "outputs": [],
   "source": [],
   "metadata": {
    "collapsed": false
   }
  }
 ],
 "metadata": {
  "kernelspec": {
   "display_name": "Python 3",
   "language": "python",
   "name": "python3"
  },
  "language_info": {
   "codemirror_mode": {
    "name": "ipython",
    "version": 2
   },
   "file_extension": ".py",
   "mimetype": "text/x-python",
   "name": "python",
   "nbconvert_exporter": "python",
   "pygments_lexer": "ipython2",
   "version": "2.7.6"
  }
 },
 "nbformat": 4,
 "nbformat_minor": 0
}
