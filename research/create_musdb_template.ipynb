{
 "cells": [
  {
   "cell_type": "code",
   "execution_count": 2,
   "metadata": {
    "collapsed": true,
    "ExecuteTime": {
     "end_time": "2024-02-12T21:38:27.847117183Z",
     "start_time": "2024-02-12T21:38:27.841860524Z"
    }
   },
   "outputs": [],
   "source": [
    "import json"
   ]
  },
  {
   "cell_type": "code",
   "execution_count": 3,
   "outputs": [],
   "source": [
    "import sys\n",
    "import os\n",
    "\n",
    "# Получаем абсолютный путь к корневой директории проекта (директория выше текущей)\n",
    "root_path = os.path.abspath(os.path.join(os.getcwd(), '..'))\n",
    "\n",
    "# Добавляем корневую директорию в sys.path\n",
    "if root_path not in sys.path:\n",
    "    sys.path.append(root_path)"
   ],
   "metadata": {
    "collapsed": false,
    "ExecuteTime": {
     "end_time": "2024-02-12T21:38:28.252860943Z",
     "start_time": "2024-02-12T21:38:28.251899142Z"
    }
   }
  },
  {
   "cell_type": "code",
   "execution_count": 9,
   "outputs": [
    {
     "name": "stdout",
     "output_type": "stream",
     "text": [
      "Готово. JSON метаданные сохранены в файле 'metadata.json'\n"
     ]
    }
   ],
   "source": [
    "# Путь к вашей папке с данными\n",
    "data_folder = \"../evaluation/data/musdb18\"\n",
    "train_folder = f\"{data_folder}/train\"\n",
    "\n",
    "# Инициализируем список для хранения данных\n",
    "data = []\n",
    "\n",
    "# Перебираем все подпапки внутри папки \"train\"\n",
    "for root, dirs, _ in os.walk(train_folder):\n",
    "    for dir_name in dirs:\n",
    "        dir_path = os.path.join(root, dir_name)\n",
    "        for file_name in os.listdir(dir_path):\n",
    "            if file_name.endswith(\".wav\") and not (file_name.startswith('mixture') or file_name.startswith('other')):  # Проверяем, что файл имеет расширение .wav и не mixture или other\n",
    "                file_path = os.path.join(dir_path, file_name)  # Получаем полный путь к файлу\n",
    "                file_name_without_extension = os.path.splitext(file_name)[0]  # Получаем имя файла без расширения\n",
    "                data.append({\"wav\": file_path.replace('../', '', 1), \"caption\": file_name_without_extension})\n",
    "\n",
    "# Создаем JSON объект\n",
    "json_data = {\"data\": data}\n",
    "\n",
    "# Сохраняем JSON в файл\n",
    "with open(f\"../datafiles/musdb18.json\", \"w\") as json_file:\n",
    "    json.dump(json_data, json_file, indent=4)\n",
    "\n",
    "print(\"Готово. JSON метаданные сохранены в файле 'metadata.json'\")\n"
   ],
   "metadata": {
    "collapsed": false,
    "ExecuteTime": {
     "end_time": "2024-01-31T21:00:29.182096875Z",
     "start_time": "2024-01-31T21:00:29.139387697Z"
    }
   }
  },
  {
   "cell_type": "code",
   "execution_count": 15,
   "outputs": [
    {
     "name": "stdout",
     "output_type": "stream",
     "text": [
      "Готово. CSV метаданные сохранены в файле 'musdb18_eval.csv'\n"
     ]
    }
   ],
   "source": [
    "import csv\n",
    "# Путь к вашей папке с данными\n",
    "data_folder = \"../evaluation/data/musdb18\"\n",
    "test_folder = f\"{data_folder}/test\"\n",
    "\n",
    "# Инициализируем список для хранения данных\n",
    "data = []\n",
    "idx = 1\n",
    "# Перебираем все подпапки внутри папки \"train\"\n",
    "for root, dirs, _ in os.walk(test_folder):\n",
    "    for dir_name in dirs:\n",
    "        dir_path = os.path.join(root, dir_name)\n",
    "        for file_name in os.listdir(dir_path):\n",
    "            if file_name.endswith(\".wav\") and not (file_name.startswith('mixture') or file_name.startswith('other')):  # Проверяем, что файл имеет расширение .wav и не mixture или other\n",
    "                file_path = os.path.join(dir_name, file_name)  # Получаем полный путь к файлу\n",
    "                file_name_without_extension = os.path.splitext(file_name)[0]  # Получаем имя файла без расширения\n",
    "                data.append([idx, file_path, file_name_without_extension, dir_name + \"/mixture.wav\"])\n",
    "                idx += 1\n",
    "\n",
    "# Сохраняем JSON в файл\n",
    "with open(f\"../evaluation/metadata/musdb18_eval.csv\", \"w\", newline ='') as csv_file:\n",
    "    headers = ['idx', 'source', 'caption', 'mixture']\n",
    "    writer = csv.writer(csv_file, delimiter=',')\n",
    "    writer.writerow(i for i in headers)\n",
    "    writer.writerows(data)\n",
    "\n",
    "print(\"Готово. CSV метаданные сохранены в файле 'musdb18_eval.csv'\")\n"
   ],
   "metadata": {
    "collapsed": false,
    "ExecuteTime": {
     "end_time": "2024-01-31T21:09:22.855993605Z",
     "start_time": "2024-01-31T21:09:22.826016404Z"
    }
   }
  },
  {
   "cell_type": "code",
   "execution_count": 6,
   "outputs": [
    {
     "name": "stdout",
     "output_type": "stream",
     "text": [
      "Готово. CSV метаданные сохранены в файле 'musdb18_train_eval.csv'\n"
     ]
    }
   ],
   "source": [
    "import csv\n",
    "# Путь к вашей папке с данными\n",
    "data_folder = \"../evaluation/data/musdb18\"\n",
    "test_folder = f\"{data_folder}/train\"\n",
    "\n",
    "# Инициализируем список для хранения данных\n",
    "data = []\n",
    "idx = 1\n",
    "# Перебираем все подпапки внутри папки \"train\"\n",
    "for root, dirs, _ in os.walk(test_folder):\n",
    "    for dir_name in dirs:\n",
    "        dir_path = os.path.join(root, dir_name)\n",
    "        for file_name in os.listdir(dir_path):\n",
    "            if file_name.endswith(\".wav\") and not (file_name.startswith('mixture') or file_name.startswith('other')):  # Проверяем, что файл имеет расширение .wav и не mixture или other\n",
    "                file_path = os.path.join(dir_name, file_name)  # Получаем полный путь к файлу\n",
    "                file_name_without_extension = os.path.splitext(file_name)[0]  # Получаем имя файла без расширения\n",
    "                data.append([idx, file_path, file_name_without_extension, dir_name + \"/mixture.wav\"])\n",
    "                idx += 1\n",
    "\n",
    "# Сохраняем JSON в файл\n",
    "with open(f\"../evaluation/metadata/musdb18_train_eval.csv\", \"w\", newline ='') as csv_file:\n",
    "    headers = ['idx', 'source', 'caption', 'mixture']\n",
    "    writer = csv.writer(csv_file, delimiter=',')\n",
    "    writer.writerow(i for i in headers)\n",
    "    writer.writerows(data)\n",
    "\n",
    "print(\"Готово. CSV метаданные сохранены в файле 'musdb18_train_eval.csv'\")\n"
   ],
   "metadata": {
    "collapsed": false,
    "ExecuteTime": {
     "end_time": "2024-02-12T21:41:08.408758765Z",
     "start_time": "2024-02-12T21:41:08.341821417Z"
    }
   }
  },
  {
   "cell_type": "code",
   "execution_count": null,
   "outputs": [],
   "source": [],
   "metadata": {
    "collapsed": false
   }
  }
 ],
 "metadata": {
  "kernelspec": {
   "display_name": "Python 3",
   "language": "python",
   "name": "python3"
  },
  "language_info": {
   "codemirror_mode": {
    "name": "ipython",
    "version": 2
   },
   "file_extension": ".py",
   "mimetype": "text/x-python",
   "name": "python",
   "nbconvert_exporter": "python",
   "pygments_lexer": "ipython2",
   "version": "2.7.6"
  }
 },
 "nbformat": 4,
 "nbformat_minor": 0
}
