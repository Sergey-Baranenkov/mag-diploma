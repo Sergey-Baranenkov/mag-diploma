{
 "cells": [
  {
   "cell_type": "markdown",
   "source": [
    "## Скрипты для создания метаданных для тренировки, валидации и бенчмарка к датасету MUSDB18"
   ],
   "metadata": {
    "collapsed": false
   }
  },
  {
   "cell_type": "code",
   "execution_count": 1,
   "outputs": [],
   "source": [
    "import json"
   ],
   "metadata": {
    "collapsed": false,
    "ExecuteTime": {
     "end_time": "2024-04-29T09:25:17.012764954Z",
     "start_time": "2024-04-29T09:25:17.012373199Z"
    }
   }
  },
  {
   "cell_type": "code",
   "execution_count": 2,
   "outputs": [],
   "source": [
    "import sys\n",
    "import os\n",
    "\n",
    "# Получаем абсолютный путь к корневой директории проекта (директория выше текущей)\n",
    "root_path = os.path.abspath(os.path.join(os.getcwd(), '..'))\n",
    "\n",
    "# Добавляем корневую директорию в sys.path\n",
    "if root_path not in sys.path:\n",
    "    sys.path.append(root_path)"
   ],
   "metadata": {
    "collapsed": false,
    "ExecuteTime": {
     "end_time": "2024-04-29T09:25:17.013836691Z",
     "start_time": "2024-04-29T09:25:17.012996294Z"
    }
   }
  },
  {
   "cell_type": "code",
   "execution_count": 3,
   "outputs": [],
   "source": [
    "def get_musdb_dataset_json_metadata(dataset_path):\n",
    "    data = []\n",
    "\n",
    "    # Перебираем все подпапки внутри папки \"train\"\n",
    "    for root, dirs, _ in os.walk(dataset_path):\n",
    "        for dir_name in dirs:\n",
    "            dir_path = os.path.join(root, dir_name)\n",
    "            for file_name in os.listdir(dir_path):\n",
    "                if file_name.endswith(\".wav\") and not (file_name.startswith('mixture')):  # Проверяем, что файл имеет расширение .wav и не mixture\n",
    "                    file_path = os.path.join(dir_path, file_name)  # Получаем полный путь к файлу\n",
    "                    file_name_without_extension = os.path.splitext(file_name)[0]  # Получаем имя файла без расширения\n",
    "                    if file_name_without_extension == 'other':\n",
    "                        file_name_without_extension = 'other musical instruments'\n",
    "\n",
    "                    data.append({\"wav\": file_path.replace('../', '', 1), \"caption\": file_name_without_extension})\n",
    "\n",
    "    return data"
   ],
   "metadata": {
    "collapsed": false,
    "ExecuteTime": {
     "end_time": "2024-04-29T09:25:17.013966718Z",
     "start_time": "2024-04-29T09:25:17.013142321Z"
    }
   }
  },
  {
   "cell_type": "code",
   "execution_count": 4,
   "outputs": [
    {
     "name": "stdout",
     "output_type": "stream",
     "text": [
      "Готово. JSON метаданные сохранены в файле musdb18.train.json\n"
     ]
    }
   ],
   "source": [
    "data_folder = \"../evaluation/data/musdb18/train\"\n",
    "data = get_musdb_dataset_json_metadata(data_folder)\n",
    "# Создаем JSON объект\n",
    "json_data = {\"data\": data}\n",
    "filename = 'musdb18.train.json'\n",
    "# Сохраняем JSON в файл\n",
    "with open(f\"../datafiles/{filename}\", \"w\") as json_file:\n",
    "    json.dump(json_data, json_file, indent=4)\n",
    "\n",
    "print(f\"Готово. JSON метаданные сохранены в файле {filename}\")"
   ],
   "metadata": {
    "collapsed": false,
    "ExecuteTime": {
     "end_time": "2024-04-29T09:25:17.014351470Z",
     "start_time": "2024-04-29T09:25:17.013229367Z"
    }
   }
  },
  {
   "cell_type": "code",
   "execution_count": 5,
   "outputs": [
    {
     "name": "stdout",
     "output_type": "stream",
     "text": [
      "Готово. JSON метаданные сохранены в файле musdb18.val.json\n"
     ]
    }
   ],
   "source": [
    "data_folder = \"../evaluation/data/musdb18/test\"\n",
    "data = get_musdb_dataset_json_metadata(data_folder)\n",
    "# Создаем JSON объект\n",
    "json_data = {\"data\": data}\n",
    "filename = 'musdb18.val.json'\n",
    "# Сохраняем JSON в файл\n",
    "with open(f\"../datafiles/{filename}\", \"w\") as json_file:\n",
    "    json.dump(json_data, json_file, indent=4)\n",
    "\n",
    "print(f\"Готово. JSON метаданные сохранены в файле {filename}\")"
   ],
   "metadata": {
    "collapsed": false,
    "ExecuteTime": {
     "end_time": "2024-04-29T09:25:17.028146454Z",
     "start_time": "2024-04-29T09:25:17.015139969Z"
    }
   }
  },
  {
   "cell_type": "code",
   "execution_count": 6,
   "outputs": [],
   "source": [
    "def get_musdb_dataset_benchmark_csv_metadata(dataset_path):\n",
    "    # Инициализируем список для хранения данных\n",
    "    data = []\n",
    "    idx = 1\n",
    "    # Перебираем все подпапки внутри папки \"train\"\n",
    "    for root, dirs, _ in os.walk(dataset_path):\n",
    "        for dir_name in dirs:\n",
    "            dir_path = os.path.join(root, dir_name)\n",
    "            for file_name in os.listdir(dir_path):\n",
    "                if file_name.endswith(\".wav\") and not (file_name.startswith('mixture')):  # Проверяем, что файл имеет расширение .wav и не mixture\n",
    "                    file_path = os.path.join(dir_name, file_name)  # Получаем полный путь к файлу\n",
    "                    file_name_without_extension = os.path.splitext(file_name)[0]  # Получаем имя файла без расширения\n",
    "                    if file_name_without_extension == 'other':\n",
    "                        file_name_without_extension = 'other musical instruments'\n",
    "\n",
    "                    data.append([idx, file_path, file_name_without_extension, dir_name + \"/mixture.wav\"])\n",
    "                    idx += 1\n",
    "    return data"
   ],
   "metadata": {
    "collapsed": false,
    "ExecuteTime": {
     "end_time": "2024-04-29T09:25:17.061639402Z",
     "start_time": "2024-04-29T09:25:17.029709936Z"
    }
   }
  },
  {
   "cell_type": "code",
   "execution_count": 9,
   "outputs": [
    {
     "name": "stdout",
     "output_type": "stream",
     "text": [
      "Готово. CSV метаданные сохранены в файле musdb18_eval.csv\n"
     ]
    }
   ],
   "source": [
    "import csv\n",
    "\n",
    "# Путь к вашей папке с данными\n",
    "data_folder = \"../evaluation/data/musdb18\"\n",
    "test_folder = f\"{data_folder}/test\"\n",
    "data = get_musdb_dataset_benchmark_csv_metadata(test_folder)\n",
    "\n",
    "filename = 'musdb18_eval.csv'\n",
    "# Сохраняем JSON в файл\n",
    "with open(f\"../evaluation/metadata/{filename}\", \"w\", newline ='') as csv_file:\n",
    "    headers = ['idx', 'source', 'caption', 'mixture']\n",
    "    writer = csv.writer(csv_file, delimiter=',')\n",
    "    writer.writerow(i for i in headers)\n",
    "    writer.writerows(data)\n",
    "\n",
    "print(f\"Готово. CSV метаданные сохранены в файле {filename}\")"
   ],
   "metadata": {
    "collapsed": false,
    "ExecuteTime": {
     "end_time": "2024-04-29T11:09:53.841926166Z",
     "start_time": "2024-04-29T11:09:53.795340205Z"
    }
   }
  },
  {
   "cell_type": "code",
   "execution_count": 8,
   "outputs": [
    {
     "name": "stdout",
     "output_type": "stream",
     "text": [
      "Готово. CSV метаданные сохранены в файле musdb18_eval.csv\n"
     ]
    }
   ],
   "source": [
    "import csv\n",
    "\n",
    "# Путь к вашей папке с данными\n",
    "data_folder = \"../evaluation/data/musdb18\"\n",
    "train_folder = f\"{data_folder}/train\"\n",
    "data = get_musdb_dataset_benchmark_csv_metadata(train_folder)\n",
    "\n",
    "filename = 'musdb18_eval.csv'\n",
    "# Сохраняем JSON в файл\n",
    "with open(f\"../evaluation/metadata/{filename}\", \"w\", newline ='') as csv_file:\n",
    "    headers = ['idx', 'source', 'caption', 'mixture']\n",
    "    writer = csv.writer(csv_file, delimiter=',')\n",
    "    writer.writerow(i for i in headers)\n",
    "    writer.writerows(data)\n",
    "\n",
    "print(f\"Готово. CSV метаданные сохранены в файле {filename}\")"
   ],
   "metadata": {
    "collapsed": false,
    "ExecuteTime": {
     "end_time": "2024-04-29T09:25:17.088140270Z",
     "start_time": "2024-04-29T09:25:17.085669053Z"
    }
   }
  },
  {
   "cell_type": "code",
   "execution_count": 8,
   "outputs": [],
   "source": [],
   "metadata": {
    "collapsed": false,
    "ExecuteTime": {
     "end_time": "2024-04-29T09:25:17.088270147Z",
     "start_time": "2024-04-29T09:25:17.085846229Z"
    }
   }
  }
 ],
 "metadata": {
  "kernelspec": {
   "display_name": "Python 3",
   "language": "python",
   "name": "python3"
  },
  "language_info": {
   "codemirror_mode": {
    "name": "ipython",
    "version": 2
   },
   "file_extension": ".py",
   "mimetype": "text/x-python",
   "name": "python",
   "nbconvert_exporter": "python",
   "pygments_lexer": "ipython2",
   "version": "2.7.6"
  }
 },
 "nbformat": 4,
 "nbformat_minor": 0
}
