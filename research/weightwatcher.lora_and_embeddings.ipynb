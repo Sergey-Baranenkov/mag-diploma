{
 "cells": [
  {
   "cell_type": "markdown",
   "source": [
    "## Анализ комбинированной модели с помощью weightwatcher"
   ],
   "metadata": {
    "collapsed": false
   }
  },
  {
   "cell_type": "code",
   "execution_count": 1,
   "outputs": [],
   "source": [
    "%load_ext autoreload\n",
    "%autoreload 2"
   ],
   "metadata": {
    "collapsed": false,
    "ExecuteTime": {
     "end_time": "2024-05-04T18:15:13.677507686Z",
     "start_time": "2024-05-04T18:15:13.677366186Z"
    }
   }
  },
  {
   "cell_type": "code",
   "execution_count": 2,
   "outputs": [],
   "source": [
    "# ! pip uninstall numba -y && pip install numba"
   ],
   "metadata": {
    "collapsed": false,
    "ExecuteTime": {
     "end_time": "2024-05-04T18:15:13.677672750Z",
     "start_time": "2024-05-04T18:15:13.677444936Z"
    }
   }
  },
  {
   "cell_type": "code",
   "execution_count": 3,
   "outputs": [],
   "source": [
    "import os\n",
    "import sys\n",
    "\n",
    "# Получаем абсолютный путь к корневой директории проекта (директория выше текущей)\n",
    "root_path = os.path.abspath(os.path.join(os.getcwd(), '..'))\n",
    "\n",
    "# Добавляем корневую директорию в sys.path\n",
    "if root_path not in sys.path:\n",
    "    sys.path.append(root_path)"
   ],
   "metadata": {
    "collapsed": false,
    "ExecuteTime": {
     "end_time": "2024-05-04T18:15:13.760855239Z",
     "start_time": "2024-05-04T18:15:13.760682320Z"
    }
   }
  },
  {
   "cell_type": "code",
   "execution_count": 4,
   "outputs": [
    {
     "name": "stderr",
     "output_type": "stream",
     "text": [
      "2024-05-04 21:15:15.490802: E external/local_xla/xla/stream_executor/cuda/cuda_dnn.cc:9261] Unable to register cuDNN factory: Attempting to register factory for plugin cuDNN when one has already been registered\n",
      "2024-05-04 21:15:15.490831: E external/local_xla/xla/stream_executor/cuda/cuda_fft.cc:607] Unable to register cuFFT factory: Attempting to register factory for plugin cuFFT when one has already been registered\n",
      "2024-05-04 21:15:15.491737: E external/local_xla/xla/stream_executor/cuda/cuda_blas.cc:1515] Unable to register cuBLAS factory: Attempting to register factory for plugin cuBLAS when one has already been registered\n",
      "2024-05-04 21:15:15.496142: I tensorflow/core/platform/cpu_feature_guard.cc:182] This TensorFlow binary is optimized to use available CPU instructions in performance-critical operations.\n",
      "To enable the following instructions: AVX2 FMA, in other operations, rebuild TensorFlow with the appropriate compiler flags.\n",
      "2024-05-04 21:15:16.013048: W tensorflow/compiler/tf2tensorrt/utils/py_utils.cc:38] TF-TRT Warning: Could not find TensorRT\n"
     ]
    }
   ],
   "source": [
    "from model_loaders import load_ss_model\n",
    "import weightwatcher as ww\n",
    "from pipeline import separate_audio\n",
    "import torch\n",
    "from models.clap_encoder import CLAP_Encoder\n",
    "import IPython.display as ipd\n",
    "from utils import parse_yaml\n",
    "from utils import describe_weights\n",
    "from torch import nn\n",
    "import numpy as np\n",
    "import pandas as pd"
   ],
   "metadata": {
    "collapsed": false,
    "ExecuteTime": {
     "end_time": "2024-05-04T18:15:19.063773384Z",
     "start_time": "2024-05-04T18:15:14.248993956Z"
    }
   }
  },
  {
   "cell_type": "code",
   "execution_count": 5,
   "outputs": [],
   "source": [
    "SS_CONFIG_PATH = '../config/audiosep_base.yaml'\n",
    "CLAP_CKPT_PATH = '../checkpoint/music_speech_audioset_epoch_15_esc_89.98.pt'\n",
    "AUDIOSEP_CKPT_PATH = '../checkpoint/audiosep_base_4M_steps.ckpt'\n",
    "classes = [\"bass\", \"drums\", \"vocals\", \"other musical instruments\"]\n",
    "device = torch.device('cuda')\n",
    "configs = parse_yaml(SS_CONFIG_PATH)"
   ],
   "metadata": {
    "collapsed": false,
    "ExecuteTime": {
     "end_time": "2024-05-04T18:15:19.097679652Z",
     "start_time": "2024-05-04T18:15:19.065305161Z"
    }
   }
  },
  {
   "cell_type": "code",
   "execution_count": 6,
   "outputs": [
    {
     "name": "stderr",
     "output_type": "stream",
     "text": [
      "2024-05-04 21:15:19,324 - INFO - Loading HTSAT-base model config.\n",
      "2024-05-04 21:15:21,444 - INFO - Loading pretrained HTSAT-base-roberta weights (../checkpoint/music_speech_audioset_epoch_15_esc_89.98.pt).\n"
     ]
    }
   ],
   "source": [
    "query_encoder = CLAP_Encoder(pretrained_path = CLAP_CKPT_PATH).eval().to(device)\n",
    "base_model = load_ss_model(configs=configs, checkpoint_path=AUDIOSEP_CKPT_PATH, query_encoder=query_encoder).eval().to(device)"
   ],
   "metadata": {
    "collapsed": false,
    "ExecuteTime": {
     "end_time": "2024-05-04T18:15:24.839535275Z",
     "start_time": "2024-05-04T18:15:19.099174638Z"
    }
   }
  },
  {
   "cell_type": "code",
   "execution_count": 7,
   "outputs": [
    {
     "name": "stderr",
     "output_type": "stream",
     "text": [
      "2024-05-04 21:47:11,076 - INFO - Loading HTSAT-base model config.\n",
      "2024-05-04 21:47:12,388 - INFO - Loading pretrained HTSAT-base-roberta weights (../checkpoint/music_speech_audioset_epoch_15_esc_89.98.pt).\n"
     ]
    }
   ],
   "source": [
    "from models.audiosep_lora_and_tuned_embeddings import AudioSepLoraAndTunedEmbeddings\n",
    "\n",
    "checkpoint_path = '../checkpoints/final/musdb18/lora_embeddings/final.ckpt'\n",
    "\n",
    "query_encoder_for_lora = CLAP_Encoder(pretrained_path = CLAP_CKPT_PATH).eval().to(device)\n",
    "base_model_for_lora = load_ss_model(configs=configs, checkpoint_path=AUDIOSEP_CKPT_PATH, query_encoder=query_encoder_for_lora).eval().to(device)\n",
    "\n",
    "lora_model = AudioSepLoraAndTunedEmbeddings.load_from_checkpoint(\n",
    "    checkpoint_path=checkpoint_path,\n",
    "    strict=False,\n",
    "    pretrained_audiosep_model = base_model_for_lora,\n",
    "    loss_function=None,\n",
    "    waveform_mixer=None,\n",
    "    lr_lambda_func=None\n",
    ") \\\n",
    "    .eval() \\\n",
    "    .to(device)\n",
    "\n",
    "merged_lora_model = lora_model.model.merge_and_unload()\n",
    "\n",
    "merged_lora_model.query_encoder = lora_model.model.query_encoder"
   ],
   "metadata": {
    "collapsed": false,
    "ExecuteTime": {
     "end_time": "2024-05-04T18:47:15.251129481Z",
     "start_time": "2024-05-04T18:47:10.535810959Z"
    }
   }
  },
  {
   "cell_type": "markdown",
   "source": [
    "# Ранг слоев затюненой модели"
   ],
   "metadata": {
    "collapsed": false
   }
  },
  {
   "cell_type": "code",
   "execution_count": 8,
   "outputs": [
    {
     "data": {
      "text/plain": "                                     layer_name lower_dim_size rank\n0                                base->pre_conv              1    1\n1      base->encoder_block1->conv_block1->conv1             32   32\n2      base->encoder_block1->conv_block1->conv2             32   32\n3      base->encoder_block2->conv_block1->conv1             64   64\n4      base->encoder_block2->conv_block1->conv2             64   64\n5   base->encoder_block2->conv_block1->shortcut             32   32\n6      base->encoder_block3->conv_block1->conv1            128  128\n7      base->encoder_block3->conv_block1->conv2            128  128\n8   base->encoder_block3->conv_block1->shortcut             64   64\n9      base->encoder_block4->conv_block1->conv1            256  256\n10     base->encoder_block4->conv_block1->conv2            256  256\n11  base->encoder_block4->conv_block1->shortcut            128  128\n12     base->encoder_block5->conv_block1->conv1            384  384\n13     base->encoder_block5->conv_block1->conv2            384  384\n14  base->encoder_block5->conv_block1->shortcut            256  256\n15     base->encoder_block6->conv_block1->conv1            384  384\n16     base->encoder_block6->conv_block1->conv2            384  384\n17       base->conv_block7a->conv_block1->conv1            384  384\n18       base->conv_block7a->conv_block1->conv2            384  384\n19     base->decoder_block1->conv_block2->conv1            384  384\n20     base->decoder_block1->conv_block2->conv2            384  384\n21  base->decoder_block1->conv_block2->shortcut            384  384\n22     base->decoder_block2->conv_block2->conv1            384  384\n23     base->decoder_block2->conv_block2->conv2            384  384\n24  base->decoder_block2->conv_block2->shortcut            384  384\n25     base->decoder_block3->conv_block2->conv1            256  256\n26     base->decoder_block3->conv_block2->conv2            256  256\n27  base->decoder_block3->conv_block2->shortcut            256  256\n28     base->decoder_block4->conv_block2->conv1            128  128\n29     base->decoder_block4->conv_block2->conv2            128  128\n30  base->decoder_block4->conv_block2->shortcut            128  128\n31     base->decoder_block5->conv_block2->conv1             64   64\n32     base->decoder_block5->conv_block2->conv2             64   64\n33  base->decoder_block5->conv_block2->shortcut             64   64\n34     base->decoder_block6->conv_block2->conv1             32   32\n35     base->decoder_block6->conv_block2->conv2             32   32\n36  base->decoder_block6->conv_block2->shortcut             32   32\n37                             base->after_conv              3    3",
      "text/html": "<div>\n<style scoped>\n    .dataframe tbody tr th:only-of-type {\n        vertical-align: middle;\n    }\n\n    .dataframe tbody tr th {\n        vertical-align: top;\n    }\n\n    .dataframe thead th {\n        text-align: right;\n    }\n</style>\n<table border=\"1\" class=\"dataframe\">\n  <thead>\n    <tr style=\"text-align: right;\">\n      <th></th>\n      <th>layer_name</th>\n      <th>lower_dim_size</th>\n      <th>rank</th>\n    </tr>\n  </thead>\n  <tbody>\n    <tr>\n      <th>0</th>\n      <td>base-&gt;pre_conv</td>\n      <td>1</td>\n      <td>1</td>\n    </tr>\n    <tr>\n      <th>1</th>\n      <td>base-&gt;encoder_block1-&gt;conv_block1-&gt;conv1</td>\n      <td>32</td>\n      <td>32</td>\n    </tr>\n    <tr>\n      <th>2</th>\n      <td>base-&gt;encoder_block1-&gt;conv_block1-&gt;conv2</td>\n      <td>32</td>\n      <td>32</td>\n    </tr>\n    <tr>\n      <th>3</th>\n      <td>base-&gt;encoder_block2-&gt;conv_block1-&gt;conv1</td>\n      <td>64</td>\n      <td>64</td>\n    </tr>\n    <tr>\n      <th>4</th>\n      <td>base-&gt;encoder_block2-&gt;conv_block1-&gt;conv2</td>\n      <td>64</td>\n      <td>64</td>\n    </tr>\n    <tr>\n      <th>5</th>\n      <td>base-&gt;encoder_block2-&gt;conv_block1-&gt;shortcut</td>\n      <td>32</td>\n      <td>32</td>\n    </tr>\n    <tr>\n      <th>6</th>\n      <td>base-&gt;encoder_block3-&gt;conv_block1-&gt;conv1</td>\n      <td>128</td>\n      <td>128</td>\n    </tr>\n    <tr>\n      <th>7</th>\n      <td>base-&gt;encoder_block3-&gt;conv_block1-&gt;conv2</td>\n      <td>128</td>\n      <td>128</td>\n    </tr>\n    <tr>\n      <th>8</th>\n      <td>base-&gt;encoder_block3-&gt;conv_block1-&gt;shortcut</td>\n      <td>64</td>\n      <td>64</td>\n    </tr>\n    <tr>\n      <th>9</th>\n      <td>base-&gt;encoder_block4-&gt;conv_block1-&gt;conv1</td>\n      <td>256</td>\n      <td>256</td>\n    </tr>\n    <tr>\n      <th>10</th>\n      <td>base-&gt;encoder_block4-&gt;conv_block1-&gt;conv2</td>\n      <td>256</td>\n      <td>256</td>\n    </tr>\n    <tr>\n      <th>11</th>\n      <td>base-&gt;encoder_block4-&gt;conv_block1-&gt;shortcut</td>\n      <td>128</td>\n      <td>128</td>\n    </tr>\n    <tr>\n      <th>12</th>\n      <td>base-&gt;encoder_block5-&gt;conv_block1-&gt;conv1</td>\n      <td>384</td>\n      <td>384</td>\n    </tr>\n    <tr>\n      <th>13</th>\n      <td>base-&gt;encoder_block5-&gt;conv_block1-&gt;conv2</td>\n      <td>384</td>\n      <td>384</td>\n    </tr>\n    <tr>\n      <th>14</th>\n      <td>base-&gt;encoder_block5-&gt;conv_block1-&gt;shortcut</td>\n      <td>256</td>\n      <td>256</td>\n    </tr>\n    <tr>\n      <th>15</th>\n      <td>base-&gt;encoder_block6-&gt;conv_block1-&gt;conv1</td>\n      <td>384</td>\n      <td>384</td>\n    </tr>\n    <tr>\n      <th>16</th>\n      <td>base-&gt;encoder_block6-&gt;conv_block1-&gt;conv2</td>\n      <td>384</td>\n      <td>384</td>\n    </tr>\n    <tr>\n      <th>17</th>\n      <td>base-&gt;conv_block7a-&gt;conv_block1-&gt;conv1</td>\n      <td>384</td>\n      <td>384</td>\n    </tr>\n    <tr>\n      <th>18</th>\n      <td>base-&gt;conv_block7a-&gt;conv_block1-&gt;conv2</td>\n      <td>384</td>\n      <td>384</td>\n    </tr>\n    <tr>\n      <th>19</th>\n      <td>base-&gt;decoder_block1-&gt;conv_block2-&gt;conv1</td>\n      <td>384</td>\n      <td>384</td>\n    </tr>\n    <tr>\n      <th>20</th>\n      <td>base-&gt;decoder_block1-&gt;conv_block2-&gt;conv2</td>\n      <td>384</td>\n      <td>384</td>\n    </tr>\n    <tr>\n      <th>21</th>\n      <td>base-&gt;decoder_block1-&gt;conv_block2-&gt;shortcut</td>\n      <td>384</td>\n      <td>384</td>\n    </tr>\n    <tr>\n      <th>22</th>\n      <td>base-&gt;decoder_block2-&gt;conv_block2-&gt;conv1</td>\n      <td>384</td>\n      <td>384</td>\n    </tr>\n    <tr>\n      <th>23</th>\n      <td>base-&gt;decoder_block2-&gt;conv_block2-&gt;conv2</td>\n      <td>384</td>\n      <td>384</td>\n    </tr>\n    <tr>\n      <th>24</th>\n      <td>base-&gt;decoder_block2-&gt;conv_block2-&gt;shortcut</td>\n      <td>384</td>\n      <td>384</td>\n    </tr>\n    <tr>\n      <th>25</th>\n      <td>base-&gt;decoder_block3-&gt;conv_block2-&gt;conv1</td>\n      <td>256</td>\n      <td>256</td>\n    </tr>\n    <tr>\n      <th>26</th>\n      <td>base-&gt;decoder_block3-&gt;conv_block2-&gt;conv2</td>\n      <td>256</td>\n      <td>256</td>\n    </tr>\n    <tr>\n      <th>27</th>\n      <td>base-&gt;decoder_block3-&gt;conv_block2-&gt;shortcut</td>\n      <td>256</td>\n      <td>256</td>\n    </tr>\n    <tr>\n      <th>28</th>\n      <td>base-&gt;decoder_block4-&gt;conv_block2-&gt;conv1</td>\n      <td>128</td>\n      <td>128</td>\n    </tr>\n    <tr>\n      <th>29</th>\n      <td>base-&gt;decoder_block4-&gt;conv_block2-&gt;conv2</td>\n      <td>128</td>\n      <td>128</td>\n    </tr>\n    <tr>\n      <th>30</th>\n      <td>base-&gt;decoder_block4-&gt;conv_block2-&gt;shortcut</td>\n      <td>128</td>\n      <td>128</td>\n    </tr>\n    <tr>\n      <th>31</th>\n      <td>base-&gt;decoder_block5-&gt;conv_block2-&gt;conv1</td>\n      <td>64</td>\n      <td>64</td>\n    </tr>\n    <tr>\n      <th>32</th>\n      <td>base-&gt;decoder_block5-&gt;conv_block2-&gt;conv2</td>\n      <td>64</td>\n      <td>64</td>\n    </tr>\n    <tr>\n      <th>33</th>\n      <td>base-&gt;decoder_block5-&gt;conv_block2-&gt;shortcut</td>\n      <td>64</td>\n      <td>64</td>\n    </tr>\n    <tr>\n      <th>34</th>\n      <td>base-&gt;decoder_block6-&gt;conv_block2-&gt;conv1</td>\n      <td>32</td>\n      <td>32</td>\n    </tr>\n    <tr>\n      <th>35</th>\n      <td>base-&gt;decoder_block6-&gt;conv_block2-&gt;conv2</td>\n      <td>32</td>\n      <td>32</td>\n    </tr>\n    <tr>\n      <th>36</th>\n      <td>base-&gt;decoder_block6-&gt;conv_block2-&gt;shortcut</td>\n      <td>32</td>\n      <td>32</td>\n    </tr>\n    <tr>\n      <th>37</th>\n      <td>base-&gt;after_conv</td>\n      <td>3</td>\n      <td>3</td>\n    </tr>\n  </tbody>\n</table>\n</div>"
     },
     "execution_count": 8,
     "metadata": {},
     "output_type": "execute_result"
    }
   ],
   "source": [
    "from utils import calculate_ranks_of_conv_layers\n",
    "\n",
    "# Вызываем функцию для расчета рангов\n",
    "ranks = calculate_ranks_of_conv_layers(merged_lora_model.ss_model)\n",
    "ranks"
   ],
   "metadata": {
    "collapsed": false,
    "ExecuteTime": {
     "end_time": "2024-05-04T18:47:22.016489819Z",
     "start_time": "2024-05-04T18:47:20.681053115Z"
    }
   }
  },
  {
   "cell_type": "markdown",
   "source": [
    "Ранги остались неизменными"
   ],
   "metadata": {
    "collapsed": false
   }
  },
  {
   "cell_type": "markdown",
   "source": [
    "# Посмотрим на среднее alpha затюненой separation net"
   ],
   "metadata": {
    "collapsed": false
   }
  },
  {
   "cell_type": "code",
   "execution_count": 9,
   "outputs": [
    {
     "name": "stdout",
     "output_type": "stream",
     "text": [
      "{'log_norm': 3.462629987699735, 'alpha': 3.559142605964055, 'alpha_weighted': 6.686196478312739, 'log_alpha_norm': 7.170253291363401, 'log_spectral_norm': 2.190367225337929, 'stable_rank': 39.93732140427164}\n"
     ]
    },
    {
     "data": {
      "text/plain": "<Figure size 640x480 with 1 Axes>",
      "image/png": "[encoded data removed]"
     },
     "metadata": {},
     "output_type": "display_data"
    }
   ],
   "source": [
    "from utils import plot_hist\n",
    "\n",
    "base_details, base_summary = describe_weights(merged_lora_model.ss_model)\n",
    "plot_hist(base_details)\n",
    "print(base_summary)"
   ],
   "metadata": {
    "collapsed": false,
    "ExecuteTime": {
     "end_time": "2024-05-04T18:47:35.504478138Z",
     "start_time": "2024-05-04T18:47:31.239406061Z"
    }
   }
  },
  {
   "cell_type": "markdown",
   "source": [
    "Видим, что стало меньше недообученных слоев, но среднее alpha незначительно увеличилось, посмотрим, какие слои были затронуты наиболее сильно и как изменилось alpha конкретного слоя"
   ],
   "metadata": {
    "collapsed": false
   }
  },
  {
   "cell_type": "code",
   "execution_count": 10,
   "outputs": [
    {
     "data": {
      "text/plain": "(2.0, 0.0)"
     },
     "metadata": {},
     "output_type": "display_data"
    },
    {
     "data": {
      "text/plain": "                                          longname    delta_W\nlayer_id                                                     \n54             base.conv_block7a.conv_block1.conv1  13.726562\n55             base.conv_block7a.conv_block1.conv2  12.640625\n48           base.encoder_block6.conv_block1.conv1  10.554688\n62           base.decoder_block1.conv_block2.conv1  10.375000\n42           base.encoder_block5.conv_block1.conv2   9.820312\n72           base.decoder_block2.conv_block2.conv1   9.296875\n49           base.encoder_block6.conv_block1.conv2   8.843750\n35           base.encoder_block4.conv_block1.conv2   8.085938\n83           base.decoder_block3.conv_block2.conv2   7.929688\n73           base.decoder_block2.conv_block2.conv2   6.730469\n82           base.decoder_block3.conv_block2.conv1   6.281250\n41           base.encoder_block5.conv_block1.conv1   6.234375\n63           base.decoder_block1.conv_block2.conv2   5.914062\n34           base.encoder_block4.conv_block1.conv1   4.246094\n74        base.decoder_block2.conv_block2.shortcut   3.626953\n64        base.decoder_block1.conv_block2.shortcut   2.736328\n28           base.encoder_block3.conv_block1.conv2   2.697266\n84        base.decoder_block3.conv_block2.shortcut   2.390625\n92           base.decoder_block4.conv_block2.conv1   2.060547\n43        base.encoder_block5.conv_block1.shortcut   1.842773\n93           base.decoder_block4.conv_block2.conv2   1.805664\n94        base.decoder_block4.conv_block2.shortcut   1.577148\n27           base.encoder_block3.conv_block1.conv1   1.547852\n36        base.encoder_block4.conv_block1.shortcut   1.514648\n21           base.encoder_block2.conv_block1.conv2   1.000977\n29        base.encoder_block3.conv_block1.shortcut   0.859375\n102          base.decoder_block5.conv_block2.conv1   0.691406\n22        base.encoder_block2.conv_block1.shortcut   0.589844\n103          base.decoder_block5.conv_block2.conv2   0.528809\n104       base.decoder_block5.conv_block2.shortcut   0.490967\n20           base.encoder_block2.conv_block1.conv1   0.464600\n15           base.encoder_block1.conv_block1.conv2   0.324463\n14           base.encoder_block1.conv_block1.conv1   0.303223\n112          base.decoder_block6.conv_block2.conv1   0.236694\n113          base.decoder_block6.conv_block2.conv2   0.048798\n114       base.decoder_block6.conv_block2.shortcut   0.036102",
      "text/html": "<div>\n<style scoped>\n    .dataframe tbody tr th:only-of-type {\n        vertical-align: middle;\n    }\n\n    .dataframe tbody tr th {\n        vertical-align: top;\n    }\n\n    .dataframe thead th {\n        text-align: right;\n    }\n</style>\n<table border=\"1\" class=\"dataframe\">\n  <thead>\n    <tr style=\"text-align: right;\">\n      <th></th>\n      <th>longname</th>\n      <th>delta_W</th>\n    </tr>\n    <tr>\n      <th>layer_id</th>\n      <th></th>\n      <th></th>\n    </tr>\n  </thead>\n  <tbody>\n    <tr>\n      <th>54</th>\n      <td>base.conv_block7a.conv_block1.conv1</td>\n      <td>13.726562</td>\n    </tr>\n    <tr>\n      <th>55</th>\n      <td>base.conv_block7a.conv_block1.conv2</td>\n      <td>12.640625</td>\n    </tr>\n    <tr>\n      <th>48</th>\n      <td>base.encoder_block6.conv_block1.conv1</td>\n      <td>10.554688</td>\n    </tr>\n    <tr>\n      <th>62</th>\n      <td>base.decoder_block1.conv_block2.conv1</td>\n      <td>10.375000</td>\n    </tr>\n    <tr>\n      <th>42</th>\n      <td>base.encoder_block5.conv_block1.conv2</td>\n      <td>9.820312</td>\n    </tr>\n    <tr>\n      <th>72</th>\n      <td>base.decoder_block2.conv_block2.conv1</td>\n      <td>9.296875</td>\n    </tr>\n    <tr>\n      <th>49</th>\n      <td>base.encoder_block6.conv_block1.conv2</td>\n      <td>8.843750</td>\n    </tr>\n    <tr>\n      <th>35</th>\n      <td>base.encoder_block4.conv_block1.conv2</td>\n      <td>8.085938</td>\n    </tr>\n    <tr>\n      <th>83</th>\n      <td>base.decoder_block3.conv_block2.conv2</td>\n      <td>7.929688</td>\n    </tr>\n    <tr>\n      <th>73</th>\n      <td>base.decoder_block2.conv_block2.conv2</td>\n      <td>6.730469</td>\n    </tr>\n    <tr>\n      <th>82</th>\n      <td>base.decoder_block3.conv_block2.conv1</td>\n      <td>6.281250</td>\n    </tr>\n    <tr>\n      <th>41</th>\n      <td>base.encoder_block5.conv_block1.conv1</td>\n      <td>6.234375</td>\n    </tr>\n    <tr>\n      <th>63</th>\n      <td>base.decoder_block1.conv_block2.conv2</td>\n      <td>5.914062</td>\n    </tr>\n    <tr>\n      <th>34</th>\n      <td>base.encoder_block4.conv_block1.conv1</td>\n      <td>4.246094</td>\n    </tr>\n    <tr>\n      <th>74</th>\n      <td>base.decoder_block2.conv_block2.shortcut</td>\n      <td>3.626953</td>\n    </tr>\n    <tr>\n      <th>64</th>\n      <td>base.decoder_block1.conv_block2.shortcut</td>\n      <td>2.736328</td>\n    </tr>\n    <tr>\n      <th>28</th>\n      <td>base.encoder_block3.conv_block1.conv2</td>\n      <td>2.697266</td>\n    </tr>\n    <tr>\n      <th>84</th>\n      <td>base.decoder_block3.conv_block2.shortcut</td>\n      <td>2.390625</td>\n    </tr>\n    <tr>\n      <th>92</th>\n      <td>base.decoder_block4.conv_block2.conv1</td>\n      <td>2.060547</td>\n    </tr>\n    <tr>\n      <th>43</th>\n      <td>base.encoder_block5.conv_block1.shortcut</td>\n      <td>1.842773</td>\n    </tr>\n    <tr>\n      <th>93</th>\n      <td>base.decoder_block4.conv_block2.conv2</td>\n      <td>1.805664</td>\n    </tr>\n    <tr>\n      <th>94</th>\n      <td>base.decoder_block4.conv_block2.shortcut</td>\n      <td>1.577148</td>\n    </tr>\n    <tr>\n      <th>27</th>\n      <td>base.encoder_block3.conv_block1.conv1</td>\n      <td>1.547852</td>\n    </tr>\n    <tr>\n      <th>36</th>\n      <td>base.encoder_block4.conv_block1.shortcut</td>\n      <td>1.514648</td>\n    </tr>\n    <tr>\n      <th>21</th>\n      <td>base.encoder_block2.conv_block1.conv2</td>\n      <td>1.000977</td>\n    </tr>\n    <tr>\n      <th>29</th>\n      <td>base.encoder_block3.conv_block1.shortcut</td>\n      <td>0.859375</td>\n    </tr>\n    <tr>\n      <th>102</th>\n      <td>base.decoder_block5.conv_block2.conv1</td>\n      <td>0.691406</td>\n    </tr>\n    <tr>\n      <th>22</th>\n      <td>base.encoder_block2.conv_block1.shortcut</td>\n      <td>0.589844</td>\n    </tr>\n    <tr>\n      <th>103</th>\n      <td>base.decoder_block5.conv_block2.conv2</td>\n      <td>0.528809</td>\n    </tr>\n    <tr>\n      <th>104</th>\n      <td>base.decoder_block5.conv_block2.shortcut</td>\n      <td>0.490967</td>\n    </tr>\n    <tr>\n      <th>20</th>\n      <td>base.encoder_block2.conv_block1.conv1</td>\n      <td>0.464600</td>\n    </tr>\n    <tr>\n      <th>15</th>\n      <td>base.encoder_block1.conv_block1.conv2</td>\n      <td>0.324463</td>\n    </tr>\n    <tr>\n      <th>14</th>\n      <td>base.encoder_block1.conv_block1.conv1</td>\n      <td>0.303223</td>\n    </tr>\n    <tr>\n      <th>112</th>\n      <td>base.decoder_block6.conv_block2.conv1</td>\n      <td>0.236694</td>\n    </tr>\n    <tr>\n      <th>113</th>\n      <td>base.decoder_block6.conv_block2.conv2</td>\n      <td>0.048798</td>\n    </tr>\n    <tr>\n      <th>114</th>\n      <td>base.decoder_block6.conv_block2.shortcut</td>\n      <td>0.036102</td>\n    </tr>\n  </tbody>\n</table>\n</div>"
     },
     "execution_count": 10,
     "metadata": {},
     "output_type": "execute_result"
    }
   ],
   "source": [
    "watcher = ww.WeightWatcher()\n",
    "avg_dW, avg_db, distances = watcher.distances(base_model.ss_model, merged_lora_model.ss_model)\n",
    "display((avg_dW, avg_db))\n",
    "conv_distances = distances[distances['name']=='Conv2d']\n",
    "conv_distances[['longname', 'delta_W']].sort_values('delta_W', ascending=False)"
   ],
   "metadata": {
    "collapsed": false,
    "ExecuteTime": {
     "end_time": "2024-05-04T18:48:18.795536527Z",
     "start_time": "2024-05-04T18:48:18.343527419Z"
    }
   }
  },
  {
   "cell_type": "code",
   "execution_count": 11,
   "outputs": [
    {
     "name": "stdout",
     "output_type": "stream",
     "text": [
      "Группировка по уровню 1:\n",
      "       0     delta_W\n",
      "0  base  148.054749 \n",
      "\n",
      "Группировка по уровню 2:\n",
      "        0               1    delta_W\n",
      "0   base    conv_block7a  26.367188\n",
      "2   base  decoder_block2  19.654297\n",
      "12  base  encoder_block6  19.398438\n",
      "1   base  decoder_block1  19.025391\n",
      "11  base  encoder_block5  17.897461\n",
      "3   base  decoder_block3  16.601562\n",
      "10  base  encoder_block4  13.846680\n",
      "4   base  decoder_block4   5.443359\n",
      "9   base  encoder_block3   5.104492\n",
      "8   base  encoder_block2   2.055420\n",
      "5   base  decoder_block5   1.711182\n",
      "7   base  encoder_block1   0.627686\n",
      "6   base  decoder_block6   0.321594 \n",
      "\n"
     ]
    }
   ],
   "source": [
    "max_level = 2\n",
    "# Группировка по блокам\n",
    "df_split = conv_distances['longname'].str.split('.', expand=True)\n",
    "df_expanded = pd.concat([df_split, conv_distances['delta_W']], axis=1)\n",
    "\n",
    "for level in range(max_level):  # Исключаем колонку 'value'\n",
    "    grouped_df = df_expanded.groupby(list(range(level + 1))).sum().reset_index()\n",
    "    grouped_df = grouped_df.sort_values(by='delta_W', ascending=False)\n",
    "    print(f\"Группировка по уровню {level + 1}:\\n\", grouped_df, \"\\n\")"
   ],
   "metadata": {
    "collapsed": false,
    "ExecuteTime": {
     "end_time": "2024-05-04T18:48:30.616165184Z",
     "start_time": "2024-05-04T18:48:30.562951302Z"
    }
   }
  },
  {
   "cell_type": "markdown",
   "source": [
    "Видим, что больше всего подверглись дообучению центральные слои - последние слои энкодера, ботлнек и первые слои декодера. Причем в отличие от простого применения lora средняя дельта несколько больше. Также наибольшим образом поменялся ботлнек, в то время как в lora методе больше всего менялся декодер"
   ],
   "metadata": {
    "collapsed": false
   }
  },
  {
   "cell_type": "code",
   "execution_count": 12,
   "outputs": [],
   "source": [
    "base_details, _ = describe_weights(base_model.ss_model)\n",
    "lora_details, _ = describe_weights(merged_lora_model.ss_model)\n",
    "base_details = base_details[['longname', 'alpha', 'warning']]\n",
    "lora_details = lora_details[['longname', 'alpha', 'warning']]"
   ],
   "metadata": {
    "collapsed": false,
    "ExecuteTime": {
     "end_time": "2024-05-04T18:50:35.989744922Z",
     "start_time": "2024-05-04T18:50:27.701470754Z"
    }
   }
  },
  {
   "cell_type": "code",
   "execution_count": 13,
   "outputs": [
    {
     "name": "stdout",
     "output_type": "stream",
     "text": [
      "min change: -2.5685888640257994 max change: 0.07846785444448257\n"
     ]
    },
    {
     "data": {
      "text/plain": "                               base_longname  base_alpha  tuned_alpha  \\\n1      base.encoder_block1.conv_block1.conv2    2.261872     4.830461   \n10  base.encoder_block4.conv_block1.shortcut    4.369195     6.739958   \n12     base.encoder_block5.conv_block1.conv2    2.932252     4.281898   \n32  base.decoder_block5.conv_block2.shortcut    1.591179     1.853530   \n29  base.decoder_block4.conv_block2.shortcut    2.953070     3.006816   \n..                                       ...         ...          ...   \n26  base.decoder_block3.conv_block2.shortcut    3.947977     3.923631   \n7   base.encoder_block3.conv_block1.shortcut    2.911052     2.875800   \n9      base.encoder_block4.conv_block1.conv2    4.159504     4.123019   \n27     base.decoder_block4.conv_block2.conv1    3.414826     3.357261   \n13  base.encoder_block5.conv_block1.shortcut    3.361768     3.283300   \n\n      change  base_warning  tuned_warning  \n1  -2.568589                               \n10 -2.370763                under-trained  \n12 -1.349646                               \n32 -0.262351  over-trained   over-trained  \n29 -0.053746                               \n..       ...           ...            ...  \n26  0.024347                               \n7   0.035251                               \n9   0.036485                               \n27  0.057565                               \n13  0.078468                               \n\n[74 rows x 6 columns]",
      "text/html": "<div>\n<style scoped>\n    .dataframe tbody tr th:only-of-type {\n        vertical-align: middle;\n    }\n\n    .dataframe tbody tr th {\n        vertical-align: top;\n    }\n\n    .dataframe thead th {\n        text-align: right;\n    }\n</style>\n<table border=\"1\" class=\"dataframe\">\n  <thead>\n    <tr style=\"text-align: right;\">\n      <th></th>\n      <th>base_longname</th>\n      <th>base_alpha</th>\n      <th>tuned_alpha</th>\n      <th>change</th>\n      <th>base_warning</th>\n      <th>tuned_warning</th>\n    </tr>\n  </thead>\n  <tbody>\n    <tr>\n      <th>1</th>\n      <td>base.encoder_block1.conv_block1.conv2</td>\n      <td>2.261872</td>\n      <td>4.830461</td>\n      <td>-2.568589</td>\n      <td></td>\n      <td></td>\n    </tr>\n    <tr>\n      <th>10</th>\n      <td>base.encoder_block4.conv_block1.shortcut</td>\n      <td>4.369195</td>\n      <td>6.739958</td>\n      <td>-2.370763</td>\n      <td></td>\n      <td>under-trained</td>\n    </tr>\n    <tr>\n      <th>12</th>\n      <td>base.encoder_block5.conv_block1.conv2</td>\n      <td>2.932252</td>\n      <td>4.281898</td>\n      <td>-1.349646</td>\n      <td></td>\n      <td></td>\n    </tr>\n    <tr>\n      <th>32</th>\n      <td>base.decoder_block5.conv_block2.shortcut</td>\n      <td>1.591179</td>\n      <td>1.853530</td>\n      <td>-0.262351</td>\n      <td>over-trained</td>\n      <td>over-trained</td>\n    </tr>\n    <tr>\n      <th>29</th>\n      <td>base.decoder_block4.conv_block2.shortcut</td>\n      <td>2.953070</td>\n      <td>3.006816</td>\n      <td>-0.053746</td>\n      <td></td>\n      <td></td>\n    </tr>\n    <tr>\n      <th>...</th>\n      <td>...</td>\n      <td>...</td>\n      <td>...</td>\n      <td>...</td>\n      <td>...</td>\n      <td>...</td>\n    </tr>\n    <tr>\n      <th>26</th>\n      <td>base.decoder_block3.conv_block2.shortcut</td>\n      <td>3.947977</td>\n      <td>3.923631</td>\n      <td>0.024347</td>\n      <td></td>\n      <td></td>\n    </tr>\n    <tr>\n      <th>7</th>\n      <td>base.encoder_block3.conv_block1.shortcut</td>\n      <td>2.911052</td>\n      <td>2.875800</td>\n      <td>0.035251</td>\n      <td></td>\n      <td></td>\n    </tr>\n    <tr>\n      <th>9</th>\n      <td>base.encoder_block4.conv_block1.conv2</td>\n      <td>4.159504</td>\n      <td>4.123019</td>\n      <td>0.036485</td>\n      <td></td>\n      <td></td>\n    </tr>\n    <tr>\n      <th>27</th>\n      <td>base.decoder_block4.conv_block2.conv1</td>\n      <td>3.414826</td>\n      <td>3.357261</td>\n      <td>0.057565</td>\n      <td></td>\n      <td></td>\n    </tr>\n    <tr>\n      <th>13</th>\n      <td>base.encoder_block5.conv_block1.shortcut</td>\n      <td>3.361768</td>\n      <td>3.283300</td>\n      <td>0.078468</td>\n      <td></td>\n      <td></td>\n    </tr>\n  </tbody>\n</table>\n<p>74 rows × 6 columns</p>\n</div>"
     },
     "execution_count": 13,
     "metadata": {},
     "output_type": "execute_result"
    }
   ],
   "source": [
    "concat_df = pd.concat([base_details.add_prefix('base_'), lora_details.add_prefix('tuned_')], axis=1)\n",
    "concat_df['change'] = concat_df['base_alpha'] - concat_df['tuned_alpha']\n",
    "print(f'min change: {concat_df[\"change\"].min()}', f'max change: {concat_df[\"change\"].max()}')\n",
    "concat_df[['base_longname', 'base_alpha', 'tuned_alpha', 'change', 'base_warning', 'tuned_warning']].sort_values('change')"
   ],
   "metadata": {
    "collapsed": false,
    "ExecuteTime": {
     "end_time": "2024-05-04T18:50:36.037401804Z",
     "start_time": "2024-05-04T18:50:35.991015341Z"
    }
   }
  },
  {
   "cell_type": "markdown",
   "source": [
    "Видим что три слоя в encoder сильно ухудшили свою обобщающую способность, как и в методе lora один из skip-connection стал under-trained"
   ],
   "metadata": {
    "collapsed": false
   }
  },
  {
   "cell_type": "code",
   "execution_count": 14,
   "outputs": [
    {
     "name": "stdout",
     "output_type": "stream",
     "text": [
      "{'log_norm': 3.133355609006751, 'alpha': 4.508056021992094, 'alpha_weighted': 6.417085302626215, 'log_alpha_norm': 6.761804573165426, 'log_spectral_norm': 1.5909656086545398, 'stable_rank': 43.472797077236216}\n"
     ]
    },
    {
     "data": {
      "text/plain": "<Figure size 640x480 with 1 Axes>",
      "image/png": "[encoded data removed]"
     },
     "metadata": {},
     "output_type": "display_data"
    }
   ],
   "source": [
    "from utils import plot_hist\n",
    "\n",
    "base_details, base_summary = describe_weights(merged_lora_model.query_encoder)\n",
    "plot_hist(base_details)\n",
    "print(base_summary)"
   ],
   "metadata": {
    "collapsed": false,
    "ExecuteTime": {
     "end_time": "2024-05-04T18:53:08.232671730Z",
     "start_time": "2024-05-04T18:52:58.168424634Z"
    }
   }
  },
  {
   "cell_type": "code",
   "execution_count": 15,
   "outputs": [],
   "source": [
    "ckpt = torch.load(checkpoint_path)['state_dict']\n",
    "ckpt = {layer: weight for layer, weight in ckpt.items() if 'tuned_embedding' in layer}"
   ],
   "metadata": {
    "collapsed": false,
    "ExecuteTime": {
     "end_time": "2024-05-04T18:53:08.303885545Z",
     "start_time": "2024-05-04T18:53:08.233090537Z"
    }
   }
  },
  {
   "cell_type": "code",
   "execution_count": 16,
   "outputs": [
    {
     "data": {
      "text/plain": "                                      longname     alpha        warning\n0  model.query_encoder.tuned_embedding_layer.0  3.216923               \n1  model.query_encoder.tuned_embedding_layer.2  6.748266  under-trained",
      "text/html": "<div>\n<style scoped>\n    .dataframe tbody tr th:only-of-type {\n        vertical-align: middle;\n    }\n\n    .dataframe tbody tr th {\n        vertical-align: top;\n    }\n\n    .dataframe thead th {\n        text-align: right;\n    }\n</style>\n<table border=\"1\" class=\"dataframe\">\n  <thead>\n    <tr style=\"text-align: right;\">\n      <th></th>\n      <th>longname</th>\n      <th>alpha</th>\n      <th>warning</th>\n    </tr>\n  </thead>\n  <tbody>\n    <tr>\n      <th>0</th>\n      <td>model.query_encoder.tuned_embedding_layer.0</td>\n      <td>3.216923</td>\n      <td></td>\n    </tr>\n    <tr>\n      <th>1</th>\n      <td>model.query_encoder.tuned_embedding_layer.2</td>\n      <td>6.748266</td>\n      <td>under-trained</td>\n    </tr>\n  </tbody>\n</table>\n</div>"
     },
     "execution_count": 16,
     "metadata": {},
     "output_type": "execute_result"
    }
   ],
   "source": [
    "details, _ = describe_weights(ckpt)\n",
    "details[['longname', 'alpha', 'warning']]"
   ],
   "metadata": {
    "collapsed": false,
    "ExecuteTime": {
     "end_time": "2024-05-04T18:53:11.711292088Z",
     "start_time": "2024-05-04T18:53:11.669311995Z"
    }
   }
  },
  {
   "cell_type": "markdown",
   "source": [
    "Результат натренированности слоев отличается от метода embeddings в худшую сторону в обоих слоях. Это можно объяснить тем, что часть файн-тюнинга на себя забрала lora."
   ],
   "metadata": {
    "collapsed": false
   }
  },
  {
   "cell_type": "code",
   "execution_count": null,
   "outputs": [],
   "source": [],
   "metadata": {
    "collapsed": false
   }
  }
 ],
 "metadata": {
  "kernelspec": {
   "display_name": "Python 3",
   "language": "python",
   "name": "python3"
  },
  "language_info": {
   "codemirror_mode": {
    "name": "ipython",
    "version": 2
   },
   "file_extension": ".py",
   "mimetype": "text/x-python",
   "name": "python",
   "nbconvert_exporter": "python",
   "pygments_lexer": "ipython2",
   "version": "2.7.6"
  }
 },
 "nbformat": 4,
 "nbformat_minor": 0
}
