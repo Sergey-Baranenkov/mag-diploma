{
 "cells": [
  {
   "cell_type": "markdown",
   "source": [
    "## Результат модели с lora адаптером на separation model"
   ],
   "metadata": {
    "collapsed": false
   }
  },
  {
   "cell_type": "code",
   "execution_count": 1,
   "outputs": [],
   "source": [
    "%load_ext autoreload\n",
    "%autoreload 2"
   ],
   "metadata": {
    "collapsed": false,
    "ExecuteTime": {
     "end_time": "2024-05-04T16:28:57.069817332Z",
     "start_time": "2024-05-04T16:28:57.013418576Z"
    }
   }
  },
  {
   "cell_type": "code",
   "execution_count": 2,
   "outputs": [],
   "source": [
    "# ! pip uninstall numba -y && pip install numba"
   ],
   "metadata": {
    "collapsed": false,
    "ExecuteTime": {
     "end_time": "2024-05-04T16:28:57.440449406Z",
     "start_time": "2024-05-04T16:28:57.435866174Z"
    }
   }
  },
  {
   "cell_type": "code",
   "execution_count": 3,
   "outputs": [],
   "source": [
    "import os\n",
    "import sys\n",
    "\n",
    "# Получаем абсолютный путь к корневой директории проекта (директория выше текущей)\n",
    "root_path = os.path.abspath(os.path.join(os.getcwd(), '..'))\n",
    "\n",
    "# Добавляем корневую директорию в sys.path\n",
    "if root_path not in sys.path:\n",
    "    sys.path.append(root_path)"
   ],
   "metadata": {
    "collapsed": false,
    "ExecuteTime": {
     "end_time": "2024-05-04T16:28:57.741364047Z",
     "start_time": "2024-05-04T16:28:57.735092511Z"
    }
   }
  },
  {
   "cell_type": "code",
   "execution_count": 4,
   "outputs": [
    {
     "name": "stderr",
     "output_type": "stream",
     "text": [
      "2024-05-04 19:29:00.039128: E external/local_xla/xla/stream_executor/cuda/cuda_dnn.cc:9261] Unable to register cuDNN factory: Attempting to register factory for plugin cuDNN when one has already been registered\n",
      "2024-05-04 19:29:00.039192: E external/local_xla/xla/stream_executor/cuda/cuda_fft.cc:607] Unable to register cuFFT factory: Attempting to register factory for plugin cuFFT when one has already been registered\n",
      "2024-05-04 19:29:00.054894: E external/local_xla/xla/stream_executor/cuda/cuda_blas.cc:1515] Unable to register cuBLAS factory: Attempting to register factory for plugin cuBLAS when one has already been registered\n",
      "2024-05-04 19:29:00.091029: I tensorflow/core/platform/cpu_feature_guard.cc:182] This TensorFlow binary is optimized to use available CPU instructions in performance-critical operations.\n",
      "To enable the following instructions: AVX2 FMA, in other operations, rebuild TensorFlow with the appropriate compiler flags.\n",
      "2024-05-04 19:29:00.774483: W tensorflow/compiler/tf2tensorrt/utils/py_utils.cc:38] TF-TRT Warning: Could not find TensorRT\n"
     ]
    }
   ],
   "source": [
    "from model_loaders import load_ss_model\n",
    "import weightwatcher as ww\n",
    "from matplotlib import pyplot as plt\n",
    "from pipeline import separate_audio\n",
    "import torch\n",
    "from utils import parse_yaml\n",
    "from models.clap_encoder import CLAP_Encoder\n",
    "import IPython.display as ipd\n",
    "from models.audiosep_lora import AudioSepLora\n",
    "import pandas as pd\n",
    "from utils import plot_separation_result"
   ],
   "metadata": {
    "collapsed": false,
    "ExecuteTime": {
     "end_time": "2024-05-04T16:29:04.703428925Z",
     "start_time": "2024-05-04T16:28:57.951851008Z"
    }
   }
  },
  {
   "cell_type": "code",
   "execution_count": 5,
   "outputs": [],
   "source": [
    "SS_CONFIG_PATH = '../config/audiosep_base.yaml'\n",
    "CLAP_CKPT_PATH = '../checkpoint/music_speech_audioset_epoch_15_esc_89.98.pt'\n",
    "AUDIOSEP_CKPT_PATH = '../checkpoint/audiosep_base_4M_steps.ckpt'\n",
    "classes = [\"bass\", \"drums\", \"vocals\", 'other musical instruments']\n",
    "device = torch.device('cuda')\n",
    "configs = parse_yaml(SS_CONFIG_PATH)"
   ],
   "metadata": {
    "collapsed": false,
    "ExecuteTime": {
     "end_time": "2024-05-04T16:29:04.762839254Z",
     "start_time": "2024-05-04T16:29:04.704371419Z"
    }
   }
  },
  {
   "cell_type": "code",
   "execution_count": 6,
   "outputs": [
    {
     "name": "stderr",
     "output_type": "stream",
     "text": [
      "2024-05-04 19:29:04,961 - INFO - Loading HTSAT-base model config.\n",
      "2024-05-04 19:29:07,204 - INFO - Loading pretrained HTSAT-base-roberta weights (../checkpoint/music_speech_audioset_epoch_15_esc_89.98.pt).\n"
     ]
    }
   ],
   "source": [
    "query_encoder = CLAP_Encoder(pretrained_path = CLAP_CKPT_PATH).eval().to(device)\n",
    "base_model = load_ss_model(configs=configs, checkpoint_path=AUDIOSEP_CKPT_PATH, query_encoder=query_encoder).eval().to(device)"
   ],
   "metadata": {
    "collapsed": false,
    "ExecuteTime": {
     "end_time": "2024-05-04T16:29:11.229549972Z",
     "start_time": "2024-05-04T16:29:04.738321252Z"
    }
   }
  },
  {
   "cell_type": "code",
   "execution_count": 10,
   "outputs": [
    {
     "name": "stderr",
     "output_type": "stream",
     "text": [
      "2024-05-04 19:32:54,639 - INFO - Loading HTSAT-base model config.\n",
      "2024-05-04 19:32:55,997 - INFO - Loading pretrained HTSAT-base-roberta weights (../checkpoint/music_speech_audioset_epoch_15_esc_89.98.pt).\n"
     ]
    }
   ],
   "source": [
    "checkpoint_path = '../checkpoints/final/musdb18/lora/final.ckpt'\n",
    "\n",
    "query_encoder_for_lora = CLAP_Encoder(pretrained_path = CLAP_CKPT_PATH).eval().to(device)\n",
    "base_model_for_lora = load_ss_model(configs=configs, checkpoint_path=AUDIOSEP_CKPT_PATH, query_encoder=query_encoder_for_lora).eval().to(device)\n",
    "\n",
    "lora_model = AudioSepLora.load_from_checkpoint(\n",
    "    checkpoint_path=checkpoint_path,\n",
    "    strict=False,\n",
    "    pretrained_audiosep_model = base_model_for_lora,\n",
    "    loss_function=None,\n",
    "    waveform_mixer=None,\n",
    "    lr_lambda_func=None\n",
    ") \\\n",
    "    .eval() \\\n",
    "    .to(device)\n",
    "\n",
    "merged_lora_model = lora_model.model.merge_and_unload()\n",
    "merged_lora_model.query_encoder = lora_model.model.query_encoder"
   ],
   "metadata": {
    "collapsed": false,
    "ExecuteTime": {
     "end_time": "2024-05-04T16:32:58.789369848Z",
     "start_time": "2024-05-04T16:32:54.406702566Z"
    }
   }
  },
  {
   "cell_type": "code",
   "execution_count": 23,
   "outputs": [
    {
     "name": "stdout",
     "output_type": "stream",
     "text": [
      "Separating audio from [../audios/ANIKV - слов больше нет - Lørean Edit.wav] with textual query: [bass]\n",
      "Separated audio written to [../separation_result/audiosep_lora/ANIKV - слов больше нет - Lørean Edit.wav_bass.wav]\n",
      "Separating audio from [../audios/ANIKV - слов больше нет - Lørean Edit.wav] with textual query: [drums]\n",
      "Separated audio written to [../separation_result/audiosep_lora/ANIKV - слов больше нет - Lørean Edit.wav_drums.wav]\n",
      "Separating audio from [../audios/ANIKV - слов больше нет - Lørean Edit.wav] with textual query: [vocals]\n",
      "Separated audio written to [../separation_result/audiosep_lora/ANIKV - слов больше нет - Lørean Edit.wav_vocals.wav]\n",
      "Separating audio from [../audios/ANIKV - слов больше нет - Lørean Edit.wav] with textual query: [other musical instruments]\n",
      "Separated audio written to [../separation_result/audiosep_lora/ANIKV - слов больше нет - Lørean Edit.wav_other musical instruments.wav]\n",
      "Separating audio from [../audios/CREAM SODA - Никаких Больше Вечеринок.wav] with textual query: [bass]\n",
      "Separated audio written to [../separation_result/audiosep_lora/CREAM SODA - Никаких Больше Вечеринок.wav_bass.wav]\n",
      "Separating audio from [../audios/CREAM SODA - Никаких Больше Вечеринок.wav] with textual query: [drums]\n",
      "Separated audio written to [../separation_result/audiosep_lora/CREAM SODA - Никаких Больше Вечеринок.wav_drums.wav]\n",
      "Separating audio from [../audios/CREAM SODA - Никаких Больше Вечеринок.wav] with textual query: [vocals]\n",
      "Separated audio written to [../separation_result/audiosep_lora/CREAM SODA - Никаких Больше Вечеринок.wav_vocals.wav]\n",
      "Separating audio from [../audios/CREAM SODA - Никаких Больше Вечеринок.wav] with textual query: [other musical instruments]\n",
      "Separated audio written to [../separation_result/audiosep_lora/CREAM SODA - Никаких Больше Вечеринок.wav_other musical instruments.wav]\n",
      "Separating audio from [../audios/Ruko - Take my hand.wav] with textual query: [bass]\n",
      "Separated audio written to [../separation_result/audiosep_lora/Ruko - Take my hand.wav_bass.wav]\n",
      "Separating audio from [../audios/Ruko - Take my hand.wav] with textual query: [drums]\n",
      "Separated audio written to [../separation_result/audiosep_lora/Ruko - Take my hand.wav_drums.wav]\n",
      "Separating audio from [../audios/Ruko - Take my hand.wav] with textual query: [vocals]\n",
      "Separated audio written to [../separation_result/audiosep_lora/Ruko - Take my hand.wav_vocals.wav]\n",
      "Separating audio from [../audios/Ruko - Take my hand.wav] with textual query: [other musical instruments]\n",
      "Separated audio written to [../separation_result/audiosep_lora/Ruko - Take my hand.wav_other musical instruments.wav]\n",
      "Separating audio from [../audios/AURORA - I Went Too Far.wav] with textual query: [bass]\n",
      "Separated audio written to [../separation_result/audiosep_lora/AURORA - I Went Too Far.wav_bass.wav]\n",
      "Separating audio from [../audios/AURORA - I Went Too Far.wav] with textual query: [drums]\n",
      "Separated audio written to [../separation_result/audiosep_lora/AURORA - I Went Too Far.wav_drums.wav]\n",
      "Separating audio from [../audios/AURORA - I Went Too Far.wav] with textual query: [vocals]\n",
      "Separated audio written to [../separation_result/audiosep_lora/AURORA - I Went Too Far.wav_vocals.wav]\n",
      "Separating audio from [../audios/AURORA - I Went Too Far.wav] with textual query: [other musical instruments]\n",
      "Separated audio written to [../separation_result/audiosep_lora/AURORA - I Went Too Far.wav_other musical instruments.wav]\n",
      "Separating audio from [../audios/Король и Шут - Дурак и молния.wav] with textual query: [bass]\n",
      "Separated audio written to [../separation_result/audiosep_lora/Король и Шут - Дурак и молния.wav_bass.wav]\n",
      "Separating audio from [../audios/Король и Шут - Дурак и молния.wav] with textual query: [drums]\n",
      "Separated audio written to [../separation_result/audiosep_lora/Король и Шут - Дурак и молния.wav_drums.wav]\n",
      "Separating audio from [../audios/Король и Шут - Дурак и молния.wav] with textual query: [vocals]\n",
      "Separated audio written to [../separation_result/audiosep_lora/Король и Шут - Дурак и молния.wav_vocals.wav]\n",
      "Separating audio from [../audios/Король и Шут - Дурак и молния.wav] with textual query: [other musical instruments]\n",
      "Separated audio written to [../separation_result/audiosep_lora/Король и Шут - Дурак и молния.wav_other musical instruments.wav]\n"
     ]
    }
   ],
   "source": [
    "from ipywidgets import widgets\n",
    "\n",
    "test_files = [f'../audios/{filename}' for filename in os.listdir('../audios')]\n",
    "\n",
    "audio_widgets = {cls: {} for cls in classes + ['original']}\n",
    "\n",
    "for file in test_files:\n",
    "    filename = file.split(os.sep)[-1]\n",
    "    audio_widget = widgets.Audio(value=open(file, \"rb\").read(), format=\"wav\", controls=True, autoplay=False)\n",
    "    audio_widgets['original'][filename] = audio_widget\n",
    "\n",
    "    for cls in classes:\n",
    "        output_dir = '../separation_result/audiosep_lora/'\n",
    "        os.makedirs(os.path.dirname(output_dir), exist_ok=True)\n",
    "        output_file = os.path.join(output_dir, f'{filename}_{cls}.wav')\n",
    "        separate_audio(merged_lora_model, file, cls, output_file, device, use_chunk=True)\n",
    "        audio_widget = widgets.Audio(value=open(output_file, \"rb\").read(), format=\"wav\", controls=True, autoplay=False)\n",
    "        audio_widgets[cls][filename] = audio_widget"
   ],
   "metadata": {
    "collapsed": false,
    "ExecuteTime": {
     "end_time": "2024-05-04T18:44:04.535569673Z",
     "start_time": "2024-05-04T18:41:08.455691455Z"
    }
   }
  },
  {
   "cell_type": "code",
   "execution_count": 24,
   "outputs": [
    {
     "data": {
      "text/plain": "HTML(value='<style>.widget-label { font-size: 16px; font-weight: bold; }</style>')",
      "application/vnd.jupyter.widget-view+json": {
       "version_major": 2,
       "version_minor": 0,
       "model_id": "27721a78421f4f6a91714891d7ee5e76"
      }
     },
     "metadata": {},
     "output_type": "display_data"
    },
    {
     "data": {
      "text/plain": "VBox(children=(HBox(children=(Label(value=''), Label(value='bass', layout=Layout(margin='0 10px 0 10px')), Lab…",
      "application/vnd.jupyter.widget-view+json": {
       "version_major": 2,
       "version_minor": 0,
       "model_id": "77acd393e7854c6481097e1fb56582ec"
      }
     },
     "metadata": {},
     "output_type": "display_data"
    }
   ],
   "source": [
    "plot_separation_result(audio_widgets)"
   ],
   "metadata": {
    "collapsed": false,
    "ExecuteTime": {
     "end_time": "2024-05-04T18:44:04.585858515Z",
     "start_time": "2024-05-04T18:44:04.535408516Z"
    }
   }
  },
  {
   "cell_type": "code",
   "execution_count": null,
   "outputs": [],
   "source": [],
   "metadata": {
    "collapsed": false
   }
  }
 ],
 "metadata": {
  "kernelspec": {
   "display_name": "Python 3",
   "language": "python",
   "name": "python3"
  },
  "language_info": {
   "codemirror_mode": {
    "name": "ipython",
    "version": 2
   },
   "file_extension": ".py",
   "mimetype": "text/x-python",
   "name": "python",
   "nbconvert_exporter": "python",
   "pygments_lexer": "ipython2",
   "version": "2.7.6"
  }
 },
 "nbformat": 4,
 "nbformat_minor": 0
}
