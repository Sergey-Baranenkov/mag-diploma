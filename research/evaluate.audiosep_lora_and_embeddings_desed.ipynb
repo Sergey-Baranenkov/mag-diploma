{
 "cells": [
  {
   "cell_type": "code",
   "execution_count": 1,
   "outputs": [],
   "source": [
    "%load_ext autoreload\n",
    "%autoreload 2"
   ],
   "metadata": {
    "collapsed": false,
    "ExecuteTime": {
     "end_time": "2024-05-04T22:08:49.405262907Z",
     "start_time": "2024-05-04T22:08:49.401227091Z"
    }
   }
  },
  {
   "cell_type": "code",
   "execution_count": 2,
   "outputs": [],
   "source": [
    "# ! pip uninstall numba -y && pip install numba"
   ],
   "metadata": {
    "collapsed": false,
    "ExecuteTime": {
     "end_time": "2024-05-04T22:08:49.405388736Z",
     "start_time": "2024-05-04T22:08:49.401363319Z"
    }
   }
  },
  {
   "cell_type": "code",
   "execution_count": 3,
   "outputs": [],
   "source": [
    "import os\n",
    "import sys\n",
    "\n",
    "# Получаем абсолютный путь к корневой директории проекта (директория выше текущей)\n",
    "root_path = os.path.abspath(os.path.join(os.getcwd(), '..'))\n",
    "\n",
    "# Добавляем корневую директорию в sys.path\n",
    "if root_path not in sys.path:\n",
    "    sys.path.append(root_path)"
   ],
   "metadata": {
    "collapsed": false,
    "ExecuteTime": {
     "end_time": "2024-05-04T22:08:49.449927921Z",
     "start_time": "2024-05-04T22:08:49.403914128Z"
    }
   }
  },
  {
   "cell_type": "code",
   "execution_count": 4,
   "outputs": [
    {
     "name": "stderr",
     "output_type": "stream",
     "text": [
      "2024-05-05 01:08:50.947783: E external/local_xla/xla/stream_executor/cuda/cuda_dnn.cc:9261] Unable to register cuDNN factory: Attempting to register factory for plugin cuDNN when one has already been registered\n",
      "2024-05-05 01:08:50.947811: E external/local_xla/xla/stream_executor/cuda/cuda_fft.cc:607] Unable to register cuFFT factory: Attempting to register factory for plugin cuFFT when one has already been registered\n",
      "2024-05-05 01:08:50.948553: E external/local_xla/xla/stream_executor/cuda/cuda_blas.cc:1515] Unable to register cuBLAS factory: Attempting to register factory for plugin cuBLAS when one has already been registered\n",
      "2024-05-05 01:08:50.952412: I tensorflow/core/platform/cpu_feature_guard.cc:182] This TensorFlow binary is optimized to use available CPU instructions in performance-critical operations.\n",
      "To enable the following instructions: AVX2 FMA, in other operations, rebuild TensorFlow with the appropriate compiler flags.\n",
      "2024-05-05 01:08:51.478239: W tensorflow/compiler/tf2tensorrt/utils/py_utils.cc:38] TF-TRT Warning: Could not find TensorRT\n"
     ]
    }
   ],
   "source": [
    "from model_loaders import load_ss_model\n",
    "import weightwatcher as ww\n",
    "from matplotlib import pyplot as plt\n",
    "from pipeline import separate_audio\n",
    "import torch\n",
    "from utils import parse_yaml\n",
    "from models.clap_encoder import CLAP_Encoder\n",
    "import IPython.display as ipd\n",
    "from models.audiosep_lora_and_tuned_embeddings import AudioSepLoraAndTunedEmbeddings"
   ],
   "metadata": {
    "collapsed": false,
    "ExecuteTime": {
     "end_time": "2024-05-04T22:08:54.401786229Z",
     "start_time": "2024-05-04T22:08:49.753504857Z"
    }
   }
  },
  {
   "cell_type": "code",
   "execution_count": 5,
   "outputs": [],
   "source": [
    "SS_CONFIG_PATH = '../config/audiosep_base.yaml'\n",
    "CLAP_CKPT_PATH = '../checkpoint/music_speech_audioset_epoch_15_esc_89.98.pt'\n",
    "AUDIOSEP_CKPT_PATH = '../checkpoint/audiosep_base_4M_steps.ckpt'\n",
    "classes = ['vacuum cleaner',\n",
    "           'frying',\n",
    "           'dishes',\n",
    "           'blender',\n",
    "           'speech',\n",
    "           'dog',\n",
    "           'alarm bell ringing',\n",
    "           'running water',\n",
    "           'electric shaver toothbrush',\n",
    "           'cat']\n",
    "device = torch.device('cuda')\n",
    "configs = parse_yaml(SS_CONFIG_PATH)"
   ],
   "metadata": {
    "collapsed": false,
    "ExecuteTime": {
     "end_time": "2024-05-04T22:08:54.437379444Z",
     "start_time": "2024-05-04T22:08:54.403701964Z"
    }
   }
  },
  {
   "cell_type": "code",
   "execution_count": 6,
   "outputs": [
    {
     "name": "stderr",
     "output_type": "stream",
     "text": [
      "2024-05-05 01:08:55,343 - INFO - Loading HTSAT-base model config.\n",
      "2024-05-05 01:08:57,389 - INFO - Loading pretrained HTSAT-base-roberta weights (../checkpoint/music_speech_audioset_epoch_15_esc_89.98.pt).\n"
     ]
    }
   ],
   "source": [
    "query_encoder = CLAP_Encoder(pretrained_path = CLAP_CKPT_PATH).eval().to(device)\n",
    "base_model = load_ss_model(configs=configs, checkpoint_path=AUDIOSEP_CKPT_PATH, query_encoder=query_encoder).eval().to(device)"
   ],
   "metadata": {
    "collapsed": false,
    "ExecuteTime": {
     "end_time": "2024-05-04T22:08:59.934423416Z",
     "start_time": "2024-05-04T22:08:55.098832974Z"
    }
   }
  },
  {
   "cell_type": "code",
   "execution_count": 7,
   "outputs": [
    {
     "name": "stderr",
     "output_type": "stream",
     "text": [
      "2024-05-05 01:09:00,186 - INFO - Loading HTSAT-base model config.\n",
      "2024-05-05 01:09:01,444 - INFO - Loading pretrained HTSAT-base-roberta weights (../checkpoint/music_speech_audioset_epoch_15_esc_89.98.pt).\n"
     ]
    }
   ],
   "source": [
    "checkpoint_path = '../checkpoints/final/desed/lora_embeddings/final.ckpt'\n",
    "\n",
    "query_encoder_for_lora = CLAP_Encoder(pretrained_path = CLAP_CKPT_PATH).eval().to(device)\n",
    "base_model_for_lora = load_ss_model(configs=configs, checkpoint_path=AUDIOSEP_CKPT_PATH, query_encoder=query_encoder_for_lora).eval().to(device)\n",
    "\n",
    "lora_model = AudioSepLoraAndTunedEmbeddings.load_from_checkpoint(\n",
    "    checkpoint_path=checkpoint_path,\n",
    "    strict=False,\n",
    "    pretrained_audiosep_model = base_model_for_lora,\n",
    "    loss_function=None,\n",
    "    waveform_mixer=None,\n",
    "    lr_lambda_func=None\n",
    ") \\\n",
    "    .eval() \\\n",
    "    .to(device)\n",
    "\n",
    "merged_lora_model = lora_model.model.merge_and_unload()\n",
    "merged_lora_model.query_encoder = lora_model.model.query_encoder"
   ],
   "metadata": {
    "collapsed": false,
    "ExecuteTime": {
     "end_time": "2024-05-04T22:09:04.070454057Z",
     "start_time": "2024-05-04T22:08:59.936731094Z"
    }
   }
  },
  {
   "cell_type": "code",
   "execution_count": 8,
   "outputs": [
    {
     "name": "stdout",
     "output_type": "stream",
     "text": [
      "Separating audio from [../evaluation/data/desed/test2/434.wav] with textual query: [vacuum cleaner]\n",
      "Separated audio written to [../separation_result/desed/434.wav_vacuum cleaner.wav]\n",
      "Separating audio from [../evaluation/data/desed/test2/434.wav] with textual query: [frying]\n",
      "Separated audio written to [../separation_result/desed/434.wav_frying.wav]\n",
      "Separating audio from [../evaluation/data/desed/test2/434.wav] with textual query: [dishes]\n",
      "Separated audio written to [../separation_result/desed/434.wav_dishes.wav]\n",
      "Separating audio from [../evaluation/data/desed/test2/434.wav] with textual query: [blender]\n",
      "Separated audio written to [../separation_result/desed/434.wav_blender.wav]\n",
      "Separating audio from [../evaluation/data/desed/test2/434.wav] with textual query: [speech]\n",
      "Separated audio written to [../separation_result/desed/434.wav_speech.wav]\n",
      "Separating audio from [../evaluation/data/desed/test2/434.wav] with textual query: [dog]\n",
      "Separated audio written to [../separation_result/desed/434.wav_dog.wav]\n",
      "Separating audio from [../evaluation/data/desed/test2/434.wav] with textual query: [alarm bell ringing]\n",
      "Separated audio written to [../separation_result/desed/434.wav_alarm bell ringing.wav]\n",
      "Separating audio from [../evaluation/data/desed/test2/434.wav] with textual query: [running water]\n",
      "Separated audio written to [../separation_result/desed/434.wav_running water.wav]\n",
      "Separating audio from [../evaluation/data/desed/test2/434.wav] with textual query: [electric shaver toothbrush]\n",
      "Separated audio written to [../separation_result/desed/434.wav_electric shaver toothbrush.wav]\n",
      "Separating audio from [../evaluation/data/desed/test2/434.wav] with textual query: [cat]\n",
      "Separated audio written to [../separation_result/desed/434.wav_cat.wav]\n",
      "Separating audio from [../evaluation/data/desed/test2/477.wav] with textual query: [vacuum cleaner]\n",
      "Separated audio written to [../separation_result/desed/477.wav_vacuum cleaner.wav]\n",
      "Separating audio from [../evaluation/data/desed/test2/477.wav] with textual query: [frying]\n",
      "Separated audio written to [../separation_result/desed/477.wav_frying.wav]\n",
      "Separating audio from [../evaluation/data/desed/test2/477.wav] with textual query: [dishes]\n",
      "Separated audio written to [../separation_result/desed/477.wav_dishes.wav]\n",
      "Separating audio from [../evaluation/data/desed/test2/477.wav] with textual query: [blender]\n",
      "Separated audio written to [../separation_result/desed/477.wav_blender.wav]\n",
      "Separating audio from [../evaluation/data/desed/test2/477.wav] with textual query: [speech]\n",
      "Separated audio written to [../separation_result/desed/477.wav_speech.wav]\n",
      "Separating audio from [../evaluation/data/desed/test2/477.wav] with textual query: [dog]\n",
      "Separated audio written to [../separation_result/desed/477.wav_dog.wav]\n",
      "Separating audio from [../evaluation/data/desed/test2/477.wav] with textual query: [alarm bell ringing]\n",
      "Separated audio written to [../separation_result/desed/477.wav_alarm bell ringing.wav]\n",
      "Separating audio from [../evaluation/data/desed/test2/477.wav] with textual query: [running water]\n",
      "Separated audio written to [../separation_result/desed/477.wav_running water.wav]\n",
      "Separating audio from [../evaluation/data/desed/test2/477.wav] with textual query: [electric shaver toothbrush]\n",
      "Separated audio written to [../separation_result/desed/477.wav_electric shaver toothbrush.wav]\n",
      "Separating audio from [../evaluation/data/desed/test2/477.wav] with textual query: [cat]\n",
      "Separated audio written to [../separation_result/desed/477.wav_cat.wav]\n",
      "Separating audio from [../evaluation/data/desed/test2/1290.wav] with textual query: [vacuum cleaner]\n",
      "Separated audio written to [../separation_result/desed/1290.wav_vacuum cleaner.wav]\n",
      "Separating audio from [../evaluation/data/desed/test2/1290.wav] with textual query: [frying]\n",
      "Separated audio written to [../separation_result/desed/1290.wav_frying.wav]\n",
      "Separating audio from [../evaluation/data/desed/test2/1290.wav] with textual query: [dishes]\n",
      "Separated audio written to [../separation_result/desed/1290.wav_dishes.wav]\n",
      "Separating audio from [../evaluation/data/desed/test2/1290.wav] with textual query: [blender]\n",
      "Separated audio written to [../separation_result/desed/1290.wav_blender.wav]\n",
      "Separating audio from [../evaluation/data/desed/test2/1290.wav] with textual query: [speech]\n",
      "Separated audio written to [../separation_result/desed/1290.wav_speech.wav]\n",
      "Separating audio from [../evaluation/data/desed/test2/1290.wav] with textual query: [dog]\n",
      "Separated audio written to [../separation_result/desed/1290.wav_dog.wav]\n",
      "Separating audio from [../evaluation/data/desed/test2/1290.wav] with textual query: [alarm bell ringing]\n",
      "Separated audio written to [../separation_result/desed/1290.wav_alarm bell ringing.wav]\n",
      "Separating audio from [../evaluation/data/desed/test2/1290.wav] with textual query: [running water]\n",
      "Separated audio written to [../separation_result/desed/1290.wav_running water.wav]\n",
      "Separating audio from [../evaluation/data/desed/test2/1290.wav] with textual query: [electric shaver toothbrush]\n",
      "Separated audio written to [../separation_result/desed/1290.wav_electric shaver toothbrush.wav]\n",
      "Separating audio from [../evaluation/data/desed/test2/1290.wav] with textual query: [cat]\n",
      "Separated audio written to [../separation_result/desed/1290.wav_cat.wav]\n",
      "Separating audio from [../evaluation/data/desed/test2/1391.wav] with textual query: [vacuum cleaner]\n",
      "Separated audio written to [../separation_result/desed/1391.wav_vacuum cleaner.wav]\n",
      "Separating audio from [../evaluation/data/desed/test2/1391.wav] with textual query: [frying]\n",
      "Separated audio written to [../separation_result/desed/1391.wav_frying.wav]\n",
      "Separating audio from [../evaluation/data/desed/test2/1391.wav] with textual query: [dishes]\n",
      "Separated audio written to [../separation_result/desed/1391.wav_dishes.wav]\n",
      "Separating audio from [../evaluation/data/desed/test2/1391.wav] with textual query: [blender]\n",
      "Separated audio written to [../separation_result/desed/1391.wav_blender.wav]\n",
      "Separating audio from [../evaluation/data/desed/test2/1391.wav] with textual query: [speech]\n",
      "Separated audio written to [../separation_result/desed/1391.wav_speech.wav]\n",
      "Separating audio from [../evaluation/data/desed/test2/1391.wav] with textual query: [dog]\n",
      "Separated audio written to [../separation_result/desed/1391.wav_dog.wav]\n",
      "Separating audio from [../evaluation/data/desed/test2/1391.wav] with textual query: [alarm bell ringing]\n",
      "Separated audio written to [../separation_result/desed/1391.wav_alarm bell ringing.wav]\n",
      "Separating audio from [../evaluation/data/desed/test2/1391.wav] with textual query: [running water]\n",
      "Separated audio written to [../separation_result/desed/1391.wav_running water.wav]\n",
      "Separating audio from [../evaluation/data/desed/test2/1391.wav] with textual query: [electric shaver toothbrush]\n",
      "Separated audio written to [../separation_result/desed/1391.wav_electric shaver toothbrush.wav]\n",
      "Separating audio from [../evaluation/data/desed/test2/1391.wav] with textual query: [cat]\n",
      "Separated audio written to [../separation_result/desed/1391.wav_cat.wav]\n",
      "Separating audio from [../evaluation/data/desed/test2/250.wav] with textual query: [vacuum cleaner]\n",
      "Separated audio written to [../separation_result/desed/250.wav_vacuum cleaner.wav]\n",
      "Separating audio from [../evaluation/data/desed/test2/250.wav] with textual query: [frying]\n",
      "Separated audio written to [../separation_result/desed/250.wav_frying.wav]\n",
      "Separating audio from [../evaluation/data/desed/test2/250.wav] with textual query: [dishes]\n",
      "Separated audio written to [../separation_result/desed/250.wav_dishes.wav]\n",
      "Separating audio from [../evaluation/data/desed/test2/250.wav] with textual query: [blender]\n",
      "Separated audio written to [../separation_result/desed/250.wav_blender.wav]\n",
      "Separating audio from [../evaluation/data/desed/test2/250.wav] with textual query: [speech]\n",
      "Separated audio written to [../separation_result/desed/250.wav_speech.wav]\n",
      "Separating audio from [../evaluation/data/desed/test2/250.wav] with textual query: [dog]\n",
      "Separated audio written to [../separation_result/desed/250.wav_dog.wav]\n",
      "Separating audio from [../evaluation/data/desed/test2/250.wav] with textual query: [alarm bell ringing]\n",
      "Separated audio written to [../separation_result/desed/250.wav_alarm bell ringing.wav]\n",
      "Separating audio from [../evaluation/data/desed/test2/250.wav] with textual query: [running water]\n",
      "Separated audio written to [../separation_result/desed/250.wav_running water.wav]\n",
      "Separating audio from [../evaluation/data/desed/test2/250.wav] with textual query: [electric shaver toothbrush]\n",
      "Separated audio written to [../separation_result/desed/250.wav_electric shaver toothbrush.wav]\n",
      "Separating audio from [../evaluation/data/desed/test2/250.wav] with textual query: [cat]\n",
      "Separated audio written to [../separation_result/desed/250.wav_cat.wav]\n"
     ]
    }
   ],
   "source": [
    "from ipywidgets import widgets\n",
    "prefix = '../evaluation/data/desed/test2'\n",
    "test_files = [f'{prefix}/{filename}' for filename in os.listdir(prefix)][:5]\n",
    "\n",
    "audio_widgets = {cls: {} for cls in classes + ['original']}\n",
    "\n",
    "for file in test_files:\n",
    "    filename = file.split(os.sep)[-1]\n",
    "    audio_widget = widgets.Audio(value=open(file, \"rb\").read(), format=\"wav\", controls=True, autoplay=False)\n",
    "    audio_widgets['original'][filename] = audio_widget\n",
    "\n",
    "    for cls in classes:\n",
    "        output_dir = '../separation_result/desed/'\n",
    "        os.makedirs(os.path.dirname(output_dir), exist_ok=True)\n",
    "        output_file = os.path.join(output_dir, f'{filename}_{cls}.wav')\n",
    "        separate_audio(merged_lora_model, file, cls, output_file, device, use_chunk=True)\n",
    "        audio_widget = widgets.Audio(value=open(output_file, \"rb\").read(), format=\"wav\", controls=True, autoplay=False)\n",
    "        audio_widgets[cls][filename] = audio_widget"
   ],
   "metadata": {
    "collapsed": false,
    "ExecuteTime": {
     "end_time": "2024-05-04T22:09:09.888108254Z",
     "start_time": "2024-05-04T22:09:04.073342356Z"
    }
   }
  },
  {
   "cell_type": "code",
   "execution_count": 9,
   "outputs": [
    {
     "data": {
      "text/plain": "HTML(value='<style>.widget-label { font-size: 16px; font-weight: bold; }</style>')",
      "application/vnd.jupyter.widget-view+json": {
       "version_major": 2,
       "version_minor": 0,
       "model_id": "be3ae645d72b47e9998ec9835c6740d9"
      }
     },
     "metadata": {},
     "output_type": "display_data"
    },
    {
     "data": {
      "text/plain": "VBox(children=(HBox(children=(Label(value=''), Label(value='vacuum cleaner', layout=Layout(margin='0 10px 0 10…",
      "application/vnd.jupyter.widget-view+json": {
       "version_major": 2,
       "version_minor": 0,
       "model_id": "965c179a347546d5817c3fd9766e1b79"
      }
     },
     "metadata": {},
     "output_type": "display_data"
    }
   ],
   "source": [
    "from utils import plot_separation_result\n",
    "\n",
    "plot_separation_result(audio_widgets)"
   ],
   "metadata": {
    "collapsed": false,
    "ExecuteTime": {
     "end_time": "2024-05-04T22:09:18.594166830Z",
     "start_time": "2024-05-04T22:09:18.538014896Z"
    }
   }
  },
  {
   "cell_type": "code",
   "execution_count": null,
   "outputs": [],
   "source": [],
   "metadata": {
    "collapsed": false
   }
  }
 ],
 "metadata": {
  "kernelspec": {
   "display_name": "Python 3",
   "language": "python",
   "name": "python3"
  },
  "language_info": {
   "codemirror_mode": {
    "name": "ipython",
    "version": 2
   },
   "file_extension": ".py",
   "mimetype": "text/x-python",
   "name": "python",
   "nbconvert_exporter": "python",
   "pygments_lexer": "ipython2",
   "version": "2.7.6"
  }
 },
 "nbformat": 4,
 "nbformat_minor": 0
}
