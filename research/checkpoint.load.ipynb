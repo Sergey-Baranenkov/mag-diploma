{
 "cells": [
  {
   "cell_type": "markdown",
   "source": [
    "# Визуализация содержимого чекпоинта"
   ],
   "metadata": {
    "collapsed": false
   }
  },
  {
   "cell_type": "code",
   "execution_count": 1,
   "outputs": [],
   "source": [
    "%load_ext autoreload\n",
    "%autoreload 2"
   ],
   "metadata": {
    "collapsed": false,
    "ExecuteTime": {
     "end_time": "2024-04-09T16:53:40.005651008Z",
     "start_time": "2024-04-09T16:53:40.004270764Z"
    }
   }
  },
  {
   "cell_type": "code",
   "execution_count": 2,
   "outputs": [],
   "source": [
    "import sys\n",
    "import os\n",
    "\n",
    "# Получаем абсолютный путь к корневой директории проекта (директория выше текущей)\n",
    "root_path = os.path.abspath(os.path.join(os.getcwd(), '..'))\n",
    "\n",
    "# Добавляем корневую директорию в sys.path\n",
    "if root_path not in sys.path:\n",
    "    sys.path.append(root_path)"
   ],
   "metadata": {
    "collapsed": false,
    "ExecuteTime": {
     "end_time": "2024-04-09T16:53:40.211049835Z",
     "start_time": "2024-04-09T16:53:40.206683812Z"
    }
   }
  },
  {
   "cell_type": "code",
   "execution_count": 3,
   "outputs": [],
   "source": [
    "import torch"
   ],
   "metadata": {
    "collapsed": false,
    "ExecuteTime": {
     "end_time": "2024-04-09T16:53:44.128050692Z",
     "start_time": "2024-04-09T16:53:43.226525272Z"
    }
   }
  },
  {
   "cell_type": "code",
   "execution_count": 5,
   "outputs": [],
   "source": [
    "checkpoint = torch.load('../checkpoints/train_audiosep_lora/audiosep_lora_musdb18,args=logs_per_class=True,timestamp=1712500886.1159437/epoch=29.ckpt')"
   ],
   "metadata": {
    "collapsed": false,
    "ExecuteTime": {
     "end_time": "2024-04-09T16:54:06.874166464Z",
     "start_time": "2024-04-09T16:54:06.839420555Z"
    }
   }
  },
  {
   "cell_type": "code",
   "execution_count": 6,
   "outputs": [
    {
     "data": {
      "text/plain": "dict_keys(['epoch', 'global_step', 'pytorch-lightning_version', 'state_dict', 'loops', 'callbacks', 'optimizer_states', 'lr_schedulers', 'hparams_name', 'hyper_parameters'])"
     },
     "execution_count": 6,
     "metadata": {},
     "output_type": "execute_result"
    }
   ],
   "source": [
    "checkpoint.keys()"
   ],
   "metadata": {
    "collapsed": false,
    "ExecuteTime": {
     "end_time": "2024-04-09T16:54:08.180365701Z",
     "start_time": "2024-04-09T16:54:08.165800114Z"
    }
   }
  },
  {
   "cell_type": "markdown",
   "source": [
    "## В ключах только lora веса"
   ],
   "metadata": {
    "collapsed": false
   }
  },
  {
   "cell_type": "code",
   "execution_count": 7,
   "outputs": [
    {
     "data": {
      "text/plain": "dict_keys(['model.base_model.model.ss_model.base.pre_conv.lora_A.default.weight', 'model.base_model.model.ss_model.base.pre_conv.lora_B.default.weight', 'model.base_model.model.ss_model.base.encoder_block1.conv_block1.conv1.lora_A.default.weight', 'model.base_model.model.ss_model.base.encoder_block1.conv_block1.conv1.lora_B.default.weight', 'model.base_model.model.ss_model.base.encoder_block1.conv_block1.conv2.lora_A.default.weight', 'model.base_model.model.ss_model.base.encoder_block1.conv_block1.conv2.lora_B.default.weight', 'model.base_model.model.ss_model.base.encoder_block2.conv_block1.conv1.lora_A.default.weight', 'model.base_model.model.ss_model.base.encoder_block2.conv_block1.conv1.lora_B.default.weight', 'model.base_model.model.ss_model.base.encoder_block2.conv_block1.conv2.lora_A.default.weight', 'model.base_model.model.ss_model.base.encoder_block2.conv_block1.conv2.lora_B.default.weight', 'model.base_model.model.ss_model.base.encoder_block2.conv_block1.shortcut.lora_A.default.weight', 'model.base_model.model.ss_model.base.encoder_block2.conv_block1.shortcut.lora_B.default.weight', 'model.base_model.model.ss_model.base.encoder_block3.conv_block1.conv1.lora_A.default.weight', 'model.base_model.model.ss_model.base.encoder_block3.conv_block1.conv1.lora_B.default.weight', 'model.base_model.model.ss_model.base.encoder_block3.conv_block1.conv2.lora_A.default.weight', 'model.base_model.model.ss_model.base.encoder_block3.conv_block1.conv2.lora_B.default.weight', 'model.base_model.model.ss_model.base.encoder_block3.conv_block1.shortcut.lora_A.default.weight', 'model.base_model.model.ss_model.base.encoder_block3.conv_block1.shortcut.lora_B.default.weight', 'model.base_model.model.ss_model.base.encoder_block4.conv_block1.conv1.lora_A.default.weight', 'model.base_model.model.ss_model.base.encoder_block4.conv_block1.conv1.lora_B.default.weight', 'model.base_model.model.ss_model.base.encoder_block4.conv_block1.conv2.lora_A.default.weight', 'model.base_model.model.ss_model.base.encoder_block4.conv_block1.conv2.lora_B.default.weight', 'model.base_model.model.ss_model.base.encoder_block4.conv_block1.shortcut.lora_A.default.weight', 'model.base_model.model.ss_model.base.encoder_block4.conv_block1.shortcut.lora_B.default.weight', 'model.base_model.model.ss_model.base.encoder_block5.conv_block1.conv1.lora_A.default.weight', 'model.base_model.model.ss_model.base.encoder_block5.conv_block1.conv1.lora_B.default.weight', 'model.base_model.model.ss_model.base.encoder_block5.conv_block1.conv2.lora_A.default.weight', 'model.base_model.model.ss_model.base.encoder_block5.conv_block1.conv2.lora_B.default.weight', 'model.base_model.model.ss_model.base.encoder_block5.conv_block1.shortcut.lora_A.default.weight', 'model.base_model.model.ss_model.base.encoder_block5.conv_block1.shortcut.lora_B.default.weight', 'model.base_model.model.ss_model.base.encoder_block6.conv_block1.conv1.lora_A.default.weight', 'model.base_model.model.ss_model.base.encoder_block6.conv_block1.conv1.lora_B.default.weight', 'model.base_model.model.ss_model.base.encoder_block6.conv_block1.conv2.lora_A.default.weight', 'model.base_model.model.ss_model.base.encoder_block6.conv_block1.conv2.lora_B.default.weight', 'model.base_model.model.ss_model.base.conv_block7a.conv_block1.conv1.lora_A.default.weight', 'model.base_model.model.ss_model.base.conv_block7a.conv_block1.conv1.lora_B.default.weight', 'model.base_model.model.ss_model.base.conv_block7a.conv_block1.conv2.lora_A.default.weight', 'model.base_model.model.ss_model.base.conv_block7a.conv_block1.conv2.lora_B.default.weight', 'model.base_model.model.ss_model.base.decoder_block1.conv_block2.conv1.lora_A.default.weight', 'model.base_model.model.ss_model.base.decoder_block1.conv_block2.conv1.lora_B.default.weight', 'model.base_model.model.ss_model.base.decoder_block1.conv_block2.conv2.lora_A.default.weight', 'model.base_model.model.ss_model.base.decoder_block1.conv_block2.conv2.lora_B.default.weight', 'model.base_model.model.ss_model.base.decoder_block1.conv_block2.shortcut.lora_A.default.weight', 'model.base_model.model.ss_model.base.decoder_block1.conv_block2.shortcut.lora_B.default.weight', 'model.base_model.model.ss_model.base.decoder_block2.conv_block2.conv1.lora_A.default.weight', 'model.base_model.model.ss_model.base.decoder_block2.conv_block2.conv1.lora_B.default.weight', 'model.base_model.model.ss_model.base.decoder_block2.conv_block2.conv2.lora_A.default.weight', 'model.base_model.model.ss_model.base.decoder_block2.conv_block2.conv2.lora_B.default.weight', 'model.base_model.model.ss_model.base.decoder_block2.conv_block2.shortcut.lora_A.default.weight', 'model.base_model.model.ss_model.base.decoder_block2.conv_block2.shortcut.lora_B.default.weight', 'model.base_model.model.ss_model.base.decoder_block3.conv_block2.conv1.lora_A.default.weight', 'model.base_model.model.ss_model.base.decoder_block3.conv_block2.conv1.lora_B.default.weight', 'model.base_model.model.ss_model.base.decoder_block3.conv_block2.conv2.lora_A.default.weight', 'model.base_model.model.ss_model.base.decoder_block3.conv_block2.conv2.lora_B.default.weight', 'model.base_model.model.ss_model.base.decoder_block3.conv_block2.shortcut.lora_A.default.weight', 'model.base_model.model.ss_model.base.decoder_block3.conv_block2.shortcut.lora_B.default.weight', 'model.base_model.model.ss_model.base.decoder_block4.conv_block2.conv1.lora_A.default.weight', 'model.base_model.model.ss_model.base.decoder_block4.conv_block2.conv1.lora_B.default.weight', 'model.base_model.model.ss_model.base.decoder_block4.conv_block2.conv2.lora_A.default.weight', 'model.base_model.model.ss_model.base.decoder_block4.conv_block2.conv2.lora_B.default.weight', 'model.base_model.model.ss_model.base.decoder_block4.conv_block2.shortcut.lora_A.default.weight', 'model.base_model.model.ss_model.base.decoder_block4.conv_block2.shortcut.lora_B.default.weight', 'model.base_model.model.ss_model.base.decoder_block5.conv_block2.conv1.lora_A.default.weight', 'model.base_model.model.ss_model.base.decoder_block5.conv_block2.conv1.lora_B.default.weight', 'model.base_model.model.ss_model.base.decoder_block5.conv_block2.conv2.lora_A.default.weight', 'model.base_model.model.ss_model.base.decoder_block5.conv_block2.conv2.lora_B.default.weight', 'model.base_model.model.ss_model.base.decoder_block5.conv_block2.shortcut.lora_A.default.weight', 'model.base_model.model.ss_model.base.decoder_block5.conv_block2.shortcut.lora_B.default.weight', 'model.base_model.model.ss_model.base.decoder_block6.conv_block2.conv1.lora_A.default.weight', 'model.base_model.model.ss_model.base.decoder_block6.conv_block2.conv1.lora_B.default.weight', 'model.base_model.model.ss_model.base.decoder_block6.conv_block2.conv2.lora_A.default.weight', 'model.base_model.model.ss_model.base.decoder_block6.conv_block2.conv2.lora_B.default.weight', 'model.base_model.model.ss_model.base.decoder_block6.conv_block2.shortcut.lora_A.default.weight', 'model.base_model.model.ss_model.base.decoder_block6.conv_block2.shortcut.lora_B.default.weight', 'model.base_model.model.ss_model.base.after_conv.lora_A.default.weight', 'model.base_model.model.ss_model.base.after_conv.lora_B.default.weight'])"
     },
     "execution_count": 7,
     "metadata": {},
     "output_type": "execute_result"
    }
   ],
   "source": [
    "checkpoint['state_dict'].keys()"
   ],
   "metadata": {
    "collapsed": false,
    "ExecuteTime": {
     "end_time": "2024-04-09T16:54:11.564000692Z",
     "start_time": "2024-04-09T16:54:11.519736288Z"
    }
   }
  },
  {
   "cell_type": "markdown",
   "source": [
    "## Также для возможности продолжить обучение с заданного чекпоинта дополнительно сохраняются метаданные обучения"
   ],
   "metadata": {
    "collapsed": false
   }
  },
  {
   "cell_type": "code",
   "execution_count": 8,
   "outputs": [
    {
     "data": {
      "text/plain": "29"
     },
     "execution_count": 8,
     "metadata": {},
     "output_type": "execute_result"
    }
   ],
   "source": [
    "checkpoint['epoch']"
   ],
   "metadata": {
    "collapsed": false,
    "ExecuteTime": {
     "end_time": "2024-04-09T16:54:16.514746099Z",
     "start_time": "2024-04-09T16:54:16.503161291Z"
    }
   }
  }
 ],
 "metadata": {
  "kernelspec": {
   "display_name": "Python 3",
   "language": "python",
   "name": "python3"
  },
  "language_info": {
   "codemirror_mode": {
    "name": "ipython",
    "version": 2
   },
   "file_extension": ".py",
   "mimetype": "text/x-python",
   "name": "python",
   "nbconvert_exporter": "python",
   "pygments_lexer": "ipython2",
   "version": "2.7.6"
  }
 },
 "nbformat": 4,
 "nbformat_minor": 0
}
