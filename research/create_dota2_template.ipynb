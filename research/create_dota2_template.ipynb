{
 "cells": [
  {
   "cell_type": "markdown",
   "source": [
    "## Скрипты для создания метаданных для тренировки и валидации к датасету dota2"
   ],
   "metadata": {
    "collapsed": false
   }
  },
  {
   "cell_type": "code",
   "execution_count": 7,
   "outputs": [],
   "source": [
    "import json\n",
    "import pandas as pd\n",
    "from sklearn.model_selection import train_test_split"
   ],
   "metadata": {
    "collapsed": false,
    "ExecuteTime": {
     "end_time": "2024-04-29T22:00:53.249710087Z",
     "start_time": "2024-04-29T22:00:52.985182094Z"
    }
   }
  },
  {
   "cell_type": "code",
   "execution_count": 2,
   "outputs": [],
   "source": [
    "import sys\n",
    "import os\n",
    "\n",
    "# Получаем абсолютный путь к корневой директории проекта (директория выше текущей)\n",
    "root_path = os.path.abspath(os.path.join(os.getcwd(), '..'))\n",
    "\n",
    "# Добавляем корневую директорию в sys.path\n",
    "if root_path not in sys.path:\n",
    "    sys.path.append(root_path)"
   ],
   "metadata": {
    "collapsed": false,
    "ExecuteTime": {
     "end_time": "2024-04-29T21:55:44.039375758Z",
     "start_time": "2024-04-29T21:55:44.033120921Z"
    }
   }
  },
  {
   "cell_type": "code",
   "execution_count": 6,
   "outputs": [
    {
     "data": {
      "text/plain": "                                                path         caption\n0             ../evaluation/data/dota2/Dazzle/14.wav          Dazzle\n1              ../evaluation/data/dota2/Dazzle/5.wav          Dazzle\n2             ../evaluation/data/dota2/Dazzle/13.wav          Dazzle\n3              ../evaluation/data/dota2/Dazzle/8.wav          Dazzle\n4             ../evaluation/data/dota2/Dazzle/16.wav          Dazzle\n...                                              ...             ...\n2466   ../evaluation/data/dota2/Spirit Breaker/7.wav  Spirit Breaker\n2467  ../evaluation/data/dota2/Spirit Breaker/19.wav  Spirit Breaker\n2468   ../evaluation/data/dota2/Spirit Breaker/3.wav  Spirit Breaker\n2469   ../evaluation/data/dota2/Spirit Breaker/9.wav  Spirit Breaker\n2470  ../evaluation/data/dota2/Spirit Breaker/17.wav  Spirit Breaker\n\n[2471 rows x 2 columns]",
      "text/html": "<div>\n<style scoped>\n    .dataframe tbody tr th:only-of-type {\n        vertical-align: middle;\n    }\n\n    .dataframe tbody tr th {\n        vertical-align: top;\n    }\n\n    .dataframe thead th {\n        text-align: right;\n    }\n</style>\n<table border=\"1\" class=\"dataframe\">\n  <thead>\n    <tr style=\"text-align: right;\">\n      <th></th>\n      <th>path</th>\n      <th>caption</th>\n    </tr>\n  </thead>\n  <tbody>\n    <tr>\n      <th>0</th>\n      <td>../evaluation/data/dota2/Dazzle/14.wav</td>\n      <td>Dazzle</td>\n    </tr>\n    <tr>\n      <th>1</th>\n      <td>../evaluation/data/dota2/Dazzle/5.wav</td>\n      <td>Dazzle</td>\n    </tr>\n    <tr>\n      <th>2</th>\n      <td>../evaluation/data/dota2/Dazzle/13.wav</td>\n      <td>Dazzle</td>\n    </tr>\n    <tr>\n      <th>3</th>\n      <td>../evaluation/data/dota2/Dazzle/8.wav</td>\n      <td>Dazzle</td>\n    </tr>\n    <tr>\n      <th>4</th>\n      <td>../evaluation/data/dota2/Dazzle/16.wav</td>\n      <td>Dazzle</td>\n    </tr>\n    <tr>\n      <th>...</th>\n      <td>...</td>\n      <td>...</td>\n    </tr>\n    <tr>\n      <th>2466</th>\n      <td>../evaluation/data/dota2/Spirit Breaker/7.wav</td>\n      <td>Spirit Breaker</td>\n    </tr>\n    <tr>\n      <th>2467</th>\n      <td>../evaluation/data/dota2/Spirit Breaker/19.wav</td>\n      <td>Spirit Breaker</td>\n    </tr>\n    <tr>\n      <th>2468</th>\n      <td>../evaluation/data/dota2/Spirit Breaker/3.wav</td>\n      <td>Spirit Breaker</td>\n    </tr>\n    <tr>\n      <th>2469</th>\n      <td>../evaluation/data/dota2/Spirit Breaker/9.wav</td>\n      <td>Spirit Breaker</td>\n    </tr>\n    <tr>\n      <th>2470</th>\n      <td>../evaluation/data/dota2/Spirit Breaker/17.wav</td>\n      <td>Spirit Breaker</td>\n    </tr>\n  </tbody>\n</table>\n<p>2471 rows × 2 columns</p>\n</div>"
     },
     "execution_count": 6,
     "metadata": {},
     "output_type": "execute_result"
    }
   ],
   "source": [
    "def create_dataframe(directory):\n",
    "    data = []\n",
    "    # Traverse through the directory structure\n",
    "    for root, dirs, files in os.walk(directory):\n",
    "        for file in files:\n",
    "            if file.endswith(\".wav\"):  # Assuming we are only interested in '.wav' files\n",
    "                path = os.path.join(root, file)\n",
    "                caption = os.path.basename(root)\n",
    "                data.append({\"path\": path, \"caption\": caption})\n",
    "\n",
    "    # Create a DataFrame\n",
    "    df = pd.DataFrame(data)\n",
    "    return df\n",
    "\n",
    "df = create_dataframe('../evaluation/data/dota2')\n",
    "df"
   ],
   "metadata": {
    "collapsed": false,
    "ExecuteTime": {
     "end_time": "2024-04-29T21:59:58.145281671Z",
     "start_time": "2024-04-29T21:59:58.104400689Z"
    }
   }
  },
  {
   "cell_type": "code",
   "execution_count": 9,
   "outputs": [],
   "source": [
    "train_df, val_df = train_test_split(df, test_size=0.25, random_state=42, stratify=df['caption'])"
   ],
   "metadata": {
    "collapsed": false,
    "ExecuteTime": {
     "end_time": "2024-04-29T22:02:10.723126397Z",
     "start_time": "2024-04-29T22:02:10.701507601Z"
    }
   }
  },
  {
   "cell_type": "code",
   "execution_count": 21,
   "outputs": [
    {
     "data": {
      "text/plain": "(1853, 618)"
     },
     "metadata": {},
     "output_type": "display_data"
    },
    {
     "data": {
      "text/plain": "15    123\n8       1\nName: caption, dtype: int64"
     },
     "metadata": {},
     "output_type": "display_data"
    },
    {
     "data": {
      "text/plain": "5    123\n3      1\nName: caption, dtype: int64"
     },
     "metadata": {},
     "output_type": "display_data"
    }
   ],
   "source": [
    "display((len(train_df), len(val_df)))\n",
    "display(train_df['caption'].value_counts().value_counts())\n",
    "display(val_df['caption'].value_counts().value_counts())"
   ],
   "metadata": {
    "collapsed": false,
    "ExecuteTime": {
     "end_time": "2024-04-29T22:06:39.973919663Z",
     "start_time": "2024-04-29T22:06:39.919728661Z"
    }
   }
  },
  {
   "cell_type": "code",
   "execution_count": 22,
   "outputs": [],
   "source": [
    "def get_dataset_json_metadata(dataset):\n",
    "    data = []\n",
    "    for index, row in dataset.iterrows():\n",
    "        wav = row['path']\n",
    "        caption = row['caption']\n",
    "\n",
    "        data.append({\"wav\": wav.replace('../', '', 1), \"caption\": caption})\n",
    "\n",
    "    return data"
   ],
   "metadata": {
    "collapsed": false,
    "ExecuteTime": {
     "end_time": "2024-04-29T22:13:24.703087490Z",
     "start_time": "2024-04-29T22:13:24.654352001Z"
    }
   }
  },
  {
   "cell_type": "code",
   "execution_count": 23,
   "outputs": [
    {
     "name": "stdout",
     "output_type": "stream",
     "text": [
      "Готово. JSON метаданные сохранены в файле dota2.train.json\n"
     ]
    }
   ],
   "source": [
    "data = get_dataset_json_metadata(train_df)\n",
    "# Создаем JSON объект\n",
    "json_data = {\"data\": data}\n",
    "filename = 'dota2.train.json'\n",
    "# Сохраняем JSON в файл\n",
    "with open(f\"../datafiles/{filename}\", \"w\") as json_file:\n",
    "    json.dump(json_data, json_file, indent=4)\n",
    "\n",
    "print(f\"Готово. JSON метаданные сохранены в файле {filename}\")"
   ],
   "metadata": {
    "collapsed": false,
    "ExecuteTime": {
     "end_time": "2024-04-29T22:13:54.329842160Z",
     "start_time": "2024-04-29T22:13:54.267357020Z"
    }
   }
  },
  {
   "cell_type": "code",
   "execution_count": 24,
   "outputs": [
    {
     "name": "stdout",
     "output_type": "stream",
     "text": [
      "Готово. JSON метаданные сохранены в файле dota2.val.json\n"
     ]
    }
   ],
   "source": [
    "data = get_dataset_json_metadata(val_df)\n",
    "# Создаем JSON объект\n",
    "json_data = {\"data\": data}\n",
    "filename = 'dota2.val.json'\n",
    "# Сохраняем JSON в файл\n",
    "with open(f\"../datafiles/{filename}\", \"w\") as json_file:\n",
    "    json.dump(json_data, json_file, indent=4)\n",
    "\n",
    "print(f\"Готово. JSON метаданные сохранены в файле {filename}\")"
   ],
   "metadata": {
    "collapsed": false,
    "ExecuteTime": {
     "end_time": "2024-04-29T22:14:13.429998151Z",
     "start_time": "2024-04-29T22:14:13.391545645Z"
    }
   }
  },
  {
   "cell_type": "code",
   "execution_count": null,
   "outputs": [],
   "source": [],
   "metadata": {
    "collapsed": false
   }
  }
 ],
 "metadata": {
  "kernelspec": {
   "display_name": "Python 3",
   "language": "python",
   "name": "python3"
  },
  "language_info": {
   "codemirror_mode": {
    "name": "ipython",
    "version": 2
   },
   "file_extension": ".py",
   "mimetype": "text/x-python",
   "name": "python",
   "nbconvert_exporter": "python",
   "pygments_lexer": "ipython2",
   "version": "2.7.6"
  }
 },
 "nbformat": 4,
 "nbformat_minor": 0
}
