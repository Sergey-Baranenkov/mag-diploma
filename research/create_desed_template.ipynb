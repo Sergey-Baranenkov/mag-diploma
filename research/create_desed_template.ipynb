{
 "cells": [
  {
   "cell_type": "markdown",
   "source": [
    "## Скрипты для создания метаданных для тренировки и валидации к датасету DESED"
   ],
   "metadata": {
    "collapsed": false
   }
  },
  {
   "cell_type": "code",
   "execution_count": 1,
   "outputs": [],
   "source": [
    "import json"
   ],
   "metadata": {
    "collapsed": false,
    "ExecuteTime": {
     "end_time": "2024-03-16T22:21:14.003427988Z",
     "start_time": "2024-03-16T22:21:14.003116174Z"
    }
   }
  },
  {
   "cell_type": "code",
   "execution_count": 2,
   "outputs": [],
   "source": [
    "import sys\n",
    "import os\n",
    "\n",
    "# Получаем абсолютный путь к корневой директории проекта (директория выше текущей)\n",
    "root_path = os.path.abspath(os.path.join(os.getcwd(), '..'))\n",
    "\n",
    "# Добавляем корневую директорию в sys.path\n",
    "if root_path not in sys.path:\n",
    "    sys.path.append(root_path)"
   ],
   "metadata": {
    "collapsed": false,
    "ExecuteTime": {
     "end_time": "2024-03-16T22:21:14.245901818Z",
     "start_time": "2024-03-16T22:21:14.241577666Z"
    }
   }
  },
  {
   "cell_type": "code",
   "execution_count": 3,
   "outputs": [],
   "source": [
    "classes = ['vacuum cleaner',\n",
    "           'frying',\n",
    "           'dishes',\n",
    "           'blender',\n",
    "           'speech',\n",
    "           'dog',\n",
    "           'alarm bell ringing',\n",
    "           'running water',\n",
    "           'electric shaver toothbrush',\n",
    "           'cat']\n",
    "\n",
    "def determine_class_from_prefix(dir_name: str) -> str:\n",
    "    for sound_class in classes:\n",
    "        if dir_name.lower().replace('_', '').startswith(sound_class.replace(' ', '')):\n",
    "            return sound_class\n",
    "\n",
    "    raise Exception(f'Не найден класс для {dir_name}')"
   ],
   "metadata": {
    "collapsed": false,
    "ExecuteTime": {
     "end_time": "2024-03-16T22:21:14.529092389Z",
     "start_time": "2024-03-16T22:21:14.525587458Z"
    }
   }
  },
  {
   "cell_type": "code",
   "execution_count": 19,
   "outputs": [],
   "source": [
    "def get_desed_dataset_json_metadata(dataset_path):\n",
    "    data = []\n",
    "\n",
    "    # Перебираем все подпапки внутри папки \"train\"\n",
    "    for root, dirs, _ in os.walk(dataset_path):\n",
    "        for dir_name in dirs:\n",
    "            dir_path = os.path.join(root, dir_name)\n",
    "            last_dir = dir_path.split('/')[-1]\n",
    "            caption = determine_class_from_prefix(last_dir)\n",
    "            for file_name in os.listdir(dir_path):\n",
    "                if file_name.endswith(\".wav\") and not file_name.startswith('.'):\n",
    "                    file_path = os.path.join(dir_path, file_name)\n",
    "                    data.append({\"wav\": file_path.replace('../', '', 1), \"caption\": caption})\n",
    "\n",
    "    return data"
   ],
   "metadata": {
    "collapsed": false,
    "ExecuteTime": {
     "end_time": "2024-03-16T22:30:38.388830223Z",
     "start_time": "2024-03-16T22:30:38.384320797Z"
    }
   }
  },
  {
   "cell_type": "code",
   "execution_count": 20,
   "outputs": [
    {
     "name": "stdout",
     "output_type": "stream",
     "text": [
      "Готово. JSON метаданные сохранены в файле desed.train.json\n"
     ]
    }
   ],
   "source": [
    "data_folder = \"../evaluation/data/desed/train/soundbank/foreground\"\n",
    "data = get_desed_dataset_json_metadata(data_folder)\n",
    "# Создаем JSON объект\n",
    "json_data = {\"data\": data}\n",
    "filename = 'desed.train.json'\n",
    "# Сохраняем JSON в файл\n",
    "with open(f\"../datafiles/{filename}\", \"w\") as json_file:\n",
    "    json.dump(json_data, json_file, indent=4)\n",
    "\n",
    "print(f\"Готово. JSON метаданные сохранены в файле {filename}\")"
   ],
   "metadata": {
    "collapsed": false,
    "ExecuteTime": {
     "end_time": "2024-03-16T22:30:38.843614850Z",
     "start_time": "2024-03-16T22:30:38.834106966Z"
    }
   }
  },
  {
   "cell_type": "code",
   "execution_count": 21,
   "outputs": [
    {
     "name": "stdout",
     "output_type": "stream",
     "text": [
      "Готово. JSON метаданные сохранены в файле desed.val.json\n"
     ]
    }
   ],
   "source": [
    "data_folder = \"../evaluation/data/desed/eval/soundbank/foreground\"\n",
    "data = get_desed_dataset_json_metadata(data_folder)\n",
    "# Создаем JSON объект\n",
    "json_data = {\"data\": data}\n",
    "filename = 'desed.val.json'\n",
    "# Сохраняем JSON в файл\n",
    "with open(f\"../datafiles/{filename}\", \"w\") as json_file:\n",
    "    json.dump(json_data, json_file, indent=4)\n",
    "\n",
    "print(f\"Готово. JSON метаданные сохранены в файле {filename}\")"
   ],
   "metadata": {
    "collapsed": false,
    "ExecuteTime": {
     "end_time": "2024-03-16T22:31:30.423180592Z",
     "start_time": "2024-03-16T22:31:30.379380615Z"
    }
   }
  },
  {
   "cell_type": "code",
   "execution_count": null,
   "outputs": [],
   "source": [],
   "metadata": {
    "collapsed": false
   }
  }
 ],
 "metadata": {
  "kernelspec": {
   "display_name": "Python 3",
   "language": "python",
   "name": "python3"
  },
  "language_info": {
   "codemirror_mode": {
    "name": "ipython",
    "version": 2
   },
   "file_extension": ".py",
   "mimetype": "text/x-python",
   "name": "python",
   "nbconvert_exporter": "python",
   "pygments_lexer": "ipython2",
   "version": "2.7.6"
  }
 },
 "nbformat": 4,
 "nbformat_minor": 0
}
