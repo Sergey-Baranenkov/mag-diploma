{
 "cells": [
  {
   "cell_type": "markdown",
   "source": [
    "## Результат модели с двумя дополнительными слоями между эмбеддером и separation model"
   ],
   "metadata": {
    "collapsed": false
   }
  },
  {
   "cell_type": "code",
   "execution_count": 1,
   "outputs": [],
   "source": [
    "%load_ext autoreload\n",
    "%autoreload 2"
   ],
   "metadata": {
    "collapsed": false,
    "ExecuteTime": {
     "end_time": "2024-05-10T12:56:21.833429242Z",
     "start_time": "2024-05-10T12:56:21.833071091Z"
    }
   }
  },
  {
   "cell_type": "code",
   "execution_count": 2,
   "outputs": [],
   "source": [
    "# ! pip uninstall numba -y && pip install numba"
   ],
   "metadata": {
    "collapsed": false,
    "ExecuteTime": {
     "end_time": "2024-05-10T12:56:21.835800900Z",
     "start_time": "2024-05-10T12:56:21.834279156Z"
    }
   }
  },
  {
   "cell_type": "code",
   "execution_count": 3,
   "outputs": [
    {
     "name": "stderr",
     "output_type": "stream",
     "text": [
      "2024-05-10 15:56:23.426032: E external/local_xla/xla/stream_executor/cuda/cuda_dnn.cc:9261] Unable to register cuDNN factory: Attempting to register factory for plugin cuDNN when one has already been registered\n",
      "2024-05-10 15:56:23.426062: E external/local_xla/xla/stream_executor/cuda/cuda_fft.cc:607] Unable to register cuFFT factory: Attempting to register factory for plugin cuFFT when one has already been registered\n",
      "2024-05-10 15:56:23.426941: E external/local_xla/xla/stream_executor/cuda/cuda_blas.cc:1515] Unable to register cuBLAS factory: Attempting to register factory for plugin cuBLAS when one has already been registered\n",
      "2024-05-10 15:56:23.431350: I tensorflow/core/platform/cpu_feature_guard.cc:182] This TensorFlow binary is optimized to use available CPU instructions in performance-critical operations.\n",
      "To enable the following instructions: AVX2 FMA, in other operations, rebuild TensorFlow with the appropriate compiler flags.\n",
      "2024-05-10 15:56:23.991194: W tensorflow/compiler/tf2tensorrt/utils/py_utils.cc:38] TF-TRT Warning: Could not find TensorRT\n"
     ]
    }
   ],
   "source": [
    "import os\n",
    "import sys\n",
    "from utils import plot_separation_result\n",
    "# Получаем абсолютный путь к корневой директории проекта (директория выше текущей)\n",
    "root_path = os.path.abspath(os.path.join(os.getcwd(), '..'))\n",
    "\n",
    "# Добавляем корневую директорию в sys.path\n",
    "if root_path not in sys.path:\n",
    "    sys.path.append(root_path)"
   ],
   "metadata": {
    "collapsed": false,
    "ExecuteTime": {
     "end_time": "2024-05-10T12:56:25.947559421Z",
     "start_time": "2024-05-10T12:56:21.834549022Z"
    }
   }
  },
  {
   "cell_type": "code",
   "execution_count": 4,
   "outputs": [],
   "source": [
    "from model_loaders import load_ss_model\n",
    "import weightwatcher as ww\n",
    "from pipeline import separate_audio\n",
    "import torch\n",
    "from models.clap_encoder import CLAP_Encoder\n",
    "import IPython.display as ipd\n",
    "from utils import parse_yaml\n",
    "from models.audiosep_tunned_embeddings import AudioSepTunedEmbeddings\n",
    "from utils import describe_weights, plot_hist"
   ],
   "metadata": {
    "collapsed": false,
    "ExecuteTime": {
     "end_time": "2024-05-10T12:56:26.601481326Z",
     "start_time": "2024-05-10T12:56:25.949445338Z"
    }
   }
  },
  {
   "cell_type": "code",
   "execution_count": 5,
   "outputs": [],
   "source": [
    "SS_CONFIG_PATH = '../config/audiosep_base.yaml'\n",
    "CLAP_CKPT_PATH = '../checkpoint/music_speech_audioset_epoch_15_esc_89.98.pt'\n",
    "AUDIOSEP_CKPT_PATH = '../checkpoint/audiosep_base_4M_steps.ckpt'\n",
    "classes = [\"bass\", \"drums\", \"vocals\", \"other musical instruments\"]\n",
    "device = torch.device('cuda')\n",
    "configs = parse_yaml(SS_CONFIG_PATH)"
   ],
   "metadata": {
    "collapsed": false,
    "ExecuteTime": {
     "end_time": "2024-05-10T12:56:26.640708821Z",
     "start_time": "2024-05-10T12:56:26.602764362Z"
    }
   }
  },
  {
   "cell_type": "code",
   "execution_count": 6,
   "outputs": [
    {
     "name": "stderr",
     "output_type": "stream",
     "text": [
      "2024-05-10 15:56:26,861 - INFO - Loading HTSAT-base model config.\n",
      "2024-05-10 15:56:28,770 - INFO - Loading pretrained HTSAT-base-roberta weights (../checkpoint/music_speech_audioset_epoch_15_esc_89.98.pt).\n"
     ]
    }
   ],
   "source": [
    "checkpoint_path = '../checkpoints/final/musdb18/embeddings/final.ckpt'\n",
    "\n",
    "query_encoder_for_lora = CLAP_Encoder(pretrained_path = CLAP_CKPT_PATH).eval().to(device)\n",
    "base_model_for_lora = load_ss_model(configs=configs, checkpoint_path=AUDIOSEP_CKPT_PATH, query_encoder=query_encoder_for_lora).eval().to(device)\n",
    "\n",
    "model = AudioSepTunedEmbeddings.load_from_checkpoint(\n",
    "    checkpoint_path=checkpoint_path,\n",
    "    strict=False,\n",
    "    ss_model=base_model_for_lora.ss_model,\n",
    "    query_encoder=base_model_for_lora.query_encoder,\n",
    "    waveform_mixer=None,\n",
    "    loss_function=None,\n",
    "    optimizer_type=None,\n",
    "    learning_rate=None,\n",
    "    lr_lambda_func=None,\n",
    ") \\\n",
    "    .eval() \\\n",
    "    .to(device)\n"
   ],
   "metadata": {
    "collapsed": false,
    "ExecuteTime": {
     "end_time": "2024-05-10T12:56:31.343344457Z",
     "start_time": "2024-05-10T12:56:26.641294679Z"
    }
   }
  },
  {
   "cell_type": "code",
   "execution_count": 11,
   "outputs": [
    {
     "name": "stdout",
     "output_type": "stream",
     "text": [
      "Separating audio from [../audios/ANIKV - слов больше нет - Lørean Edit.wav] with textual query: [bass]\n",
      "Separated audio written to [../separation_result/musdb18/audiosep_embedings/ANIKV - слов больше нет - Lørean Edit/bass.wav]\n",
      "Separating audio from [../audios/ANIKV - слов больше нет - Lørean Edit.wav] with textual query: [drums]\n",
      "Separated audio written to [../separation_result/musdb18/audiosep_embedings/ANIKV - слов больше нет - Lørean Edit/drums.wav]\n",
      "Separating audio from [../audios/ANIKV - слов больше нет - Lørean Edit.wav] with textual query: [vocals]\n",
      "Separated audio written to [../separation_result/musdb18/audiosep_embedings/ANIKV - слов больше нет - Lørean Edit/vocals.wav]\n",
      "Separating audio from [../audios/ANIKV - слов больше нет - Lørean Edit.wav] with textual query: [other musical instruments]\n",
      "Separated audio written to [../separation_result/musdb18/audiosep_embedings/ANIKV - слов больше нет - Lørean Edit/other musical instruments.wav]\n",
      "Separating audio from [../audios/CREAM SODA - Никаких Больше Вечеринок.wav] with textual query: [bass]\n",
      "Separated audio written to [../separation_result/musdb18/audiosep_embedings/CREAM SODA - Никаких Больше Вечеринок/bass.wav]\n",
      "Separating audio from [../audios/CREAM SODA - Никаких Больше Вечеринок.wav] with textual query: [drums]\n",
      "Separated audio written to [../separation_result/musdb18/audiosep_embedings/CREAM SODA - Никаких Больше Вечеринок/drums.wav]\n",
      "Separating audio from [../audios/CREAM SODA - Никаких Больше Вечеринок.wav] with textual query: [vocals]\n",
      "Separated audio written to [../separation_result/musdb18/audiosep_embedings/CREAM SODA - Никаких Больше Вечеринок/vocals.wav]\n",
      "Separating audio from [../audios/CREAM SODA - Никаких Больше Вечеринок.wav] with textual query: [other musical instruments]\n",
      "Separated audio written to [../separation_result/musdb18/audiosep_embedings/CREAM SODA - Никаких Больше Вечеринок/other musical instruments.wav]\n",
      "Separating audio from [../audios/Ruko - Take my hand.wav] with textual query: [bass]\n",
      "Separated audio written to [../separation_result/musdb18/audiosep_embedings/Ruko - Take my hand/bass.wav]\n",
      "Separating audio from [../audios/Ruko - Take my hand.wav] with textual query: [drums]\n",
      "Separated audio written to [../separation_result/musdb18/audiosep_embedings/Ruko - Take my hand/drums.wav]\n",
      "Separating audio from [../audios/Ruko - Take my hand.wav] with textual query: [vocals]\n",
      "Separated audio written to [../separation_result/musdb18/audiosep_embedings/Ruko - Take my hand/vocals.wav]\n",
      "Separating audio from [../audios/Ruko - Take my hand.wav] with textual query: [other musical instruments]\n",
      "Separated audio written to [../separation_result/musdb18/audiosep_embedings/Ruko - Take my hand/other musical instruments.wav]\n",
      "Separating audio from [../audios/AURORA - I Went Too Far.wav] with textual query: [bass]\n",
      "Separated audio written to [../separation_result/musdb18/audiosep_embedings/AURORA - I Went Too Far/bass.wav]\n",
      "Separating audio from [../audios/AURORA - I Went Too Far.wav] with textual query: [drums]\n",
      "Separated audio written to [../separation_result/musdb18/audiosep_embedings/AURORA - I Went Too Far/drums.wav]\n",
      "Separating audio from [../audios/AURORA - I Went Too Far.wav] with textual query: [vocals]\n",
      "Separated audio written to [../separation_result/musdb18/audiosep_embedings/AURORA - I Went Too Far/vocals.wav]\n",
      "Separating audio from [../audios/AURORA - I Went Too Far.wav] with textual query: [other musical instruments]\n",
      "Separated audio written to [../separation_result/musdb18/audiosep_embedings/AURORA - I Went Too Far/other musical instruments.wav]\n",
      "Separating audio from [../audios/Король и Шут - Дурак и молния.wav] with textual query: [bass]\n",
      "Separated audio written to [../separation_result/musdb18/audiosep_embedings/Король и Шут - Дурак и молния/bass.wav]\n",
      "Separating audio from [../audios/Король и Шут - Дурак и молния.wav] with textual query: [drums]\n",
      "Separated audio written to [../separation_result/musdb18/audiosep_embedings/Король и Шут - Дурак и молния/drums.wav]\n",
      "Separating audio from [../audios/Король и Шут - Дурак и молния.wav] with textual query: [vocals]\n",
      "Separated audio written to [../separation_result/musdb18/audiosep_embedings/Король и Шут - Дурак и молния/vocals.wav]\n",
      "Separating audio from [../audios/Король и Шут - Дурак и молния.wav] with textual query: [other musical instruments]\n",
      "Separated audio written to [../separation_result/musdb18/audiosep_embedings/Король и Шут - Дурак и молния/other musical instruments.wav]\n"
     ]
    }
   ],
   "source": [
    "import shutil\n",
    "from ipywidgets import widgets\n",
    "\n",
    "test_files = [f'../audios/{filename}' for filename in os.listdir('../audios')]\n",
    "\n",
    "audio_widgets = {cls: {} for cls in classes + ['original']}\n",
    "\n",
    "for file in test_files:\n",
    "    filename = file.split(os.sep)[-1]\n",
    "    audio_widget = widgets.Audio(value=open(file, \"rb\").read(), format=\"wav\", controls=True, autoplay=False)\n",
    "    audio_widgets['original'][filename] = audio_widget\n",
    "    output_dir = f'../separation_result/musdb18/audiosep_embedings/{filename.split(\".wav\")[0]}/'\n",
    "    os.makedirs(os.path.dirname(output_dir), exist_ok=True)\n",
    "    for cls in classes:\n",
    "        output_file = os.path.join(output_dir, f'{cls}.wav')\n",
    "        separate_audio(model, file, cls, output_file, device, use_chunk=True)\n",
    "        audio_widget = widgets.Audio(value=open(output_file, \"rb\").read(), format=\"wav\", controls=True, autoplay=False)\n",
    "        audio_widgets[cls][filename] = audio_widget\n",
    "\n",
    "    shutil.copyfile(file, f'{output_dir}/original.wav')"
   ],
   "metadata": {
    "collapsed": false,
    "ExecuteTime": {
     "end_time": "2024-05-10T13:39:10.985593731Z",
     "start_time": "2024-05-10T13:36:55.648343367Z"
    }
   }
  },
  {
   "cell_type": "code",
   "execution_count": 12,
   "outputs": [
    {
     "data": {
      "text/plain": "HTML(value='<style>.widget-label { font-size: 16px; font-weight: bold; }</style>')",
      "application/vnd.jupyter.widget-view+json": {
       "version_major": 2,
       "version_minor": 0,
       "model_id": "59fc3b00b3684a9d8a0d2f05edf66e02"
      }
     },
     "metadata": {},
     "output_type": "display_data"
    },
    {
     "data": {
      "text/plain": "VBox(children=(HBox(children=(Label(value=''), Label(value='bass', layout=Layout(margin='0 10px 0 10px')), Lab…",
      "application/vnd.jupyter.widget-view+json": {
       "version_major": 2,
       "version_minor": 0,
       "model_id": "b4ab68428f0d4dc4913d7a3bbc7a0529"
      }
     },
     "metadata": {},
     "output_type": "display_data"
    }
   ],
   "source": [
    "plot_separation_result(audio_widgets)"
   ],
   "metadata": {
    "collapsed": false,
    "ExecuteTime": {
     "end_time": "2024-05-10T13:39:11.037906705Z",
     "start_time": "2024-05-10T13:39:10.986036220Z"
    }
   }
  },
  {
   "cell_type": "code",
   "execution_count": null,
   "outputs": [],
   "source": [],
   "metadata": {
    "collapsed": false
   }
  }
 ],
 "metadata": {
  "kernelspec": {
   "display_name": "Python 3",
   "language": "python",
   "name": "python3"
  },
  "language_info": {
   "codemirror_mode": {
    "name": "ipython",
    "version": 2
   },
   "file_extension": ".py",
   "mimetype": "text/x-python",
   "name": "python",
   "nbconvert_exporter": "python",
   "pygments_lexer": "ipython2",
   "version": "2.7.6"
  }
 },
 "nbformat": 4,
 "nbformat_minor": 0
}
